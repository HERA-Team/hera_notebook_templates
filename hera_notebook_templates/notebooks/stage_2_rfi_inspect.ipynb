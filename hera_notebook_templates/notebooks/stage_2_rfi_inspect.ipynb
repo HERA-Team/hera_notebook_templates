{
 "cells": [
  {
   "cell_type": "markdown",
   "metadata": {},
   "source": [
    "# RFI Inspection Daily RTP Notebook"
   ]
  },
  {
   "cell_type": "code",
   "execution_count": null,
   "metadata": {
    "ExecuteTime": {
     "end_time": "2020-12-05T18:02:04.048381Z",
     "start_time": "2020-12-05T18:02:01.615526Z"
    }
   },
   "outputs": [],
   "source": [
    "import numpy as np\n",
    "import matplotlib.pyplot as plt\n",
    "import matplotlib\n",
    "import glob\n",
    "import os\n",
    "from astropy import units\n",
    "from copy import deepcopy\n",
    "from pyuvdata import UVFlag\n",
    "import matplotlib.colors as colors\n",
    "from matplotlib import cm\n",
    "from IPython.display import display, HTML\n",
    "\n",
    "%matplotlib inline\n",
    "%config InlineBackend.figure_format = 'retina'\n",
    "display(HTML(\"<style>.container { width:100% !important; }</style>\"))"
   ]
  },
  {
   "cell_type": "code",
   "execution_count": null,
   "metadata": {
    "ExecuteTime": {
     "end_time": "2020-12-05T18:02:04.054561Z",
     "start_time": "2020-12-05T18:02:04.050716Z"
    }
   },
   "outputs": [],
   "source": [
    "# If you want to run this notebook locally, copy the output of the next cell into the first few lines of this cell.\n",
    "\n",
    "# JD = '2459122'\n",
    "# data_path = '/lustre/aoc/projects/hera/H4C/2459122'\n",
    "# os.environ[\"JULIANDATE\"] = JD\n",
    "# os.environ[\"DATA_PATH\"] = data_path"
   ]
  },
  {
   "cell_type": "code",
   "execution_count": null,
   "metadata": {
    "ExecuteTime": {
     "end_time": "2020-12-05T18:02:04.064796Z",
     "start_time": "2020-12-05T18:02:04.058085Z"
    },
    "scrolled": true
   },
   "outputs": [],
   "source": [
    "# Use environment variables to figure out path to data\n",
    "JD = os.environ['JULIANDATE']\n",
    "data_path = os.environ['DATA_PATH']\n",
    "print(f'JD = \"{JD}\"')\n",
    "print(f'data_path = \"{data_path}\"')\n",
    "JD = int(JD)"
   ]
  },
  {
   "cell_type": "code",
   "execution_count": null,
   "metadata": {},
   "outputs": [],
   "source": [
    "from astropy.time import Time\n",
    "utc = Time(JD, format='jd').datetime\n",
    "print(f'Date: {utc.month}-{utc.day}-{utc.year}')"
   ]
  },
  {
   "cell_type": "code",
   "execution_count": null,
   "metadata": {
    "ExecuteTime": {
     "end_time": "2020-12-05T18:02:04.153991Z",
     "start_time": "2020-12-05T18:02:04.067704Z"
    }
   },
   "outputs": [],
   "source": [
    "uvf = UVFlag(f'{data_path}/zen.{JD}.total_threshold_and_a_priori_flags.h5')\n",
    "\n",
    "# Load in the metadata for easier plotting.\n",
    "freqs = np.unique(uvf.freq_array)\n",
    "times = np.unique(uvf.time_array)\n",
    "lsts = np.unique(uvf.lst_array)\n",
    "chans = np.arange(freqs.size)\n",
    "plot_times = times - np.floor(times[0])\n",
    "lsts_hr = lsts * units.rad.to(\"cycle\") * units.day.to(\"hr\")\n",
    "freqs_MHz = freqs * units.Hz.to(\"MHz\")\n",
    "extent = (freqs_MHz[0], freqs_MHz[-1], plot_times[-1], plot_times[0])"
   ]
  },
  {
   "cell_type": "code",
   "execution_count": null,
   "metadata": {
    "ExecuteTime": {
     "end_time": "2020-12-05T18:02:05.267604Z",
     "start_time": "2020-12-05T18:02:04.156275Z"
    }
   },
   "outputs": [],
   "source": [
    "plt.figure(figsize=(16,12))\n",
    "cax = plt.imshow(uvf.flag_array[:,:,0], aspect='auto', interpolation='nearest',\n",
    "           extent=[uvf.freq_array[0] / 1e6, uvf.freq_array[-1] / 1e6, \n",
    "                   uvf.time_array[-1] - JD, uvf.time_array[0] - JD])\n",
    "plt.xlabel('Frequency (MHz)')\n",
    "plt.ylabel(f'JD - {JD}')\n",
    "ax2 = plt.gca().twinx()\n",
    "ax2.set_ylim([uvf.lst_array[0] * 12 / np.pi, uvf.lst_array[-1] * 12 / np.pi])\n",
    "ax2.invert_yaxis()\n",
    "ax2.set_ylabel('LST (hours)')\n",
    "ax3 = plt.gca().twiny()\n",
    "ax3.set_xlim([0, uvf.Nfreqs - 1])\n",
    "ax3.set_xlabel('Channel');"
   ]
  },
  {
   "cell_type": "markdown",
   "metadata": {},
   "source": [
    "# Figure 1(a): Full day of XRFI flags\n",
    "Yellow is flagged. Blue is unflagged."
   ]
  },
  {
   "cell_type": "code",
   "execution_count": null,
   "metadata": {
    "ExecuteTime": {
     "end_time": "2020-12-05T18:02:07.594266Z",
     "start_time": "2020-12-05T18:02:05.268983Z"
    }
   },
   "outputs": [],
   "source": [
    "xrfi_dirs = sorted(glob.glob(f'{data_path}/zen.{JD}.?????.xrfi'))\n",
    "print(f'Found {len(xrfi_dirs)} directories containing XRFI intermediate data products.')\n",
    "files1 = [glob.glob(f'{d}/*combined_metrics1.h5')[0] for d in xrfi_dirs]\n",
    "print(f'Found {len(files1)} combined round 1 XRFI metrics files.')\n",
    "files2 = [glob.glob(f'{d}/*combined_metrics2.h5')[0] for d in xrfi_dirs]\n",
    "print(f'Found {len(files2)} combined round 2 XRFI metrics files.')\n",
    "uvf1 = UVFlag(files1)\n",
    "uvf2 = UVFlag(files2)\n",
    "uvf2.metric_array = np.where(np.isinf(uvf2.metric_array), uvf1.metric_array,\n",
    "                             uvf2.metric_array)"
   ]
  },
  {
   "cell_type": "code",
   "execution_count": null,
   "metadata": {
    "ExecuteTime": {
     "end_time": "2020-12-05T18:02:10.248243Z",
     "start_time": "2020-12-05T18:02:07.595657Z"
    }
   },
   "outputs": [],
   "source": [
    "plt.figure(figsize=(16,12))\n",
    "max_abs = 100\n",
    "if np.max(uvf2.metric_array) > max_abs:\n",
    "    extend = 'max'\n",
    "    if np.min(uvf2.metric_array) < -max_abs:\n",
    "        extend = 'both'\n",
    "elif np.min(uvf2.metric_array) < -max_abs:\n",
    "    extend = 'min'    \n",
    "else:\n",
    "    extend = 'neither'\n",
    "\n",
    "plt.imshow(uvf2.metric_array[:,:,0], aspect='auto', cmap='RdBu_r',\n",
    "           norm=colors.SymLogNorm(linthresh=1,vmin=-max_abs, vmax=max_abs), \n",
    "           extent=[uvf.freq_array[0] / 1e6, uvf.freq_array[-1] / 1e6, \n",
    "                   uvf.time_array[-1] - JD, uvf.time_array[0] - JD])\n",
    "plt.colorbar(pad=.07, extend=extend,\n",
    "             label='RFI Detection Significance ($\\sigma$s)')\n",
    "plt.title('Combined XRFI Metrics')\n",
    "plt.xlabel('Frequency (MHz)')\n",
    "plt.ylabel(f'JD - {JD}')\n",
    "ax2 = plt.gca().twinx()\n",
    "ax2.set_ylim([uvf.lst_array[0] * 12 / np.pi, uvf.lst_array[-1] * 12 / np.pi])\n",
    "ax2.invert_yaxis()\n",
    "ax2.set_ylabel('LST (hours)')\n",
    "ax3 = plt.gca().twiny()\n",
    "ax3.set_xlim([0, uvf.Nfreqs - 1])\n",
    "ax3.set_xlabel('Channel');"
   ]
  },
  {
   "cell_type": "markdown",
   "metadata": {},
   "source": [
    "## Figure 2(a): Combined XRFI Detection Significance\n",
    "This figure shows round 2 XRFI metrics (mean filter outliers) combined in quadrature. When flagged in round 1 of XRFI, round 1's combined median filter metrics are used instead. "
   ]
  },
  {
   "cell_type": "code",
   "execution_count": null,
   "metadata": {
    "ExecuteTime": {
     "end_time": "2020-12-05T18:02:17.671726Z",
     "start_time": "2020-12-05T18:02:10.251073Z"
    }
   },
   "outputs": [],
   "source": [
    "# Load in the flags from each round of XRFI flagging.\n",
    "low_level_flag_labels = (\n",
    "    \"abscal_chi_sq_flags1\",\n",
    "    \"abscal_chi_sq_flags2\",\n",
    "    \"ag_flags1\",\n",
    "    \"ag_flags2\",\n",
    "    \"apriori_flags\",\n",
    "    \"auto_flags1\",\n",
    "    \"auto_flags2\",\n",
    "    \"ax_flags1\",\n",
    "    \"ax_flags2\",\n",
    "    \"combined_flags1\",\n",
    "    \"combined_flags2\",\n",
    "    \"cross_flags1\",\n",
    "    \"cross_flags2\",\n",
    "    \"flags1\",\n",
    "    \"flags2\",\n",
    "    \"og_flags1\",\n",
    "    \"og_flags2\",\n",
    "    \"omnical_chi_sq_flags1\",\n",
    "    \"omnical_chi_sq_flags2\",\n",
    "    \"ox_flags1\",\n",
    "    \"ox_flags2\",\n",
    "    \"v_flags1\",\n",
    "    \"v_flags2\",\n",
    ")\n",
    "# Keep the thresholded flags separate for easier analysis.\n",
    "thresholded_flag_labels = (\n",
    "    \"abscal_chi_sq_renormed_threshold_flags\",\n",
    "    \"ag_threshold_flags\",\n",
    "    \"auto_threshold_flags\",\n",
    "    \"ax_threshold_flags\",\n",
    "    \"combined_threshold_flags\",\n",
    "    \"cross_threshold_flags\",\n",
    "    \"og_threshold_flags\",\n",
    "    \"omnical_chi_sq_renormed_threshold_flags\",\n",
    "    \"ox_threshold_flags\",\n",
    "    \"v_threshold_flags\",\n",
    "    \"total_threshold_and_a_priori_flags\",\n",
    ")\n",
    "\n",
    "low_level_flags = {}\n",
    "for file_id in low_level_flag_labels:\n",
    "    flag_files = []\n",
    "    for xrfi_dir in xrfi_dirs:\n",
    "        matching_files = glob.glob(os.path.join(xrfi_dir, f\"*.{file_id}.h5\"))\n",
    "        if len(matching_files) > 0:\n",
    "            flag_files.append(matching_files[0])\n",
    "    if len(flag_files) > 0:\n",
    "        uvf = UVFlag(flag_files)\n",
    "        low_level_flags[file_id] = np.squeeze(uvf.flag_array)\n",
    "    \n",
    "thresholded_flags = {}\n",
    "for file_id in thresholded_flag_labels:\n",
    "    flag_file = f\"{data_path}/zen.{JD}.{file_id}.h5\"\n",
    "    if os.path.exists(flag_file):\n",
    "        uvf = UVFlag(flag_file)\n",
    "        thresholded_flags[file_id] = np.squeeze(uvf.flag_array)\n",
    "    \n",
    "all_flags = dict(**low_level_flags, **thresholded_flags)"
   ]
  },
  {
   "cell_type": "code",
   "execution_count": null,
   "metadata": {
    "ExecuteTime": {
     "end_time": "2020-12-05T18:02:17.680392Z",
     "start_time": "2020-12-05T18:02:17.673842Z"
    }
   },
   "outputs": [],
   "source": [
    "label_mapping = {\n",
    "    f\"Round {i}\": {\n",
    "        \"Priors\": (\"apriori_flags\", \"flags1\")[i-1],\n",
    "        \"Autocorrs\": f\"auto_flags{i}\",\n",
    "        \"Crosscorrs\": f\"cross_flags{i}\",\n",
    "        \"Omnical\\nVisibilities\": f\"v_flags{i}\",        \n",
    "        \"Omnical\\nGains\": f\"og_flags{i}\",\n",
    "        r\"Omnical $\\chi^2$\": f\"ox_flags{i}\",\n",
    "        \"Omnical\\nGlobal $\\chi^2$\": f\"omnical_chi_sq_flags{i}\",\n",
    "        \"Abscal\\nGains\": f\"ag_flags{i}\",\n",
    "        r\"Abscal $\\chi^2$\": f\"ax_flags{i}\",\n",
    "        r\"Abscal\\nGlobal $\\chi^2$\": f\"abscal_chi_sq_flags{i}\",        \n",
    "        \"Combined\\nMetrics\": f\"combined_flags{i}\",\n",
    "    } for i in (1,2)\n",
    "}\n",
    "\n",
    "label_mapping[\"Round 3\"] = {\n",
    "    \"Priors\": \"flags2\",\n",
    "    \"Autocorrs\": \"auto_threshold_flags\",\n",
    "    \"Crosscorrs\": \"cross_threshold_flags\",    \n",
    "    \"Omnical\\nGains\": \"og_threshold_flags\",\n",
    "    r\"Omnical $\\chi^2$\": \"ox_threshold_flags\",\n",
    "    \"Omnical\\nGlobal $\\chi^2$\": f\"omnical_chi_sq_renormed_threshold_flags\",    \n",
    "    \"Omnical\\nVisibilities\": \"v_threshold_flags\",\n",
    "    \"Abscal\\nGains\": \"ag_threshold_flags\",\n",
    "    r\"Abscal $\\chi^2$\": \"ax_threshold_flags\",    \n",
    "    r\"Abscal\\nGlobal $\\chi^2$\": f\"abscal_chi_sq_renormed_threshold_flags\",        \n",
    "    \"Combined\\nMetrics\": \"combined_threshold_flags\",\n",
    "    'Final\\nFlags': \"total_threshold_and_a_priori_flags\",\n",
    "}\n",
    "\n",
    "# remove labels for metrics not used\n",
    "label_mapping = {rnd: {label: flags for label, flags in labels.items() if flags in all_flags}\n",
    "                 for rnd, labels in label_mapping.items()}"
   ]
  },
  {
   "cell_type": "code",
   "execution_count": null,
   "metadata": {
    "ExecuteTime": {
     "end_time": "2020-12-05T18:02:17.690843Z",
     "start_time": "2020-12-05T18:02:17.681821Z"
    }
   },
   "outputs": [],
   "source": [
    "# Pick easily distinguishable colors\n",
    "color_palette = (\n",
    "    '#000000', #black\n",
    "    '#ffffff', #white\n",
    "    '#800000', #maroon\n",
    "    '#808000', #olive\n",
    "    '#008b8b', #darkcyan\n",
    "    '#000080', #navy\n",
    "    '#ff8c00', #darkorange\n",
    "    '#ffff00', #yellow\n",
    "    '#00ff00', #lime\n",
    "    '#0000ff', #blue\n",
    "    '#ff00ff', #fuchsia\n",
    "    '#1e90ff', #dodgerblue\n",
    "    '#98fb98', #palegreen\n",
    "    '#ff1493', #deeppink\n",
    "    )\n",
    "\n",
    "# assign a unique color to a label\n",
    "label_to_color_map = {\"Unflagged\": color_palette[0]}\n",
    "color_index = 1\n",
    "for mapping in label_mapping.values():\n",
    "    for label in tuple(mapping.keys()) + (\"2+ Separate\\nMetrics\",):\n",
    "        if label not in label_to_color_map:\n",
    "            label_to_color_map[label] = color_palette[color_index]\n",
    "            color_index += 1"
   ]
  },
  {
   "cell_type": "code",
   "execution_count": null,
   "metadata": {
    "ExecuteTime": {
     "end_time": "2020-12-05T18:02:18.474304Z",
     "start_time": "2020-12-05T18:02:17.692540Z"
    },
    "scrolled": false
   },
   "outputs": [],
   "source": [
    "# Figure out which flags are unique to each step and source\n",
    "unique_flags_by_stage = {}\n",
    "for round_label, mapping in label_mapping.items():\n",
    "    unique_flags_by_stage[round_label] = {} \n",
    "    # handle prior flags\n",
    "    prior_flags = low_level_flags[mapping[\"Priors\"]]\n",
    "    unique_flags_by_stage[round_label][\"Priors\"] = prior_flags\n",
    "    # handle all other flag types\n",
    "    overlap_flags = np.zeros_like(np.squeeze(uvf.flag_array))\n",
    "    for label, file_id in mapping.items():\n",
    "        if label in [\"Priors\", \"Final\\nFlags\", \"Combined\\nMetrics\"]: # skip these, they are special\n",
    "            continue\n",
    "        flags = all_flags[file_id]\n",
    "        unique_flags = flags.copy()\n",
    "        for other_label, other_file_id in mapping.items():\n",
    "            if other_label in [label, \"Priors\", \"Final\\nFlags\", \"Combined\\nMetrics\"]:\n",
    "                continue\n",
    "            other_flags = all_flags[other_file_id]\n",
    "            unique_flags &= ~other_flags\n",
    "            overlap_region = flags & other_flags & ~prior_flags\n",
    "            overlap_flags[overlap_region] = True\n",
    "        unique_flags_by_stage[round_label][label] = unique_flags\n",
    "    unique_flags_by_stage[round_label][\"2+ Separate\\nMetrics\"] = overlap_flags\n",
    "    \n",
    "    # handle combined metrics separately so that it doesn't affect \"2+ Separate\\nMetrics\"\n",
    "    all_flags_so_far = np.sum(list(unique_flags_by_stage[round_label].values()), axis=0).astype(bool)\n",
    "    combined_metrics_flags = all_flags[mapping[\"Combined\\nMetrics\"]]\n",
    "    unique_flags_by_stage[round_label][\"Combined\\nMetrics\"] = combined_metrics_flags & ~all_flags_so_far\n",
    "\n",
    "# Figure out which flags got applied at the very end when the a priori YAML was used\n",
    "all_other_round_3_flags = np.sum([flags for flags in unique_flags_by_stage['Round 3'].values()], axis=0).astype(bool)\n",
    "unique_flags_by_stage['Round 3'][\"Final\\nFlags\"] = all_flags[label_mapping['Round 3'][\"Final\\nFlags\"]] & (~all_other_round_3_flags)"
   ]
  },
  {
   "cell_type": "code",
   "execution_count": null,
   "metadata": {
    "ExecuteTime": {
     "end_time": "2020-12-05T18:02:18.562585Z",
     "start_time": "2020-12-05T18:02:18.475909Z"
    },
    "scrolled": true
   },
   "outputs": [],
   "source": [
    "cmap = plt.cm.colors.ListedColormap(list(label_to_color_map.values()))\n",
    "norm = plt.cm.colors.Normalize(vmin=0, vmax=1)\n",
    "smap = plt.cm.ScalarMappable(cmap=cmap, norm=norm)\n",
    "colored_flags = {}\n",
    "for round_label, flag_dict in unique_flags_by_stage.items():\n",
    "    colored_flags[round_label] = np.zeros(np.squeeze(uvf.flag_array).shape)\n",
    "    for label, flags in flag_dict.items():\n",
    "        colored_flags[round_label][flags] = list(label_to_color_map.keys()).index(label) / (len(label_to_color_map) - 1)"
   ]
  },
  {
   "cell_type": "code",
   "execution_count": null,
   "metadata": {
    "ExecuteTime": {
     "end_time": "2020-12-05T18:02:18.584394Z",
     "start_time": "2020-12-05T18:02:18.564835Z"
    }
   },
   "outputs": [],
   "source": [
    "def plot_flag_evolution(freq_slice):\n",
    "    fig, axes = plt.subplots(len(colored_flags), figsize=(15, 11 * len(colored_flags)), dpi=300)\n",
    "\n",
    "    # Figure out the details for which part of the flag arrays to plot.\n",
    "    tmin, tmax = plot_times[0], plot_times[-1]\n",
    "    lstmin, lstmax = lsts_hr[0], lsts_hr[-1]\n",
    "    fmin, fmax = freqs_MHz[freq_slice][::freq_slice.size - 1]\n",
    "    extent = (fmin, fmax, tmax, tmin)\n",
    "\n",
    "    # Actually plot the things.\n",
    "    for ax, (label, flags) in zip(axes, colored_flags.items()):\n",
    "        ax.set_title(label, fontsize=16)\n",
    "        ax.imshow(flags[:,freq_slice], aspect=\"auto\", extent=extent, cmap=cmap, vmin=0, vmax=1)\n",
    "        twinx = ax.twinx()\n",
    "        twiny = ax.twiny()\n",
    "        twinx.set_ylim(lstmax, lstmin)\n",
    "        twiny.set_xlim(freq_slice[0], freq_slice[-1])\n",
    "        ax.set_xlabel(\"Frequency (MHz)\", fontsize=12)\n",
    "        ax.set_ylabel(f\"JD - {JD}\", fontsize=12)\n",
    "        twinx.set_ylabel(\"LST (hour)\", fontsize=12)\n",
    "        twiny.set_xlabel(\"Channel\", fontsize=12)\n",
    "\n",
    "    fig.tight_layout()\n",
    "    for ax in axes.ravel():\n",
    "        cbar = fig.colorbar(smap, ax=ax, orientation=\"horizontal\", pad=0.1)\n",
    "        cbar.set_ticks(np.linspace(0, 1, 2 * len(cmap.colors) + 1)[1::2])\n",
    "        cbar.set_ticklabels(list(label_to_color_map.keys()))    "
   ]
  },
  {
   "cell_type": "code",
   "execution_count": null,
   "metadata": {
    "ExecuteTime": {
     "end_time": "2020-12-05T18:02:18.592553Z",
     "start_time": "2020-12-05T18:02:18.587022Z"
    },
    "scrolled": false
   },
   "outputs": [],
   "source": [
    "# Plot flags in the low-band.\n",
    "if np.any(freqs_MHz < 100):\n",
    "    freq_slice = np.argwhere(freqs_MHz < 100).flatten()  # Low-band, pre-FM\n",
    "    plot_flag_evolution(freq_slice)"
   ]
  },
  {
   "cell_type": "markdown",
   "metadata": {},
   "source": [
    "## Figure 3: Flag Evolution in the Low Band\n",
    "This figure delineates which steps different flags are introduced in, but does not make a distinction between sources when multiple flagging routines flag the same region of the waterfall. The plot shows flags for frequencies below the FM band, for the entire night. The top plot shows the flags for the first round of flagging (median filter), where the prior flags are the apriori flags; the middle plot shows the flags for the second round of flagging (mean filter), where the prior flags are the combined flags from the first round of flagging (plus extra flags based on the metrics added in quadrature); the bottom plot shows the flags for the final round of flagging (thresholding), where the prior flags are the combined flags from round 2 (plus extra flags based on the metrics added in quadrature). After threshold flagging, the \"final flags\" also include any apriori flags from the YAML files. *Note: for H1C data, this plot will be skipped.*"
   ]
  },
  {
   "cell_type": "code",
   "execution_count": null,
   "metadata": {
    "ExecuteTime": {
     "end_time": "2020-12-05T18:02:49.442223Z",
     "start_time": "2020-12-05T18:02:18.594841Z"
    },
    "scrolled": false
   },
   "outputs": [],
   "source": [
    "# Plot flags in the mid-band.\n",
    "freq_slice = np.argwhere(np.logical_and(freqs_MHz >= 100, freqs_MHz < 200)).flatten()\n",
    "plot_flag_evolution(freq_slice)"
   ]
  },
  {
   "cell_type": "markdown",
   "metadata": {},
   "source": [
    "## Figure 4: Flag Evolution in the Mid-Band\n",
    "This figure delineates which steps different flags are introduced in, but does not make a distinction between sources when multiple flagging routines flag the same region of the waterfall. The plot shows flags for frequencies between the FM band and the analog TV band, for the entire night. The top plot shows the flags for the first round of flagging (median filter), where the prior flags are the apriori flags; the middle plot shows the flags for the second round of flagging (mean filter), where the prior flags are the combined flags from the first round of flagging (plus extra flags based on the metrics added in quadrature); the bottom plot shows the flags for the final round of flagging (thresholding), where the prior flags are the combined flags from round 2 (plus extra flags based on the metrics added in quadrature).  After threshold flagging, the \"final flags\" also include any apriori flags from the YAML files. "
   ]
  },
  {
   "cell_type": "code",
   "execution_count": null,
   "metadata": {
    "ExecuteTime": {
     "end_time": "2020-12-05T18:02:49.517769Z",
     "start_time": "2020-12-05T18:02:49.444946Z"
    }
   },
   "outputs": [],
   "source": [
    "# Calculate occupancies for different important sets of flags.\n",
    "label_mapping = {\n",
    "    \"A Priori\": \"apriori_flags\",\n",
    "    \"Median Filter\": \"flags1\",\n",
    "    \"Mean Filter\": \"flags2\",\n",
    "    \"Thresholding\": \"total_threshold_and_a_priori_flags\",\n",
    "}\n",
    "occupancies = {}\n",
    "for axis, axis_label in enumerate((\"Frequency\", \"Time\")):\n",
    "    occupancies[axis_label] = {}\n",
    "    for flag_label, flag_id in label_mapping.items():\n",
    "        flags = all_flags[flag_id]\n",
    "        occupancies[axis_label][flag_label] = flags.mean(axis=(1-axis))"
   ]
  },
  {
   "cell_type": "code",
   "execution_count": null,
   "metadata": {
    "ExecuteTime": {
     "end_time": "2020-12-05T18:02:53.463816Z",
     "start_time": "2020-12-05T18:02:49.519852Z"
    }
   },
   "outputs": [],
   "source": [
    "fig, axes = plt.subplots(2, figsize=(15,14), dpi=200)\n",
    "for i, items in enumerate(zip(axes.ravel(), occupancies.items())):\n",
    "    ax, (occupancy_axis, flag_dict) = items\n",
    "    xvalues = (plot_times, freqs_MHz)[i]\n",
    "    alt_xvalues = (lsts_hr, chans)[i]\n",
    "    xlabel = (f\"JD - {JD}\", \"Frequency (MHz)\")[i]\n",
    "    ylabel = (\n",
    "        \"Fraction of Channels Flagged\",\n",
    "        \"Fraction of Integrations Flagged\"\n",
    "    )[i]\n",
    "    alt_xlabel = (\"LST (hours)\", \"Channel\")[i]\n",
    "    ax.set_xlabel(xlabel, fontsize=12)\n",
    "    ax.set_ylabel(ylabel, fontsize=12)\n",
    "    for flag_label, occupancy in flag_dict.items():\n",
    "        ax.plot(xvalues, occupancy, label=flag_label)\n",
    "    twin_ax = ax.twiny()\n",
    "    twin_ax.set_xlim(alt_xvalues[0], alt_xvalues[-1])\n",
    "    twin_ax.set_xlabel(alt_xlabel, fontsize=12)\n",
    "    ax.legend()"
   ]
  },
  {
   "cell_type": "markdown",
   "metadata": {},
   "source": [
    "## Figure 5: Flagging Occupancies\n",
    "These plots show the flagging occupancies for the Round 0 Flags (Apriori), Round 1 Flags (Median Filter), Round 2 Flags (Mean Filter), and Round 3 Flags (Thresholding). The top plot shows the fraction of channels flagged at each integration for each set of flags, and the bottom plot shows the fraction of integrations flagged as a function of frequency."
   ]
  },
  {
   "cell_type": "markdown",
   "metadata": {},
   "source": [
    "# Metadata"
   ]
  },
  {
   "cell_type": "code",
   "execution_count": null,
   "metadata": {
    "ExecuteTime": {
     "end_time": "2020-12-05T18:02:54.226641Z",
     "start_time": "2020-12-05T18:02:53.466645Z"
    }
   },
   "outputs": [],
   "source": [
    "from hera_qm import __version__\n",
    "print(__version__)"
   ]
  },
  {
   "cell_type": "code",
   "execution_count": null,
   "metadata": {},
   "outputs": [],
   "source": []
  }
 ],
 "metadata": {
  "kernelspec": {
   "display_name": "Python 3",
   "language": "python",
   "name": "python3"
  },
  "language_info": {
   "codemirror_mode": {
    "name": "ipython",
    "version": 3
   },
   "file_extension": ".py",
   "mimetype": "text/x-python",
   "name": "python",
   "nbconvert_exporter": "python",
   "pygments_lexer": "ipython3",
   "version": "3.7.7"
  },
  "toc": {
   "base_numbering": 1,
   "nav_menu": {},
   "number_sections": false,
   "sideBar": true,
   "skip_h1_title": false,
   "title_cell": "Table of Contents",
   "title_sidebar": "Contents",
   "toc_cell": false,
   "toc_position": {},
   "toc_section_display": true,
   "toc_window_display": false
  }
 },
 "nbformat": 4,
 "nbformat_minor": 2
}
