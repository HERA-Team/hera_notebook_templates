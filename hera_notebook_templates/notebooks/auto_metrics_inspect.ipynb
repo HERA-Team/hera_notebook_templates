{
 "cells": [
  {
   "cell_type": "markdown",
   "metadata": {},
   "source": [
    "# `auto_metrics` Nightly Notebook\n",
    "\n",
    "**By Josh Dillon**\n",
    "\n",
    "*Last Updated January 27, 2021*\n",
    "\n",
    "`auto_metrics` is a module in `hera_qm` that computes a series of statistics on night-long autocorrelation waterfalls to find antenna outliers in shape, power, or temporal structure. In general, these are assessed by collapsing each waterfall to a single (normalized) spectrum, then comparing that spectrum to the mean/median of the unflagged antennas' spectra to compute some difference metric. Those are then converted into modified Z-scores by comparing the overall distribution of good antennas and the worst antenna is flagged if it exceeds some threshold. This whole processes is repeated iteratively until no new bad antennas are identified. This proceeds in two rounds, first with more robust median-based statistics to identify the worst outliers, and then (after an RFI flagging step), a round with mean-based statistics. This notebook examines those mean-based spectra and statistics. \n",
    "\n",
    "#### Statistics computed (after removing the worst offenders with a median-based metrics and then RFI flagging):\n",
    "- **Shape:** Compute the mean spectrum over time for each autocorrelation, but then divide by the mean of the whole waterfall to get something near 1. Now compute the mean absolute value of the difference between that and the mean spectrum over all non-excluded antennas of the same polarization. Convert this to a modified Z-score by comparing to all non-excluded antennas.\n",
    "- **Power:** Compute the mean spectrum over time for each autocorrelation without normalizing. Now compute the mean absolute value of the difference between the log of that (because we care about power outliers in dB rather than linear units) and the log of the mean spectrum over all non-excluded antennas of the same polarization. Convert this to a modified Z-score by comparing to all non-excluded antennas.\n",
    "- **Temporal variability:** Divide each autocorrelation by the mean waterfall for all non-excluded antennas of the same polarization. Now reduce to a single spectrum by computing the standard deviation along the time axis for each. Now compute the mean value (not the absolute value, since low variability shouldn't get a high Z-score) of the difference between that and the mean spectrum over all non-excluded antennas of the same polarization. Convert this to a modified Z-score by comparing to all non-excluded antennas.\n",
    "- **Temporal discontinuities:** Divide each autocorrelation by the mean waterfall for all non-excluded antennas of the same polarization. Now compute the element-by-element difference along the time axis, take the absolute value, and take the mean along the time axis to get a single spectrum. Now compute the mean value (not the absolute value, since low variability shouldn't get a high z-score) of the difference between that and the mean spectrum over all non-excluded antennas of the same polarization. Convert this to a modified Z-score by comparing to all non-excluded antennas.\n"
   ]
  },
  {
   "cell_type": "code",
   "execution_count": null,
   "metadata": {
    "ExecuteTime": {
     "end_time": "2021-01-28T03:18:51.341401Z",
     "start_time": "2021-01-28T03:18:45.835703Z"
    }
   },
   "outputs": [],
   "source": [
    "import numpy as np\n",
    "import pandas as pd\n",
    "pd.set_option('display.max_rows', 1000)\n",
    "import matplotlib.pyplot as plt\n",
    "import matplotlib\n",
    "import glob\n",
    "import os\n",
    "import operator\n",
    "from hera_cal.io import HERAData\n",
    "from hera_cal.utils import split_pol\n",
    "from hera_qm.metrics_io import load_metric_file\n",
    "from hera_notebook_templates.utils import status_colors\n",
    "from IPython.display import display, HTML\n",
    "\n",
    "%matplotlib inline\n",
    "%config InlineBackend.figure_format = 'retina'\n",
    "display(HTML(\"<style>.container { width:100% !important; }</style>\"))"
   ]
  },
  {
   "cell_type": "markdown",
   "metadata": {},
   "source": [
    "# Parse Inputs and Load Data"
   ]
  },
  {
   "cell_type": "code",
   "execution_count": null,
   "metadata": {
    "ExecuteTime": {
     "end_time": "2021-01-28T03:18:51.345963Z",
     "start_time": "2021-01-28T03:18:51.343208Z"
    }
   },
   "outputs": [],
   "source": [
    "# If you want to run this notebook locally, copy the output of the next cell into the first few lines of this cell.\n",
    "# JD = '2459122'\n",
    "# data_path = '/lustre/aoc/projects/hera/H4C/2459122'\n",
    "# os.environ[\"JULIANDATE\"] = JD\n",
    "# os.environ[\"DATA_PATH\"] = data_path"
   ]
  },
  {
   "cell_type": "code",
   "execution_count": null,
   "metadata": {
    "ExecuteTime": {
     "end_time": "2021-01-28T03:18:51.377058Z",
     "start_time": "2021-01-28T03:18:51.347744Z"
    }
   },
   "outputs": [],
   "source": [
    "# Use environment variables to figure out path to data\n",
    "JD = os.environ['JULIANDATE']\n",
    "data_path = os.environ['DATA_PATH']\n",
    "print(f'JD = \"{JD}\"')\n",
    "print(f'data_path = \"{data_path}\"')"
   ]
  },
  {
   "cell_type": "code",
   "execution_count": null,
   "metadata": {},
   "outputs": [],
   "source": [
    "from astropy.time import Time\n",
    "utc = Time(JD, format='jd').datetime\n",
    "print(f'Date: {utc.month}-{utc.day}-{utc.year}')"
   ]
  },
  {
   "cell_type": "code",
   "execution_count": null,
   "metadata": {
    "ExecuteTime": {
     "end_time": "2021-01-28T03:18:51.473301Z",
     "start_time": "2021-01-28T03:18:51.378556Z"
    },
    "scrolled": true
   },
   "outputs": [],
   "source": [
    "print(f'Looking for data in {data_path} on JD {JD}...')\n",
    "\n",
    "auto_metrics_file = sorted(glob.glob(os.path.join(data_path, f'zen.{JD}*.auto_metrics.h5')))\n",
    "if len(auto_metrics_file) > 0:\n",
    "    auto_metrics_file = auto_metrics_file[0]\n",
    "    print(f'Found auto_metrics results file at {auto_metrics_file}.')\n",
    "else:\n",
    "    raise OSError(f'{auto_metrics_file} not found.')\n",
    "\n",
    "raw_auto_files = sorted(glob.glob(os.path.join(data_path, f'zen.{JD}.?????.sum.autos.uvh5')))\n",
    "if len(raw_auto_files) > 0:\n",
    "    print(f'Found {len(raw_auto_files)} extracted autocorrelation files.')\n",
    "else: \n",
    "    raise OSError(f'No files of the form zen.{JD}.?????.sum.autos.uvh5 found in {data_path}.')"
   ]
  },
  {
   "cell_type": "code",
   "execution_count": null,
   "metadata": {
    "ExecuteTime": {
     "end_time": "2021-01-28T03:27:29.022036Z",
     "start_time": "2021-01-28T03:18:51.474681Z"
    }
   },
   "outputs": [],
   "source": [
    "# load auto_metrics and define use someful quantities\n",
    "am = load_metric_file(auto_metrics_file)\n",
    "mean_round_modz_cut = am['parameters']['mean_round_modz_cut']\n",
    "ex_ants = am['ex_ants']['r2_ex_ants']\n",
    "ants = sorted(set(bl[0] for bl in am['modzs']['r2_shape_modzs']))\n",
    "\n",
    "# load raw autocorrelation waterfalls and define some useful quantities\n",
    "hd = HERAData(raw_auto_files)\n",
    "autos, _, _ = hd.read(axis='blt')\n",
    "wf_shape = next(iter(autos.values())).shape\n",
    "freqs = autos.freqs / 1e6\n",
    "times = autos.times\n",
    "lsts = autos.lsts * 12 / np.pi"
   ]
  },
  {
   "cell_type": "code",
   "execution_count": null,
   "metadata": {
    "ExecuteTime": {
     "end_time": "2021-01-28T03:27:29.610755Z",
     "start_time": "2021-01-28T03:27:29.024373Z"
    }
   },
   "outputs": [],
   "source": [
    "# try to load a priori antenna statusesm but fail gracefully if this doesn't work.\n",
    "a_priori_statuses = {ant: 'Not Found' for ant in ants}\n",
    "nodes = {ant: np.nan for ant in ants}\n",
    "try:\n",
    "    from hera_mc import cm_hookup\n",
    "\n",
    "    # get node numbers\n",
    "    hookup = cm_hookup.get_hookup('default')\n",
    "    for ant_name in hookup:\n",
    "        ant = int(\"\".join(filter(str.isdigit, ant_name)))\n",
    "        if ant in nodes:\n",
    "            nodes[ant] = int(hookup[ant_name].get_part_from_type('node')['E<ground'][1:])            \n",
    "            \n",
    "    # get apriori antenna status\n",
    "    for ant_name, data in hookup.items():\n",
    "        ant = int(\"\".join(filter(str.isdigit, ant_name)))\n",
    "        if ant in a_priori_statuses:\n",
    "            a_priori_statuses[ant] = data.apriori\n",
    "    \n",
    "except Exception as err:\n",
    "    print(f'Could not load node numbers and a priori antenna statuses.\\nEncountered {type(err)} with message: {err}')"
   ]
  },
  {
   "cell_type": "markdown",
   "metadata": {},
   "source": [
    "# Summary Plots and Tables"
   ]
  },
  {
   "cell_type": "code",
   "execution_count": null,
   "metadata": {
    "ExecuteTime": {
     "end_time": "2021-01-28T03:27:29.616586Z",
     "start_time": "2021-01-28T03:27:29.612390Z"
    }
   },
   "outputs": [],
   "source": [
    "# print ex_ants for easy copy-pasting to YAML file\n",
    "print('ex_ants: [' + \", \".join(str(ant) for ant in ex_ants) + ']')"
   ]
  },
  {
   "cell_type": "code",
   "execution_count": null,
   "metadata": {
    "ExecuteTime": {
     "end_time": "2021-01-28T03:27:29.635335Z",
     "start_time": "2021-01-28T03:27:29.620874Z"
    }
   },
   "outputs": [],
   "source": [
    "def Array_Plot():\n",
    "    plt.figure(figsize=(16,16))\n",
    "    plt.scatter(np.array([autos.antpos[ant][0] for ant in ants]), \n",
    "                np.array([autos.antpos[ant][1] for ant in ants]), c='w', s=0)    \n",
    "    for ant in ants:\n",
    "        pos = autos.antpos[ant]\n",
    "        bad = ant in ex_ants\n",
    "        plt.gca().add_artist(plt.Circle(tuple(pos[0:2]), radius=7, \n",
    "                                        fill=(~bad), color=['grey','r'][bad]))\n",
    "        plt.text(pos[0],pos[1],str(ant), va='center', ha='center', color='w')\n",
    "    plt.xlabel(\"Antenna East-West Position (meters)\")\n",
    "    plt.ylabel(\"Antenna North-South Position (meters)\")\n",
    "    plt.title(f'Antenna Positions and Auto_Metrics Flags on {JD}\\n(Maximum Modified Z-Score > {mean_round_modz_cut} in Red)');\n",
    "    plt.axis('equal')\n",
    "    plt.tight_layout()"
   ]
  },
  {
   "cell_type": "markdown",
   "metadata": {},
   "source": [
    "## Figure 1: Antenna Positions with `auto_metrics` flags.\n",
    "\n",
    "This plot shows the antenna positions of all antennas in the data. The antennas with at least one Modified Z-score for one metric on one polarization exceeding the cut are entirely flagged."
   ]
  },
  {
   "cell_type": "code",
   "execution_count": null,
   "metadata": {
    "ExecuteTime": {
     "end_time": "2021-01-28T03:27:30.557406Z",
     "start_time": "2021-01-28T03:27:29.638405Z"
    }
   },
   "outputs": [],
   "source": [
    "Array_Plot()"
   ]
  },
  {
   "cell_type": "code",
   "execution_count": null,
   "metadata": {
    "ExecuteTime": {
     "end_time": "2021-01-28T03:27:30.569169Z",
     "start_time": "2021-01-28T03:27:30.558935Z"
    },
    "code_folding": []
   },
   "outputs": [],
   "source": [
    "# Parse modzs for Table 1 and other figures\n",
    "modzs_to_check = {'Shape': 'r2_shape_modzs', 'Power': 'r2_power_modzs', \n",
    "                  'Temporal Variability': 'r2_temp_var_modzs', 'Temporal Discontinuties': 'r2_temp_diff_modzs'}\n",
    "worst_metrics = []\n",
    "worst_zs = []\n",
    "all_modzs = {}\n",
    "binary_flags = {rationale: [] for rationale in modzs_to_check}\n",
    "\n",
    "for ant in ants:\n",
    "    # parse modzs and figure out flag counts\n",
    "    modzs = {f'{pol} {rationale}': am['modzs'][dict_name][(ant, ant, pol)] \n",
    "             for rationale, dict_name in modzs_to_check.items() for pol in autos.pols()}\n",
    "    for pol in autos.pols():\n",
    "        for rationale, dict_name in modzs_to_check.items():\n",
    "            binary_flags[rationale].append(am['modzs'][dict_name][(ant, ant, pol)] > mean_round_modz_cut)\n",
    "    \n",
    "    # figure out which metric is the largest outlier\n",
    "    worst_metric, worst_z = max(modzs.items(), key=operator.itemgetter(1))\n",
    "    worst_metrics.append(worst_metric)\n",
    "    worst_zs.append(worst_z)\n",
    "    \n",
    "    # parse out all metrics for dataframe\n",
    "    for k in modzs:\n",
    "        col_label = k + ' Modified Z-Score'        \n",
    "        if col_label in all_modzs:\n",
    "            all_modzs[col_label].append(modzs[k])\n",
    "        else:\n",
    "            all_modzs[col_label] = [modzs[k]]"
   ]
  },
  {
   "cell_type": "code",
   "execution_count": null,
   "metadata": {
    "ExecuteTime": {
     "end_time": "2021-01-28T03:27:30.612860Z",
     "start_time": "2021-01-28T03:27:30.570634Z"
    }
   },
   "outputs": [],
   "source": [
    "# build dataframe\n",
    "to_show = {'Ant': ants, \n",
    "           'Node': [f'N{nodes[ant]:02}' for ant in ants],\n",
    "           'A Priori Status': [a_priori_statuses[ant] for ant in ants],\n",
    "           'Worst Metric': worst_metrics, 'Worst Modified Z-Score': worst_zs}\n",
    "to_show.update(all_modzs)\n",
    "df = pd.DataFrame(to_show).sort_values('Worst Modified Z-Score', ascending=False)\n",
    "\n",
    "# style dataframe\n",
    "z_score_cols = [col for col in df.columns if col not in ['Ant', 'Node', 'A Priori Status', 'Worst Metric']]\n",
    "table1 = df.style.hide_index()\\\n",
    "           .applymap(lambda val: 'font-weight: bold' if val in ex_ants else '', subset=['Ant']) \\\n",
    "           .applymap(lambda val: 'color: red' if val in ex_ants else '', subset=['Ant']) \\\n",
    "           .applymap(lambda val: f'background-color: {status_colors[val]}' if val in status_colors else '', subset=['A Priori Status']) \\\n",
    "           .background_gradient(cmap='viridis', vmax=mean_round_modz_cut * 3, vmin=0, axis=None, subset=z_score_cols) \\\n",
    "           .applymap(lambda val: 'font-weight: bold' if val > am['parameters']['mean_round_modz_cut'] else '', subset=z_score_cols) \\\n",
    "           .applymap(lambda val: 'color: red' if val > am['parameters']['mean_round_modz_cut'] else '', subset=z_score_cols) \\\n",
    "           .set_table_styles([dict(selector=\"th\",props=[('max-width', '70pt')])])"
   ]
  },
  {
   "cell_type": "markdown",
   "metadata": {},
   "source": [
    "## Table 1: Modified Z-Score Summary\n",
    "\n",
    "This table displays the metrics for each antenna, highlighting which one is the worst. It is sorted by each antenna's worst metric. When one metric exceeds the threshold, `auto_metrics` recommends cutting that antenna. Flagged antennas and metrics exceeding the cut are shown in bold and red. Also shown is the antenna's a priori status. "
   ]
  },
  {
   "cell_type": "code",
   "execution_count": null,
   "metadata": {
    "ExecuteTime": {
     "end_time": "2021-01-28T03:33:27.340321Z",
     "start_time": "2021-01-28T03:33:26.328581Z"
    },
    "scrolled": false
   },
   "outputs": [],
   "source": [
    "HTML(table1.render())"
   ]
  },
  {
   "cell_type": "code",
   "execution_count": null,
   "metadata": {
    "ExecuteTime": {
     "end_time": "2021-01-28T03:27:32.359890Z",
     "start_time": "2021-01-28T03:27:32.352021Z"
    }
   },
   "outputs": [],
   "source": [
    "def Flag_Bar_Chart():\n",
    "    plt.figure(figsize=(8, 4), dpi=100)\n",
    "\n",
    "    # count \n",
    "    rationales = list(binary_flags.keys())\n",
    "    flags_list = np.array([binary_flags[rationale] for rationale in rationales])\n",
    "    antpol_flags = [np.sum(f) for f in flags_list]\n",
    "    ant_flags = [np.sum(np.array(f)[0::2] | np.array(f)[1::2]) for f in flags_list]\n",
    "\n",
    "    # make bar chart\n",
    "    plt.bar(np.arange(len(rationales)), antpol_flags, width=.7, color='yellow', ec='k', tick_label=rationales)\n",
    "    for x, (nflags, nants) in enumerate(zip(antpol_flags, ant_flags)):\n",
    "        plt.text(x, nflags/2, f'{nflags} Feeds on \\n{nants} Antennas\\nFlagged', va='center', ha='center')\n",
    "\n",
    "    # set labels\n",
    "    plt.ylabel('Antenna-Polarizations Flagged')\n",
    "    plt.xlabel('Reason for Flagging')\n",
    "    plt.tight_layout()"
   ]
  },
  {
   "cell_type": "markdown",
   "metadata": {},
   "source": [
    "## Figure 2: Flagging Rationale Summary\n",
    "\n",
    "This bar chart summarizes the number of antenna-polarizations that are statistical outliers in each metric (though often they overlap). Some of these issues occur on both polarizations, so there are fewer unique antennas flagged for each rationale than there are ant-pols flagged, as noted by the labels."
   ]
  },
  {
   "cell_type": "code",
   "execution_count": null,
   "metadata": {
    "ExecuteTime": {
     "end_time": "2021-01-28T03:27:32.709786Z",
     "start_time": "2021-01-28T03:27:32.361431Z"
    },
    "scrolled": false
   },
   "outputs": [],
   "source": [
    "Flag_Bar_Chart()"
   ]
  },
  {
   "cell_type": "code",
   "execution_count": null,
   "metadata": {
    "ExecuteTime": {
     "end_time": "2021-01-28T03:27:32.719415Z",
     "start_time": "2021-01-28T03:27:32.711281Z"
    }
   },
   "outputs": [],
   "source": [
    "def Rationale_Corr_Plot():\n",
    "    plt.figure(figsize=(6,6), dpi=100)\n",
    "    \n",
    "    # compute correlation matrix\n",
    "    rationales = list(binary_flags.keys())\n",
    "    flags_list = np.array([binary_flags[rationale] for rationale in rationales])\n",
    "    corrs = np.corrcoef(flags_list)\n",
    "    \n",
    "    # plot and label correlation matrix\n",
    "    plt.imshow(corrs, cmap='viridis', interpolation='nearest', origin='upper')\n",
    "    for i in range(corrs.shape[0]):\n",
    "        for j in range(corrs.shape[1]):\n",
    "            plt.text(i, j, np.round(corrs[i, j], 3), va='center', ha='center',\n",
    "                     bbox={'facecolor': 'w', 'ec': 'w', 'alpha': .75})\n",
    "\n",
    "    # colorbar, labels, and style\n",
    "    plt.yticks(range(len(rationales)), rationales)\n",
    "    plt.xticks(range(len(rationales)), rationales, rotation=-45, ha='right')\n",
    "    plt.gca().xaxis.tick_top()\n",
    "    plt.clim([0, 1])\n",
    "    plt.colorbar(fraction=0.046, pad=0.04)\n",
    "    plt.tight_layout()"
   ]
  },
  {
   "cell_type": "markdown",
   "metadata": {},
   "source": [
    "## Figure 3: Flagging Rationale Correlations\n",
    "\n",
    "This plot shows the probability that if a given ant-pol is flagged for some reason, it's also flagged for another reason. "
   ]
  },
  {
   "cell_type": "code",
   "execution_count": null,
   "metadata": {
    "ExecuteTime": {
     "end_time": "2021-01-28T03:27:33.201506Z",
     "start_time": "2021-01-28T03:27:32.720877Z"
    }
   },
   "outputs": [],
   "source": [
    "Rationale_Corr_Plot()"
   ]
  },
  {
   "cell_type": "code",
   "execution_count": null,
   "metadata": {
    "ExecuteTime": {
     "end_time": "2021-01-28T03:27:33.215884Z",
     "start_time": "2021-01-28T03:27:33.202986Z"
    }
   },
   "outputs": [],
   "source": [
    "def plot_all_spectra(spectra, mod_zs, modz_cut, overall, freqs, reason, ex_ants=[], \n",
    "                     xlabel='Frequency (MHz)', ylabel='', yscale='linear', ylim_factor=None):\n",
    "    '''Helper function for plotting all spectra and showing which ones were flagged and why.''' \n",
    "    fig, axes = plt.subplots(1,2, figsize=(14,5), dpi=100)\n",
    "    pols = sorted(set([bl[2] for bl in spectra]))\n",
    "    for ax, pol in zip(axes, pols):\n",
    "        # sort antennas into good, bad, and bad but not for this reason\n",
    "        bad_here = [bl for bl in spectra if (bl[2] == pol) and mod_zs[bl] > modz_cut]\n",
    "        other_bad = [bl for bl in spectra if (bl[2] == pol) and (bl[0] in ex_ants) and (bl not in bad_here)]\n",
    "        good = [bl for bl in spectra if (bl[2] == pol) and (bl[0] not in ex_ants)]\n",
    "        \n",
    "        # plot all spectra\n",
    "        l1, l2, l3 = None, None, None\n",
    "        for bl in other_bad:\n",
    "            l2, = ax.plot(freqs, spectra[bl], 'darkviolet', lw=.5)\n",
    "        for bl in bad_here:\n",
    "            l1, = ax.plot(freqs, spectra[bl], 'r', lw=.5)\n",
    "        for bl in good:\n",
    "            l3, = ax.plot(freqs, spectra[bl], 'grey', alpha=.5)\n",
    "        l4, = ax.plot(freqs, overall[bl[2]], 'k--')\n",
    "        \n",
    "        ax.set_xlabel(xlabel)\n",
    "        ax.set_ylabel(ylabel)\n",
    "        ax.set_yscale(yscale)\n",
    "        if ylim_factor is not None:\n",
    "            ax.set_ylim([np.nanmin([spectra[bl] for bl in good]) / ylim_factor, \n",
    "                         np.nanmax([spectra[bl] for bl in good]) * ylim_factor])\n",
    "        ax.set_title(f'Outliers in Autocorrelation {reason}: {pol}')\n",
    "        ax.legend([l1, l2, l3, l4], [f'Flagged for {reason}', 'Flagged for Another Reason', 'Unflagged', 'Average Unflagged'], loc='lower right')\n",
    "    plt.tight_layout()"
   ]
  },
  {
   "cell_type": "code",
   "execution_count": null,
   "metadata": {
    "ExecuteTime": {
     "end_time": "2021-01-28T03:27:33.238909Z",
     "start_time": "2021-01-28T03:27:33.217459Z"
    }
   },
   "outputs": [],
   "source": [
    "overall_shape = {pol: np.nanmean([spec for bl, spec in am['spectra']['mean_spectra_normed'].items() if (bl[2] == pol) \n",
    "                                  and (bl[0] not in ex_ants)], axis=0) for pol in autos.pols()}\n",
    "overall_power = {pol: np.nanmean([spec for bl, spec in am['spectra']['mean_spectra'].items() if (bl[2] == pol) \n",
    "                                  and (bl[0] not in ex_ants)], axis=0) for pol in autos.pols()}\n",
    "overall_temp_var = {pol: np.nanmean([spec for bl, spec in am['spectra']['std_spectra_normed'].items() if (bl[2] == pol) \n",
    "                                     and (bl[0] not in ex_ants)], axis=0) for pol in autos.pols()}\n",
    "overall_temp_diff = {pol: np.nanmean([spec for bl, spec in am['spectra']['mean_abs_diff_spectra_normed'].items() if (bl[2] == pol) \n",
    "                                      and (bl[0] not in ex_ants)], axis=0) for pol in autos.pols()}"
   ]
  },
  {
   "cell_type": "markdown",
   "metadata": {},
   "source": [
    "## Figure 4: Outliers in Autocorrelation Shape\n",
    "\n",
    "This plot summarizes the spectra computed to compare to one another to find outliers in autocorrelation shape (see above for how that was computed). The mean compared to is shown as a black dashed line. Antennas in red were flagged as outliers, antennas in gray and purple were not. However, antennas in purple were flagged for some other reason, either another metric or on the other polarization. Completely flagged channels (RFI and band edges) appear as white gaps."
   ]
  },
  {
   "cell_type": "code",
   "execution_count": null,
   "metadata": {
    "ExecuteTime": {
     "end_time": "2021-01-28T03:27:35.333210Z",
     "start_time": "2021-01-28T03:27:33.242124Z"
    }
   },
   "outputs": [],
   "source": [
    "plot_all_spectra(am['spectra']['mean_spectra_normed'], am['modzs']['r2_shape_modzs'], mean_round_modz_cut, \n",
    "                 overall_shape, freqs, 'Shape', ex_ants=ex_ants, yscale='linear', ylim_factor=1.2)"
   ]
  },
  {
   "cell_type": "markdown",
   "metadata": {},
   "source": [
    "## Figure 5: Outliers in Autocorrelation Power\n",
    "\n",
    "This plot summarizes the spectra computed to compare to one another to find outliers in autocorrelation amplitude (see above for how that was computed). The mean compared to is shown as a black dashed line. Antennas in red were flagged as outliers, antennas in gray and purple were not. However, antennas in purple were flagged for some other reason, either another metric or on the other polarization. Completely flagged channels (RFI and band edges) appear as white gaps."
   ]
  },
  {
   "cell_type": "code",
   "execution_count": null,
   "metadata": {
    "ExecuteTime": {
     "end_time": "2021-01-28T03:27:37.884127Z",
     "start_time": "2021-01-28T03:27:35.334887Z"
    }
   },
   "outputs": [],
   "source": [
    "plot_all_spectra(am['spectra']['mean_spectra'], am['modzs']['r2_power_modzs'], mean_round_modz_cut, \n",
    "                 overall_power, freqs, 'Power', ex_ants=ex_ants, yscale='log')"
   ]
  },
  {
   "cell_type": "markdown",
   "metadata": {},
   "source": [
    "## Figure 6: Outliers in Autocorrelation Temporal Variability\n",
    "\n",
    "This plot summarizes the spectra computed to compare to one another to find outliers in autocorrelation temporal variability (as measured by a standard deviation over time; see above for how that was computed). The mean compared to is shown as a black dashed line. Antennas in red were flagged as outliers, antennas in gray and purple were not. However, antennas in purple were flagged for some other reason, either another metric or on the other polarization. Completely flagged channels (RFI and band edges) appear as white gaps."
   ]
  },
  {
   "cell_type": "code",
   "execution_count": null,
   "metadata": {
    "ExecuteTime": {
     "end_time": "2021-01-28T03:27:40.773094Z",
     "start_time": "2021-01-28T03:27:37.885652Z"
    },
    "code_folding": []
   },
   "outputs": [],
   "source": [
    "plot_all_spectra(am['spectra']['std_spectra_normed'], am['modzs']['r2_temp_var_modzs'], mean_round_modz_cut,\n",
    "                 overall_temp_var, freqs, 'Temporal Variability', ex_ants=ex_ants, yscale='log')"
   ]
  },
  {
   "cell_type": "markdown",
   "metadata": {},
   "source": [
    "## Figure 7: Outliers in Autocorrelation Temporal Discontinuities\n",
    "\n",
    "This plot summarizes the spectra computed to compare to one another to find outliers in autocorrelation temporal discontinuities (as measured by the average absolute integration-to-integration difference over time; see above for how that was computed). The mean compared to is shown as a black dashed line. Antennas in red were flagged as outliers, antennas in gray and purple were not. However, antennas in purple were flagged for some other reason, either another metric or on the other polarization. Completely flagged channels (RFI and band edges) appear as white gaps."
   ]
  },
  {
   "cell_type": "code",
   "execution_count": null,
   "metadata": {
    "ExecuteTime": {
     "end_time": "2021-01-28T03:27:43.828755Z",
     "start_time": "2021-01-28T03:27:40.775229Z"
    }
   },
   "outputs": [],
   "source": [
    "plot_all_spectra(am['spectra']['mean_abs_diff_spectra_normed'], am['modzs']['r2_temp_diff_modzs'], mean_round_modz_cut, \n",
    "                 overall_temp_diff, freqs, 'Temporal Discontinutities', ex_ants=ex_ants, yscale='log')"
   ]
  },
  {
   "cell_type": "code",
   "execution_count": null,
   "metadata": {
    "ExecuteTime": {
     "end_time": "2021-01-28T03:27:54.620225Z",
     "start_time": "2021-01-28T03:27:43.832420Z"
    }
   },
   "outputs": [],
   "source": [
    "# compute average good autocorrelations for each polarization\n",
    "avg_good_autos = {pol: np.zeros(wf_shape, dtype=float) for pol in autos.pols()}\n",
    "for pol in autos.pols():\n",
    "    for i in range(wf_shape[0]):\n",
    "        avg_good_autos[pol][i] = np.mean([np.abs(autos[bl][i, :]) for bl in autos \n",
    "                                          if (bl[0] not in ex_ants) and (bl[2] == pol)], axis=0)\n",
    "    avg_good_autos[pol][am['flags']] = np.nan"
   ]
  },
  {
   "cell_type": "code",
   "execution_count": null,
   "metadata": {
    "ExecuteTime": {
     "end_time": "2021-01-28T03:27:54.628511Z",
     "start_time": "2021-01-28T03:27:54.621869Z"
    }
   },
   "outputs": [],
   "source": [
    "def Avg_Auto_Plot():\n",
    "    fig, axes = plt.subplots(1, 2, figsize=(14,5), dpi=100)\n",
    "    for ax, pol in zip(axes, sorted(autos.pols())):\n",
    "        im = ax.imshow(avg_good_autos[pol], aspect='auto', interpolation='nearest',\n",
    "                       extent=[freqs[0], freqs[-1], times[-1], times[0]])\n",
    "        ax.set_yticklabels(np.around(lsts[[min(max(np.searchsorted(times, t), 0), len(times) - 1) for t in ax.get_yticks()]], 2))    \n",
    "        plt.colorbar(im, ax=ax)\n",
    "        ax.set_title(f'Average Good Raw {pol} Autocorrelation After Flagging')\n",
    "        ax.set_ylabel('LST (hours)')\n",
    "        ax.set_xlabel('Frequency (MHz)')\n",
    "    plt.tight_layout()"
   ]
  },
  {
   "cell_type": "markdown",
   "metadata": {},
   "source": [
    "## Figure 8: Average Good Autocorrelations and Flags\n",
    "\n",
    "Here we show the waterfalls of the array-averaged autocorrelations over the night, after removing all flagged antennas. We also show the RFI mask generated between the median and mean rounds of antenna outlier detection. This is meant to show that there is little or no RFI remaining to affect the statistics."
   ]
  },
  {
   "cell_type": "code",
   "execution_count": null,
   "metadata": {
    "ExecuteTime": {
     "end_time": "2021-01-28T03:27:57.135782Z",
     "start_time": "2021-01-28T03:27:54.630792Z"
    }
   },
   "outputs": [],
   "source": [
    "Avg_Auto_Plot()"
   ]
  },
  {
   "cell_type": "markdown",
   "metadata": {},
   "source": [
    "# Per-Antenna Plots "
   ]
  },
  {
   "cell_type": "code",
   "execution_count": null,
   "metadata": {
    "ExecuteTime": {
     "end_time": "2021-01-28T03:27:57.149756Z",
     "start_time": "2021-01-28T03:27:57.138242Z"
    }
   },
   "outputs": [],
   "source": [
    "def plot_spectra(axes, ant, spec, modzs, modz_cut, overall, reason, yscale='linear'):\n",
    "    '''Helper function for plotting both antennas of a given polarization.'''\n",
    "    for pol, ax in zip(sorted(autos.pols()), axes):\n",
    "        bl = (ant, ant, pol)\n",
    "\n",
    "        # plot good antennas\n",
    "        for bl2 in modzs:\n",
    "            if (bl2[0] not in ex_ants) and (bl2[2] == pol):\n",
    "                ax.plot(freqs, spec[bl2], 'grey', lw=.5, alpha=.5)\n",
    "        ax.plot(freqs, overall[pol], 'k--')\n",
    "\n",
    "        # plot this anetnna\n",
    "        color = 'r'\n",
    "        alpha = .75\n",
    "        if modzs[bl] >= modz_cut:\n",
    "            alpha = 1\n",
    "        elif bl[0] in ex_ants:\n",
    "            color = 'darkviolet'\n",
    "        else:\n",
    "            color = 'darkgreen'\n",
    "        ax.plot(freqs, spec[bl], color, alpha=alpha, label=f'{ant} {pol}\\n(z = {np.round(modzs[bl],1)})')\n",
    "\n",
    "        # decorate axis\n",
    "        ax.set_yscale(yscale)\n",
    "        ax.legend(loc=2)\n",
    "        ax.set_title(f'{pol} {reason}')  "
   ]
  },
  {
   "cell_type": "code",
   "execution_count": null,
   "metadata": {
    "ExecuteTime": {
     "end_time": "2021-01-28T03:27:57.160469Z",
     "start_time": "2021-01-28T03:27:57.151513Z"
    }
   },
   "outputs": [],
   "source": [
    "len(ants)"
   ]
  },
  {
   "cell_type": "code",
   "execution_count": null,
   "metadata": {
    "ExecuteTime": {
     "end_time": "2021-01-28T03:35:14.632591Z",
     "start_time": "2021-01-28T03:35:14.610415Z"
    }
   },
   "outputs": [],
   "source": [
    "def Plot_All_Auto_Metrics():\n",
    "    for row, ant in enumerate(df['Ant']): \n",
    "        # print title of section\n",
    "        display(HTML(f'<h2>Antenna {ant}: {JD}</h2>'))\n",
    "\n",
    "        # print metrics\n",
    "        df_row = df.loc[df['Ant'] == ant]\n",
    "        df_row = df_row.style.hide_index()\\\n",
    "                       .set_table_styles([dict(selector=\"th\",props=[('max-width', '70pt')])])\\\n",
    "                       .applymap(lambda val: f'background-color: {status_colors[val]}' if val in status_colors else '', subset=['A Priori Status']) \\\n",
    "                       .applymap(lambda val: 'font-weight: bold' if val in ex_ants else '', subset=['Ant']) \\\n",
    "                       .applymap(lambda val: 'color: red' if val in ex_ants else '', subset=['Ant']) \\\n",
    "                       .applymap(lambda val: 'font-weight: bold' if val > am['parameters']['mean_round_modz_cut'] else '', subset=z_score_cols) \\\n",
    "                       .applymap(lambda val: 'color: red' if val > am['parameters']['mean_round_modz_cut'] else '', subset=z_score_cols)\n",
    "        display(HTML(df_row.render()))\n",
    "\n",
    "        # plot spectra and waterfalls\n",
    "        fig, axes = plt.subplots(2, 6, figsize=(18, 5.5), dpi=(50 * (104 / len(ants))**.5)) # this should help manage filesize\n",
    "\n",
    "        # plot individual spectra compared to all good antennas\n",
    "        plot_spectra(axes[:, 0], ant, am['spectra']['mean_spectra_normed'], am['modzs']['r2_shape_modzs'], \n",
    "                     mean_round_modz_cut, overall_shape, 'Shape', yscale='linear')\n",
    "        plot_spectra(axes[:, 1], ant, am['spectra']['mean_spectra'], am['modzs']['r2_power_modzs'], \n",
    "                     mean_round_modz_cut, overall_power, 'Power', yscale='log')\n",
    "        plot_spectra(axes[:, 2], ant, am['spectra']['std_spectra_normed'], am['modzs']['r2_temp_var_modzs'],\n",
    "                     mean_round_modz_cut, overall_temp_var, 'Temporal Variability', yscale='linear')\n",
    "        plot_spectra(axes[:, 3], ant, am['spectra']['mean_abs_diff_spectra_normed'], am['modzs']['r2_temp_diff_modzs'],\n",
    "                     mean_round_modz_cut, overall_temp_diff, 'Temporal Discontinutities', yscale='linear')\n",
    "        plt.tight_layout()\n",
    "\n",
    "        # plot linear-scale waterfalls \n",
    "        for pol, ax in zip(sorted(autos.pols()), axes[:, 4]):\n",
    "            bl = (ant, ant, pol)        \n",
    "            im = ax.imshow(np.where(am['flags'], np.nan, autos[bl].real), \n",
    "                           aspect='auto', interpolation='nearest', cmap='inferno',\n",
    "                           extent=[freqs[0], freqs[-1], times[-1], times[0]])\n",
    "            ax.set_yticklabels(np.around(lsts[[min(max(np.searchsorted(times, t), 0), len(times) - 1) for t in ax.get_yticks()]], 2))\n",
    "            ax.set_title(f'{pol} Waterfall (Linear Scale)')\n",
    "\n",
    "        # plot log-scale mean-divided waterfalls\n",
    "        for pol, ax in zip(sorted(autos.pols()), axes[:, 5]):\n",
    "            bl = (ant, ant, pol)\n",
    "            to_plot = autos[bl].real / avg_good_autos[pol]\n",
    "            to_plot[am['flags']] = np.nan\n",
    "            to_plot /= np.nanmean(to_plot)\n",
    "            im = ax.imshow(np.log10(to_plot), aspect='auto', cmap='seismic', interpolation='nearest', vmin=-.07, vmax=.07,\n",
    "                           extent=[freqs[0], freqs[-1], times[-1], times[0]])\n",
    "            ax.set_yticklabels(np.around(lsts[[min(max(np.searchsorted(times, t), 0), len(times) - 1) for t in ax.get_yticks()]], 2))\n",
    "            ax.set_title(f'{pol} Log(Normalized Waterfall)')\n",
    "\n",
    "        plt.show()\n",
    "\n",
    "        # print some whitespace\n",
    "        display(HTML('<hr style=\"height:3px\">'))"
   ]
  },
  {
   "cell_type": "markdown",
   "metadata": {},
   "source": [
    "## Figure 9: Per-Antenna Statistics, Spectra, and Waterfalls\n",
    "\n",
    "Here we show the metrics for each antenna and the spectra/waterfalls that hopefully explain what led to them. The table reproduces the information from Table 1 above. The first four panels in each row clearly highlight the antenna's spectrum as it compares to the mean good antenna (black) and the distribution of good antennas (gray). Spectra in red were flagged as outliers. Spectra in purple were flagged for some other reason, either another metric or on the other polarization. Good antennas are shown in green. Completely flagged channels (RFI and band edges) appear as white gaps. In the fifth column, the waterfall of that autocorrelation is shown on a linear scale after RFI/band edge flags (white). In the sixth column, we show the log (base 10) of the same waterfall, divided by the average good antennas' waterfall of that polarization and then normalized to an average of 1. "
   ]
  },
  {
   "cell_type": "code",
   "execution_count": null,
   "metadata": {
    "ExecuteTime": {
     "end_time": "2021-01-28T03:47:26.559080Z",
     "start_time": "2021-01-28T03:36:59.584601Z"
    },
    "scrolled": false
   },
   "outputs": [],
   "source": [
    "Plot_All_Auto_Metrics()"
   ]
  },
  {
   "cell_type": "code",
   "execution_count": null,
   "metadata": {
    "ExecuteTime": {
     "end_time": "2021-01-28T03:32:55.328257Z",
     "start_time": "2021-01-28T03:18:45.862Z"
    }
   },
   "outputs": [],
   "source": [
    "from hera_qm import __version__\n",
    "print(__version__)"
   ]
  },
  {
   "cell_type": "code",
   "execution_count": null,
   "metadata": {},
   "outputs": [],
   "source": []
  }
 ],
 "metadata": {
  "kernelspec": {
   "display_name": "Python 3",
   "language": "python",
   "name": "python3"
  },
  "language_info": {
   "codemirror_mode": {
    "name": "ipython",
    "version": 3
   },
   "file_extension": ".py",
   "mimetype": "text/x-python",
   "name": "python",
   "nbconvert_exporter": "python",
   "pygments_lexer": "ipython3",
   "version": "3.8.6"
  },
  "toc": {
   "base_numbering": 1,
   "nav_menu": {},
   "number_sections": false,
   "sideBar": true,
   "skip_h1_title": false,
   "title_cell": "Table of Contents",
   "title_sidebar": "Contents",
   "toc_cell": false,
   "toc_position": {},
   "toc_section_display": true,
   "toc_window_display": false
  }
 },
 "nbformat": 4,
 "nbformat_minor": 4
}
