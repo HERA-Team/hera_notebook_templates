{
 "cells": [
  {
   "cell_type": "markdown",
   "metadata": {
    "ExecuteTime": {
     "end_time": "2020-09-07T19:36:18.382919Z",
     "start_time": "2020-09-07T19:36:18.376198Z"
    }
   },
   "source": [
    "# Stage 2 Redundant Calibration Nightly Notebook\n",
    "\n",
    "**Josh Dillon**, Last Revised 7/30/20"
   ]
  },
  {
   "cell_type": "code",
   "execution_count": null,
   "metadata": {
    "ExecuteTime": {
     "end_time": "2020-10-25T00:54:01.427695Z",
     "start_time": "2020-10-25T00:53:58.839400Z"
    }
   },
   "outputs": [],
   "source": [
    "import numpy as np\n",
    "import matplotlib.pyplot as plt\n",
    "import matplotlib\n",
    "from hera_cal import io, redcal, apply_cal\n",
    "from hera_qm.metrics_io import load_metric_file\n",
    "import glob\n",
    "import os\n",
    "from copy import deepcopy\n",
    "import inspect\n",
    "import h5py\n",
    "from IPython.display import display, HTML\n",
    "\n",
    "%matplotlib inline\n",
    "%config InlineBackend.figure_format = 'retina'\n",
    "display(HTML(\"<style>.container { width:100% !important; }</style>\"))"
   ]
  },
  {
   "cell_type": "code",
   "execution_count": null,
   "metadata": {
    "ExecuteTime": {
     "end_time": "2020-10-25T00:54:21.147221Z",
     "start_time": "2020-10-25T00:54:21.143014Z"
    }
   },
   "outputs": [],
   "source": [
    "# If you want to run this notebook locally, copy the output of the next cell into the first few lines of this cell.\n",
    "\n",
    "# JD = '2459122'\n",
    "# data_path = '/lustre/aoc/projects/hera/H4C/2459122'\n",
    "# os.environ[\"JULIANDATE\"] = JD\n",
    "# os.environ[\"DATA_PATH\"] = data_path"
   ]
  },
  {
   "cell_type": "code",
   "execution_count": null,
   "metadata": {
    "ExecuteTime": {
     "end_time": "2020-10-25T00:54:22.491217Z",
     "start_time": "2020-10-25T00:54:22.485697Z"
    }
   },
   "outputs": [],
   "source": [
    "# Use environment variables to figure out path to data\n",
    "JD = os.environ['JULIANDATE']\n",
    "data_path = os.environ['DATA_PATH']\n",
    "print(f'JD = \"{JD}\"')\n",
    "print(f'data_path = \"{data_path}\"')"
   ]
  },
  {
   "cell_type": "code",
   "execution_count": null,
   "metadata": {},
   "outputs": [],
   "source": [
    "from astropy.time import Time\n",
    "utc = Time(JD, format='jd').datetime\n",
    "print(f'Date: {utc.month}-{utc.day}-{utc.year}')"
   ]
  },
  {
   "cell_type": "code",
   "execution_count": null,
   "metadata": {
    "ExecuteTime": {
     "end_time": "2020-10-25T00:54:25.035887Z",
     "start_time": "2020-10-25T00:54:24.974483Z"
    }
   },
   "outputs": [],
   "source": [
    "print('Looking for data in', data_path, 'on JD', JD)\n",
    "data_list = sorted(glob.glob(os.path.join(data_path, f'zen.{JD}.?????.sum.uvh5')))\n",
    "if len(data_list) == 0:\n",
    "    data_list = sorted(glob.glob(os.path.join(data_path, f'zen.{JD}.?????.uvh5')))\n",
    "print('Found {} files.'.format(len(data_list)))"
   ]
  },
  {
   "cell_type": "markdown",
   "metadata": {},
   "source": [
    "# Load Single File"
   ]
  },
  {
   "cell_type": "code",
   "execution_count": null,
   "metadata": {
    "ExecuteTime": {
     "end_time": "2020-10-25T00:54:28.548946Z",
     "start_time": "2020-10-25T00:54:28.543811Z"
    }
   },
   "outputs": [],
   "source": [
    "# Pick middle of the night data file to examine\n",
    "example_file = data_list[len(data_list)//2]\n",
    "file_JD = '.'.join([s for s in example_file.split('.') if s.isdigit()])"
   ]
  },
  {
   "cell_type": "code",
   "execution_count": null,
   "metadata": {
    "ExecuteTime": {
     "end_time": "2020-10-25T00:54:29.550929Z",
     "start_time": "2020-10-25T00:54:29.547358Z"
    }
   },
   "outputs": [],
   "source": [
    "# controls how many redundant baseline groups to plot. \n",
    "# 2 means the most common ee- and nn-polarized baseline.\n",
    "n_reds_to_plot = 2  "
   ]
  },
  {
   "cell_type": "code",
   "execution_count": null,
   "metadata": {
    "ExecuteTime": {
     "end_time": "2020-10-25T00:54:34.936333Z",
     "start_time": "2020-10-25T00:54:30.339648Z"
    }
   },
   "outputs": [],
   "source": [
    "# Load omnical gains and determine ex_ants\n",
    "hc = io.HERACal(example_file.replace('.uvh5', f'.omni.calfits'))\n",
    "gains, gain_flags, _, _ = hc.read()\n",
    "ex_ants = [ant for ant in gain_flags if np.all(gain_flags[ant])]\n",
    "\n",
    "# Load the most common redundant baselines and calibrate\n",
    "hd = io.HERAData(example_file)\n",
    "reds = redcal.get_reds({ant: hd.antpos[ant] for ant in hd.data_ants}, pols=['ee', 'nn'])\n",
    "red_bl_map = {bl: red[0] for red in reds for bl in red} \n",
    "reds = redcal.filter_reds(reds, ex_ants=ex_ants)\n",
    "reds = sorted(reds, key=len, reverse=True)\n",
    "data, flags, nsamples = hd.read(\n",
    "    bls=[bl for red in reds[0:n_reds_to_plot] for bl in red])\n",
    "apply_cal.calibrate_in_place(data, gains, data_flags=flags, cal_flags=gain_flags)\n",
    "\n",
    "# Load omnical visibility solutions\n",
    "hdo = io.HERAData(example_file.replace('.uvh5', f'.omni_vis.uvh5'))\n",
    "omni_data, omni_flags, omni_nsamples = hdo.read(\n",
    "    bls=[red_bl_map[red[0]] for red in reds[0:n_reds_to_plot]])"
   ]
  },
  {
   "cell_type": "markdown",
   "metadata": {},
   "source": [
    "# Inspect Single File"
   ]
  },
  {
   "cell_type": "code",
   "execution_count": null,
   "metadata": {
    "ExecuteTime": {
     "end_time": "2020-10-25T00:54:36.608323Z",
     "start_time": "2020-10-25T00:54:35.689049Z"
    }
   },
   "outputs": [],
   "source": [
    "plt.figure(figsize=(8,8))\n",
    "plt.scatter(np.array([hd.antpos[ant][0] for ant in hd.data_ants]), \n",
    "            np.array([hd.antpos[ant][1] for ant in hd.data_ants]), c='w', s=0)\n",
    "for ant in hd.data_ants:\n",
    "    pos = hd.antpos[ant]\n",
    "    bad = ant in [ant[0] for ant in ex_ants]\n",
    "    plt.gca().add_artist(plt.Circle(tuple(pos[0:2]), radius=7, \n",
    "                                    fill=(~bad), color=['grey','r'][bad]))\n",
    "    plt.text(pos[0],pos[1],str(ant), va='center', ha='center', color='w')\n",
    "plt.xlabel(\"Antenna East-West Position (meters)\")\n",
    "plt.ylabel(\"Antenna North-South Position (meters)\")\n",
    "plt.title('Antenna Positions on {} (Red = Flagged)'.format(file_JD));\n",
    "plt.axis('equal')\n",
    "plt.tight_layout()\n",
    "plt.show()"
   ]
  },
  {
   "cell_type": "markdown",
   "metadata": {},
   "source": [
    "### Figure 1: Array and Flagged Antennas\n",
    "\n",
    "#### OBSERVER CHECKLIST:\n",
    "* Check that the array configuration looks reasonable.\n",
    "* Check that all flags expected to be flagged are actually flagged but also that not everything is getting flagged."
   ]
  },
  {
   "cell_type": "code",
   "execution_count": null,
   "metadata": {
    "ExecuteTime": {
     "end_time": "2020-10-25T00:54:39.433864Z",
     "start_time": "2020-10-25T00:54:37.039257Z"
    },
    "scrolled": false
   },
   "outputs": [],
   "source": [
    "# Plot redundant groups\n",
    "for red in reds[0:n_reds_to_plot]:\n",
    "    blvec = hd.antpos[red[0][1]] - hd.antpos[red[0][0]]\n",
    "    for func, plot, ylabel in zip([np.abs, np.angle], [plt.semilogy, plt.plot], ['Amplitude (Arbitrary Units)', 'Phase (Radians)']):\n",
    "        plt.figure(figsize=(16,4))\n",
    "        for bl in red:\n",
    "            plot(hd.freqs/1e6, func(np.median(data[bl], axis=0)))\n",
    "        plot(hd.freqs/1e6, func(np.median(omni_data[red_bl_map[red[0]]], axis=0)), 'k-', label='Omnical Visibility Solution')\n",
    "        plt.xlabel('Frequency (MHz)')\n",
    "        plt.ylabel(ylabel)\n",
    "        plt.legend(loc='lower right')\n",
    "        plt.title('{}-Polarized, {:f} m East, {:f} m North Visibility on {}'.format(red[0][2], blvec[0], blvec[1], file_JD))"
   ]
  },
  {
   "cell_type": "markdown",
   "metadata": {},
   "source": [
    "### Figure 2: Example redundant baseline groups and omnical visibility solution for a single file.\n",
    "\n",
    "\n",
    "#### OBSERVER CHECKLIST:\n",
    "* Check that that there actually is something plotted and the data isn't all flagged somehow.\n",
    "* Check whether most of the baselines cluster together and that the black line follows the cluster.\n",
    "* Check whether there are any significant outliers (though it won't be clear as yet which antennas those are attributable to, see below)."
   ]
  },
  {
   "cell_type": "markdown",
   "metadata": {},
   "source": [
    "# Load Whole Day"
   ]
  },
  {
   "cell_type": "code",
   "execution_count": null,
   "metadata": {
    "ExecuteTime": {
     "end_time": "2020-10-25T00:55:43.276909Z",
     "start_time": "2020-10-25T00:54:39.437088Z"
    }
   },
   "outputs": [],
   "source": [
    "# load all redcal metadata into dictionaries \n",
    "meta_list = [df.replace('.uvh5', f'.redcal_meta.hdf5') for df in data_list]\n",
    "ee_iters_dict = {}\n",
    "nn_iters_dict = {}\n",
    "dlys_dict = {}\n",
    "flips_dict = {}\n",
    "times_dict = {}\n",
    "lsts_dict = {}\n",
    "histories_dict = {}\n",
    "ants = set([])\n",
    "for mf in meta_list:\n",
    "    (fc_meta, omni_meta, freqs, times_dict[mf], lsts_dict[mf], \n",
    "     antpos, histories_dict[mf]) = io.read_redcal_meta(mf)\n",
    "    ee_iters_dict[mf] = omni_meta['iter'][\"['ee']\"]\n",
    "    nn_iters_dict[mf] = omni_meta['iter'][\"['nn']\"]\n",
    "    flips_dict[mf] = fc_meta['polarity_flips']\n",
    "    dlys_dict[mf] = fc_meta['dlys']\n",
    "    ants |= set(fc_meta['dlys'].keys())\n",
    "    \n",
    "ants = sorted(ants)\n",
    "times = np.hstack(list(times_dict.values()))\n",
    "lsts = np.hstack(list(lsts_dict.values()))"
   ]
  },
  {
   "cell_type": "code",
   "execution_count": null,
   "metadata": {
    "ExecuteTime": {
     "end_time": "2020-10-25T01:03:50.919333Z",
     "start_time": "2020-10-25T00:55:43.280687Z"
    }
   },
   "outputs": [],
   "source": [
    "# Load chisq and flagging info from omnical gains\n",
    "cal_list = [df.replace('.uvh5', f'.omni.calfits') for df in data_list]\n",
    "ant_flags_dict = {}\n",
    "chisq_ee_dict = {}\n",
    "chisq_nn_dict = {}\n",
    "cspa_med_dict = {}\n",
    "\n",
    "for cal in cal_list:\n",
    "    hc = io.HERACal(cal)\n",
    "    _, flags, cspa, chisq = hc.read()\n",
    "    \n",
    "    ant_flags_dict[cal] = {ant: np.all(flags[ant]) for ant in flags}\n",
    "    chisq_ee_dict[cal] = chisq['Jee']\n",
    "    chisq_nn_dict[cal] = chisq['Jnn']\n",
    "    cspa_med_dict[cal] = {ant: np.nanmedian(cspa[ant], axis=1) for ant in cspa}\n",
    "\n",
    "all_flagged_dict = {ant: np.all([af[ant] for af in ant_flags_dict.values()]) for ant in ants}\n",
    "cspa = {ant: np.hstack([np.squeeze(cspa_med_dict[cal][ant]) / \\\n",
    "                        ~ant_flags_dict[cal][ant] for cal in cal_list]) for ant in ants}"
   ]
  },
  {
   "cell_type": "code",
   "execution_count": null,
   "metadata": {
    "ExecuteTime": {
     "end_time": "2020-10-25T01:09:12.789081Z",
     "start_time": "2020-10-25T01:03:50.921255Z"
    }
   },
   "outputs": [],
   "source": [
    "# save middle-numbered ants with a minimal number of flags\n",
    "ants_to_save = {}\n",
    "for pol in ['Jee', 'Jnn']:\n",
    "    min_flags = np.min([np.sum(~np.isfinite(cspa[ant])) \n",
    "                        for ant in cspa if ant[1] == pol])\n",
    "    ant_candidates = sorted([ant for ant in cspa if ant[1] == pol and \n",
    "                             np.sum(~np.isfinite(cspa[ant])) == min_flags])\n",
    "    Nac = len(ant_candidates)\n",
    "    ants_to_save[pol] = ant_candidates[(Nac // 2 - 1):(Nac // 2 + 1)]\n",
    "\n",
    "# Reload omnical gains\n",
    "gain_dict = {}\n",
    "flag_dict = {}\n",
    "for cal in cal_list:\n",
    "    hc = io.HERACal(cal)\n",
    "    gains, flags, _, _ = hc.read()\n",
    "    gain_dict[cal] = {ant: gains[ant] for pol in ants_to_save for ant in ants_to_save[pol]}\n",
    "    flag_dict[cal] = {ant: flags[ant] for pol in ants_to_save for ant in ants_to_save[pol]}        \n",
    "\n",
    "gains = {ant: np.vstack([gain_dict[cal][ant] for cal in gain_dict]) \n",
    "         for pol in ants_to_save for ant in ants_to_save[pol]}\n",
    "flags = {ant: np.vstack([flag_dict[cal][ant] for cal in flag_dict]) \n",
    "         for pol in ants_to_save for ant in ants_to_save[pol]}    \n",
    "flag_mask = np.all([f for f in flags.values()], axis=0)"
   ]
  },
  {
   "cell_type": "markdown",
   "metadata": {},
   "source": [
    "# Inspect Whole Day"
   ]
  },
  {
   "cell_type": "code",
   "execution_count": null,
   "metadata": {
    "ExecuteTime": {
     "end_time": "2020-10-25T03:23:21.845380Z",
     "start_time": "2020-10-25T03:23:20.055633Z"
    },
    "scrolled": false
   },
   "outputs": [],
   "source": [
    "# Plot delays\n",
    "dlys = {ant: np.hstack([dlys_dict[mf][ant] for mf in dlys_dict]) for ant in ants}\n",
    "dly_meds = {ant: np.nanmedian(dlys[ant]) for ant in dlys}\n",
    "plt.figure(figsize=(16,10))\n",
    "for ant in dlys:\n",
    "    plt.plot(times, (dlys[ant])*1e9)\n",
    "    if np.isfinite(dly_meds[ant]):\n",
    "        plt.text(np.min(times) - 20*np.median(np.diff(times)), \n",
    "                 1e9*dly_meds[ant], '{}{}'.format(ant[0], ant[1][-1]), \n",
    "                 va='center', ha='right', fontsize=8)    \n",
    "plt.gca().set_xticklabels(np.around(lsts[[min(max(np.searchsorted(times, t), 0), len(times) - 1) \n",
    "                                         for t in plt.gca().get_xticks()]] * 12 / np.pi, 2))\n",
    "plt.xlabel('LST (Hours)')\n",
    "plt.ylabel('Delay (ns)')\n",
    "plt.title('Firstcal Delays');"
   ]
  },
  {
   "cell_type": "markdown",
   "metadata": {},
   "source": [
    "### Figure 3: Firstcal Delays\n",
    "Shows solved firstcal delays. These will have an arbitrary tip/tilt and offset.\n",
    "\n",
    "\n",
    "#### OBSERVER CHECKLIST:\n",
    "* Look for outliers. All antennas should be within a few hundred ns. "
   ]
  },
  {
   "cell_type": "code",
   "execution_count": null,
   "metadata": {
    "ExecuteTime": {
     "end_time": "2020-10-25T03:22:37.769169Z",
     "start_time": "2020-10-25T03:22:36.075120Z"
    },
    "scrolled": false
   },
   "outputs": [],
   "source": [
    "# Plot offset delays\n",
    "plt.figure(figsize=(16, len(ants)/7.4))\n",
    "unflagged_dlys = {ant: dlys[ant] for ant in dlys if not all_flagged_dict[ant]}\n",
    "for n, ant in enumerate(unflagged_dlys):\n",
    "    plt.plot(times, (dlys[ant]-dly_meds[ant])*1e9 + n, label=ant)\n",
    "    plt.text(np.min(times) - 20*np.median(np.diff(times)), \n",
    "             n, '{}{}'.format(ant[0], ant[1][-1]), \n",
    "             va='center', ha='right', fontsize=8)\n",
    "plt.gca().set_xticklabels(np.around(lsts[[min(max(np.searchsorted(times, t), 0), len(times) - 1) \n",
    "                                         for t in plt.gca().get_xticks()]] * 12 / np.pi, 2))\n",
    "plt.xlabel('LST (Hours)')\n",
    "plt.ylabel('Delay with Arbitrary Offset (ns)')\n",
    "plt.title('Firstcal Delays With Arbitrary Offset');\n",
    "plt.ylim([-10, len(unflagged_dlys) + 10])"
   ]
  },
  {
   "cell_type": "markdown",
   "metadata": {},
   "source": [
    "### Figure 4: Offset Firstcal Delays\n",
    "Same as Figure 4, but with arbitrary offsets for each antenna.\n",
    "\n",
    "\n",
    "#### OBSERVER CHECKLIST:\n",
    "* Look for antennas that exhibit wild swings (> 10 ns) in their delay over time."
   ]
  },
  {
   "cell_type": "code",
   "execution_count": null,
   "metadata": {
    "ExecuteTime": {
     "end_time": "2020-10-25T01:09:16.425157Z",
     "start_time": "2020-10-25T01:09:16.419362Z"
    },
    "scrolled": true
   },
   "outputs": [],
   "source": [
    "# Figure out oc_maxiter\n",
    "if np.all(['oc_maxiter' in history for history in histories_dict.values()]):\n",
    "    history = list(histories_dict.values())[0]\n",
    "    oc_maxiter = int(history.split('--oc_maxiter')[1].split('--')[0])\n",
    "else:\n",
    "    oc_maxiter = inspect.signature(redcal.redcal_run).parameters['oc_maxiter'].default"
   ]
  },
  {
   "cell_type": "code",
   "execution_count": null,
   "metadata": {
    "ExecuteTime": {
     "end_time": "2020-10-25T03:19:43.929621Z",
     "start_time": "2020-10-25T03:19:41.452588Z"
    }
   },
   "outputs": [],
   "source": [
    "# Recast from dictionaries to one big array\n",
    "ee_iters = np.vstack(np.array(list(ee_iters_dict.values())))\n",
    "nn_iters = np.vstack(np.array(list(nn_iters_dict.values())))\n",
    "plt.figure(figsize=(20,12))\n",
    "\n",
    "my_cmap = deepcopy(matplotlib.cm.get_cmap('viridis'))\n",
    "my_cmap.set_under('w')\n",
    "my_cmap.set_over('r')\n",
    "\n",
    "for sp, iters, t in zip([121, 122], [ee_iters, nn_iters], \n",
    "                        ['ee-polarized', 'nn-polarized']):\n",
    "    plt.subplot(sp)\n",
    "    plt.imshow(iters, aspect='auto', cmap=my_cmap, vmin=1, vmax=oc_maxiter-1, interpolation='nearest',\n",
    "               extent=[freqs[0]/1e6, freqs[-1]/1e6, times[-1], times[0]])\n",
    "    plt.title('Number of Omnical Iterations: ' + t)\n",
    "    plt.xlabel('Frequency (MHz)')\n",
    "    plt.ylabel('LST (Hours)')\n",
    "    plt.gca().set_yticklabels(np.around(lsts[[min(max(np.searchsorted(times, t), 0), len(times) - 1) \n",
    "                                              for t in plt.gca().get_yticks()]] * 12 / np.pi, 2))\n",
    "    plt.colorbar()"
   ]
  },
  {
   "cell_type": "markdown",
   "metadata": {},
   "source": [
    "### Figure 5: Number of omnical iterations per polarization\n",
    "Red indicates that omnical reached the maximum number of integrations. White indicates that omnical didn't run, likely because the data were flagged.\n",
    "\n",
    "\n",
    "#### OBSERVER CHECKLIST:\n",
    "* Check that few-to-no data were flagged (white) before omnical and check that this matches\n",
    "* Check that few-to-no data hit the maximum number of iterations for omnical (red)"
   ]
  },
  {
   "cell_type": "code",
   "execution_count": null,
   "metadata": {
    "ExecuteTime": {
     "end_time": "2020-10-25T01:09:21.548814Z",
     "start_time": "2020-10-25T01:09:18.958992Z"
    },
    "code_folding": []
   },
   "outputs": [],
   "source": [
    "# Make dictionary mapping antenna to the whole night of antenna flips\n",
    "flips = {ant: np.hstack([flips_dict[mf][ant] for mf in flips_dict]) for ant in ants}\n",
    "\n",
    "plt.figure(figsize=(16,8))\n",
    "my_cmap = matplotlib.cm.get_cmap('cool')\n",
    "for sp, jpol, t in zip([121, 122], ['Jee', 'Jnn'], ['ee-polarized ', 'nn-polarized']):\n",
    "    plt.subplot(sp)\n",
    "    plt.scatter(np.array(list(hd.antpos.values()))[:,0], \n",
    "                np.array(list(hd.antpos.values()))[:,1],\n",
    "                c='w', s=0)\n",
    "    for ant,pos in hd.antpos.items():\n",
    "        flip_frac = np.nanmean(flips[(ant, jpol)])\n",
    "        if np.isfinite(flip_frac):\n",
    "            color=my_cmap(flip_frac)\n",
    "        else:\n",
    "            color='w'\n",
    "        plt.gca().add_artist(plt.Circle(tuple(pos[0:2]), radius=7, \n",
    "                                        fill=(~bad), color=color, ec='k'))\n",
    "        plt.text(pos[0], pos[1],\n",
    "                 '{}:\\n{}%'.format(ant, np.round(100*flip_frac,0)), \n",
    "                 va='center', ha='center', color='k')\n",
    "    plt.xlabel(\"Antenna East-West Position (meters)\")\n",
    "    plt.ylabel(\"Antenna North-South Position (meters)\")\n",
    "    \n",
    "    # count the number of times a self-consistent polarity flip solution was found\n",
    "    all_flips_this_pol = [flips[ant] for ant in flips if ant[1] == jpol]\n",
    "    success = np.round(100*np.mean(np.any(np.isfinite(all_flips_this_pol), axis=0)), 2)\n",
    "    plt.title(t + ' Polarity Flips -- Solution Found {}% of the Time'.format(success))\n",
    "    plt.axis('equal')\n",
    "    plt.tight_layout()"
   ]
  },
  {
   "cell_type": "markdown",
   "metadata": {},
   "source": [
    "### Figure 6: Detection of polarity-flipped antennas\n",
    "Blue indicates nominal operation, pink indicates polarity flips. \n",
    "\n",
    "\n",
    "#### OBSERVER CHECKLIST:\n",
    "* Check that all antennas are either nearly 100% flipped, nearly 0% flipped, or flagged.\n",
    "* Check that a solution for polarity flips was found a reasonable percentage of the time (ideally more than a few %)"
   ]
  },
  {
   "cell_type": "code",
   "execution_count": null,
   "metadata": {
    "ExecuteTime": {
     "end_time": "2020-10-25T03:20:15.962664Z",
     "start_time": "2020-10-25T03:20:13.262239Z"
    }
   },
   "outputs": [],
   "source": [
    "# Grid and plot overall chi^2 for each polarization\n",
    "ee_chisq = np.vstack(np.array(list(chisq_ee_dict.values())))\n",
    "nn_chisq = np.vstack(np.array(list(chisq_nn_dict.values())))\n",
    "plt.figure(figsize=(20,12))\n",
    "\n",
    "for sp, cs, t in zip([121, 122], [ee_chisq, nn_chisq], ['ee-polarized', 'nn-polarized']):\n",
    "    plt.subplot(sp)\n",
    "    plt.imshow(cs / ~flag_mask, aspect='auto', vmin=0, cmap='inferno', vmax=3, interpolation='nearest',\n",
    "               extent=[freqs[0]/1e6, freqs[-1]/1e6, times[-1], times[0]])\n",
    "    plt.title('Overall $\\chi^2$ / DoF: ' + t)\n",
    "    plt.xlabel('Frequency (MHz)')\n",
    "    plt.ylabel('LST (Hours)') \n",
    "    plt.gca().set_yticklabels(np.around(lsts[[min(max(np.searchsorted(times, t), 0), len(times) - 1) \n",
    "                                              for t in plt.gca().get_yticks()]] * 12 / np.pi, 2))    \n",
    "    plt.colorbar()\n",
    "    "
   ]
  },
  {
   "cell_type": "markdown",
   "metadata": {
    "ExecuteTime": {
     "end_time": "2020-03-05T01:22:42.634940Z",
     "start_time": "2020-03-05T01:22:42.627959Z"
    }
   },
   "source": [
    "### Figure 7 Overall $\\chi^2$ / DoF\n",
    "\n",
    "\n",
    "#### OBSERVER CHECKLIST:\n",
    "* Looks for regions of large non-redundancy not directly attributable to RFI."
   ]
  },
  {
   "cell_type": "code",
   "execution_count": null,
   "metadata": {
    "ExecuteTime": {
     "end_time": "2020-10-25T03:21:18.690038Z",
     "start_time": "2020-10-25T03:21:17.022886Z"
    }
   },
   "outputs": [],
   "source": [
    "# plot all chi^2 per antenna, highlight antennas with >1.5 mean chisq per ant (median over frequency)\n",
    "plt.figure(figsize=(20,10))\n",
    "for sp, pol, t in zip([121, 122], ['Jee', 'Jnn'], ['ee-polarized', 'nn-polarized']):\n",
    "    plt.subplot(sp)\n",
    "    for ant in sorted([ant for ant in ants if ant[1] == pol],\n",
    "                      key=lambda ant: np.nanmean(cspa[ant]), reverse=True):\n",
    "        if not np.all([ant_flags_dict[cal][ant] for cal in cal_list]):\n",
    "            if np.nanmean(cspa[ant]) > 1.5:\n",
    "                plt.plot(times, cspa[ant], '.', label=ant)\n",
    "            else:\n",
    "                plt.plot(times, cspa[ant], '-', color='grey', lw=.25)\n",
    "    plt.ylabel('Normalized Median $\\chi^2$ per Antenna (unitless)')\n",
    "    plt.gca().set_xticklabels(np.around(lsts[[min(max(np.searchsorted(times, t), 0), len(times) - 1) \n",
    "                                             for t in plt.gca().get_xticks()]] * 12 / np.pi, 2))\n",
    "    plt.xlabel('LST (Hours)')\n",
    "    plt.title(t + ' Antennas')\n",
    "    plt.legend()"
   ]
  },
  {
   "cell_type": "markdown",
   "metadata": {
    "ExecuteTime": {
     "end_time": "2020-03-05T02:00:57.870280Z",
     "start_time": "2020-03-05T02:00:57.863637Z"
    }
   },
   "source": [
    "### Figure 8: Normalized $\\chi^2$ per antenna\n",
    "Antennas with chisq per ant (mean over time, median over freq) > 1.5 are colored. All other antennas are shown in grey.\n",
    "\n",
    "#### OBSERVER CHECKLIST:\n",
    "* Look for outliers in the chi^2 per antenna distribution"
   ]
  },
  {
   "cell_type": "code",
   "execution_count": null,
   "metadata": {
    "ExecuteTime": {
     "end_time": "2020-10-25T03:24:09.601610Z",
     "start_time": "2020-10-25T03:24:06.869124Z"
    }
   },
   "outputs": [],
   "source": [
    "# Plot example gain amplitudes\n",
    "plt.figure(figsize=(20,12))\n",
    "for sp, pol in zip([121, 122], ['Jee', 'Jnn']):\n",
    "    plt.subplot(sp)\n",
    "    ant = ants_to_save[pol][1]\n",
    "    plt.title(str(ant) + ' Gain Magnitude')\n",
    "    plt.imshow(np.abs(gains[ant]) / ~flag_mask, aspect='auto', cmap='inferno', interpolation='nearest',\n",
    "               extent=[freqs[0]/1e6, freqs[-1]/1e6, times[-1], times[0]])\n",
    "    plt.clim([0,2])\n",
    "    plt.gca().set_yticklabels(np.around(lsts[[min(max(np.searchsorted(times, t), 0), len(times) - 1) \n",
    "                                              for t in plt.gca().get_yticks()]] * 12 / np.pi, 2))    \n",
    "    plt.colorbar()\n",
    "    plt.xlabel('Frequency (MHz)')\n",
    "    plt.ylabel('LST (Hours)')        "
   ]
  },
  {
   "cell_type": "markdown",
   "metadata": {},
   "source": [
    "### Figure 9: Example Amplitudes\n",
    "\n",
    "\n",
    "#### OBSERVER CHECKLIST:\n",
    "* Looks for large discontinuities or fuzziness not attributable to RFI"
   ]
  },
  {
   "cell_type": "code",
   "execution_count": null,
   "metadata": {
    "ExecuteTime": {
     "end_time": "2020-10-25T03:25:09.652403Z",
     "start_time": "2020-10-25T03:25:06.244993Z"
    }
   },
   "outputs": [],
   "source": [
    "# Plot example gain relative phases\n",
    "plt.figure(figsize=(20,12))\n",
    "for sp, pol in zip([121, 122], ['Jee', 'Jnn']):\n",
    "    plt.subplot(sp)\n",
    "    ant0, ant1 = ants_to_save[pol]\n",
    "    plt.title('Angle of gains[{}] / gains[{}]'.format(ant0, ant1))\n",
    "    plt.imshow(np.angle(gains[ant0] / gains[ant1]) / ~flag_mask, aspect='auto', cmap='twilight', interpolation='nearest',\n",
    "               extent=[freqs[0]/1e6, freqs[-1]/1e6, times[-1], times[0]])\n",
    "    plt.gca().set_yticklabels(np.around(lsts[[min(max(np.searchsorted(times, t), 0), len(times) - 1) \n",
    "                                              for t in plt.gca().get_yticks()]] * 12 / np.pi, 2))        \n",
    "    plt.colorbar()\n",
    "    plt.xlabel('Frequency (MHz)')\n",
    "    plt.ylabel('LST (Hours)')        "
   ]
  },
  {
   "cell_type": "markdown",
   "metadata": {},
   "source": [
    "### Figure 10: Example Gain Phases\n",
    "Relative gain phases of two example antennas.\n",
    "\n",
    "#### OBSERVER CHECKLIST:\n",
    "* Check that these gains are relatively stable in time and that there aren't huge phase discontinuities."
   ]
  },
  {
   "cell_type": "markdown",
   "metadata": {},
   "source": [
    "# Metadata"
   ]
  },
  {
   "cell_type": "code",
   "execution_count": null,
   "metadata": {
    "ExecuteTime": {
     "end_time": "2020-09-07T19:56:19.140319Z",
     "start_time": "2020-09-07T19:56:18.984222Z"
    }
   },
   "outputs": [],
   "source": [
    "from hera_cal import __version__\n",
    "print(__version__)"
   ]
  }
 ],
 "metadata": {
  "kernelspec": {
   "display_name": "Python 3",
   "language": "python",
   "name": "python3"
  },
  "language_info": {
   "codemirror_mode": {
    "name": "ipython",
    "version": 3
   },
   "file_extension": ".py",
   "mimetype": "text/x-python",
   "name": "python",
   "nbconvert_exporter": "python",
   "pygments_lexer": "ipython3",
   "version": "3.8.6"
  },
  "toc": {
   "base_numbering": 1,
   "nav_menu": {},
   "number_sections": false,
   "sideBar": true,
   "skip_h1_title": false,
   "title_cell": "Table of Contents",
   "title_sidebar": "Contents",
   "toc_cell": false,
   "toc_position": {},
   "toc_section_display": true,
   "toc_window_display": false
  }
 },
 "nbformat": 4,
 "nbformat_minor": 2
}
