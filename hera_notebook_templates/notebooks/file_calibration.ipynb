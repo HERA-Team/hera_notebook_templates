{
 "cells": [
  {
   "cell_type": "markdown",
   "id": "504e14fa",
   "metadata": {},
   "source": [
    "# Single File Calibration\n",
    "\n",
    "**by Josh Dillon, Aaron Parsons, and Tyler Cox**, last updated October 3, 2022\n",
    "\n",
    "This notebook is designed to infer as much information about the array from a single file, including pushing the calibration and RFI mitigation as far as possible \n",
    "\n",
    "Here's a set of links to skip to particular figures and tables:\n",
    "# [• Figure 1: RFI Flagging](#Figure-1:-RFI-Flagging)\n",
    "# [• Figure 2: Plot of autocorrelations with classifications](#Figure-2:-Plot-of-autocorrelations-with-classifications)\n",
    "# [• Figure 3: Summary of antenna classifications prior to calibration](#Figure-3:-Summary-of-antenna-classifications-prior-to-calibration)\n",
    "# [• Figure 4: Redundant calibration of a single baseline group](#Figure-4:-Redundant-calibration-of-a-single-baseline-group)\n",
    "# [• Figure 5: chi^2 per antenna across the array](#Figure-5:-chi^2-per-antenna-across-the-array)\n",
    "# [• Figure 6: Summary of antenna classifications after redundant calibration](#Figure-6:-Summary-of-antenna-classifications-after-redundant-calibration)\n",
    "# [• Table 1: Complete summary of per antenna classifications](#Table-1:-Complete-summary-of-per-antenna-classifications)\n"
   ]
  },
  {
   "cell_type": "code",
   "execution_count": null,
   "id": "e92f02b8",
   "metadata": {},
   "outputs": [],
   "source": [
    "import time\n",
    "tstart = time.time()"
   ]
  },
  {
   "cell_type": "code",
   "execution_count": null,
   "id": "668f7418",
   "metadata": {},
   "outputs": [],
   "source": [
    "import os\n",
    "os.environ['HDF5_USE_FILE_LOCKING'] = 'FALSE'\n",
    "import h5py\n",
    "import hdf5plugin  # REQUIRED to have the compression plugins available\n",
    "import numpy as np\n",
    "from scipy import constants, interpolate\n",
    "import copy\n",
    "import matplotlib\n",
    "import matplotlib.pyplot as plt\n",
    "import pandas as pd\n",
    "pd.set_option('display.max_rows', 1000)\n",
    "from uvtools.plot import plot_antpos, plot_antclass\n",
    "from hera_qm import ant_metrics, ant_class, xrfi\n",
    "from hera_cal import io, utils, redcal, apply_cal, datacontainer, abscal\n",
    "from hera_notebook_templates.data import DATA_PATH as HNBT_DATA\n",
    "from IPython.display import display, HTML\n",
    "import linsolve\n",
    "display(HTML(\"<style>.container { width:100% !important; }</style>\"))\n",
    "_ = np.seterr(all='ignore')  # get rid of red warnings\n",
    "%config InlineBackend.figure_format = 'retina'"
   ]
  },
  {
   "cell_type": "code",
   "execution_count": null,
   "id": "ef7c7cbe",
   "metadata": {},
   "outputs": [],
   "source": [
    "# this enables better memory management on linux\n",
    "import ctypes\n",
    "def malloc_trim():\n",
    "    try:\n",
    "        ctypes.CDLL('libc.so.6').malloc_trim(0) \n",
    "    except OSError:\n",
    "        pass"
   ]
  },
  {
   "cell_type": "markdown",
   "id": "ab0f8167",
   "metadata": {},
   "source": [
    "## Parse inputs and outputs\n",
    "\n",
    "To use this notebook interactively, you will have to provide a sum filename path if none exists as an environment variable. All other parameters have reasonable default values.\n"
   ]
  },
  {
   "cell_type": "code",
   "execution_count": null,
   "id": "4b88cc02",
   "metadata": {},
   "outputs": [],
   "source": [
    "# figure out whether to save results\n",
    "SAVE_RESULTS = os.environ.get(\"SAVE_RESULTS\", \"TRUE\").upper() == \"TRUE\"\n",
    "\n",
    "# get infile names\n",
    "SUM_FILE = os.environ.get(\"SUM_FILE\", None)\n",
    "# SUM_FILE = '/mnt/sn1/zen.2459797.30001.sum.uvh5'  # If sum_file is not defined in the environment variables, define it here.\n",
    "DIFF_FILE = SUM_FILE.replace('sum', 'diff')\n",
    "\n",
    "# get outfilenames\n",
    "AM_FILE = (SUM_FILE.replace('.uvh5', '.ant_metrics.hdf5') if SAVE_RESULTS else None)\n",
    "ANTCLASS_FILE = (SUM_FILE.replace('.uvh5', '.ant_class.csv') if SAVE_RESULTS else None)\n",
    "OMNICAL_FILE = (SUM_FILE.replace('.uvh5', '.omni.calfits') if SAVE_RESULTS else None)\n",
    "OMNIVIS_FILE = (SUM_FILE.replace('.uvh5', '.omni_vis.uvh5') if SAVE_RESULTS else None)\n",
    "\n",
    "for fname in ['SUM_FILE', 'DIFF_FILE', 'AM_FILE', 'ANTCLASS_FILE', 'OMNICAL_FILE', 'OMNIVIS_FILE']:\n",
    "    print(f\"{fname} = '{eval(fname)}'\")"
   ]
  },
  {
   "cell_type": "markdown",
   "id": "8105807c",
   "metadata": {},
   "source": [
    "### Parse settings\n",
    "Load settings relating to the operation of the notebook, then print what was loaded (or default)."
   ]
  },
  {
   "cell_type": "code",
   "execution_count": null,
   "id": "8e65c0bf",
   "metadata": {},
   "outputs": [],
   "source": [
    "# parse plotting settings\n",
    "PLOT = os.environ.get(\"PLOT\", \"TRUE\").upper() == \"TRUE\"\n",
    "if PLOT:\n",
    "    %matplotlib inline\n",
    "\n",
    "# parse omnical settings\n",
    "OC_MAX_DIMS = int(os.environ.get(\"OC_MAX_DIMS\", 4))\n",
    "OC_MIN_DIM_SIZE = int(os.environ.get(\"OC_MIN_DIM_SIZE\", 8))\n",
    "OC_SKIP_OUTRIGGERS = os.environ.get(\"OC_SKIP_OUTRIGGERS\", \"TRUE\").upper() == \"TRUE\"\n",
    "OC_MAXITER = int(os.environ.get(\"OC_MAXITER\", 50))\n",
    "OC_MAX_RERUN = int(os.environ.get(\"OC_MAX_RERUN\", 4))\n",
    "OC_USE_GPU = os.environ.get(\"SAVE_RESULTS\", \"FALSE\").upper() == \"TRUE\"\n",
    "\n",
    "# parse RFI settings\n",
    "RFI_DPSS_HALFWIDTH = float(os.environ.get(\"RFI_DPSS_HALFWIDTH\", 300e-9))\n",
    "RFI_NSIG = float(os.environ.get(\"RFI_NSIG\", 6))\n",
    "\n",
    "# print settings\n",
    "for setting in ['PLOT', 'SAVE_RESULTS', 'OC_MAX_DIMS', 'OC_MIN_DIM_SIZE', 'OC_SKIP_OUTRIGGERS', 'OC_MAXITER', 'OC_MAX_RERUN',\n",
    "                'OC_USE_GPU', 'RFI_DPSS_HALFWIDTH', 'RFI_NSIG']:\n",
    "    print(f'{setting} = {eval(setting)}')"
   ]
  },
  {
   "cell_type": "markdown",
   "id": "5596c041",
   "metadata": {},
   "source": [
    "### Parse bounds\n",
    "Load settings related to classifying antennas as good, suspect, or bad, then print what was loaded (or default)."
   ]
  },
  {
   "cell_type": "code",
   "execution_count": null,
   "id": "9ebbfd85",
   "metadata": {},
   "outputs": [],
   "source": [
    "# ant_metrics bounds for low correlation / dead antennas\n",
    "am_corr_bad = (0, float(os.environ.get(\"AM_CORR_BAD\", 0.3)))\n",
    "am_corr_suspect = (float(os.environ.get(\"AM_CORR_BAD\", 0.3)), float(os.environ.get(\"AM_CORR_SUSPECT\", 0.5)))\n",
    "\n",
    "# ant_metrics bounds for cross-polarized antennas\n",
    "am_xpol_bad = (-1, float(os.environ.get(\"AM_XPOL_BAD\", -0.1)))\n",
    "am_xpol_suspect = (float(os.environ.get(\"AM_XPOL_BAD\", -0.1)), float(os.environ.get(\"AM_XPOL_SUSPECT\", 0)))\n",
    "\n",
    "# bounds on zeros in spectra\n",
    "good_zeros_per_eo_spectrum = (0, int(os.environ.get(\"MAX_ZEROS_PER_EO_SPEC_GOOD\", 2)))\n",
    "suspect_zeros_per_eo_spectrum = (0, int(os.environ.get(\"MAX_ZEROS_PER_EO_SPEC_SUSPECT\", 8)))\n",
    "\n",
    "# bounds on autocorrelation power\n",
    "auto_power_good = (float(os.environ.get(\"AUTO_POWER_GOOD_LOW\", 5)), float(os.environ.get(\"AUTO_POWER_GOOD_HIGH\", 30)))\n",
    "auto_power_suspect = (float(os.environ.get(\"AUTO_POWER_SUSPECT_LOW\", 1)), float(os.environ.get(\"AUTO_POWER_SUSPECT_HIGH\", 50)))\n",
    "\n",
    "# bounds on autocorrelation slope\n",
    "auto_slope_good = (float(os.environ.get(\"AUTO_SLOPE_GOOD_LOW\", -0.4)), float(os.environ.get(\"AUTO_SLOPE_GOOD_HIGH\", 0.4)))\n",
    "auto_slope_suspect = (float(os.environ.get(\"AUTO_SLOPE_SUSPECT_LOW\", -0.6)), float(os.environ.get(\"AUTO_SLOPE_SUSPECT_HIGH\", 0.6)))\n",
    "\n",
    "# bounds on autocorrelation RFI\n",
    "auto_rfi_good = (0, float(os.environ.get(\"AUTO_RFI_GOOD\", 0.01)))\n",
    "auto_rfi_suspect = (0, float(os.environ.get(\"AUTO_RFI_SUSPECT\", 0.02)))\n",
    "\n",
    "# bounds on autocorrelation shape\n",
    "auto_shape_good = (0, float(os.environ.get(\"AUTO_SHAPE_GOOD\", 0.0625)))\n",
    "auto_shape_suspect = (0, float(os.environ.get(\"AUTO_SHAPE_SUSPECT\", 0.125)))\n",
    "\n",
    "# bounds on chi^2 per antenna in omnical\n",
    "oc_cspa_good = (0, float(os.environ.get(\"OC_CSPA_GOOD\", 3)))\n",
    "oc_cspa_suspect = (float(os.environ.get(\"OC_CSPA_GOOD\", 3)), float(os.environ.get(\"OC_CSPA_SUSPECT\", 6)))\n",
    "\n",
    "# print bounds\n",
    "for bound in ['am_corr_bad', 'am_corr_suspect', 'am_xpol_bad', 'am_xpol_suspect', \n",
    "              'good_zeros_per_eo_spectrum', 'suspect_zeros_per_eo_spectrum',\n",
    "              'auto_power_good', 'auto_power_suspect', 'auto_slope_good', 'auto_slope_suspect',\n",
    "              'auto_rfi_good', 'auto_rfi_suspect', 'auto_shape_good', 'auto_shape_suspect',\n",
    "              'oc_cspa_good', 'oc_cspa_suspect']:\n",
    "    print(f'{bound} = {eval(bound)}')"
   ]
  },
  {
   "cell_type": "markdown",
   "id": "105dc915",
   "metadata": {},
   "source": [
    "## Load sum and diff data"
   ]
  },
  {
   "cell_type": "code",
   "execution_count": null,
   "id": "e5d3725b",
   "metadata": {},
   "outputs": [],
   "source": [
    "hd = io.HERADataFastReader(SUM_FILE)\n",
    "data, _, _ = hd.read(read_flags=False, read_nsamples=False)\n",
    "hd_diff = io.HERADataFastReader(DIFF_FILE)\n",
    "diff_data, _, _ = hd_diff.read(read_flags=False, read_nsamples=False)"
   ]
  },
  {
   "cell_type": "code",
   "execution_count": null,
   "id": "61f26bc2",
   "metadata": {},
   "outputs": [],
   "source": [
    "ants = sorted(set([ant for bl in hd.bls for ant in utils.split_bl(bl)]))\n",
    "auto_bls = [bl for bl in data if (bl[0] == bl[1]) and (utils.split_pol(bl[2])[0] == utils.split_pol(bl[2])[1])]\n",
    "antpols = sorted(set([ant[1] for ant in ants]))"
   ]
  },
  {
   "cell_type": "code",
   "execution_count": null,
   "id": "e945a0ec",
   "metadata": {
    "scrolled": true
   },
   "outputs": [],
   "source": [
    "# print basic information about the file\n",
    "print(f'File: {SUM_FILE}')\n",
    "print(f'JDs: {hd.times} ({np.median(np.diff(hd.times)) * 24 * 3600:.5f} s integrations)')\n",
    "print(f'LSTS: {hd.lsts * 12 / np.pi } hours')\n",
    "print(f'Frequencies: {len(hd.freqs)} {np.median(np.diff(hd.freqs)) / 1e6:.5f} MHz channels from {hd.freqs[0] / 1e6:.5f} to {hd.freqs[-1] / 1e6:.5f} MHz')\n",
    "print(f'Antennas: {len(hd.data_ants)}')\n",
    "print(f'Polarizations: {hd.pols}')"
   ]
  },
  {
   "cell_type": "markdown",
   "id": "39affb12",
   "metadata": {},
   "source": [
    "## Classify good, suspect, and bad antpols"
   ]
  },
  {
   "cell_type": "markdown",
   "id": "f0450fb4",
   "metadata": {},
   "source": [
    "### Run `ant_metrics`\n",
    "\n",
    "This classifies antennas as cross-polarized, low-correlation, or dead. Such antennas are excluded from any calibration."
   ]
  },
  {
   "cell_type": "code",
   "execution_count": null,
   "id": "4bbb0ac4",
   "metadata": {},
   "outputs": [],
   "source": [
    "am = ant_metrics.AntennaMetrics(SUM_FILE, DIFF_FILE, sum_data=data, diff_data=diff_data)\n",
    "am.iterative_antenna_metrics_and_flagging(crossCut=am_xpol_bad[1], deadCut=am_corr_bad[1])\n",
    "am.all_metrics = {}  # this saves time and disk by getting rid of per-iteration information we never use\n",
    "if SAVE_RESULTS:\n",
    "    am.save_antenna_metrics(AM_FILE, overwrite=True)"
   ]
  },
  {
   "cell_type": "code",
   "execution_count": null,
   "id": "d8e52c30",
   "metadata": {
    "code_folding": []
   },
   "outputs": [],
   "source": [
    "# Turn ant metrics into classifications\n",
    "totally_dead_ants = [ant for ant, i in am.xants.items() if i == -1]\n",
    "am_totally_dead = ant_class.AntennaClassification(good=[ant for ant in ants if ant not in totally_dead_ants], bad=totally_dead_ants)\n",
    "am_corr = ant_class.antenna_bounds_checker(am.final_metrics['corr'], bad=[am_corr_bad], suspect=[am_corr_suspect], good=[(0, 1)])\n",
    "am_xpol = ant_class.antenna_bounds_checker(am.final_metrics['corrXPol'], bad=[am_xpol_bad], suspect=[am_xpol_suspect], good=[(-1, 1)])\n",
    "ant_metrics_class = am_totally_dead + am_corr + am_xpol"
   ]
  },
  {
   "cell_type": "markdown",
   "id": "dcdb63f8",
   "metadata": {},
   "source": [
    "### Classify antennas responsible for 0s in visibilities as bad: \n",
    "\n",
    "This classifier looks for X-engine failure or packet loss specific to an antenna which causes either the even visibilities (or the odd ones, or both) to be 0s. "
   ]
  },
  {
   "cell_type": "code",
   "execution_count": null,
   "id": "e64ed530",
   "metadata": {},
   "outputs": [],
   "source": [
    "zeros_class = ant_class.even_odd_zeros_checker(data, diff_data, good=good_zeros_per_eo_spectrum, suspect=suspect_zeros_per_eo_spectrum)"
   ]
  },
  {
   "cell_type": "code",
   "execution_count": null,
   "id": "7bc9c521",
   "metadata": {},
   "outputs": [],
   "source": [
    "# delete diffs to save memory\n",
    "del diff_data, hd_diff\n",
    "malloc_trim()"
   ]
  },
  {
   "cell_type": "markdown",
   "id": "102587ce",
   "metadata": {},
   "source": [
    "### Examine and classify autocorrelation power, slope, and RFI occpancy\n",
    "\n",
    "These classifiers look for antennas with too high or low power, to steep a slope, or too much excess RFI."
   ]
  },
  {
   "cell_type": "code",
   "execution_count": null,
   "id": "bca07198",
   "metadata": {},
   "outputs": [],
   "source": [
    "auto_power_class = ant_class.auto_power_checker(data, good=auto_power_good, suspect=auto_power_suspect)\n",
    "auto_slope_class = ant_class.auto_slope_checker(data, good=auto_slope_good, suspect=auto_slope_suspect, edge_cut=100, filt_size=17)\n",
    "cache = {}\n",
    "auto_rfi_class = ant_class.auto_rfi_checker(data, good=auto_rfi_good, suspect=auto_rfi_suspect, \n",
    "                                            filter_half_widths=[RFI_DPSS_HALFWIDTH], nsig=RFI_NSIG, cache=cache)\n",
    "auto_class = auto_power_class + auto_slope_class + auto_rfi_class"
   ]
  },
  {
   "cell_type": "code",
   "execution_count": null,
   "id": "b3e755bf",
   "metadata": {},
   "outputs": [],
   "source": [
    "del cache\n",
    "malloc_trim()"
   ]
  },
  {
   "cell_type": "markdown",
   "id": "9464e41e",
   "metadata": {},
   "source": [
    "### Find and flag RFI"
   ]
  },
  {
   "cell_type": "code",
   "execution_count": null,
   "id": "c321e1d7",
   "metadata": {},
   "outputs": [],
   "source": [
    "# Compute int_count for all unflagged autocorrelations averaged together\n",
    "int_time = 24 * 3600 * np.median(np.diff(data.times_by_bl[auto_bls[0][0:2]]))\n",
    "chan_res = np.median(np.diff(data.freqs))\n",
    "final_class = ant_metrics_class + zeros_class + auto_class\n",
    "int_count = int(int_time * chan_res) * (len(final_class.good_ants) + len(final_class.suspect_ants))\n",
    "avg_auto = {(-1, -1, 'ee'): np.mean([data[bl] for bl in auto_bls if final_class[utils.split_bl(bl)[0]] != 'bad'], axis=0)}\n",
    "# Flag RFI first with channel differences and then with DPSS\n",
    "antenna_flags, _ = xrfi.flag_autos(avg_auto, int_count=int_count, nsig=(RFI_NSIG * 5))\n",
    "_, rfi_flags = xrfi.flag_autos(avg_auto, int_count=int_count, flag_method='dpss_flagger',\n",
    "                               flags=antenna_flags, freqs=data.freqs, filter_centers=[0],\n",
    "                               filter_half_widths=[RFI_DPSS_HALFWIDTH], eigenval_cutoff=[1e-9], nsig=RFI_NSIG)\n",
    "malloc_trim()"
   ]
  },
  {
   "cell_type": "code",
   "execution_count": null,
   "id": "d8eae3de",
   "metadata": {},
   "outputs": [],
   "source": [
    "def rfi_plot():\n",
    "    plt.figure(figsize=(12, 5), dpi=100)\n",
    "    plt.semilogy(hd.freqs / 1e6, np.where(rfi_flags, np.nan, avg_auto[(-1, -1, 'ee')])[1], label = 'Average Good or Suspect Autocorrelation', zorder=100)\n",
    "    plt.semilogy(hd.freqs / 1e6, np.where(False, np.nan, avg_auto[(-1, -1, 'ee')])[1], 'r', lw=.5, label=f'{np.sum(rfi_flags[0])} Channels Flagged for RFI')\n",
    "    plt.legend()\n",
    "    plt.xlabel('Frequency (MHz)')\n",
    "    plt.ylabel('Uncalibrated Autocorrelation')\n",
    "    plt.tight_layout()"
   ]
  },
  {
   "cell_type": "markdown",
   "id": "30928dbc",
   "metadata": {},
   "source": [
    "# *Figure 1: RFI Flagging*\n",
    "\n",
    "This figure shows RFI identified using the average of all autocorrelations---excluding bad antennas---for the first integration in the file. "
   ]
  },
  {
   "cell_type": "code",
   "execution_count": null,
   "id": "de2fce7d",
   "metadata": {},
   "outputs": [],
   "source": [
    "rfi_plot()"
   ]
  },
  {
   "cell_type": "code",
   "execution_count": null,
   "id": "ae2e2234",
   "metadata": {
    "scrolled": false
   },
   "outputs": [],
   "source": [
    "def autocorr_plot(cls):    \n",
    "    fig, axes = plt.subplots(1, 2, figsize=(14, 5), dpi=100, sharey=True, gridspec_kw={'wspace': 0})\n",
    "    labels = []\n",
    "    colors = ['darkgreen', 'goldenrod', 'maroon']\n",
    "    for ax, pol in zip(axes, antpols):\n",
    "        for ant in cls.ants:\n",
    "            if ant[1] == pol:\n",
    "                color = colors[cls.quality_classes.index(cls[ant])]\n",
    "                ax.semilogy(np.mean(data[utils.join_bl(ant, ant)], axis=0), color=color, lw=.5)\n",
    "        ax.set_xlabel('Channel', fontsize=12)\n",
    "        ax.set_title(f'{utils.join_pol(pol, pol)}-Polarized Autos')\n",
    "\n",
    "    axes[0].set_ylabel('Raw Autocorrelation', fontsize=12)\n",
    "    axes[1].legend([matplotlib.lines.Line2D([0], [0], color=color) for color in colors], \n",
    "                   [cls.capitalize() for cls in auto_class.quality_classes], ncol=1, fontsize=12, loc='upper right', framealpha=1)\n",
    "    plt.tight_layout()"
   ]
  },
  {
   "cell_type": "markdown",
   "id": "32f9153c",
   "metadata": {},
   "source": [
    "### Classify antennas based on shapes, excluding RFI-contamined channels"
   ]
  },
  {
   "cell_type": "code",
   "execution_count": null,
   "id": "e005cb17",
   "metadata": {
    "code_folding": []
   },
   "outputs": [],
   "source": [
    "auto_shape_class = ant_class.auto_shape_checker(data, good=auto_shape_good, suspect=auto_shape_suspect,\n",
    "                                                flag_spectrum=np.sum(rfi_flags, axis=0).astype(bool), antenna_class=final_class)\n",
    "auto_class += auto_shape_class"
   ]
  },
  {
   "cell_type": "markdown",
   "id": "d99ad916",
   "metadata": {},
   "source": [
    "# *Figure 2: Plot of autocorrelations with classifications*\n",
    "This figure shows a plot of all autocorrelations in the array, split by polarization. \n",
    "Antennas are classified based on their autocorrelations into good, suspect, and bad, by examining power, slope, and RFI-occupancy. "
   ]
  },
  {
   "cell_type": "code",
   "execution_count": null,
   "id": "b8f73053",
   "metadata": {},
   "outputs": [],
   "source": [
    "if PLOT: autocorr_plot(auto_class)"
   ]
  },
  {
   "cell_type": "markdown",
   "id": "b8d42f45",
   "metadata": {},
   "source": [
    "### Summarize antenna classification prior to redundant-baseline calibration"
   ]
  },
  {
   "cell_type": "code",
   "execution_count": null,
   "id": "17b2b2bd",
   "metadata": {},
   "outputs": [],
   "source": [
    "final_class = ant_metrics_class + zeros_class + auto_class"
   ]
  },
  {
   "cell_type": "code",
   "execution_count": null,
   "id": "afd5cdcc",
   "metadata": {
    "code_folding": []
   },
   "outputs": [],
   "source": [
    "def array_class_plot(cls):\n",
    "    fig, axes = plt.subplots(1, 2, figsize=(14, 6), dpi=100, gridspec_kw={'width_ratios': [2, 1]})\n",
    "    plot_antclass(hd.antpos, cls, ax=axes[0], ants=[ant for ant in hd.data_ants if ant < 320], legend=False, title='HERA Core')\n",
    "    plot_antclass(hd.antpos, cls, ax=axes[1], ants=[ant for ant in hd.data_ants if ant >= 320], radius=50, title='Outriggers')"
   ]
  },
  {
   "cell_type": "markdown",
   "id": "67427bcf",
   "metadata": {},
   "source": [
    "# *Figure 3: Summary of antenna classifications prior to calibration*\n",
    "This figure shows the location and classification of all antennas prior to calibration. \n",
    "Antennas are split along the diagonal, with ee-polarized antpols represented by the southeast half of each antenna and nn-polarized antpols represented by the northwest half.\n",
    "Outriggers are split from the core and shown at exaggerated size in the right-hand panel. This classification includes `ant_metrics`, a count of the zeros in the even or odd visibilities, and autocorrelation power, slope, and RFI occupancy.\n",
    "An antenna classified as bad in *any* classification will be considered bad. \n",
    "An antenna marked as suspect *any* in any classification will be considered suspect unless it is also classified as bad elsewhere."
   ]
  },
  {
   "cell_type": "code",
   "execution_count": null,
   "id": "19b7e8fa",
   "metadata": {},
   "outputs": [],
   "source": [
    "if PLOT: array_class_plot(final_class)"
   ]
  },
  {
   "cell_type": "markdown",
   "id": "1e4fdac2",
   "metadata": {},
   "source": [
    "## Perform redundant-baseline calibration"
   ]
  },
  {
   "cell_type": "code",
   "execution_count": null,
   "id": "10581f05",
   "metadata": {},
   "outputs": [],
   "source": [
    "def classify_off_grid(reds, all_ants):\n",
    "    '''Returns AntennaClassification of all_ants where good ants are in reds while bad ants are not.'''\n",
    "    ants_in_reds = set([ant for red in reds for bl in red for ant in utils.split_bl(bl)])\n",
    "    on_grid = [ant for ant in all_ants if ant in ants_in_reds]\n",
    "    off_grid = [ant for ant in all_ants if ant not in ants_in_reds]\n",
    "    return ant_class.AntennaClassification(good=on_grid, bad=off_grid)"
   ]
  },
  {
   "cell_type": "markdown",
   "id": "6c81bb7a",
   "metadata": {},
   "source": [
    "### Perform iterative `redcal`"
   ]
  },
  {
   "cell_type": "code",
   "execution_count": null,
   "id": "58d390b4",
   "metadata": {},
   "outputs": [],
   "source": [
    "redcal_start = time.time()\n",
    "rc_settings = {'max_dims': OC_MAX_DIMS, 'oc_conv_crit': 1e-10, 'gain': 0.4, \n",
    "               'oc_maxiter': OC_MAXITER, 'check_after': OC_MAXITER, 'use_gpu': OC_USE_GPU}\n",
    "\n",
    "# figure out and filter reds and classify antennas based on whether or not they are on the main grid\n",
    "reds = redcal.get_reds(hd.data_antpos, pols=['ee', 'nn'], pol_mode='2pol')\n",
    "reds = redcal.filter_reds(reds, ex_ants=final_class.bad_ants, max_dims=OC_MAX_DIMS, min_dim_size=OC_MIN_DIM_SIZE)\n",
    "if OC_SKIP_OUTRIGGERS:\n",
    "    reds = redcal.filter_reds(reds, ex_ants=[ant for ant in ants if ant[0] >= 320])\n",
    "redcal_class = classify_off_grid(reds, ants)\n",
    "\n",
    "# perform first stage of redundant calibration, \n",
    "cal = redcal.redundantly_calibrate(data, reds, **rc_settings)\n",
    "malloc_trim()\n",
    "max_dly = np.max(np.abs(list(cal['fc_meta']['dlys'].values())))\n",
    "med_cspa = {ant: np.median(cal['chisq_per_ant'][ant]) for ant in cal['chisq_per_ant']}\n",
    "cspa_class = ant_class.antenna_bounds_checker(med_cspa, good=np.array(oc_cspa_good)*5, suspect=np.array(oc_cspa_suspect)*5, bad=(0, np.inf))\n",
    "redcal_class += cspa_class\n",
    "print(f'Removing {cspa_class.bad_ants} for high chi^2.')\n",
    "\n",
    "# iteratively rerun redundant calibration\n",
    "for i in range(OC_MAX_RERUN):\n",
    "    # build RedDataContainer of old visibility solution\n",
    "    prior_vis = datacontainer.RedDataContainer(cal['v_omnical'], reds)\n",
    "    \n",
    "    # refilter reds and update classification to reflect new off-grid ants, if any\n",
    "    reds = redcal.filter_reds(reds, ex_ants=(final_class + redcal_class).bad_ants, max_dims=OC_MAX_DIMS, min_dim_size=OC_MIN_DIM_SIZE)\n",
    "    reds = sorted(reds, key=len, reverse=True)\n",
    "    redcal_class += classify_off_grid(reds, ants)\n",
    "    ants_in_reds = set([ant for red in reds for bl in red for ant in utils.split_bl(bl)])    \n",
    "   \n",
    "    # re-run redundant calibration using previous solution, updating bad and suspicious antennas\n",
    "    prior_sol = redcal.RedSol(reds, gains={ant: cal['g_omnical'][ant] for ant in ants_in_reds}, \n",
    "                              vis={red[0]: prior_vis[red[0]] for red in reds})    \n",
    "    cal = redcal.redundantly_calibrate(data, reds, prior_firstcal=prior_sol.gains, prior_sol=prior_sol, **rc_settings)\n",
    "    malloc_trim()\n",
    "    med_cspa = {ant: np.median(cal['chisq_per_ant'][ant]) for ant in cal['chisq_per_ant']}\n",
    "    cspa_class = ant_class.antenna_bounds_checker(med_cspa, good=oc_cspa_good, suspect=oc_cspa_suspect, bad=(0, np.inf))\n",
    "    redcal_class += cspa_class\n",
    "    print(f'Removing {cspa_class.bad_ants} for high chi^2.')\n",
    "    if len(cspa_class.bad_ants) == 0:\n",
    "        break  # no new antennas to flag\n",
    "final_class += redcal_class\n",
    "print(f'Finished redcal in {(time.time() - redcal_start) / 60:.2f} minutes.')"
   ]
  },
  {
   "cell_type": "markdown",
   "id": "ed9a96d1",
   "metadata": {},
   "source": [
    "### Fix the `firstcal` delay slope degeneracy using RFI transmitters"
   ]
  },
  {
   "cell_type": "code",
   "execution_count": null,
   "id": "5cb2ed80",
   "metadata": {},
   "outputs": [],
   "source": [
    "# find channels clearly contaminated by RFI\n",
    "not_bad_ants = [ant for ant in final_class.ants if final_class[ant] != 'bad']\n",
    "chan_flags = np.mean([xrfi.detrend_medfilt(data[utils.join_bl(ant, ant)], Kf=8, Kt=2) for ant in not_bad_ants], axis=(0, 1)) > 5\n",
    "\n",
    "# hardcoded RFI transmitters and their headings\n",
    "# channel: frequency (Hz), heading (rad), chi^2\n",
    "phs_sol = {359: ( 90744018.5546875, 0.7853981, 23.3),\n",
    "           360: ( 90866088.8671875, 0.7853981, 10.8),\n",
    "           385: ( 93917846.6796875, 0.7853981, 27.3),\n",
    "           386: ( 94039916.9921875, 0.7853981, 18.1),\n",
    "           400: ( 95748901.3671875, 6.0632738, 24.0),\n",
    "           441: (100753784.1796875, 0.7853981, 21.7),\n",
    "           442: (100875854.4921875, 0.7853981, 19.4),\n",
    "           455: (102462768.5546875, 6.0632738, 18.8),\n",
    "           456: (102584838.8671875, 6.0632738,  8.8),\n",
    "           471: (104415893.5546875, 0.7853981, 13.3),\n",
    "           484: (106002807.6171875, 6.0632738, 21.2),\n",
    "           485: (106124877.9296875, 6.0632738,  4.0),\n",
    "          1181: (191085815.4296875, 0.7853981, 26.3),\n",
    "          1182: (191207885.7421875, 0.7853981, 27.0),\n",
    "          1183: (191329956.0546875, 0.7853981, 25.6),\n",
    "          1448: (223678588.8671875, 2.6075219, 25.7),\n",
    "          1449: (223800659.1796875, 2.6075219, 22.6),\n",
    "          1450: (223922729.4921875, 2.6075219, 11.6),\n",
    "          1451: (224044799.8046875, 2.6075219,  5.9),\n",
    "          1452: (224166870.1171875, 2.6075219, 22.6),\n",
    "          1510: (231246948.2421875, 0.1068141, 23.9)}\n",
    "rfi_chans = [chan for chan in phs_sol if chan_flags[chan]]\n",
    "print('Channels used for delay-slope calibration with RFI:', rfi_chans)\n",
    "rfi_angles = np.array([phs_sol[chan][1] for chan in rfi_chans])\n",
    "rfi_headings = np.array([np.cos(rfi_angles), np.sin(rfi_angles), np.zeros_like(rfi_angles)])\n",
    "rfi_chisqs = np.array([phs_sol[chan][2] for chan in rfi_chans])"
   ]
  },
  {
   "cell_type": "code",
   "execution_count": null,
   "id": "1475452b",
   "metadata": {},
   "outputs": [],
   "source": [
    "# resolve firstcal degeneracy with delay slopes set by RFI transmitters, update cal\n",
    "RFI_dly_slope_gains = abscal.RFI_delay_slope_cal(reds, hd.antpos, cal['v_omnical'], hd.freqs, rfi_chans, rfi_headings, rfi_wgts=rfi_chisqs**-.5,\n",
    "                                                 min_tau=-max_dly, max_tau=max_dly, delta_tau=0.1e-9, return_gains=True, gain_ants=cal['g_omnical'].keys())\n",
    "cal['g_omnical'] = {ant: g * RFI_dly_slope_gains[ant] for ant, g in cal['g_omnical'].items()}\n",
    "apply_cal.calibrate_in_place(cal['v_omnical'], RFI_dly_slope_gains)\n",
    "malloc_trim()"
   ]
  },
  {
   "cell_type": "markdown",
   "id": "bb42028e",
   "metadata": {},
   "source": [
    "### Perform approximate absolute amplitude calibration using a model of autocorrelations"
   ]
  },
  {
   "cell_type": "code",
   "execution_count": null,
   "id": "cd0b6a55",
   "metadata": {},
   "outputs": [],
   "source": [
    "# Load simulated and then downsampled model of autocorrelations that includes receiver noise, then interpolate to upsample\n",
    "hd_model = io.HERADataFastReader(f'{HNBT_DATA}/SSM_autocorrelations_downsampled.uvh5')\n",
    "model, _, _ = hd_model.read(read_flags=False, read_nsamples=False)\n",
    "per_pol_interpolated_model = {}\n",
    "for bl in model:\n",
    "    sorted_lsts, lst_indices = np.unique(model.lsts, return_index=True)\n",
    "    periodic_model = np.vstack([model[bl][lst_indices, :], model[bl][lst_indices[0], :]])\n",
    "    periodic_lsts = np.append(sorted_lsts, sorted_lsts[0] + 2 * np.pi)\n",
    "    lst_interpolated = interpolate.CubicSpline(periodic_lsts, periodic_model, axis=0, bc_type='periodic')(data.lsts)\n",
    "    per_pol_interpolated_model[bl[2]] = interpolate.CubicSpline(model.freqs, lst_interpolated, axis=1)(data.freqs)\n",
    "model = {bl: per_pol_interpolated_model[bl[2]] for bl in auto_bls if utils.split_bl(bl)[0] not in final_class.bad_ants}    "
   ]
  },
  {
   "cell_type": "code",
   "execution_count": null,
   "id": "ca51f425",
   "metadata": {},
   "outputs": [],
   "source": [
    "# Run abscal and update omnical gains with abscal gains\n",
    "redcaled_autos = datacontainer.DataContainer({bl: np.array(data[bl]) for bl in auto_bls if utils.split_bl(bl)[0] not in final_class.bad_ants})\n",
    "apply_cal.calibrate_in_place(redcaled_autos, cal['g_omnical'])\n",
    "g_abscal = abscal.abs_amp_lincal(model, redcaled_autos, verbose=False, return_gains=True, gain_ants=cal['g_omnical'])\n",
    "cal['g_omnical'] = {ant: g * g_abscal[ant] for ant, g in cal['g_omnical'].items()}\n",
    "apply_cal.calibrate_in_place(cal['v_omnical'], g_abscal)"
   ]
  },
  {
   "cell_type": "code",
   "execution_count": null,
   "id": "848a4aad",
   "metadata": {},
   "outputs": [],
   "source": [
    "del hd_model, model, redcaled_autos\n",
    "malloc_trim()"
   ]
  },
  {
   "cell_type": "code",
   "execution_count": null,
   "id": "3228070d",
   "metadata": {},
   "outputs": [],
   "source": [
    "def redundant_group_plot():\n",
    "    fig, axes = plt.subplots(2, 2, figsize=(14, 6), dpi=100, sharex='col', sharey='row', gridspec_kw={'hspace': 0, 'wspace': 0})\n",
    "    for i, pol in enumerate(['ee', 'nn']):\n",
    "        reds_here = redcal.get_reds(hd.data_antpos, pols=[pol], pol_mode='1pol')\n",
    "        red = sorted(redcal.filter_reds(reds_here, ex_ants=final_class.bad_ants), key=len, reverse=True)[0]\n",
    "        rc_data = {bl: np.array(data[bl]) for bl in red}\n",
    "        apply_cal.calibrate_in_place(rc_data, cal['g_omnical'])\n",
    "        for bl in red:\n",
    "            axes[0, i].plot(hd.freqs/1e6, np.angle(rc_data[bl][0]), alpha=.5, lw=.5)\n",
    "            axes[1, i].semilogy(hd.freqs/1e6, np.abs(rc_data[bl][0]), alpha=.5, lw=.5)\n",
    "        axes[0, i].plot(hd.freqs / 1e6, np.angle(cal['v_omnical'][red[0]][0]), lw=1, c='k')\n",
    "        axes[1, i].semilogy(hd.freqs / 1e6, np.abs(cal['v_omnical'][red[0]][0]), lw=1, c='k', label=f'Baseline Group:\\n{red[0]}')\n",
    "        axes[1, i].set_xlabel('Frequency (MHz)')\n",
    "        axes[1, i].legend(loc='upper right')\n",
    "    axes[0, 0].set_ylabel('Visibility Phase (radians)')\n",
    "    axes[1, 0].set_ylabel('Visibility Amplitude (Jy)')\n",
    "    plt.tight_layout()"
   ]
  },
  {
   "cell_type": "markdown",
   "id": "61aca081",
   "metadata": {},
   "source": [
    "# *Figure 4: Redundant calibration of a single baseline group*\n",
    "The results of a redundant-baseline calibration of a single integration and a single group, the one with the highest redundancy in each polarization after antenna classification and excision based on the above, plus the removal of antennas with high chi^2 per antenna. The black line is the redundant visibility solution. Each thin colored line is a different baseline group. Phases are shown in the top row, amplitudes in the bottom, ee-polarized visibilities in the left column, and nn-polarized visibilities in the right."
   ]
  },
  {
   "cell_type": "code",
   "execution_count": null,
   "id": "c3df7a51",
   "metadata": {},
   "outputs": [],
   "source": [
    "if PLOT: redundant_group_plot()"
   ]
  },
  {
   "cell_type": "markdown",
   "id": "21970839",
   "metadata": {},
   "source": [
    "### Attempt to calibrate some flagged antennas\n",
    "This attempts to calibrate bad antennas using information from good or suspect antennas without allowing bad antennas to affect their calibration. \n",
    "However antennas flagged for `ant_metrics` or lots of zeros in the even or odd visibilities are considered beyond saving. \n",
    "Likewise, some antennas would add extra degeneracies (controlled by `OC_MAX_DIMS`, `OC_MIN_DIM_SIZE`, and `OC_SKIP_OUTRIGGERS`) are excluded. "
   ]
  },
  {
   "cell_type": "code",
   "execution_count": null,
   "id": "1e6b342d",
   "metadata": {},
   "outputs": [],
   "source": [
    "expand_start = time.time()\n",
    "expanded_reds = redcal.get_reds(hd.data_antpos, pols=['ee', 'nn'], pol_mode='2pol')\n",
    "expanded_reds = redcal.filter_reds(expanded_reds, ex_ants=(ant_metrics_class + zeros_class).bad_ants, max_dims=OC_MAX_DIMS, min_dim_size=OC_MIN_DIM_SIZE)\n",
    "if OC_SKIP_OUTRIGGERS:\n",
    "    expanded_reds = redcal.filter_reds(expanded_reds, ex_ants=[ant for ant in ants if ant[0] >= 320])\n",
    "nsamples = datacontainer.DataContainer({bl: np.ones_like(data[bl], dtype=float) for bl in data})\n",
    "redcal.expand_omni_sol(cal, expanded_reds, data, nsamples)\n",
    "malloc_trim()\n",
    "print(f'Finished expanding omni_sol in {(time.time() - expand_start) / 60:.2f} minutes.')"
   ]
  },
  {
   "cell_type": "code",
   "execution_count": null,
   "id": "933cbdf4",
   "metadata": {},
   "outputs": [],
   "source": [
    "def array_chisq_plot():\n",
    "    fig, axes = plt.subplots(1, 2, figsize=(14, 5), dpi=100)\n",
    "    for ax, pol in zip(axes, ['ee', 'nn']):\n",
    "        ants_to_plot = set([ant for ant in cal['chisq_per_ant'] if utils.join_pol(ant[1], ant[1]) == pol])\n",
    "        cspas = [np.median(cal['chisq_per_ant'][ant]) for ant in ants_to_plot]\n",
    "        xpos = [hd.antpos[ant[0]][0] for ant in ants_to_plot]\n",
    "        ypos = [hd.antpos[ant[0]][1] for ant in ants_to_plot]\n",
    "        scatter = ax.scatter(xpos, ypos, s=300, c=cspas, norm=matplotlib.colors.LogNorm(vmin=1, vmax=oc_cspa_suspect[1]))\n",
    "        for ant in ants_to_plot:\n",
    "            ax.text(hd.antpos[ant[0]][0], hd.antpos[ant[0]][1], ant[0], va='center', ha='center', fontsize=9,\n",
    "                    c=('r' if ant in final_class.bad_ants else 'w'))\n",
    "        plt.colorbar(scatter, ax=ax, extend='both')\n",
    "        ax.axis('equal')\n",
    "        ax.set_xlabel('East-West Position (meters)')\n",
    "        ax.set_ylabel('North-South Position (meters)')\n",
    "        ax.set_title(f'{pol}-pol $\\\\chi^2$ / Antenna (Red is Flagged)')\n",
    "    plt.tight_layout()"
   ]
  },
  {
   "cell_type": "markdown",
   "id": "4deeb7fa",
   "metadata": {},
   "source": [
    "# *Figure 5: chi^2 per antenna across the array*\n",
    "\n",
    "This plot shows median (taken over time and frequency) of the normalized chi^2 per antenna. \n",
    "The expectation value for this quantity when the array is perfectly redundant is 1.0. \n",
    "Antennas that are classified as bad for any reason have their numbers shown in red. \n",
    "Some of those antennas were classified as bad during redundant calibration for high chi^2. \n",
    "Some of those antennas were originally excluded from redundant calibration because they were classified as bad earlier for some reason. \n",
    "See [here for more details.](#Attempt-to-calibrate-some-flagged-antennas)\n",
    "Note that the color scale saturates at below 1 and above 10. "
   ]
  },
  {
   "cell_type": "code",
   "execution_count": null,
   "id": "74083166",
   "metadata": {},
   "outputs": [],
   "source": [
    "if PLOT: array_chisq_plot()"
   ]
  },
  {
   "cell_type": "code",
   "execution_count": null,
   "id": "03ef4c24",
   "metadata": {},
   "outputs": [],
   "source": [
    "def array_class_after_redcal_plot():\n",
    "    fig, axes = plt.subplots(1, 2, figsize=(14, 6), dpi=100, gridspec_kw={'width_ratios': [2, 1]})\n",
    "    plot_antclass(hd.antpos, final_class, ax=axes[0], ants=[ant for ant in hd.data_ants if ant < 320], legend=False, title='HERA Core, Post-Redcal')\n",
    "    plot_antclass(hd.antpos, final_class, ax=axes[1], ants=[ant for ant in hd.data_ants if ant >= 320], radius=50, title='Outriggers')"
   ]
  },
  {
   "cell_type": "markdown",
   "id": "241c0a22",
   "metadata": {},
   "source": [
    "# *Figure 6: Summary of antenna classifications after redundant calibration*\n",
    "\n",
    "This figure is the same as [Figure 2](#Figure-2:-Summary-of-antenna-classifications-prior-to-calibration), except that it now includes additional suspect or bad antennas based on redundant calibration.\n",
    "This can include antennas with high chi^2, but it can also include antennas classified as \"bad\" because they would add extra degeneracies to calibration."
   ]
  },
  {
   "cell_type": "code",
   "execution_count": null,
   "id": "605d5142",
   "metadata": {},
   "outputs": [],
   "source": [
    "if PLOT: array_class_after_redcal_plot()"
   ]
  },
  {
   "cell_type": "code",
   "execution_count": null,
   "id": "592a378e",
   "metadata": {
    "scrolled": false
   },
   "outputs": [],
   "source": [
    "to_show = {'Antenna': [f'{ant[0]}{ant[1][-1]}' for ant in ants]}\n",
    "classes = {'Antenna': [final_class[ant] if ant in final_class else '-' for ant in ants]}\n",
    "to_show['Dead?'] = [{'good': 'No', 'bad': 'Yes'}[am_totally_dead[ant]] if (ant in am_totally_dead) else '' for ant in ants]\n",
    "classes['Dead?'] = [am_totally_dead[ant] if (ant in am_totally_dead) else '' for ant in ants]\n",
    "for title, ac in [('Low Correlation', am_corr),\n",
    "                  ('Cross-Polarized', am_xpol),\n",
    "                  ('Even/Odd Zeros', zeros_class),\n",
    "                  ('Autocorr Power', auto_power_class),\n",
    "                  ('Autocorr Slope', auto_slope_class),\n",
    "                  ('RFI in Autos', auto_rfi_class),\n",
    "                  ('Autocorr Shape', auto_shape_class)]:\n",
    "    to_show[title] = [f'{ac._data[ant]:.2G}' if (ant in ac._data) else '' for ant in ants]\n",
    "    classes[title] = [ac[ant] if ant in ac else '' for ant in ants]\n",
    "    \n",
    "to_show['Redcal chi^2'] = [f'{np.median(cal[\"chisq_per_ant\"][ant]):.3G}' if (ant in cal['chisq_per_ant']) else '-' for ant in ants]\n",
    "classes['Redcal chi^2'] = [redcal_class[ant] if ant in redcal_class else '' for ant in ants]\n",
    "\n",
    "df = pd.DataFrame(to_show)\n",
    "df_classes = pd.DataFrame(classes)\n",
    "colors = {'good': 'darkgreen', 'suspect': 'goldenrod', 'bad': 'maroon'}\n",
    "df_colors = df_classes.applymap(lambda x: f'background-color: {colors.get(x, None)}')\n",
    "\n",
    "table = df.style.hide_index() \\\n",
    "                .apply(lambda x: pd.DataFrame(df_colors.values, columns=x.columns), axis=None) \\\n",
    "                .set_properties(subset=['Antenna'], **{'font-weight': 'bold', 'border-right': \"3pt solid black\"}) \\\n",
    "                .set_properties(subset=df.columns[1:], **{'border-left': \"1pt solid black\"}) \\\n",
    "                .set_properties(**{'text-align': 'center', 'color': 'white'})"
   ]
  },
  {
   "cell_type": "markdown",
   "id": "2d812fe1",
   "metadata": {},
   "source": [
    "# *Table 1: Complete summary of per-antenna classifications*\n",
    "\n",
    "This table summarizes the results of the various classifications schemes detailed above. \n",
    "As before, <font color='#006400'>green is good</font>, <font color='#DAA520'>yellow is suspect</font>, and <font color='#800000'>red is bad</font>. The color for each antenna (first column) is the final summary of all other classifications.\n",
    "Antennas missing from redcal $\\chi^2$ were excluded redundant-baseline calibration, either because they were flagged by `ant_metrics` or the even/odd zeros check, or because they would add unwanted extra degeneracies."
   ]
  },
  {
   "cell_type": "code",
   "execution_count": null,
   "id": "aacbd4c3",
   "metadata": {
    "scrolled": false
   },
   "outputs": [],
   "source": [
    "HTML(table.render())"
   ]
  },
  {
   "cell_type": "code",
   "execution_count": null,
   "id": "dda087b8",
   "metadata": {},
   "outputs": [],
   "source": [
    "# Save antenna classification table as a csv\n",
    "if SAVE_RESULTS:\n",
    "    for ind, col in zip(np.arange(len(df.columns), 0, -1), df_classes.columns[::-1]):\n",
    "        df.insert(int(ind), col + ' Class', df_classes[col])\n",
    "    df.to_csv(ANTCLASS_FILE)    "
   ]
  },
  {
   "cell_type": "code",
   "execution_count": null,
   "id": "c3acdc23",
   "metadata": {},
   "outputs": [],
   "source": [
    "print('Final Ant-Pol Classification:\\n\\n', final_class)"
   ]
  },
  {
   "cell_type": "markdown",
   "id": "46cbe21a",
   "metadata": {},
   "source": [
    "## Save calibration solutions"
   ]
  },
  {
   "cell_type": "code",
   "execution_count": null,
   "id": "09348a58",
   "metadata": {},
   "outputs": [],
   "source": [
    "# update flags in omnical gains and visibility solutions\n",
    "for ant in cal['gf_omnical']:\n",
    "    cal['gf_omnical'][ant] |= rfi_flags\n",
    "for bl in cal['vf_omnical']:\n",
    "    cal['vf_omnical'][bl] |= rfi_flags"
   ]
  },
  {
   "cell_type": "code",
   "execution_count": null,
   "id": "6600ee32",
   "metadata": {},
   "outputs": [],
   "source": [
    "if SAVE_RESULTS:\n",
    "    hd_writer = io.HERAData(SUM_FILE)\n",
    "    redcal._redcal_run_write_results(cal, hd_writer, None, OMNICAL_FILE, OMNIVIS_FILE, None, '', vispols=['ee', 'nn'],\n",
    "                                     clobber=True, verbose=True, add_to_history='Producted by file_inspect notebook.')\n",
    "    del hd_writer\n",
    "    malloc_trim()"
   ]
  },
  {
   "cell_type": "markdown",
   "id": "e45767b6",
   "metadata": {},
   "source": [
    "## TODO: Perform nucal"
   ]
  },
  {
   "cell_type": "markdown",
   "id": "f52a30f9",
   "metadata": {},
   "source": [
    "## Metadata"
   ]
  },
  {
   "cell_type": "code",
   "execution_count": null,
   "id": "78d18d26",
   "metadata": {
    "scrolled": true
   },
   "outputs": [],
   "source": [
    "from hera_cal import __version__\n",
    "print('hera_cal:', __version__)\n",
    "from hera_qm import __version__\n",
    "print('hera_qm:', __version__)"
   ]
  },
  {
   "cell_type": "code",
   "execution_count": null,
   "id": "23fd861c",
   "metadata": {},
   "outputs": [],
   "source": [
    "print(f'Finished execution in {(time.time() - tstart) / 60:.2f} minutes.')"
   ]
  }
 ],
 "metadata": {
  "kernelspec": {
   "display_name": "Python 3 (ipykernel)",
   "language": "python",
   "name": "python3"
  },
  "language_info": {
   "codemirror_mode": {
    "name": "ipython",
    "version": 3
   },
   "file_extension": ".py",
   "mimetype": "text/x-python",
   "name": "python",
   "nbconvert_exporter": "python",
   "pygments_lexer": "ipython3",
   "version": "3.10.5"
  },
  "toc": {
   "base_numbering": 1,
   "nav_menu": {},
   "number_sections": true,
   "sideBar": true,
   "skip_h1_title": true,
   "title_cell": "Table of Contents",
   "title_sidebar": "Contents",
   "toc_cell": false,
   "toc_position": {
    "height": "calc(100% - 180px)",
    "left": "10px",
    "top": "150px",
    "width": "315.391px"
   },
   "toc_section_display": true,
   "toc_window_display": false
  },
  "widgets": {
   "application/vnd.jupyter.widget-state+json": {
    "state": {},
    "version_major": 2,
    "version_minor": 0
   }
  }
 },
 "nbformat": 4,
 "nbformat_minor": 5
}
