{
 "cells": [
  {
   "cell_type": "code",
   "execution_count": null,
   "id": "a0bf8eb5",
   "metadata": {
    "ExecuteTime": {
     "end_time": "2022-06-22T22:26:57.501085Z",
     "start_time": "2022-06-22T22:26:57.480397Z"
    }
   },
   "outputs": [],
   "source": [
    "import numpy as np\n",
    "import matplotlib.pyplot as plt\n",
    "from hera_cal import io\n",
    "import glob\n",
    "from astropy.time import Time\n",
    "from IPython.display import display, HTML\n",
    "\n",
    "%matplotlib inline\n",
    "%config InlineBackend.figure_format = 'retina'\n",
    "display(HTML(\"<style>.container { width:100% !important; }</style>\"))"
   ]
  },
  {
   "cell_type": "code",
   "execution_count": null,
   "id": "151051af",
   "metadata": {
    "ExecuteTime": {
     "end_time": "2022-06-22T20:50:12.847484Z",
     "start_time": "2022-06-22T20:50:12.844078Z"
    }
   },
   "outputs": [],
   "source": [
    "#JD = 2459140\n",
    "#DPATH = '/lustre/aoc/projects/hera/H4C/postprocessing/'\n",
    "#LABEL = 'all-bands-allbls-long-delay-clean-include-variable-ants'\n",
    "\n",
    "\n",
    "#get data location\n",
    "DPATH = os.environ['DATA_PATH']\n",
    "print(f'DATA_PATH = \"{DPATH}\"')\n",
    "JD = os.environ['JULIANDATE']\n",
    "print(f'JULIANDATE = {JD}')\n",
    "utc = Time(JD, format='jd').datetime\n",
    "print(f'Date = {utc.month}-{utc.day}-{utc.year}')\n",
    "LABEL = os.environ['LABEL']"
   ]
  },
  {
   "cell_type": "code",
   "execution_count": null,
   "id": "c7c2ddb3",
   "metadata": {
    "ExecuteTime": {
     "end_time": "2022-06-22T20:59:28.351241Z",
     "start_time": "2022-06-22T20:51:11.614729Z"
    }
   },
   "outputs": [],
   "source": [
    "calfiles_fsmooth = sorted(glob.glob(f'{DPATH}/{JD}/zen.{JD}.*.sum.{LABEL}.freq_smoothed_abs_degen_time_smoothed.calfits'))\n",
    "calsols = io.read_hera_calfits(calfiles_fsmooth, read_flags=True)\n"
   ]
  },
  {
   "cell_type": "code",
   "execution_count": null,
   "id": "25eb54fb",
   "metadata": {
    "ExecuteTime": {
     "end_time": "2022-06-22T20:51:11.606703Z",
     "start_time": "2022-06-22T20:50:12.851312Z"
    }
   },
   "outputs": [],
   "source": [
    "autofiles = sorted(glob.glob(f'{DPATH}/{JD}/zen.*.sum.autos.uvh5'))\n",
    "hd_autos = io.HERADataFastReader(autofiles)\n",
    "data_autos, _, _ = hd_autos.read()"
   ]
  },
  {
   "cell_type": "code",
   "execution_count": null,
   "id": "81234f74",
   "metadata": {
    "ExecuteTime": {
     "end_time": "2022-06-22T21:01:11.357767Z",
     "start_time": "2022-06-22T21:01:11.353665Z"
    }
   },
   "outputs": [],
   "source": [
    "data_ants = hd_autos.data_ants\n",
    "times = hd_autos.times\n",
    "freqs = hd_autos.freqs\n",
    "lsts = hd_autos.lsts"
   ]
  },
  {
   "cell_type": "code",
   "execution_count": null,
   "id": "0d55872d",
   "metadata": {
    "ExecuteTime": {
     "end_time": "2022-06-22T21:17:49.046435Z",
     "start_time": "2022-06-22T21:17:49.040412Z"
    }
   },
   "outputs": [],
   "source": [
    "import scipy.interpolate as interp\n",
    "lst_func = interp.interp1d(hd_autos.times, hd_autos.lsts * 12 / np.pi)"
   ]
  },
  {
   "cell_type": "code",
   "execution_count": null,
   "id": "b1651f7a",
   "metadata": {
    "ExecuteTime": {
     "end_time": "2022-06-22T21:49:06.117419Z",
     "start_time": "2022-06-22T21:44:56.536702Z"
    },
    "scrolled": false
   },
   "outputs": [],
   "source": [
    "import warnings\n",
    "\n",
    "\n",
    "# I expect to see RuntimeWarnings in this block\n",
    "#ants = [11, 58, 179]\n",
    "ants = data_ants\n",
    "franges = [(50, 85), (105, 135), (140, 160), (160, 170), (0, 1000)]\n",
    "\n",
    "with warnings.catch_warnings():\n",
    "\n",
    "    for pol in ['ee', 'nn']:\n",
    "        fig, axarr = plt.subplots(len(ants), len(franges))\n",
    "        fig.set_size_inches(6 * len(franges), 6 * len(ants))\n",
    "        \n",
    "        warnings.simplefilter(\"ignore\", category=RuntimeWarning)\n",
    "\n",
    "        for antnum, ant in enumerate(ants):\n",
    "\n",
    "            \n",
    "            blk = (ant, ant, 'nn')\n",
    "            gk = (ant, 'Jnn')\n",
    "\n",
    "            autos_uncalib = data_autos[blk] /  ~calsols['flags'][gk][::-1]\n",
    "            autos_calib = data_autos[blk] /  ~calsols['flags'][gk] / np.abs(calsols['gains'][gk]) ** 2.\n",
    "\n",
    "            for fnum, frange in enumerate(franges):\n",
    "                plt.sca(axarr[antnum][fnum])\n",
    "                cmin = np.argmin(np.abs(freqs - frange[0] * 1e6))\n",
    "                cmax = np.argmin(np.abs(freqs - frange[1] * 1e6))\n",
    "                \n",
    "                labels = ['Uncalibrated Auto', 'Calibrated Auto']\n",
    "                for dnum, dat in enumerate([autos_uncalib, autos_calib]):\n",
    "\n",
    "                    dat = 10 ** (np.log10(dat[:, cmin: cmax]))\n",
    "                    dat[~np.isfinite(dat)] = np.nan\n",
    "\n",
    "\n",
    "\n",
    "\n",
    "                    ms = dat / np.nanmean(dat, axis=0)#np.subtract(dat, np.nanmean(dat,axis=0))\n",
    "                    ms = np.nanmean(ms, axis=1)\n",
    "\n",
    "                    plt.plot(times, ms, label=labels[dnum])\n",
    "                \n",
    "                plt.legend()\n",
    "                if fnum == 0:\n",
    "                    plt.ylabel( f'Ant {ant}-{pol} \\n' + '$\\\\langle \\\\frac{V_{aa}}{\\\\langle V_{aa} \\\\rangle_{time}} \\\\rangle_{freq}$ \\n',\n",
    "                               fontsize=24)\n",
    "                \n",
    "                if antnum == len(ants) - 1:\n",
    "                    plt.xlabel('LST [hr]', fontsize=24)\n",
    "                \n",
    "                plt.ylim(.6, 2)\n",
    "                plt.yscale('log')\n",
    "                plt.gca().set_xticks([t for t in plt.gca().get_xticks() if t >= times.min() and t <= times.max()])\n",
    "                plt.gca().set_xticklabels(f'{lst_func(t):.2f}' for t in plt.gca().get_xticks())\n",
    "                if antnum == 0:\n",
    "                    plt.title(f'{frange[0]} - {frange[1]} MHz', fontsize=24)\n",
    "                \n",
    "                plt.grid(which='both')\n",
    "                plt.gca().tick_params(labelsize=16)\n",
    "    \n",
    "\n",
    "\n",
    "\n",
    "\n"
   ]
  },
  {
   "cell_type": "code",
   "execution_count": null,
   "id": "c2941c03",
   "metadata": {},
   "outputs": [],
   "source": []
  }
 ],
 "metadata": {
  "kernelspec": {
   "display_name": "hera3gpu",
   "language": "python",
   "name": "hera3gpu"
  },
  "language_info": {
   "codemirror_mode": {
    "name": "ipython",
    "version": 3
   },
   "file_extension": ".py",
   "mimetype": "text/x-python",
   "name": "python",
   "nbconvert_exporter": "python",
   "pygments_lexer": "ipython3",
   "version": "3.8.11"
  }
 },
 "nbformat": 4,
 "nbformat_minor": 5
}
