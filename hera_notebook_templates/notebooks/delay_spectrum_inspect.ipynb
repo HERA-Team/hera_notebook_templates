{
 "cells": [
  {
   "cell_type": "code",
   "execution_count": null,
   "metadata": {
    "ExecuteTime": {
     "end_time": "2022-03-09T18:32:06.962708Z",
     "start_time": "2022-03-09T18:30:51.399601Z"
    },
    "scrolled": false
   },
   "outputs": [],
   "source": [
    "import os\n",
    "os.environ['HDF5_USE_FILE_LOCKING'] = 'FALSE'\n",
    "import h5py\n",
    "import hdf5plugin\n",
    "import matplotlib\n",
    "import matplotlib.pyplot as plt\n",
    "from matplotlib.ticker import FormatStrFormatter\n",
    "import matplotlib.patches as mpatches\n",
    "import matplotlib.gridspec as gridspec\n",
    "import numpy as np\n",
    "from pyuvdata import UVCal, UVData, UVFlag\n",
    "import pyuvdata\n",
    "import os\n",
    "import sys\n",
    "import glob\n",
    "import uvtools as uvt\n",
    "from astropy.time import Time\n",
    "from astropy.coordinates import EarthLocation, SkyCoord, AltAz, Angle\n",
    "import pandas\n",
    "import warnings \n",
    "import copy\n",
    "from hera_notebook_templates import utils\n",
    "import hera_qm\n",
    "from hera_mc import cm_hookup\n",
    "import h5py\n",
    "import importlib\n",
    "from scipy import stats\n",
    "import scipy\n",
    "import pandas as pd\n",
    "from IPython.display import display, HTML\n",
    "#warnings.filterwarnings('ignore')\n",
    "\n",
    "%matplotlib inline\n",
    "%config InlineBackend.figure_format = 'retina'\n"
   ]
  },
  {
   "cell_type": "code",
   "execution_count": null,
   "metadata": {
    "ExecuteTime": {
     "end_time": "2022-03-09T18:32:06.975211Z",
     "start_time": "2022-03-09T18:32:06.966134Z"
    },
    "scrolled": false
   },
   "outputs": [],
   "source": [
    "#get data location\n",
    "JD = os.environ['JULIANDATE']\n",
    "data_path = os.environ['DATA_PATH']\n",
    "nb_outdir = os.environ['NB_OUTDIR']\n",
    "utc = Time(JD, format='jd').datetime\n",
    "print(f'JD = {JD}')\n",
    "print(f'Date = {utc.month}-{utc.day}-{utc.year}')\n",
    "print(f'data_path = \"{data_path}\"')"
   ]
  },
  {
   "cell_type": "code",
   "execution_count": null,
   "metadata": {
    "ExecuteTime": {
     "end_time": "2022-03-09T18:35:39.197000Z",
     "start_time": "2022-03-09T18:32:06.978083Z"
    },
    "scrolled": true
   },
   "outputs": [],
   "source": [
    "# Load in data\n",
    "HHfiles, difffiles, uvdx, uvdy = utils.load_data_ds(data_path,JD)\n",
    "    \n",
    "uvd = UVData()\n",
    "uvd_diff = UVData()\n",
    "uvd.read(HHfiles[0])\n",
    "use_ants = [int(ant) for ant in uvd.get_ants()]\n",
    "bls = [(ant, ant) for ant in use_ants]\n",
    "uvd.read(HHfiles[::10], skip_bad_files=True, bls=bls)\n",
    "uvd_diff.read(difffiles[::10], skip_bad_files=True, bls=bls)\n",
    "lsts = uvd.lst_array\n",
    "\n",
    "flagfile = glob.glob(os.path.join(HHfiles[0].split('zen')[0],'zen.{}*total_stage_1_threshold_flags.h5'.format(JD)))\n",
    "uvf = UVFlag()\n",
    "uvf.read(flagfile)\n",
    "bls = [(ant, ant) for ant in uvd.get_ants()]\n",
    "times_uvf = np.unique(uvf.time_array)\n",
    "times_uvd = np.unique(uvd.time_array)\n",
    "idx_times = [np.where(time_uvd == times_uvf)[0][0] for time_uvd in times_uvd]\n",
    "uvd.flag_array[:,0,:,:] = np.repeat(uvf.flag_array[idx_times], len(bls), axis=0)"
   ]
  },
  {
   "cell_type": "markdown",
   "metadata": {},
   "source": [
    "## LST Coverage"
   ]
  },
  {
   "cell_type": "markdown",
   "metadata": {},
   "source": [
    "Shows the LSTs (in hours) and JDs for which data is collected. Green represents data, red means no data."
   ]
  },
  {
   "cell_type": "code",
   "execution_count": null,
   "metadata": {
    "ExecuteTime": {
     "end_time": "2022-03-09T18:35:40.219131Z",
     "start_time": "2022-03-09T18:35:39.199429Z"
    },
    "scrolled": false
   },
   "outputs": [],
   "source": [
    "utils.plot_lst_coverage(uvd)"
   ]
  },
  {
   "cell_type": "markdown",
   "metadata": {},
   "source": [
    "## Delay spectrum"
   ]
  },
  {
   "cell_type": "markdown",
   "metadata": {},
   "source": [
    "Delay spectrum CLEANed using uvtools.dspec.high_pass_fourier_filter with 7th-order Blackman-Harris window function. Odd/even visibilities are used to remove noise bias."
   ]
  },
  {
   "cell_type": "code",
   "execution_count": null,
   "metadata": {
    "ExecuteTime": {
     "end_time": "2022-03-09T18:36:09.167529Z",
     "start_time": "2022-03-09T18:35:40.220424Z"
    },
    "scrolled": true
   },
   "outputs": [],
   "source": [
    "_data_cleaned_sq, d_even, d_odd = utils.clean_ds(bls, uvd, uvd_diff, N_threads=14)"
   ]
  },
  {
   "cell_type": "markdown",
   "metadata": {},
   "source": [
    "## Waterfalls of delay spectra for autocorrelation"
   ]
  },
  {
   "cell_type": "markdown",
   "metadata": {},
   "source": [
    "These plots show autocorrelation delay spectrum waterfalls of each antenna that is active and whose status qualifies for this notebook. For nn/ee polarization, the autocorrelation delay spectrum is normalized by the max of the delay spectrum. For ne polarization, the autocorrelation delay spectrum is normalized by max(sqrt(|nn| * |ee|)). ne and en are the same for autocorrelations, and thus only ne is shown here. The delay spectra are presented in dB with 10*log10($|\\tilde{V}|$).\n",
    "\n",
    "For each node, antennas are ordered by SNAP number, and within that by SNAP input number. The antenna number label color corresponds to the a priori status of that antenna."
   ]
  },
  {
   "cell_type": "markdown",
   "metadata": {},
   "source": [
    "### nn polarization"
   ]
  },
  {
   "cell_type": "code",
   "execution_count": null,
   "metadata": {
    "ExecuteTime": {
     "end_time": "2022-03-09T18:36:23.967893Z",
     "start_time": "2022-03-09T18:36:09.171582Z"
    },
    "scrolled": false
   },
   "outputs": [],
   "source": [
    "utils.plot_wfds(uvd, _data_cleaned_sq, 0)"
   ]
  },
  {
   "cell_type": "markdown",
   "metadata": {},
   "source": [
    "### ee polarization"
   ]
  },
  {
   "cell_type": "code",
   "execution_count": null,
   "metadata": {
    "ExecuteTime": {
     "end_time": "2022-03-09T18:36:38.603646Z",
     "start_time": "2022-03-09T18:36:23.969563Z"
    },
    "scrolled": false
   },
   "outputs": [],
   "source": [
    "utils.plot_wfds(uvd, _data_cleaned_sq, 1)"
   ]
  },
  {
   "cell_type": "markdown",
   "metadata": {},
   "source": [
    "### ne polarization"
   ]
  },
  {
   "cell_type": "code",
   "execution_count": null,
   "metadata": {
    "ExecuteTime": {
     "end_time": "2022-03-09T18:36:53.442308Z",
     "start_time": "2022-03-09T18:36:38.605310Z"
    },
    "scrolled": false
   },
   "outputs": [],
   "source": [
    "utils.plot_wfds(uvd, _data_cleaned_sq, 2)"
   ]
  },
  {
   "cell_type": "markdown",
   "metadata": {},
   "source": [
    "### Analysis of 2700ns features in delay spectra"
   ]
  },
  {
   "cell_type": "markdown",
   "metadata": {},
   "source": [
    "This plot shows the relative amplitude at 2700 ns feature. The relative amplitude is calculated in dB with the mean amplitude at 2500-3000 ns compared to the mean amplitude at 2000-2500 ns. Larger values of relative feature amplitude indicate higher probability of detecting the peak at 2700 ns. Antennas in the same node are grouped by the shaded region."
   ]
  },
  {
   "cell_type": "code",
   "execution_count": null,
   "metadata": {
    "ExecuteTime": {
     "end_time": "2022-03-09T18:36:54.947623Z",
     "start_time": "2022-03-09T18:36:53.444698Z"
    },
    "scrolled": false
   },
   "outputs": [],
   "source": [
    "utils.plot_antFeatureMap_2700ns(uvd, _data_cleaned_sq, JD, pol='nn')"
   ]
  },
  {
   "cell_type": "code",
   "execution_count": null,
   "metadata": {
    "ExecuteTime": {
     "end_time": "2022-03-09T18:36:56.681183Z",
     "start_time": "2022-03-09T18:36:54.949371Z"
    }
   },
   "outputs": [],
   "source": [
    "utils.plot_antFeatureMap_2700ns(uvd, _data_cleaned_sq, JD, pol='ee')"
   ]
  },
  {
   "cell_type": "markdown",
   "metadata": {},
   "source": [
    "This plot shows a matrix representing the 2700ns feature correlation of each baseline. The color bar indicates the amplitude of 2700ns (mean amplitude of 2500-3000ns delay spectrum) in dB which is the same as that in the above plot."
   ]
  },
  {
   "cell_type": "code",
   "execution_count": null,
   "metadata": {
    "ExecuteTime": {
     "end_time": "2022-03-09T18:36:56.684718Z",
     "start_time": "2022-03-09T18:36:56.682557Z"
    },
    "scrolled": false
   },
   "outputs": [],
   "source": [
    "# utils.CorrMatrix_2700ns(uvd, HHfiles, difffiles, flagfile, JD, N_threads=14)"
   ]
  },
  {
   "cell_type": "markdown",
   "metadata": {},
   "source": [
    "### Analysis of noise floor in delay spectra"
   ]
  },
  {
   "cell_type": "markdown",
   "metadata": {},
   "source": [
    "This plot shows the ratio of delay spectrum to noise floor (averaged over 1000-4000ns). Near 1 indicates the delay spectrum reaches to the noise floor, which may mean good."
   ]
  },
  {
   "cell_type": "code",
   "execution_count": null,
   "metadata": {
    "ExecuteTime": {
     "end_time": "2022-03-09T18:37:00.089305Z",
     "start_time": "2022-03-09T18:36:56.685978Z"
    }
   },
   "outputs": [],
   "source": [
    "utils.plot_antFeatureMap_noise(uvd_diff, d_even, d_odd, JD, pol='nn')"
   ]
  },
  {
   "cell_type": "code",
   "execution_count": null,
   "metadata": {
    "ExecuteTime": {
     "end_time": "2022-03-09T18:37:03.387737Z",
     "start_time": "2022-03-09T18:37:00.090736Z"
    }
   },
   "outputs": [],
   "source": [
    "utils.plot_antFeatureMap_noise(uvd_diff, d_even, d_odd, JD, pol='ee')"
   ]
  },
  {
   "cell_type": "code",
   "execution_count": null,
   "metadata": {
    "ExecuteTime": {
     "end_time": "2022-03-09T18:37:32.837540Z",
     "start_time": "2022-03-09T18:37:03.389210Z"
    }
   },
   "outputs": [],
   "source": [
    "# get the ratio of delay spectum to noise for different freqeuncy bands and pols\n",
    "ds_noise_ratio = utils.get_ds_noise_ratio(uvd, uvd_diff, bls)\n",
    "\n",
    "nodes, antDict, inclNodes = utils.generate_nodeDict(uvd)\n",
    "ants = uvd.get_ants()\n",
    "# build dataframe\n",
    "to_show = {'Ant': ants, 'Node': [int(antDict[ant]['node']) for ant in ants], 'Snap': [int(antDict[ant]['snapLocs'][0]) for ant in ants]}\n",
    "df = pd.DataFrame(to_show)\n",
    " \n",
    "cols_ratio = []\n",
    "for key in ds_noise_ratio.keys():\n",
    "    if(key[0] == 40):\n",
    "        col = r'Full '\n",
    "    else:\n",
    "        col = r'{}-{} MHz '.format(key[0], key[1])\n",
    "    col += key[2]\n",
    "    df[col] = ds_noise_ratio[key]\n",
    "    cols_ratio.append(col)\n",
    "    \n",
    "\n",
    "# sort by node number and then by antenna number within nodes\n",
    "df.sort_values(['Node', 'Ant'], ascending=True)\n",
    "\n",
    "ratio_cut = 3\n",
    "# style dataframe\n",
    "table = df.style.hide_index() \\\n",
    "          .applymap(lambda val: 'color: red' if val > ratio_cut else '', subset=cols_ratio) \\\n",
    "          .set_table_styles([dict(selector=\"th\",props=[('max-width', f'70pt')])])"
   ]
  },
  {
   "cell_type": "markdown",
   "metadata": {},
   "source": [
    "This table shows the ratio of the delay spectrum to the noise level from diff files for different frequency bands and pols. The ratio > 3 is colored in red"
   ]
  },
  {
   "cell_type": "code",
   "execution_count": null,
   "metadata": {
    "ExecuteTime": {
     "end_time": "2022-03-09T18:37:33.484726Z",
     "start_time": "2022-03-09T18:37:32.840258Z"
    },
    "scrolled": false
   },
   "outputs": [],
   "source": [
    "HTML(table.render())"
   ]
  },
  {
   "cell_type": "code",
   "execution_count": null,
   "metadata": {
    "ExecuteTime": {
     "end_time": "2022-03-09T18:37:33.510843Z",
     "start_time": "2022-03-09T18:37:33.487100Z"
    }
   },
   "outputs": [],
   "source": [
    "csv_file = os.path.join(nb_outdir, 'ds_noise_ratio_{}.csv'.format(JD))\n",
    "df.to_csv(csv_file, index=False)"
   ]
  },
  {
   "cell_type": "markdown",
   "metadata": {},
   "source": [
    "## Delay spectrum and autocorrelation plot per baseline per polarization for a given frequency (sub-)band"
   ]
  },
  {
   "cell_type": "markdown",
   "metadata": {},
   "source": [
    "Left panel: time averaged delay spectum of autocorrelation in dB with 10*log10($|\\tilde{V}|$) (blue) and noise from diff file representing the expected variance of the delay spectrum (red). The time-averaging is performed by 1. binning three time integrations of each even and odd visibility, 2. Fouier transform the binned even and odd visibilities, and 3. multiply the even and odd delay spectra at alternating time bin and average the squared delay spectrum along the time axis. This helps to reduce the noise bias. Both autocorrelation delay spectrum and diff delay spectrum are averaged in the same way\n",
    "    \n",
    "Right panel: time averaged autocorrelations w/o (orange) and w/ xRFI flags (blue). Flagged one is shifted from the unflagged one for clarity"
   ]
  },
  {
   "cell_type": "code",
   "execution_count": null,
   "metadata": {
    "ExecuteTime": {
     "end_time": "2022-03-09T18:38:08.644972Z",
     "start_time": "2022-03-09T18:37:33.512899Z"
    }
   },
   "outputs": [],
   "source": [
    "utils.interactive_plots_dspec(bls, uvd, uvd_diff, JD)"
   ]
  },
  {
   "cell_type": "code",
   "execution_count": null,
   "metadata": {},
   "outputs": [],
   "source": []
  }
 ],
 "metadata": {
  "kernelspec": {
   "display_name": "Python 3",
   "language": "python",
   "name": "python3"
  },
  "language_info": {
   "codemirror_mode": {
    "name": "ipython",
    "version": 3
   },
   "file_extension": ".py",
   "mimetype": "text/x-python",
   "name": "python",
   "nbconvert_exporter": "python",
   "pygments_lexer": "ipython3",
   "version": "3.7.10"
  },
  "toc": {
   "base_numbering": 1,
   "nav_menu": {},
   "number_sections": true,
   "sideBar": true,
   "skip_h1_title": false,
   "title_cell": "Table of Contents",
   "title_sidebar": "Contents",
   "toc_cell": false,
   "toc_position": {},
   "toc_section_display": true,
   "toc_window_display": false
  }
 },
 "nbformat": 4,
 "nbformat_minor": 2
}
