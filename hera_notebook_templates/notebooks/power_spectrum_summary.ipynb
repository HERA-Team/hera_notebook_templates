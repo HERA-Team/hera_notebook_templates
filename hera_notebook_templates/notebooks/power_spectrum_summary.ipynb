{
 "cells": [
  {
   "cell_type": "code",
   "execution_count": null,
   "id": "worldwide-uniform",
   "metadata": {
    "ExecuteTime": {
     "end_time": "2021-08-07T18:58:16.176821Z",
     "start_time": "2021-08-07T18:58:09.458645Z"
    }
   },
   "outputs": [],
   "source": [
    "import numpy as np\n",
    "import matplotlib.pyplot as plt\n",
    "from hera_cal import frf\n",
    "import glob\n",
    "import os\n",
    "from copy import deepcopy\n",
    "from hera_cal import redcal\n",
    "from IPython.display import display, HTML\n",
    "from hera_cal.io import HERAData\n",
    "from matplotlib.colors import LogNorm\n",
    "from hera_pspec import utils\n",
    "%config Completer.use_jedi = False\n",
    "from scipy.interpolate import interp1d\n",
    "from hera_pspec.container import PSpecContainer\n",
    "import hera_pspec.plot as pspecplot\n",
    "import copy\n",
    "from matplotlib import cm as cmaps\n",
    "from hera_pspec import grouping\n",
    "import gc\n",
    "\n",
    "import tqdm\n",
    "%matplotlib inline\n",
    "%config InlineBackend.figure_format = 'retina'\n",
    "display(HTML(\"<style>.container { width:100% !important; }</style>\"))"
   ]
  },
  {
   "cell_type": "code",
   "execution_count": null,
   "id": "advanced-prison",
   "metadata": {
    "ExecuteTime": {
     "end_time": "2021-08-07T18:58:16.183360Z",
     "start_time": "2021-08-07T18:58:16.179655Z"
    }
   },
   "outputs": [],
   "source": [
    "#os.environ = {\n",
    "#    'JULIANDATE': 'LST.0.00000',\n",
    "#    'DATA_PATH': '/lustre/aoc/projects/hera/H4C/postprocessing/lstbin/after_filtering_before_red_average/all-bands/',\n",
    "#    'LABEL' : 'all-bands-allbls',\n",
    "#    'SPWS' : \"0,1,2,3,4,5,6,7\",\n",
    "#    'LST_FIELDS': \"1~3,4.2~6.2\",\n",
    "#    'GRP_SKIP': '10',\n",
    "#    'BLP_SKIP': '2',\n",
    "#    'FIELD_LABELS': '1,2',\n",
    "#    'MAX_PLOTS_PER_ROW': '10',\n",
    "#    'EXTS' : 'foreground_filled~foreground_res.filled_flags~foreground_model.filled_flags'\n",
    "\n",
    "#}\n"
   ]
  },
  {
   "cell_type": "code",
   "execution_count": null,
   "id": "atmospheric-building",
   "metadata": {
    "ExecuteTime": {
     "end_time": "2021-08-07T18:58:16.215130Z",
     "start_time": "2021-08-07T18:58:16.185257Z"
    }
   },
   "outputs": [],
   "source": [
    "# Use environment variables to figure out path to data\n",
    "JD = os.environ['JULIANDATE']\n",
    "data_path = os.environ['DATA_PATH']\n",
    "label = os.environ['LABEL']\n",
    "spws = os.environ['SPWS'].split(',')\n",
    "lst_fields = os.environ['LST_FIELDS'].split(',')\n",
    "for m in range(len(lst_fields)):\n",
    "    field = lst_fields[m].split('~')\n",
    "    lst_fields[m] = (float(field[0]), float(field[1]))\n",
    "\n",
    "exts = os.environ['EXTS'].split('~')\n",
    "grp_skip = int(os.environ['GRP_SKIP'])\n",
    "blp_skip = int(os.environ['BLP_SKIP'])\n",
    "field_labels = os.environ['FIELD_LABELS'].split(',')\n",
    "max_plots_per_row = int(os.environ['MAX_PLOTS_PER_ROW'])\n",
    "spws = [int(spw) for spw in spws]\n",
    "if 'LST' in JD:\n",
    "    JD = 'LST'\n",
    "print(f'JD = \"{JD}\"')\n",
    "print(f'data_path = \"{data_path}\"')\n",
    "print(f'label = \"{label}\"')\n",
    "print(f'spws = \"{spws}\"')\n",
    "print(f'lst_fields = \"{lst_fields}\"')\n",
    "print(f'grp_skip = \"{grp_skip}\"')\n",
    "print(f'blp_skip = \"{blp_skip}\"')\n",
    "print(f'field_labels = \"{field_labels}\"')\n",
    "print(f'max_plots_per_row = \"{max_plots_per_row}\"')\n",
    "print(f'exts = \"{exts}\"')"
   ]
  },
  {
   "cell_type": "code",
   "execution_count": null,
   "id": "sporting-charter",
   "metadata": {
    "ExecuteTime": {
     "end_time": "2021-08-07T18:58:16.225214Z",
     "start_time": "2021-08-07T18:58:16.216763Z"
    }
   },
   "outputs": [],
   "source": [
    "from astropy.time import Time\n",
    "try:\n",
    "    utc = Time(JD, format='jd').datetime\n",
    "    print(f'Date: {utc.month}-{utc.day}-{utc.year}')\n",
    "except:\n",
    "    print(\"Could not parse JD=${JD}\")"
   ]
  },
  {
   "cell_type": "code",
   "execution_count": null,
   "id": "subtle-publication",
   "metadata": {
    "ExecuteTime": {
     "end_time": "2021-08-07T18:58:16.236311Z",
     "start_time": "2021-08-07T18:58:16.226834Z"
    }
   },
   "outputs": [],
   "source": [
    "psc_files_sum = {ext: None for ext in exts}\n",
    "psc_files_diff = {ext: None for ext in exts}"
   ]
  },
  {
   "cell_type": "code",
   "execution_count": null,
   "id": "higher-subject",
   "metadata": {
    "ExecuteTime": {
     "end_time": "2021-08-07T18:58:17.188603Z",
     "start_time": "2021-08-07T18:58:16.237804Z"
    }
   },
   "outputs": [],
   "source": [
    "for ext in psc_files_sum:\n",
    "    print('Looking for sum power-spectrum containers in', data_path, 'on JD', JD)\n",
    "    psc_files_sum[ext] = sorted(glob.glob(os.path.join(data_path, f'zen.{JD}.*.sum.{label}.{ext}.xtalk_filtered_pstokes.tavg.pspec.h5')))\n",
    "    print('Found {} files.'.format(len(psc_files_sum[ext])))\n",
    "    print('Looking for diff power-spectrum containers in', data_path, 'on JD', JD)\n",
    "    psc_files_diff[ext]= sorted(glob.glob(os.path.join(data_path, f'zen.{JD}.*.diff.{label}.{ext}.xtalk_filtered_pstokes.tavg.pspec.h5')))\n",
    "    print('Found {} files.'.format(len(psc_files_diff[ext])))\n",
    "    diffs = len(psc_files_diff) > 0"
   ]
  },
  {
   "cell_type": "code",
   "execution_count": null,
   "id": "billion-helen",
   "metadata": {
    "ExecuteTime": {
     "end_time": "2021-08-07T18:58:17.360162Z",
     "start_time": "2021-08-07T18:58:17.190208Z"
    }
   },
   "outputs": [],
   "source": [
    "psca_files_sum = {ext: None for ext in exts}\n",
    "psca_files_diff = {ext: None for ext in exts}\n",
    "for ext in psca_files_sum:\n",
    "    print('Looking for sum power-spectrum containers in', data_path, 'on JD', JD)\n",
    "    psca_files_sum[ext] = sorted(glob.glob(os.path.join(data_path, f'zen.{JD}.*.sum.{label}.autos.{ext}_pstokes.tavg.pspec.h5')))\n",
    "    print('Found {} files.'.format(len(psca_files_sum[ext])))\n",
    "    print('Looking for diff power-spectrum containers in', data_path, 'on JD', JD)\n",
    "    psca_files_diff[ext]= sorted(glob.glob(os.path.join(data_path, f'zen.{JD}.*.diff.{label}.autos.{ext}_pstokes.tavg.pspec.h5')))\n",
    "    print('Found {} files.'.format(len(psca_files_diff[ext])))\n",
    "    diffs = len(psca_files_diff) > 0 & diffs\n",
    "\n"
   ]
  },
  {
   "cell_type": "code",
   "execution_count": null,
   "id": "suitable-trick",
   "metadata": {
    "ExecuteTime": {
     "end_time": "2021-08-07T18:58:17.368328Z",
     "start_time": "2021-08-07T18:58:17.362335Z"
    }
   },
   "outputs": [],
   "source": [
    "def get_bls_to_keep(uvpt_list):\n",
    "    # only keep baselines if they have some unflagged data in one of the files\n",
    "    bls_to_keep = []\n",
    "    for blp in uvpt_list[0].get_blpairs():\n",
    "        integrations = []\n",
    "        for uvpt in uvpt_list:\n",
    "            blpslice = uvpt.blpair_to_indices(blp)\n",
    "            integrations.append(uvpt.integration_array[0][blpslice, 0])\n",
    "        if not np.allclose(integrations, 0.0):\n",
    "            bls_to_keep.append(blp)\n",
    "        else:\n",
    "            print(f'{blp} has no integrations! Discarding...')\n",
    "    return bls_to_keep\n",
    "            \n",
    "def get_files_to_keep(uvpt_list):\n",
    "    files_to_keep = []\n",
    "    files_to_delete = []\n",
    "    findex = 0\n",
    "    for uvpt in tqdm.tqdm_notebook(uvpt_list):\n",
    "        if not np.any(np.isclose(uvpt.integration_array[0][:, 0], 0.0)):\n",
    "            finite_stat = True\n",
    "            if hasattr(uvpt, 'stats_array'):\n",
    "                for stat in uvpt.stats_array:\n",
    "                    for spw in uvpt.spw_array:\n",
    "                        finite_stat = finite_stat and np.all(np.isfinite(uvpt.stats_array[stat][spw]))\n",
    "            else:\n",
    "                for spw in uvpt.data_array:\n",
    "                    finite_stat = finite_stat and np.all(np.isfinite(uvpt.data_array[spw]))\n",
    "            if finite_stat:\n",
    "                files_to_keep.append(findex)\n",
    "    return files_to_keep\n",
    "\n",
    "\n"
   ]
  },
  {
   "cell_type": "code",
   "execution_count": null,
   "id": "experimental-movement",
   "metadata": {
    "ExecuteTime": {
     "end_time": "2021-08-07T18:58:17.383303Z",
     "start_time": "2021-08-07T18:58:17.369930Z"
    }
   },
   "outputs": [],
   "source": [
    "def discard_flagged_blpairs(uvpt_list):\n",
    "    # only keep baselines if they have some unflagged data in one of the files\n",
    "    bls_to_keep = []\n",
    "    for blp in uvpt_list[0].get_blpairs():\n",
    "        integrations = []\n",
    "        for uvpt in uvpt_list:\n",
    "            blpslice = uvpt.blpair_to_indices(blp)\n",
    "            integrations.append(uvpt.integration_array[0][blpslice, 0])\n",
    "        if not np.allclose(integrations, 0.0):\n",
    "            bls_to_keep.append(blp)\n",
    "        else:\n",
    "            print(f'{blp} has no integrations! Discarding...')\n",
    "    for i in tqdm.tqdm_notebook(range(len(uvpt_list))):\n",
    "        uvpt_list[i].select(blpairs=bls_to_keep, inplace=True)\n",
    "    return uvpt_list\n",
    "\n",
    "def discard_flagged_times(uvpt_list):\n",
    "    files_to_keep = []\n",
    "    files_to_delete = []\n",
    "    findex = 0\n",
    "    for uvpt in tqdm.tqdm_notebook(uvpt_list):\n",
    "        if not np.any(np.isclose(uvpt.integration_array[0][:, 0], 0.0)):\n",
    "            finite_stat = True\n",
    "            if hasattr(uvpt, 'stats_array'):\n",
    "                for stat in uvpt.stats_array:\n",
    "                    for spw in uvpt.spw_array:\n",
    "                        finite_stat = finite_stat and np.all(np.isfinite(uvpt.stats_array[stat][spw]))\n",
    "            else:\n",
    "                for spw in uvpt.data_array:\n",
    "                    finite_stat = finite_stat and np.all(np.isfinite(uvpt.data_array[spw]))\n",
    "            if finite_stat:\n",
    "                files_to_keep.append(findex)\n",
    "            else:\n",
    "                files_to_delete.append(findex)\n",
    "        else:\n",
    "            files_to_delete.append(findex)\n",
    "        findex += 1\n",
    "    for i in tqdm.tqdm_notebook(sorted(files_to_delete, reverse=True)):\n",
    "        del uvpt_list[i]\n",
    "    return uvpt_list\n",
    "        \n",
    "    \n",
    "def merge_ps_list(ps_list):\n",
    "    # do a logarithmic merge into single power spectrum.\n",
    "    # this saves quiete a bit of time by reducing the number of merge calls.\n",
    "    if len(ps_list) == 1:\n",
    "        return ps_list[0]\n",
    "    else:\n",
    "        return merge_ps_list(ps_list[:len(ps_list)//2])\\\n",
    "        + merge_ps_list(ps_list[len(ps_list)//2:])\n",
    "        "
   ]
  },
  {
   "cell_type": "code",
   "execution_count": null,
   "id": "fifth-improvement",
   "metadata": {
    "ExecuteTime": {
     "end_time": "2021-08-07T23:36:54.817707Z",
     "start_time": "2021-08-07T23:36:54.674034Z"
    }
   },
   "outputs": [],
   "source": [
    "import pdb\n",
    "from joblib import Parallel, delayed\n",
    "import multiprocessing\n",
    "ncpu = multiprocessing.cpu_count()\n",
    "\n",
    "def perform_average(uvpt, error_weights):\n",
    "    blp_groups, _, _, _ = utils.get_blvec_reds(uvpt, bl_error_tol=1.0)\n",
    "    # exclude auto baselines. We can do a comparison between including autos and not including autos.\n",
    "    # later.\n",
    "    blp_groups = [[blp for blp in blpgrp if blp[0] != blp[1]] for blpgrp in blp_groups]\n",
    "    blp_groups = [blp_grp for blp_grp in blp_groups if len(blp_grp) > 0]\n",
    "    # discard baselines not chunked in averaging groups.\n",
    "    blps_to_keep = []\n",
    "    for grp in blp_groups:\n",
    "        blps_to_keep.extend(grp)\n",
    "    uvpt.select(blpairs=blps_to_keep, inplace=True)\n",
    "    return uvpt.average_spectra(blpair_groups=blp_groups, inplace=False, error_weights=error_weights,\n",
    "                                          error_field=[stat for stat in uvpt.stats_array])\n",
    "        \n",
    "def load_select_and_average(fname, blps_to_keep, error_weights):\n",
    "    psc = PSpecContainer(fname, keep_open=False)\n",
    "    uvpt = psc.get_pspec(group='dset0', psname='dset0_x_dset0')\n",
    "    uvpt.select(blpairs=blps_to_keep, inplace=True)\n",
    "    for spw in uvpt.spw_array:\n",
    "            assert np.all(np.isfinite(uvpt.data_array[spw]))\n",
    "            if hasattr(uvpt, 'stats_array'):\n",
    "                for stat in uvpt.stats_array:\n",
    "                    assert np.all(np.isfinite(uvpt.stats_array[stat][spw]))\n",
    "    uvpt = perform_average(uvpt, error_weights=error_weights)\n",
    "    return uvpt\n",
    "\n",
    "\n",
    "def extract_spectra(filelist, avg_baselines=True, error_weights=\"P_N\", ncpus_per_job=2):\n",
    "    uvp_list = []\n",
    "    unum = 0\n",
    "    print('extracting spectra...')\n",
    "    for pscf in tqdm.tqdm_notebook(filelist):\n",
    "        psc = PSpecContainer(pscf, keep_open=False)\n",
    "        uvpt = psc.get_pspec(group='dset0', psname='dset0_x_dset0')\n",
    "        uvp_list.append(uvpt)\n",
    "    print('discarding flagged blpairs')\n",
    "    uvp_list = discard_flagged_blpairs(uvp_list)\n",
    "    print('discarding flagged times')\n",
    "    uvp_list = discard_flagged_times(uvp_list)\n",
    "    print('checking for NaNs')\n",
    "    for uvpt in tqdm.tqdm_notebook(uvp_list):\n",
    "        for spw in uvpt.spw_array:\n",
    "            assert np.all(np.isfinite(uvpt.data_array[spw]))\n",
    "            if hasattr(uvpt, 'stats_array'):\n",
    "                for stat in uvpt.stats_array:\n",
    "                    assert np.all(np.isfinite(uvpt.stats_array[stat][spw]))\n",
    "    print('averaging baselines...')\n",
    "    if avg_baselines:\n",
    "        for i in range(len(uvp_list)):\n",
    "            uvp_list[i] = perform_average(uvp_list[i], error_weights)\n",
    "    #if avg_baselines:\n",
    "    #    uvp_list = Parallel(n_jobs=ncpu // ncpus_per_job)(delayed(perform_average)(uvp_list[i], error_weights) for i in range(len(uvp_list)))\n",
    "    print('merging spectra...')\n",
    "    uvp = merge_ps_list(uvp_list)\n",
    "    del uvp_list\n",
    "    gc.collect()\n",
    "    return uvp\n",
    "\n"
   ]
  },
  {
   "cell_type": "code",
   "execution_count": null,
   "id": "painful-texture",
   "metadata": {
    "ExecuteTime": {
     "end_time": "2021-08-07T18:58:59.336631Z",
     "start_time": "2021-08-07T18:58:17.413942Z"
    }
   },
   "outputs": [],
   "source": [
    "exts = list(psc_files_sum.keys())\n",
    "uvpa = Parallel(n_jobs=2)(delayed(extract_spectra)(psca_files_sum[exts[i]], avg_baselines=False, error_weights=None, ncpus_per_job=2) for i in range(len(exts))) \n",
    "uvpa = {ext: uvpa for (ext, uvpa) in zip(exts, uvpa)}\n",
    "gc.collect()"
   ]
  },
  {
   "cell_type": "code",
   "execution_count": null,
   "id": "economic-crowd",
   "metadata": {
    "ExecuteTime": {
     "end_time": "2021-08-09T08:14:38.337478Z",
     "start_time": "2021-08-09T08:12:43.460993Z"
    }
   },
   "outputs": [],
   "source": [
    "exts = list(psc_files_sum.keys())\n",
    "uvpda = Parallel(n_jobs=2)(delayed(extract_spectra)(psca_files_diff[exts[i]], avg_baselines=False, error_weights=None, ncpus_per_job=2) for i in range(len(exts))) \n",
    "uvpda = {ext: uvpda for (ext, uvpda) in zip(exts, uvpda)}\n",
    "gc.collect()"
   ]
  },
  {
   "cell_type": "code",
   "execution_count": null,
   "id": "anonymous-roulette",
   "metadata": {
    "ExecuteTime": {
     "end_time": "2021-08-08T06:27:57.998364Z",
     "start_time": "2021-08-07T23:36:57.472938Z"
    }
   },
   "outputs": [],
   "source": [
    "exts = list(psc_files_sum.keys())"
   ]
  },
  {
   "cell_type": "code",
   "execution_count": null,
   "id": "union-remove",
   "metadata": {
    "ExecuteTime": {
     "end_time": "2021-08-15T23:46:09.432189Z",
     "start_time": "2021-08-15T23:46:06.284026Z"
    }
   },
   "outputs": [],
   "source": [
    "from hera_pspec.uvpspec import UVPSpec"
   ]
  },
  {
   "cell_type": "code",
   "execution_count": null,
   "id": "bound-tissue",
   "metadata": {
    "ExecuteTime": {
     "end_time": "2021-08-08T06:28:05.640409Z",
     "start_time": "2021-08-08T06:27:58.067434Z"
    }
   },
   "outputs": [],
   "source": [
    "\n",
    "fnames = [f'{data_path}/pspec_12_days_sum_{label}_{ext}.hdf5' for ext in exts]\n",
    "if np.all([os.path.exists(fn) for fn in fnames]):\n",
    "    uvp_avg = {ext: UVPSpec() for ext in exts}\n",
    "    for ext, fn in zip(exts, fnames):\n",
    "        uvp_avg[ext].read_hdf5(fn)\n",
    "else:\n",
    "    uvp_avg = {}\n",
    "    uvp_avg = Parallel(n_jobs=2)(delayed(extract_spectra)(psc_files_sum[exts[i]], avg_baselines=True, error_weights='P_N', ncpus_per_job=2) for i in range(len(exts))) \n",
    "    uvp_avg = {ext: uvpa for (ext, uvpa) in zip(exts, uvp_avg)}\n",
    "    gc.collect()\n",
    "    for ext, fname in zip(exts, uvp_avg):\n",
    "        uvp_avg[ext].write_hdf5(fname)"
   ]
  },
  {
   "cell_type": "code",
   "execution_count": null,
   "id": "international-bouquet",
   "metadata": {
    "ExecuteTime": {
     "end_time": "2021-08-08T13:29:29.960278Z",
     "start_time": "2021-08-08T13:29:22.335904Z"
    }
   },
   "outputs": [],
   "source": [
    "fnames = [f'{data_path}/pspec_12_days_diff_{label}_{ext}.hdf5' for ext in exts]\n",
    "if np.all([os.path.exists(fn) for fn in fnames]):\n",
    "    uvpd_avg = {ext: UVPSpec() for ext in exts}\n",
    "    for ext, fn in zip(exts, fnames):\n",
    "        uvpd_avg[ext].read_hdf5(fn)\n",
    "else:\n",
    "    uvpd_avg = {}\n",
    "    uvpd_avg = Parallel(n_jobs=2)(delayed(extract_spectra)(psc_files_diff[exts[i]], avg_baselines=True, error_weights='P_N', ncpus_per_job=2) for i in range(len(exts))) \n",
    "    uvpd_avg = {ext: uvpda for (ext, uvpda) in zip(exts, uvpd_avg)}\n",
    "    gc.collect()\n",
    "    for ext, fname in zip(exts, fnames):\n",
    "        uvpd_avg[ext].write_hdf5(fname)"
   ]
  },
  {
   "cell_type": "code",
   "execution_count": null,
   "id": "precise-diesel",
   "metadata": {
    "ExecuteTime": {
     "end_time": "2021-08-08T17:49:40.673161Z",
     "start_time": "2021-08-08T17:49:40.480310Z"
    },
    "code_folding": [
     0
    ]
   },
   "outputs": [],
   "source": [
    "# plot waterfalls of autos\n",
    "def plot_auto_power_spectra_waterfalls(uvpt, spw=0, nblp_per_row=8, dynamic_range=1e9):\n",
    "    lst_func = interp1d(uvpt.time_avg_array, uvpt.lst_avg_array * 12 / np.pi)\n",
    "    vmax = 10 ** np.round(np.log10(np.max(np.abs(uvpt.data_array[spw]))))\n",
    "    vmin = vmax / dynamic_range\n",
    "    freq_range = uvpt.get_spw_ranges(spw)[0][:2]\n",
    "    extent_tdelay = [uvpt.get_dlys(spw).min() * 1e9, uvpt.get_dlys(spw).max() * 1e9, uvpt.time_avg_array.max(), uvpt.time_avg_array.min()]\n",
    "    for blpc in range(0, uvpt.Nblpairs, nblp_per_row):\n",
    "        fig, axarr = plt.subplots(1, nblp_per_row)\n",
    "        fig.set_size_inches(36, 6)\n",
    "        cbax = fig.add_axes([0.915, 0.1, 0.005, 0.8])\n",
    "        for i in range(nblp_per_row):\n",
    "            blpind = blpc + i\n",
    "            if blpind < uvpt.Nblpairs:\n",
    "                blp = uvpt.get_blpairs()[blpind]\n",
    "                k = (spw, blp, ('pI', 'pI'))\n",
    "                data = uvpt.get_data(k)\n",
    "                plt.sca(axarr[i])\n",
    "                cm = plt.imshow(data.real, norm=LogNorm(vmin, vmax), cmap='inferno', interpolation='nearest', aspect='auto', extent=extent_tdelay)\n",
    "                plt.gca().set_yticks([t for t in plt.gca().get_yticks() if float(t) >= extent_tdelay[-1] and float(t) <= extent_tdelay[-2]])\n",
    "                plt.xlim(-2000, 2000)\n",
    "                plt.gca().tick_params(labelsize=12)\n",
    "                if i == 0:\n",
    "                    plt.ylabel('LST [hours]', fontsize=14)\n",
    "                    plt.gca().set_yticklabels([f'{lst_func(t):.1f}' for t in plt.gca().get_yticks()])\n",
    "                    cbar = fig.colorbar(cm, orientation='vertical', cax=cbax)\n",
    "                    cbax.yaxis.set_ticks_position('right')\n",
    "                    cbar.ax.set_ylabel(f'P($\\\\tau$) [${uvpt.units}$]', rotation=90, fontsize=14)\n",
    "                    cbax.tick_params(labelsize=16)\n",
    "                else:\n",
    "                    plt.gca().set_yticklabels(['' for t in plt.gca().get_yticks()])\n",
    "                plt.xlabel('$\\\\tau$ [ns]', fontsize=14)\n",
    "                plt.title(f'{blp} \\n {freq_range[0]/1e6:.1f}-{freq_range[1]/1e6:.1f} MHz \\n (pI, pI)', fontsize=16)"
   ]
  },
  {
   "cell_type": "code",
   "execution_count": null,
   "id": "anticipated-cologne",
   "metadata": {
    "ExecuteTime": {
     "end_time": "2021-08-08T17:51:49.012036Z",
     "start_time": "2021-08-08T17:49:41.573745Z"
    },
    "scrolled": false
   },
   "outputs": [],
   "source": [
    "for spw in spws:\n",
    "    plot_auto_power_spectra_waterfalls(uvpa['foreground_filled'], spw=spw, dynamic_range=1e10, nblp_per_row=max_plots_per_row)"
   ]
  },
  {
   "cell_type": "code",
   "execution_count": null,
   "id": "psychological-mount",
   "metadata": {
    "ExecuteTime": {
     "end_time": "2021-08-08T17:51:49.026581Z",
     "start_time": "2021-08-08T17:51:49.014569Z"
    },
    "code_folding": [
     0
    ]
   },
   "outputs": [],
   "source": [
    "def plot_auto_power_spectra_tavg(uvpt, uvptd=None, spw=0, normalize=True, dynamic_range=1e11, label_outliers=True, outlier_delay=700., outlier_sigma=5.):\n",
    "    vmax = 10 ** np.round(np.log10(np.max(np.abs(uvpt.data_array[spw]))))\n",
    "    vmin = vmax / dynamic_range\n",
    "    uvpt = copy.deepcopy(uvpt)\n",
    "    uvpt.average_spectra(time_avg=True)\n",
    "    freq_range = uvpt.get_spw_ranges(spw)[0][:2]\n",
    "    if uvptd is not None:\n",
    "        uvptd.average_spectra(time_avg=True)\n",
    "    fig, axarr = plt.subplots(1,uvpt.Npols)\n",
    "    fig.set_size_inches(12 * uvpt.Npols, 12)\n",
    "    for p, pp in enumerate(uvpt.get_polpairs()):\n",
    "        if uvpt.Npols > 1:\n",
    "            plt.sca(axarr[p])\n",
    "        distribution = []\n",
    "        blpkeys = []\n",
    "        colors=[]\n",
    "        for blp in uvpt.get_blpairs():\n",
    "            k = (spw, blp, pp)\n",
    "            data = uvpt.get_data(k).real[0]\n",
    "            if normalize:\n",
    "                norm_factor = data[np.argmin(np.abs(uvpt.get_dlys(spw)))]\n",
    "            else:\n",
    "                norm_factor = 1.0\n",
    "            data /= norm_factor\n",
    "            l0 = plt.plot(uvpt.get_dlys(spw) * 1e9, data)[0]\n",
    "            colors.append(l0.get_color())\n",
    "            blpkeys.append(k)\n",
    "            distribution.append(np.abs(data[np.argmin(np.abs(uvpt.get_dlys(spw) * 1e9 - outlier_delay))]))\n",
    "            if uvptd is not None:\n",
    "                plt.plot(uvptd.get_dlys(spw) * 1e9, uvptd.get_data(k).real[0] / norm_factor, ls='--', color=l0.get_color())\n",
    "        # label outliers from distribution.\n",
    "        distribution = np.asarray(distribution)\n",
    "        if label_outliers:\n",
    "            mad = np.sqrt(np.median(np.abs(distribution - np.median(distribution)) ** 2.))\n",
    "            zscore = (distribution - np.median(distribution)) / mad\n",
    "            to_label = np.where(zscore >= outlier_sigma)[0]\n",
    "            for i, label_ind in enumerate(to_label):\n",
    "                plt.text(outlier_delay + 100 * i, distribution[label_ind], blpkeys[label_ind][1][0], color=colors[label_ind], fontsize=12)\n",
    "        plt.ylim(vmin / norm_factor, vmax / norm_factor)\n",
    "        plt.xlim(-100, 2000)\n",
    "        plt.yscale('log')\n",
    "        plt.grid()\n",
    "        plt.gca().tick_params(labelsize=16)\n",
    "        plt.xlabel('$\\\\tau$ [ns]', fontsize=18)\n",
    "        if not normalize:\n",
    "            plt.ylabel(f'$P(\\\\tau) [{uvpt.units}]$', fontsize=18)\n",
    "        else:\n",
    "            plt.ylabel(f'$P(\\\\tau) / P(0)$ [unitless]', fontsize=18)\n",
    "\n",
    "        plt.title(f'{freq_range[0]/1e6:.1f}-{freq_range[1]/1e6:.1f} MHz {pp}', fontsize=16)"
   ]
  },
  {
   "cell_type": "markdown",
   "id": "grand-mayor",
   "metadata": {},
   "source": [
    "Compare auto power spectra with noise. Note that the autos are not cross-multiplied in baseline and time so they have a noise bias."
   ]
  },
  {
   "cell_type": "code",
   "execution_count": null,
   "id": "focal-treasurer",
   "metadata": {
    "ExecuteTime": {
     "end_time": "2021-08-08T17:52:06.525351Z",
     "start_time": "2021-08-08T17:51:49.028503Z"
    },
    "code_folding": [],
    "scrolled": false
   },
   "outputs": [],
   "source": [
    "for spw in spws:\n",
    "    plot_auto_power_spectra_tavg(uvpt=uvpa['foreground_filled'], uvptd=uvpda['foreground_filled'], spw=spw, outlier_delay=700, outlier_sigma=6)"
   ]
  },
  {
   "cell_type": "markdown",
   "id": "caroline-class",
   "metadata": {},
   "source": [
    "Time for some wedge plots. Plot each field, average of all fields and all LSTs."
   ]
  },
  {
   "cell_type": "code",
   "execution_count": null,
   "id": "attempted-ambassador",
   "metadata": {
    "ExecuteTime": {
     "end_time": "2021-08-08T17:52:21.390269Z",
     "start_time": "2021-08-08T17:52:21.380151Z"
    },
    "code_folding": []
   },
   "outputs": [],
   "source": [
    "def select_field(uvpt, fields, time_average=True):\n",
    "    time_selection = (uvpt.lst_avg_array * 12 / np.pi >= fields[0][0]) & (uvpt.lst_avg_array * 12 / np.pi <= fields[0][1])\n",
    "    if len(fields) > 0:\n",
    "        for field in fields[1:]:\n",
    "            time_selection = time_selection | ((uvpt.lst_avg_array * 12 / np.pi >= field[0]) & (uvpt.lst_avg_array * 12 / np.pi <= field[1]))\n",
    "\n",
    "    output = uvpt.select(times=uvpt.time_avg_array[time_selection], inplace=False)\n",
    "    if time_average:\n",
    "        output = output.average_spectra(time_avg=time_average, inplace=False, error_weights='P_N', error_field=list(uvpt.stats_array.keys()))\n",
    "    return output"
   ]
  },
  {
   "cell_type": "code",
   "execution_count": null,
   "id": "cardiac-proposal",
   "metadata": {
    "ExecuteTime": {
     "end_time": "2021-08-08T17:52:23.273273Z",
     "start_time": "2021-08-08T17:52:23.248373Z"
    },
    "code_folding": []
   },
   "outputs": [],
   "source": [
    "import copy\n",
    "def plot_wedges(uvpt, polpair=('pI', 'pI'), spw=0, dynamic_range=1e10, max_bl_angle=75., label=''):\n",
    "    vmax = np.round(np.log10(np.max(np.abs(uvpt.data_array[spw])))) - 1\n",
    "    vmin = vmax - np.log10(dynamic_range)\n",
    "    fig, axarr = plt.subplots(1, len(lst_fields) + 2)\n",
    "    fig.set_size_inches(36, 9)\n",
    "    cmap = copy.copy(cmaps.inferno)\n",
    "    cmap.set_bad(color='k')\n",
    "    freq_range = uvpt.get_spw_ranges(spw)[0][:2]\n",
    "    blp_groups, _, red_bl_ang, _ = utils.get_blvec_reds(uvpt, bl_error_tol=1.0)\n",
    "    blps_to_keep = []\n",
    "    for blg, ang in zip(blp_groups, red_bl_ang):\n",
    "        if ang <= max_bl_angle:\n",
    "            blps_to_keep.extend(blg)\n",
    "    for fieldnum, (fieldlabel, field) in enumerate(zip(field_labels, lst_fields)):\n",
    "        title = f'{label}: Field {fieldlabel} \\n {freq_range[0]/1e6:.1f}-{freq_range[1]/1e6:.1f} MHz \\n {polpair}'\n",
    "        uvpt_select = select_field(uvpt, [field])\n",
    "        # only select baselines with angle less then max_bl_angle.\n",
    "        uvpt_select.select(blpairs=blps_to_keep, inplace=True)\n",
    "        plt.sca(axarr[fieldnum])\n",
    "        pspecplot.delay_wedge(uvp=uvpt_select, ax=plt.gca(), pol=('pI', 'pI'), spw=spw, component='real', vmin=vmin, vmax=vmax, error_weights='P_N', \n",
    "                              fold=True, rotate=True, cmap=cmap, log10=True, colorbar=True, title=title, horizon_lines=True)\n",
    "        plt.ylim(0, 2000)\n",
    "    # now select the union of all fields\n",
    "    plt.sca(axarr[len(lst_fields)])\n",
    "    uvpt_select = select_field(uvpt, lst_fields)\n",
    "    title = f'{label}: All Fields \\n {freq_range[0]/1e6:.1f}-{freq_range[1]/1e6:.1f} MHz \\n {polpair}'\n",
    "    # only select baselines with angle less then max_bl_angle.\n",
    "    uvpt_select.select(blpairs=blps_to_keep, inplace=True)\n",
    "    pspecplot.delay_wedge(uvp=uvpt_select, ax=plt.gca(), pol=('pI', 'pI'), spw=spw, component='real', vmin=vmin, vmax=vmax, error_weights='P_N', \n",
    "                          fold=True, rotate=True, cmap=cmap, log10=True, colorbar=True, title=title, horizon_lines=True)\n",
    "    plt.ylim(0, 2000)\n",
    "    \n",
    "    \n",
    "    \n",
    "    plt.sca(axarr[len(lst_fields) + 1])\n",
    "    # Now do all LSTs\n",
    "    title = f'{label}: All LSTs \\n {freq_range[0]/1e6:.1f}-{freq_range[1]/1e6:.1f} MHz \\n {polpair}'\n",
    "    uvpt_select = uvpt.average_spectra(time_avg=True, inplace=False, error_weights='P_N')\n",
    "    uvpt_select.select(blpairs=blps_to_keep, inplace=True)\n",
    "    pspecplot.delay_wedge(uvp=uvpt_select, ax=plt.gca(), pol=('pI', 'pI'), spw=spw, component='real', vmin=vmin, vmax=vmax, error_weights='P_N', \n",
    "                      fold=True, rotate=True, cmap=cmap, log10=True, colorbar=True, title=title, horizon_lines=True)\n",
    "    plt.ylim(0, 2000)"
   ]
  },
  {
   "cell_type": "code",
   "execution_count": null,
   "id": "raised-idaho",
   "metadata": {
    "ExecuteTime": {
     "end_time": "2021-08-08T18:14:50.141762Z",
     "start_time": "2021-08-08T17:52:23.984636Z"
    },
    "scrolled": false
   },
   "outputs": [],
   "source": [
    "for spw in spws:\n",
    "    for ext in uvp_avg:\n",
    "        plot_wedges(uvp_avg[ext], spw=spw, label=ext)"
   ]
  },
  {
   "cell_type": "code",
   "execution_count": null,
   "id": "norman-screen",
   "metadata": {
    "ExecuteTime": {
     "end_time": "2021-08-09T05:50:22.525048Z",
     "start_time": "2021-08-09T05:50:22.481144Z"
    },
    "code_folding": []
   },
   "outputs": [],
   "source": [
    "def plot_spherical_power_spectra(uvpt, uvptd=None, polpair=('pI', 'pI'), spw=0, dynamic_range=1e10, max_bl_angle=75., k_bin_multiplier=2, delta_sq=False, axarr=None, \n",
    "                                 fig=None, scolor='k', dcolor='grey', label='', legend=False):\n",
    "    vmax = 10 ** (np.round(np.log10(np.max(np.abs(uvpt.data_array[spw])))) - 1)\n",
    "    vmin = vmax / dynamic_range\n",
    "    if fig is None or axarr is None:\n",
    "        fig, axarr = plt.subplots(1, len(lst_fields) + 2)\n",
    "        fig.set_size_inches(36, 9)\n",
    "    freq_range = uvpt.get_spw_ranges(spw)[0][:2]\n",
    "    blp_groups, _, red_bl_ang, _ = utils.get_blvec_reds(uvpt, bl_error_tol=1.0)\n",
    "    blps_to_keep = []\n",
    "    # SET K BINS\n",
    "    dlys = uvpt.get_dlys(spw)\n",
    "    kparas = uvpt.get_kparas(spw)\n",
    "    cfactor = np.nanmean(dlys / kparas) * 1e9\n",
    "    nk = len(kparas)\n",
    "    kbins = uvpt.get_kparas(spw)[nk//2::k_bin_multiplier]\n",
    "    kbin_widths = np.asarray([np.mean(np.diff(kbins)) / 2 for k in range(len(kbins))])\n",
    "    for blg, ang in zip(blp_groups, red_bl_ang):\n",
    "        if ang <= max_bl_angle:\n",
    "            blps_to_keep.extend(blg)\n",
    "    # dsq multplier\n",
    "    if delta_sq:\n",
    "        dsq = kbins ** 3 / (2 * np.pi ** 2)\n",
    "        vmax *= dsq[dsq > 0.0].min()\n",
    "        vmin *= dsq[dsq > 0.0].min()\n",
    "    else:\n",
    "        dsq = 1.0\n",
    "    # noise multiplier\n",
    "    dsqn = dsq * 2\n",
    "    def single_plot(uvpt, uvptd, title):\n",
    "        # only select baselines with angle less then max_bl_angle.\n",
    "        uvpt.select(blpairs=blps_to_keep, inplace=True)\n",
    "        # set wedge to have infinite variance.\n",
    "        uvpt.set_stats_slice('P_N', m=1/0.299, b=200, above=False, val=1e40)\n",
    "        # spherical average\n",
    "        uvpt = grouping.spherical_average(uvpt, kbins=kbins, bin_widths=kbin_widths, \n",
    "                                          error_weights='P_N')\n",
    "        to_plot = [uvpt]\n",
    "        if uvptd is not None:\n",
    "            uvptd.select(blpairs=blps_to_keep, inplace=True)\n",
    "            uvptd.set_stats_slice('P_N', m=1/0.299, b=200, above=False, val=1e40)\n",
    "            uvptd = grouping.spherical_average(uvptd, kbins=kbins, bin_widths=kbin_widths, \n",
    "                                               error_weights='P_N')\n",
    "            to_plot += [uvptd]\n",
    "        offsets = [0., np.mean(np.diff(kbins) / 10.)]\n",
    "        for color, uvpplot, offset in zip([scolor, dcolor], to_plot, offsets):\n",
    "            k=(spw, uvpplot.get_blpairs()[0], polpair)\n",
    "            d = np.real(uvpplot.get_data(k)[0])\n",
    "            ltz = d <= 0.\n",
    "            gtz = d > 0.\n",
    "            plt.errorbar(kbins[gtz] + offset, np.abs(d*dsq)[gtz], (dsqn*uvpplot.get_stats('P_SN', k)[0])[gtz], \n",
    "                 ls='none', marker='o', color=color, label=f'{label}: sum', capsize=2)\n",
    "            plt.errorbar(kbins[ltz] + offset, np.abs(dsq*d)[ltz], (dsqn*uvpplot.get_stats('P_SN', k)[0])[ltz], \n",
    "                         ls='none', marker='o', markerfacecolor='none', color=color, capsize=2)\n",
    "            plt.plot(kbins, (dsqn*uvpplot.get_stats('P_SN', k)[0]), color='grey', ls='--')#, label='P_SN sum')\n",
    "        plt.yscale('log')\n",
    "        plt.grid()\n",
    "        plt.ylim(vmin , vmax)\n",
    "        plt.title(title, fontsize=18)\n",
    "        plt.xlabel('k [$h$Mpc$^{-1}$]', fontsize=16)\n",
    "        if delta_sq:\n",
    "            plt.ylabel('$\\\\Delta^2$ [mK$^2$]', fontsize=16)\n",
    "        else:\n",
    "            plt.ylabel(f'${uvpt.units}$')\n",
    "        plt.gca().tick_params(labelsize=14)\n",
    "        plt.xlim(0, 1.4)\n",
    "        if legend:\n",
    "            plt.legend()\n",
    "        ax1 = plt.gca()\n",
    "        ax2 = ax1.twiny()\n",
    "        dticks = ax1.get_xticks()\n",
    "        dticklabels = [f'{int(cfactor * k)}' for k in dticks]\n",
    "        ax2.set_xticks(dticks)\n",
    "        ax2.set_xticklabels(dticklabels)\n",
    "        ax2.set_xlabel('$\\\\tau$ [ns]')\n",
    "\n",
    "    for fieldnum, (fieldlabel, field) in enumerate(zip(field_labels, lst_fields)):\n",
    "        # select fields\n",
    "        plt.sca(axarr[fieldnum])\n",
    "        uvpt_select = select_field(uvpt, [field])\n",
    "        if uvptd is not None:\n",
    "            uvptd_select = select_field(uvptd, [field])\n",
    "        else:\n",
    "            uvptd_select = None\n",
    "        title = (f'SPW {spw}, {polpair}, z={.5*(1420e6/freq_range[1] - 1) + .5*(1420e6/freq_range[0]-1):.2f}'\n",
    "                 f'({1420e6/freq_range[1] - 1:.2f}-{1420e6/freq_range[0]-1:.2f})\\n $\\\\nu$ = {freq_range[0]/1e6:.1f}-{freq_range[1]/1e6:.1f} MHz \\n Field {fieldlabel}')\n",
    "        single_plot(uvpt_select, uvptd_select, title)\n",
    "\n",
    "    # now select the union of all fields\n",
    "    plt.sca(axarr[len(lst_fields)])\n",
    "    uvpt_select = select_field(uvpt, lst_fields)\n",
    "    if uvptd is not None:\n",
    "        uvptd_select = select_field(uvptd, lst_fields)\n",
    "    else:\n",
    "        uvptd_select = None\n",
    "\n",
    "    title = (f'SPW {spw}, {polpair}, z={.5*(1420e6/freq_range[1] - 1) + .5*(1420e6/freq_range[0]-1):.2f}'\n",
    "             f'({1420e6/freq_range[1] - 1:.2f}-{1420e6/freq_range[0]-1:.2f})\\n $\\\\nu$ = {freq_range[0]/1e6:.1f}-{freq_range[1]/1e6:.1f} MHz \\n  All Fields')\n",
    "    single_plot(uvpt_select, uvptd_select, title)\n",
    "    \n",
    "    # All LSTs.\n",
    "\n",
    "    plt.sca(axarr[len(lst_fields) + 1])\n",
    "    # Now do all LSTs\n",
    "    title = (f'SPW {spw}, {polpair}, z={.5*(1420e6/freq_range[1] - 1) + .5*(1420e6/freq_range[0]-1):.2f}'\n",
    "             f'({1420e6/freq_range[1] - 1:.2f}-{1420e6/freq_range[0]-1:.2f})\\n $\\\\nu$ = {freq_range[0]/1e6:.1f}-{freq_range[1]/1e6:.1f} MHz \\n  All LSTs')    \n",
    "    uvpt_select = select_field(uvpt, [(uvpt.lst_avg_array.min() * 12 / np.pi, uvpt.lst_avg_array.max() * 12 / np.pi)])\n",
    "    if uvptd is not None:\n",
    "        uvptd_select = select_field(uvptd, [(uvpt.lst_avg_array.min() * 12 / np.pi, uvpt.lst_avg_array.max() * 12 / np.pi)])\n",
    "    else:\n",
    "        uvptd_select = None\n",
    "    single_plot(uvpt_select, uvptd_select, title)\n",
    "    return fig, axarr"
   ]
  },
  {
   "cell_type": "code",
   "execution_count": null,
   "id": "prime-blend",
   "metadata": {
    "ExecuteTime": {
     "end_time": "2021-08-15T22:59:23.967046Z",
     "start_time": "2021-08-15T22:59:23.693421Z"
    }
   },
   "outputs": [],
   "source": [
    "if 'foreground_filled' in exts:\n",
    "    ext_labels = {'filled': 'foreground_filled',\n",
    "                  'res': 'foreground_res.filled_flags',\n",
    "                  'model': 'foreground_model.filled_flags'}\n",
    "else:\n",
    "    ext_labels = {'filled': 'foreground_filled.res_flags.filled', \n",
    "                      'res':'foreground_res.filled', \n",
    "                      'model': 'foreground_model.res_flags.filled'}"
   ]
  },
  {
   "cell_type": "code",
   "execution_count": null,
   "id": "worthy-hungarian",
   "metadata": {
    "ExecuteTime": {
     "end_time": "2021-08-09T06:01:07.517005Z",
     "start_time": "2021-08-09T05:50:23.414797Z"
    },
    "scrolled": false
   },
   "outputs": [],
   "source": [
    "for spw in spws:\n",
    "    plot_spherical_power_spectra(uvp_avg[ext_labels['filled']], uvpd_avg[ext_labels['filled']], spw=spw)"
   ]
  },
  {
   "cell_type": "code",
   "execution_count": null,
   "id": "impressed-adapter",
   "metadata": {
    "ExecuteTime": {
     "end_time": "2021-08-09T21:21:49.171239Z",
     "start_time": "2021-08-09T21:00:48.713549Z"
    },
    "scrolled": false
   },
   "outputs": [],
   "source": [
    "for spw in spws:\n",
    "    plot_spherical_power_spectra(uvp_avg[ext_labels['filled']], uvpd_avg[ext_labels['filled']], spw=spw, delta_sq=True)"
   ]
  },
  {
   "cell_type": "code",
   "execution_count": null,
   "id": "metric-paint",
   "metadata": {
    "ExecuteTime": {
     "end_time": "2021-08-09T07:40:42.955927Z",
     "start_time": "2021-08-09T07:08:40.528157Z"
    },
    "scrolled": false
   },
   "outputs": [],
   "source": [
    "\n",
    "for spw in spws:\n",
    "    fig, axarr =  plot_spherical_power_spectra(uvp_avg[ext_labels['filled']], spw=spw, label='Interpolated')\n",
    "    fig, axarr = plot_spherical_power_spectra(uvp_avg[ext_labels['res']], spw=spw, fig=fig, axarr=axarr, scolor='r', label='Foreground Resid')\n",
    "    fig, axarr = plot_spherical_power_spectra(uvp_avg[ext_labels['model']], spw=spw, fig=fig, axarr=axarr, scolor='orange', label='Foreground Model', legend=True)\n",
    "    #for ax in axarr:\n",
    "    #    ax.set_ylim(1e8, 1e13)"
   ]
  },
  {
   "cell_type": "code",
   "execution_count": null,
   "id": "rotary-doubt",
   "metadata": {
    "ExecuteTime": {
     "end_time": "2021-08-09T08:12:43.458864Z",
     "start_time": "2021-08-09T07:40:42.957797Z"
    },
    "scrolled": false
   },
   "outputs": [],
   "source": [
    "for spw in spws:\n",
    "    fig, axarr =  plot_spherical_power_spectra(uvp_avg[ext_labels['filled']], spw=spw, label='Interpolated', delta_sq=True)\n",
    "    plot_spherical_power_spectra(uvp_avg[ext_labels['res']], spw=spw, fig=fig, axarr=axarr, scolor='r', label='Foreground Resid', delta_sq=True)\n",
    "    plot_spherical_power_spectra(uvp_avg[ext_labels['model']], spw=spw, fig=fig, axarr=axarr, scolor='orange', label='Foreground Model', legend=True, delta_sq=True)\n",
    "    #for ax in axarr:\n",
    "    #    ax.set_ylim(1e3, 1e11)"
   ]
  },
  {
   "cell_type": "code",
   "execution_count": null,
   "id": "continental-hampton",
   "metadata": {},
   "outputs": [],
   "source": []
  },
  {
   "cell_type": "code",
   "execution_count": null,
   "id": "mature-groove",
   "metadata": {},
   "outputs": [],
   "source": []
  },
  {
   "cell_type": "code",
   "execution_count": null,
   "id": "formed-brunei",
   "metadata": {},
   "outputs": [],
   "source": []
  }
 ],
 "metadata": {
  "kernelspec": {
   "display_name": "Python 3",
   "language": "python",
   "name": "python3"
  },
  "language_info": {
   "codemirror_mode": {
    "name": "ipython",
    "version": 3
   },
   "file_extension": ".py",
   "mimetype": "text/x-python",
   "name": "python",
   "nbconvert_exporter": "python",
   "pygments_lexer": "ipython3",
   "version": "3.7.9"
  }
 },
 "nbformat": 4,
 "nbformat_minor": 5
}
