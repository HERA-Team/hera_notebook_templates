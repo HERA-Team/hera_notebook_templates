{
 "cells": [
  {
   "cell_type": "markdown",
   "id": "0883faa6-98cc-486f-9ab3-3fa9dbc87666",
   "metadata": {
    "editable": true,
    "slideshow": {
     "slide_type": ""
    },
    "tags": []
   },
   "source": [
    "# Power Spectrum Summary\n",
    "\n",
    "**by Josh Dillon and Steven Murray**, last updated March 25, 2025\n",
    "\n",
    "The purpose of this notebook is to pull together results from power spectra from single, redundantly-averaged baselines (typically cross-power spectra from interleaved sets of times) as produced by the [Single Baseline Filtering and Power Spectrum Estimation\n",
    "notebook](https://github.com/HERA-Team/hera_notebook_templates/blob/master/notebooks/single_baseline_postprocessing_and_pspec.ipynb). It is supposed to be roughly comparable to [a similar notebook from H1C](https://github.com/HERA-Team/H1C_IDR3_Power_Spectra/blob/main/SPOILERS/All_Epochs_Power_Spectra/H1C_IDR3_Power_Spectra.ipynb).\n",
    "\n",
    "### [• Figure 1: Per-Baseline Signal Loss Corrections](#Figure-2:-Per-Baseline-Signal-Loss-Corrections)\n",
    "### [• Figure 2: Per-Baseline, Time-Averaged High Delay Average SNR](#Figure-3:-Per-Baseline,-Time-Averaged-High-Delay-Average-SNR)\n",
    "### [• Figure 3: Histograms of Time-Averaged High-Delay SNRs](#Figure-4:-Histograms-of-Time-Averaged-High-Delay-SNRs)\n",
    "### [• Figure 4: Time-Averaged Cylindrical P(k)](#Figure-5:-Time-Averaged-Cylindrical-P(k))\n",
    "### [• Figure 5: Time-Averaged Cylindrical SNR](#Figure-6:-Time-Averaged-Cylindrical-SNR)\n",
    "### [• Figure 6: Spherically-Averaged $\\Delta^2$](#Figure-7:-Spherically-Averaged-%24%5CDelta%5E2%24)\n",
    "### [• Table 1: Power Spectra, Error Bars, and Upper Limits](#Table-1:-Power-Spectra,-Error-Bars,-and-Upper-Limits)"
   ]
  },
  {
   "cell_type": "markdown",
   "id": "77ba194f-2e2b-4520-bf62-cb63ddd93807",
   "metadata": {},
   "source": [
    "## Imports and Parameters"
   ]
  },
  {
   "cell_type": "code",
   "execution_count": null,
   "id": "a44e5b26-a0f2-4cd4-bc61-802f83ac457f",
   "metadata": {
    "editable": true,
    "slideshow": {
     "slide_type": ""
    },
    "tags": []
   },
   "outputs": [],
   "source": [
    "import time\n",
    "tstart = time.time()"
   ]
  },
  {
   "cell_type": "code",
   "execution_count": null,
   "id": "29051700-db27-4b1f-901d-1694dfc20bbb",
   "metadata": {
    "editable": true,
    "slideshow": {
     "slide_type": ""
    },
    "tags": []
   },
   "outputs": [],
   "source": [
    "import os\n",
    "os.environ['HDF5_USE_FILE_LOCKING'] = 'FALSE'\n",
    "import h5py\n",
    "import hdf5plugin  # REQUIRED to have the compression plugins available\n",
    "import numpy as np\n",
    "import glob\n",
    "import copy\n",
    "import pandas as pd\n",
    "import pickle\n",
    "from hera_cal import io, utils\n",
    "import hera_pspec as hp\n",
    "import matplotlib.pyplot as plt\n",
    "import matplotlib\n",
    "from pathlib import Path\n",
    "from scipy import constants\n",
    "from scipy.signal import windows\n",
    "from IPython.core.display import display, HTML\n",
    "%matplotlib inline"
   ]
  },
  {
   "cell_type": "code",
   "execution_count": null,
   "id": "bf5a98de-2d26-4281-95bf-344e6a598434",
   "metadata": {
    "editable": true,
    "slideshow": {
     "slide_type": ""
    },
    "tags": []
   },
   "outputs": [],
   "source": [
    "# Data settings\n",
    "TAVG_PSPEC_FILE: str = '/lustre/aoc/projects/hera/h6c-analysis/IDR2/lstbin-outputs/redavg-smoothcal-inpaint-500ns-lstcal/inpaint/single_baseline_files/baselines_merged.tavg.pspec.h5'\n",
    "\n",
    "FRF_SIGNAL_LOSS_FILE: str = None\n",
    "\n",
    "# Output Files\n",
    "RESULTS_FOLDER: str = '/lustre/aoc/projects/hera/smurray/hera/h6c-idr2-pspec/v3.3'\n",
    "CASENAME: str = \"all_baselines_interleaved_IDR2.3_500ns_14band\"\n",
    "\n",
    "WINDOW_FUNCTION_FILEGLOB: str = \"/lustre/aoc/projects/hera/kfchen/H6C/inpainting/window_function/exact_window-spw??-wf.npy\"\n",
    "\n",
    "# Analysis Options\n",
    "BANDS_TO_USE: str = \"1,2,3,5,6,9,10,13\"\n",
    "WEDGE_BUFFER_NS: float = 500.0\n",
    "MAX_FRF_SIGNAL_LOSS: float = 0.1\n",
    "\n",
    "KBINS_DK_MULTIPLIER: float = 4.0        # How wide the |k|-bins are, multiplied by natural delay resolution\n",
    "KBINS_KSTART_MULTIPLIER: float = 0.625  # The first |k| bin center is at KBINS_DK_MULTIPLIER*dk*KBINS_KSTART_MULTIPLIER\n",
    "KBINS_MAXK_HMPC: float = 2.5            #  The maximum k to include in the spherical averages"
   ]
  },
  {
   "cell_type": "code",
   "execution_count": null,
   "id": "0952425d-131c-4e0c-a496-d735d53fc602",
   "metadata": {
    "editable": true,
    "slideshow": {
     "slide_type": ""
    },
    "tags": []
   },
   "outputs": [],
   "source": [
    "# Some simple formatting of the inputs\n",
    "BANDS_TO_USE = [int(band) for band in BANDS_TO_USE.split(\",\")] # 1 indexed\n",
    "\n",
    "RESULTS_FOLDER = Path(RESULTS_FOLDER)\n",
    "\n",
    "TAVG_PSPEC_FILE = Path(TAVG_PSPEC_FILE)\n",
    "    \n",
    "if FRF_SIGNAL_LOSS_FILE is None:\n",
    "    FRF_SIGNAL_LOSS_FILE = TAVG_PSPEC_FILE.parent / TAVG_PSPEC_FILE.name.replace(\".pspec.h5\", \".frf_losses.pkl\")\n",
    "else:\n",
    "    FRF_SIGNAL_LOSS_FILE = Path(FRF_SIGNAL_LOSS_FILE)\n",
    "    \n",
    "if WINDOW_FUNCTION_FILEGLOB is None:\n",
    "    WINDOW_FUNCTION_FILEGLOB = f\"{TAVG_PSPEC_FILE.parent}/zen.LST.baseline.*.sum.tavg.pspec.window.pkl\"\n"
   ]
  },
  {
   "cell_type": "markdown",
   "id": "70906d6a-bc47-4265-b8b9-39bc6aaaecca",
   "metadata": {
    "editable": true,
    "slideshow": {
     "slide_type": ""
    },
    "tags": []
   },
   "source": [
    "## Load Power Spectra\n",
    "\n"
   ]
  },
  {
   "cell_type": "code",
   "execution_count": null,
   "id": "55687e24",
   "metadata": {},
   "outputs": [],
   "source": [
    "psc = hp.PSpecContainer(TAVG_PSPEC_FILE, mode='r', keep_open=False)\n",
    "uvp = psc.get_pspec('stokespol', 'time_and_interleave_averaged')\n",
    "    \n",
    "with open(FRF_SIGNAL_LOSS_FILE, 'rb') as f:\n",
    "    frf_losses = pickle.load(f)"
   ]
  },
  {
   "cell_type": "markdown",
   "id": "3d4f0084-8db8-49f3-b23c-3908a7370c5f",
   "metadata": {},
   "source": [
    "Add window functions. Non-exact window function files are produced in the `compute_window_functions.ipynb` notebook. Exact window functions produced by Kai-Feng Chen."
   ]
  },
  {
   "cell_type": "code",
   "execution_count": null,
   "id": "75c1365f-3a6d-41a2-bfa6-9450db9b42e5",
   "metadata": {},
   "outputs": [],
   "source": [
    "uvp.select(\n",
    "    spws=[b - 1 for b in BANDS_TO_USE],\n",
    "    polpairs=[('pI', 'pI'), ('pQ', 'pQ')]\n",
    ")\n",
    "\n",
    "frf_losses = {k: v[[b - 1 for b in BANDS_TO_USE]] for k, v in frf_losses.items()}"
   ]
  },
  {
   "cell_type": "markdown",
   "id": "f6243e2d-b05a-4842-bb86-97ceb69eb794",
   "metadata": {},
   "source": [
    "Apply loss-correction from non-redundancy\n",
    "\n",
    "**TODO: move this to single-baseline notebook**"
   ]
  },
  {
   "cell_type": "code",
   "execution_count": null,
   "id": "8e5bdb23-970e-4974-8c8c-d2c080f3d2cb",
   "metadata": {},
   "outputs": [],
   "source": [
    "# These are losses in percent, taken from Rajorshi.\n",
    "non_redundancy_losses = [1.2, 2.2, 1.7, 1.8, 1.3, 1.3, 2.1, 3.1]\n",
    "\n",
    "for spw, loss in enumerate(non_redundancy_losses):\n",
    "    uvp.data_array[spw] *= 100/(100 - loss)"
   ]
  },
  {
   "cell_type": "code",
   "execution_count": null,
   "id": "82e4292d-8050-4e3d-88d3-30d120852c10",
   "metadata": {},
   "outputs": [],
   "source": [
    "# dict to map baseline pairs to baseline vectors\n",
    "blp_to_blvec_dict = dict(zip(uvp.get_blpairs(), uvp.get_blpair_blvecs()))"
   ]
  },
  {
   "cell_type": "code",
   "execution_count": null,
   "id": "89a8ff01-2700-4258-a3d6-d0c3e72011ed",
   "metadata": {},
   "outputs": [],
   "source": [
    "# get mean redshifts for each spw\n",
    "zs = np.array([np.mean(1.420405751e9 / uvp.freq_array[uvp.spw_freq_array == spw] - 1) for spw in uvp.spw_array])"
   ]
  },
  {
   "cell_type": "markdown",
   "id": "8dfe9cf4-feaf-4f5b-af23-5d6669d83ea9",
   "metadata": {},
   "source": [
    "Define the spherical k-bins"
   ]
  },
  {
   "cell_type": "code",
   "execution_count": null,
   "id": "c1f1d88f-f3a3-47e2-abf1-c6844d837013",
   "metadata": {},
   "outputs": [],
   "source": [
    "spherical_kbins = {}\n",
    "for spw in uvp.spw_array:\n",
    "    dk = KBINS_DK_MULTIPLIER * np.median(np.diff(uvp.get_kparas(spw)))\n",
    "    spherical_kbins[spw] = np.arange(KBINS_KSTART_MULTIPLIER * dk, KBINS_MAXK_HMPC, dk)"
   ]
  },
  {
   "cell_type": "markdown",
   "id": "54f00476-9211-48a4-ae64-8a4e66a2f85c",
   "metadata": {},
   "source": [
    "## Examine Signal Loss Across Baselines"
   ]
  },
  {
   "cell_type": "code",
   "execution_count": null,
   "id": "132c965a-d596-407a-a9b0-eb38fcdc8aee",
   "metadata": {},
   "outputs": [],
   "source": [
    "def plot_baseline_signal_loss():\n",
    "    # Show signal loss correction applied to each baseline as a function of spectral window, highlighting those with too much signal loss \n",
    "    fig, axes = plt.subplots(int(np.ceil(uvp.Nspws / 2)),2, figsize=(12, 12), sharex=True, sharey=True, gridspec_kw={'wspace': 0, 'hspace':0})\n",
    "    \n",
    "    for spw, ax in enumerate(axes.ravel()):\n",
    "        if spw == len(uvp.spw_array):\n",
    "            break\n",
    "    \n",
    "        bl_vecs = {}\n",
    "        for key in uvp.get_all_keys():\n",
    "            _spw, blp, pp = key\n",
    "            if _spw != spw: \n",
    "                continue\n",
    "            if pp[0] != 'pI':\n",
    "                continue\n",
    "            blv = blp_to_blvec_dict[blp]\n",
    "            if blv[1] < 0:\n",
    "                bl_vecs[blp] = -blv\n",
    "            else:\n",
    "                bl_vecs[blp] = blv\n",
    "                    \n",
    "        if spw % 2 == 0:\n",
    "            ax.set_ylabel('NS Baseline Component (m)')\n",
    "        if spw >= int(np.ceil(uvp.Nspws / 2)) - 2:\n",
    "            ax.set_xlabel('EW Baseline Component (m)')\n",
    "        \n",
    "        blps = list(bl_vecs.keys())\n",
    "        im = ax.scatter([bl_vecs[blp][0] for blp in blps], [bl_vecs[blp][1] for blp in blps], c=[frf_losses[blp][spw] for blp in blps], \n",
    "                        edgecolors=['r' if (frf_losses[blp][spw] > MAX_FRF_SIGNAL_LOSS) else 'none' for blp in blps], linewidths=.5,\n",
    "                        s=20, cmap='viridis', vmin=0, vmax=min(2 * MAX_FRF_SIGNAL_LOSS, 1))\n",
    "    \n",
    "        ax.text(ax.get_xlim()[0] + 10, ax.get_ylim()[-1] - 10, f'Band {spw + 1}\\nz = {zs[spw]:.1f}', ha='left', va='top',\n",
    "                         bbox=dict(facecolor='w', edgecolor='black', alpha=.75, boxstyle='round', ls='-'))\n",
    "        \n",
    "    plt.tight_layout()\n",
    "    plt.colorbar(im, ax=axes, pad=.02, aspect=40, extend='max', location='top', label=f'Signal Loss due to Fringe Rate and Cross Talk Filters')\n",
    "    plt.savefig(os.path.join(RESULTS_FOLDER, 'per_baseline_signal_loss_all_bands.pdf'), bbox_inches='tight')"
   ]
  },
  {
   "cell_type": "markdown",
   "id": "96a2a02e-1fd6-4264-ab03-0f19da6cb778",
   "metadata": {},
   "source": [
    "### Figure 1: Per-Baseline Signal Loss Corrections\n",
    "Baselines outlined in red have too much signal loss and are excluded from the final power spectrum."
   ]
  },
  {
   "cell_type": "code",
   "execution_count": null,
   "id": "30f64341-c302-4c6c-ba61-2242eec0ee1c",
   "metadata": {},
   "outputs": [],
   "source": [
    "plot_baseline_signal_loss()"
   ]
  },
  {
   "cell_type": "code",
   "execution_count": null,
   "id": "78fbe19f-579b-4649-9c29-604a2f6da8f7",
   "metadata": {},
   "outputs": [],
   "source": [
    "def plot_baseline_SNR():\n",
    "    # Look for individual baselines with high SNR outside the wedge, a sign of a particular failure mode\n",
    "    low_dly = 1000\n",
    "    high_dly = 2000\n",
    "    fig, axes = plt.subplots(int(np.ceil(uvp.Nspws / 2)),2, figsize=(12, 12), sharex=True, sharey=True, gridspec_kw={'wspace': 0, 'hspace':0})\n",
    "    \n",
    "    for spw, ax in enumerate(axes.ravel()):\n",
    "        if spw == len(uvp.spw_array):\n",
    "            break\n",
    "        bl_vecs = {}\n",
    "        pk_avgs = {}\n",
    "        snr_avgs = {}\n",
    "        dlys = uvp.get_dlys(spw) * 1e9\n",
    "        dlys_to_use = (low_dly <= np.abs(dlys)) & (np.abs(dlys) <= high_dly)\n",
    "        for key in uvp.get_all_keys():\n",
    "            _spw, blp, pp = key\n",
    "            if _spw != spw: \n",
    "                continue\n",
    "            if pp[0] != 'pI':\n",
    "                continue\n",
    "            blv = blp_to_blvec_dict[blp]\n",
    "            if blv[1] < 0:\n",
    "                bl_vecs[blp] = -blv\n",
    "            else:\n",
    "                bl_vecs[blp] = blv\n",
    "            pk_avgs[blp] = np.mean(uvp.get_data(key)[0, dlys_to_use].real)\n",
    "            snr_avgs[blp] = pk_avgs[blp] / np.mean(uvp.get_stats('P_N', key)[0, dlys_to_use].real)\n",
    "            \n",
    "        if spw % 2 == 0:\n",
    "            ax.set_ylabel('NS Baseline Component (m)')\n",
    "        if spw >= int(np.ceil(uvp.Nspws / 2)) - 2:\n",
    "            ax.set_xlabel('EW Baseline Component (m)')\n",
    "        \n",
    "        blps = list(bl_vecs.keys())\n",
    "        \n",
    "        im = ax.scatter([bl_vecs[blp][0] for blp in blps], [bl_vecs[blp][1] for blp in blps], c=[snr_avgs[blp] for blp in blps], \n",
    "                        edgecolors=['k' if (frf_losses[blp][spw] >= MAX_FRF_SIGNAL_LOSS) else 'none' for blp in blps], linewidths=.5,\n",
    "                        s=20, cmap='bwr', vmin=-2, vmax=2)\n",
    "    \n",
    "        ax.text(ax.get_xlim()[0] + 10, ax.get_ylim()[-1] - 10, f'Band {spw + 1}\\nz = {zs[spw]:.1f}', ha='left', va='top',\n",
    "                         bbox=dict(facecolor='w', edgecolor='black', alpha=.75, boxstyle='round', ls='-'))\n",
    "        \n",
    "    plt.tight_layout()\n",
    "    plt.colorbar(im, ax=axes, pad=.02, aspect=40, extend='both', location='top', label=f'Average $P(k) / P_N$ Between {low_dly} and {high_dly} ns')\n",
    "    plt.savefig(os.path.join(RESULTS_FOLDER, 'per_baseline_SNR_all_bands.pdf'), bbox_inches='tight')"
   ]
  },
  {
   "cell_type": "markdown",
   "id": "2f556bdf-9281-41bb-bd8c-46ab1cfc7e89",
   "metadata": {},
   "source": [
    "### Figure 2: Per-Baseline, Time-Averaged High Delay Average SNR\n",
    "Baselines outlined in black have too much signal loss and are excluded from the final power spectrum."
   ]
  },
  {
   "cell_type": "code",
   "execution_count": null,
   "id": "1051fc6f-7834-4a5e-b685-5c711e6382a0",
   "metadata": {},
   "outputs": [],
   "source": [
    "plot_baseline_SNR()"
   ]
  },
  {
   "cell_type": "markdown",
   "id": "3cbe3ede-c7d8-4367-b48c-99a38279c8c4",
   "metadata": {},
   "source": [
    "### Remove Baselines with High FRF Signal Loss"
   ]
  },
  {
   "cell_type": "code",
   "execution_count": null,
   "id": "91580326-6d99-4502-b401-c810eed23d23",
   "metadata": {
    "scrolled": true
   },
   "outputs": [],
   "source": [
    "uvp_spws = {}\n",
    "for spw in uvp.spw_array:\n",
    "    blps_to_use = [blp for blp in uvp.get_blpairs() if frf_losses[blp][spw] <= MAX_FRF_SIGNAL_LOSS]\n",
    "    uvp_spws[spw] = uvp.select(spws=[spw], blpairs=blps_to_use, inplace=False)\n",
    "del uvp"
   ]
  },
  {
   "cell_type": "markdown",
   "id": "8ab8508d-db23-4f79-8eea-0bad8971a16f",
   "metadata": {},
   "source": [
    "## Plot kperp vs |k| to check that each kpar line stays inside a bin"
   ]
  },
  {
   "cell_type": "code",
   "execution_count": null,
   "id": "43173afa-dacd-49bd-9b54-4cc150acc972",
   "metadata": {},
   "outputs": [],
   "source": [
    "fig, ax = plt.subplots(len(BANDS_TO_USE), 1, figsize=(12, 15),layout='constrained')\n",
    "\n",
    "cnv = hp.conversions.Cosmo_Conversions()\n",
    "\n",
    "for i, (spw, _uvp) in enumerate(uvp_spws.items()):\n",
    "    for kk in np.sort(_uvp.get_kperps(0))[::15]:\n",
    "        kpar = _uvp.get_kparas(0)\n",
    "        kpar = kpar[kpar>0]\n",
    "        kmag = np.sqrt(kpar**2 + kk**2)\n",
    "        \n",
    "        ax[i].scatter(kmag, np.ones_like(kmag)*kk, s=2, c='C0')    \n",
    "\n",
    "    ax[i].set_xlim(-0.05, kmag.max()+0.05)\n",
    "        \n",
    "    b_to_kperp = lambda b: cnv.bl_to_kperp(zs[spw]) * b\n",
    "    kperp_to_b = lambda k: k / cnv.bl_to_kperp(zs[spw])\n",
    "    kpar_to_tau = lambda k: k / cnv.tau_to_kpara(zs[spw]) * 1e9\n",
    "    tau_to_kpar = lambda tau: cnv.tau_to_kpara(zs[spw]) * tau / 1e9\n",
    "\n",
    "    # Horizon\n",
    "    kperp = np.linspace(0, _uvp.get_kperps(0).max(), 100)\n",
    "    horizon_k = np.sqrt(tau_to_kpar(1e9 * kperp_to_b(kperp)/3e8 + 500)**2 + kperp**2)\n",
    "    ax[i].plot(horizon_k, kperp, color='r')\n",
    "\n",
    "    ax[i].set_ylim(0, _uvp.get_kperps(0).max())\n",
    "\n",
    "    dk = spherical_kbins[spw][1] -spherical_kbins[spw][0]\n",
    "    for sph in spherical_kbins[spw]:\n",
    "        ax[i].axvline(sph - dk/2 , color='k')\n",
    "        \n",
    "    ax[i].axvline(spherical_kbins[spw][-1] + dk/2, color='k')"
   ]
  },
  {
   "cell_type": "markdown",
   "id": "c9f87b07-7d50-40b4-b787-ea3265533666",
   "metadata": {},
   "source": [
    "### Add Window Functions"
   ]
  },
  {
   "cell_type": "code",
   "execution_count": null,
   "id": "14a254d5-01d0-4dee-b923-a884398383ff",
   "metadata": {},
   "outputs": [],
   "source": [
    "window_function_files = sorted(glob.glob(WINDOW_FUNCTION_FILEGLOB))\n",
    "\n",
    "if len(window_function_files)== 1:\n",
    "    # Old-style window functions. Neither time nor baseline dependent.\n",
    "    with open(window_function_files[0], 'rb') as fl:\n",
    "        window_functions = pickle.load(fl)\n",
    "    uvp.window_function_array = {k: np.tile(window_functions[k], (uvp.Nbltpairs, 1, 1, 1)) for k in window_functions}\n",
    "    uvp.exact_window_functions = False\n",
    "    \n",
    "else:\n",
    "    # Exact window functions, \n",
    "    wf_folder = os.path.dirname(window_function_files[0])\n",
    "\n",
    "    for spw, band in enumerate(BANDS_TO_USE):\n",
    "        kperpbins = np.load(f\"{wf_folder}/exact_window-spw{band-1:02d}-kperp.npy\")\n",
    "        kparabins = np.load(f\"{wf_folder}/exact_window-spw{band-1:02d}-kpara.npy\")\n",
    "        wf_full = np.load(f\"{wf_folder}/exact_window-spw{band-1:02d}-wf.npy\")\n",
    "\n",
    "        uvp_spws[spw].exact_windows = True\n",
    "        uvp_spws[spw].window_function_array = {0: wf_full}\n",
    "        uvp_spws[spw].window_function_kperp = {0: kperpbins}\n",
    "        uvp_spws[spw].window_function_kpara = {0: kparabins}"
   ]
  },
  {
   "cell_type": "markdown",
   "id": "e9a4963c-3d31-46ac-b1cf-02bdae02706a",
   "metadata": {},
   "source": [
    "## Examine Cylindrical Averages at Raw Resolution"
   ]
  },
  {
   "cell_type": "code",
   "execution_count": null,
   "id": "cbf60ebf-367f-4ab3-9555-03e9d5510eb7",
   "metadata": {},
   "outputs": [],
   "source": [
    "def plot_SNR_histograms(uvps: dict[int, hp.UVPSpec]):\n",
    "    # show the distribution of time-averaged power spectra (before spherical averaging)\n",
    "    low_dly = 1000\n",
    "    high_dly = 2000\n",
    "    nspws = len(uvps)\n",
    "    fig, axes = plt.subplots(int(np.ceil(nspws / 2)), 2, figsize=(12, 12), sharex=True, sharey=True, gridspec_kw={'wspace': 0, 'hspace':0})\n",
    "    \n",
    "    for spw, uvp in uvps.items():\n",
    "        ax = axes.flatten()[spw]\n",
    "\n",
    "        to_hist = []\n",
    "        dlys = uvp.get_dlys(0) * 1e9\n",
    "        dlys_to_use = (low_dly <= np.abs(dlys)) & (np.abs(dlys) <= high_dly)\n",
    "        for key in uvp.get_all_keys():\n",
    "            _spw, blp, pp = key\n",
    "            if pp[0] != 'pI':\n",
    "                continue\n",
    "            \n",
    "            SNRs = uvp.get_data(key)[0, dlys_to_use] / uvp.get_stats('P_N', key)[0, dlys_to_use].real\n",
    "            to_hist.extend(SNRs)\n",
    "    \n",
    "        bins = np.linspace(-10,10,101)        \n",
    "        \n",
    "        for func, c, zorder in zip([np.real, np.imag], ['C0', 'C1'], [2, 1]):\n",
    "            ax.hist(func(to_hist), bins=bins, density=True, color=c, edgecolor='k', linewidth=.1, alpha=.5, zorder=zorder,\n",
    "                    label=f'{\"Re\" if func == np.real else \"Im\"}[$P(k)$] / $P_N$ ({low_dly}—{high_dly} ns)')\n",
    "        ax.set_yscale('log')\n",
    "        ax.set_ylim([2e-5, 1e0])\n",
    "        \n",
    "        gauss = np.exp(-bins**2/2) / np.sqrt(2*np.pi)\n",
    "        ax.plot(bins, gauss, 'k--', label='Gaussian Distribution')\n",
    "    \n",
    "        ax.text(ax.get_xlim()[0] + .6, ax.get_ylim()[-1] / 1.8, f'Band {spw + 1}\\nz = {zs[spw]:.1f}', ha='left', va='top',\n",
    "                bbox=dict(facecolor='w', edgecolor='black', alpha=.75, boxstyle='round', ls='-'))\n",
    "        if spw % 2 == 0:\n",
    "            ax.set_ylabel('Probability Density')\n",
    "        if spw >= int(np.ceil(uvp.Nspws / 2)) - 2:\n",
    "            ax.set_xlabel('SNR')\n",
    "    \n",
    "        if spw == 0:\n",
    "            fig.legend(loc='upper center', ncol=3, fontsize=10)\n",
    "    plt.tight_layout()\n",
    "    fig.subplots_adjust(top=0.95)\n",
    "    \n",
    "    plt.savefig(os.path.join(RESULTS_FOLDER, 'SNR_histogram_all_bands.pdf'), bbox_inches='tight')"
   ]
  },
  {
   "cell_type": "markdown",
   "id": "045db541-798c-4174-b898-6d28d21ed43e",
   "metadata": {},
   "source": [
    "### Figure 4: Histograms of High-Delay SNRs"
   ]
  },
  {
   "cell_type": "code",
   "execution_count": null,
   "id": "d10e741a-fa6e-44dc-9d4c-b2b604735a2e",
   "metadata": {},
   "outputs": [],
   "source": [
    "plot_SNR_histograms(uvp_spws)"
   ]
  },
  {
   "cell_type": "code",
   "execution_count": null,
   "id": "f502ef7a-184d-4b50-a481-9b019af1f78b",
   "metadata": {},
   "outputs": [],
   "source": [
    "def plot_cylindrical_Pk(uvps: dict[int, hp.UVPSpec], SNR: bool=False):\n",
    "    nspws = len(uvps)\n",
    "    fig, axes = plt.subplots(int(np.ceil(nspws / 2)),2, figsize=(12, 12), \n",
    "                             sharex=True, sharey=True, gridspec_kw={'wspace': 0, 'hspace':0}, constrained_layout=True)\n",
    "\n",
    "    cnv = hp.conversions.Cosmo_Conversions()\n",
    "    \n",
    "    for spw, uvp in uvps.items():\n",
    "        uvp_here = copy.deepcopy(uvp)\n",
    "        ax = axes.flatten()[spw]\n",
    "        # In each uvp, the actual spw is zero.\n",
    "        _spw = 0\n",
    "\n",
    "        kbins = spherical_kbins[spw].copy()\n",
    "        kbins -= (kbins[1] - kbins[0])/2 # Get k-edges.\n",
    "        \n",
    "        b_to_kperp = lambda b: cnv.bl_to_kperp(zs[spw]) * b\n",
    "        kperp_to_b = lambda k: k / cnv.bl_to_kperp(zs[spw])\n",
    "        kpar_to_tau = lambda k: k / cnv.tau_to_kpara(zs[spw]) * 1e9\n",
    "        tau_to_kpar = lambda tau: cnv.tau_to_kpara(zs[spw]) * tau / 1e9\n",
    "            \n",
    "        if SNR:\n",
    "            uvp_here.data_array[_spw] /= uvp_here.stats_array['P_N'][_spw].real\n",
    "            extra_kwargs = dict(cmap='bwr', vmin=-2, vmax=2)\n",
    "        else:\n",
    "            extra_kwargs = dict(cmap='turbo', error_weights='P_N')\n",
    "        \n",
    "        hp.plot.delay_wedge(uvp_here, _spw, ('pI', 'pI'), rotate=True, ax=ax, fold=not uvp.folded, log10=False, \n",
    "                            component='real',  horizon_lines=True, **extra_kwargs)\n",
    "\n",
    "        # Plot the wedge + buffer\n",
    "        b = np.linspace(ax.get_xlim()[0], ax.get_xlim()[1], 100)\n",
    "        ylim = ax.get_ylim()  # re-set afterwards to have nice ylims\n",
    "        ax.plot(b, b * 1e9 / constants.c + WEDGE_BUFFER_NS, color='k', ls='--')\n",
    "\n",
    "        # Plot final spherical k-bins\n",
    "        kperp = b_to_kperp(b)\n",
    "        for kedge in kbins:\n",
    "            bintau = kpar_to_tau(np.sqrt(kedge**2 - kperp**2))\n",
    "            ax.plot(b, bintau, color='gray', lw=1)\n",
    "        \n",
    "        cax = ax.collections[0]\n",
    "        if not SNR:\n",
    "            cax.set_norm(matplotlib.colors.LogNorm(vmin=1e2, vmax=1e14))\n",
    "\n",
    "        if spw % 2 == 0:\n",
    "            ax.set_ylabel('$\\\\tau$ (ns)', fontsize=10)\n",
    "        else:\n",
    "            ax.set_ylabel('')\n",
    "        if uvp.Nspws - spw <= 2:\n",
    "            ax.set_xlabel('$|\\\\vec{b}|$ (m)', fontsize=10)\n",
    "        else:\n",
    "            ax.set_xlabel('')\n",
    "\n",
    "        if spw < 2:\n",
    "            # Mark kperp and kpar\n",
    "            twinx = ax.secondary_xaxis('top', functions=(b_to_kperp, kperp_to_b))\n",
    "            twinx.set_xlabel(r\"$k_\\perp \\ \\ [h/{\\rm Mpc}]$\")\n",
    "            \n",
    "        if spw %2 == 1:\n",
    "            twiny = ax.secondary_yaxis('right', functions=(tau_to_kpar, kpar_to_tau))\n",
    "            twiny.set_ylabel(r\"$k_{||} \\ \\ [h/{\\rm Mpc}]$\")\n",
    "            \n",
    "        ax.set_ylim(ylim)\n",
    "        ax.text(ax.get_xlim()[0] + 7, ax.get_ylim()[-1] - 200, f'Band {spw + 1}\\nz = {zs[spw]:.1f}', ha='left', va='top',\n",
    "                     bbox=dict(facecolor='w', edgecolor='black', alpha=.75, boxstyle='round', ls='-'))\n",
    "        \n",
    "        ax.tick_params(axis='both', direction='in')\n",
    "    \n",
    "    cbar = fig.colorbar(cax, ax=axes, pad=.02, aspect=40, extend='both', location='top',\n",
    "                        label=(r\"$\\text{Re}[P(k_\\parallel, k_\\perp)]\\text{ }/\\text{ }P_N(k_\\parallel, k_\\perp)$\" if SNR\n",
    "                               else r\"$\\text{Re}[P(k_\\parallel, k_\\perp)]\\ [{\\rm mK}^2\\ h^{-3}\\ {\\rm Mpc}^3]$\"))\n",
    "    \n",
    "    #plt.tight_layout()\n",
    "    plt.savefig(os.path.join(RESULTS_FOLDER, (f'cylindrical_{\"SNR\" if SNR else \"Pk\"}_all_bands.pdf')), bbox_inches='tight')"
   ]
  },
  {
   "cell_type": "markdown",
   "id": "f1727342-717e-4acc-b0c0-c156b757bc0a",
   "metadata": {},
   "source": [
    "### Figure 5: Cylindrical P(k)"
   ]
  },
  {
   "cell_type": "code",
   "execution_count": null,
   "id": "83e53ea0-51d0-4fbd-82ff-190383ee57d8",
   "metadata": {},
   "outputs": [],
   "source": [
    "plot_cylindrical_Pk(uvp_spws)"
   ]
  },
  {
   "cell_type": "markdown",
   "id": "64786842-f69f-48cc-888d-ef78e76d3e01",
   "metadata": {},
   "source": [
    "### Figure 6: Cylindrical SNR"
   ]
  },
  {
   "cell_type": "code",
   "execution_count": null,
   "id": "a1ab2cde-766c-4a80-9a51-dc90f100c886",
   "metadata": {},
   "outputs": [],
   "source": [
    "plot_cylindrical_Pk(uvp_spws, SNR=True)"
   ]
  },
  {
   "cell_type": "markdown",
   "id": "34aaefdc-16f6-40d4-910f-e1af3f108d33",
   "metadata": {},
   "source": [
    "## Examine Cylindrical Spectra after Delay-Downsampling"
   ]
  },
  {
   "cell_type": "markdown",
   "id": "0fbe9198-165c-483d-9023-03b36d9ed6d3",
   "metadata": {},
   "source": [
    "### Average over bins of delay"
   ]
  },
  {
   "cell_type": "markdown",
   "id": "b95a92b4-2753-4e0d-9fde-f0eca2823a14",
   "metadata": {},
   "source": [
    "First, we need to add a covariance matrix to each UVPSpec object. In the future, this should be properly computed elsewhere, but for now, we use an approximation that is very quick to compute:"
   ]
  },
  {
   "cell_type": "code",
   "execution_count": null,
   "id": "cd492f0e-562f-4944-a829-9cd06e9441c6",
   "metadata": {},
   "outputs": [],
   "source": [
    "for _uvp in uvp_spws.values():\n",
    "    _uvp.add_approximate_covariance()\n",
    "    "
   ]
  },
  {
   "cell_type": "markdown",
   "id": "ac79d452-53e5-4ea0-a4c2-58a0d1c7483e",
   "metadata": {},
   "source": [
    "Now, average within delay bins, using a four-bin kernel whose outer bins are only 2% of the total weight. This results in covariance between neighbouring (downsampled) delay-bins that is less than ~1%."
   ]
  },
  {
   "cell_type": "code",
   "execution_count": null,
   "id": "06c39002-f6c0-4a4e-8e0f-441a85b2db2f",
   "metadata": {},
   "outputs": [],
   "source": [
    "uvp_downsampled = {\n",
    "    spw:  hp.grouping.average_in_delay_bins(\n",
    "        uvp = _uvp, \n",
    "        kernel = np.array([0.02, 0.48, 0.48, 0.02]), \n",
    "    ) for spw, _uvp in uvp_spws.items()\n",
    "}"
   ]
  },
  {
   "cell_type": "markdown",
   "id": "462ed853-2f3d-43c0-84c9-bf2c4804c509",
   "metadata": {},
   "source": [
    "### Figure 7: Time-Averaged Cylindrical P(k) downsampled"
   ]
  },
  {
   "cell_type": "code",
   "execution_count": null,
   "id": "15f2f7a3-adef-4f8f-ac25-fdc3aa201799",
   "metadata": {},
   "outputs": [],
   "source": [
    "plot_cylindrical_Pk(uvp_downsampled, SNR=False)"
   ]
  },
  {
   "cell_type": "markdown",
   "id": "c14e7f17-e4a7-40d0-8f74-14e8c784a707",
   "metadata": {},
   "source": [
    "### Figure 8: Cylindrical SNR Downsampled"
   ]
  },
  {
   "cell_type": "code",
   "execution_count": null,
   "id": "51d1f281-94b7-44a2-b3a9-821d4d362eb9",
   "metadata": {},
   "outputs": [],
   "source": [
    "plot_cylindrical_Pk(uvp_downsampled, SNR=True)"
   ]
  },
  {
   "cell_type": "code",
   "execution_count": null,
   "id": "7bae3f7b-3959-4436-aef6-10ac2f87c591",
   "metadata": {},
   "outputs": [],
   "source": [
    "def get_cylindrical_uvp(\n",
    "    uvp, spw, pol, error_weights=None, fold=True, delay=True,\n",
    "    red_tol=1.0, deltasq=False, \n",
    "):\n",
    "    \"\"\"Do necessary preparation to get a cylindrically-averaged UVP.\n",
    "    \n",
    "    Most of this function was ripped form plots.delay_wedge.\n",
    "    \"\"\"\n",
    "    \n",
    "    # type checking\n",
    "    uvp = copy.deepcopy(uvp)\n",
    "    assert isinstance(spw, (int, np.integer))\n",
    "    assert isinstance(pol, (int, np.integer, tuple))\n",
    "    \n",
    "    # check pspec units for little h\n",
    "    little_h = 'h^-3' in uvp.norm_units\n",
    "\n",
    "    # Average across redundant groups and time\n",
    "    # this also ensures blpairs are ordered from short_bl --> long_bl\n",
    "    blp_grps, lens, angs, tags = hp.utils.get_blvec_reds(\n",
    "        uvp, bl_error_tol=red_tol, match_bl_lens=True\n",
    "    )\n",
    "    uvp.average_spectra(blpair_groups=blp_grps, time_avg=True, error_weights=error_weights, inplace=True, error_field=[fld for fld in uvp.stats_array])\n",
    "    \n",
    "    # Convert to DeltaSq\n",
    "    if deltasq:\n",
    "        uvp.convert_to_deltasq(inplace=True)\n",
    "\n",
    "    # Fold array\n",
    "    if fold:\n",
    "        uvp.fold_spectra()\n",
    "\n",
    "    return uvp\n",
    "\n",
    "def save_cylindrical_ps(uvp, spw):\n",
    "    # This should take a pre-cylindricalised uvp\n",
    "    _spw, _, pol = uvp.get_all_keys()[0]\n",
    "    \n",
    "    # get blpairs and order by len and enforce bl len ordering anyways\n",
    "    blpairs, blpair_seps = uvp.get_blpairs(), uvp.get_blpair_seps()\n",
    "    osort = np.argsort(blpair_seps)\n",
    "    blpairs, blpair_seps = [blpairs[oi] for oi in osort], blpair_seps[osort]\n",
    "    indices = np.squeeze([uvp.blpair_to_indices(blp) for blp in blpairs])\n",
    "    pidx = uvp.polpair_to_indices(pol)[0]\n",
    "\n",
    "    # get data with shape (Nblpairs, Ndlys)\n",
    "    data = uvp.data_array[0][indices, :, pidx].real\n",
    "    pn = uvp.stats_array['P_N'][0][indices, :, pidx]\n",
    "    wf = uvp.window_function_array[0][indices, ..., pidx]\n",
    "    kperp = uvp.get_kperps(0)[osort]\n",
    "    kpara = uvp.get_kparas(0)\n",
    "    cosmo = hp.conversions.Cosmo_Conversions()\n",
    "    z = np.mean(cosmo.f2z(uvp.freq_array))\n",
    "    \n",
    "    np.savez(\n",
    "        RESULTS_FOLDER / f\"{CASENAME}.deltasq.2d.spw{spw+1:02}.npz\", \n",
    "        deltasq = data, \n",
    "        errorbars_onesigma=pn, \n",
    "        window_function=wf, \n",
    "        window_function_kperp = uvp.window_function_kperp[0][:, pidx],\n",
    "        window_function_kpara = uvp.window_function_kpara[0][:, pidx],\n",
    "        kperp_h_on_mpc = kperp, \n",
    "        kpara_h_on_mpc=kpara, \n",
    "        z=z, \n",
    "        channel_freqs_hz=uvp.freq_array\n",
    "    )"
   ]
  },
  {
   "cell_type": "code",
   "execution_count": null,
   "id": "70158acc-2a05-4e3f-8a91-6cd0d39026b6",
   "metadata": {},
   "outputs": [],
   "source": [
    "cylindrical_uvps = {\n",
    "    spw: get_cylindrical_uvp(_uvp, spw=0, pol=('pI', 'pI'), deltasq=True)\n",
    "    for spw, _uvp in uvp_downsampled.items()\n",
    "}"
   ]
  },
  {
   "cell_type": "markdown",
   "id": "fc4d3824-8ae8-4cdc-9d90-cf3e7a826d2d",
   "metadata": {},
   "source": [
    "## Spherical Averaging"
   ]
  },
  {
   "cell_type": "code",
   "execution_count": null,
   "id": "e846df60-8e23-4b53-9b0d-154d75d58c7f",
   "metadata": {
    "tags": []
   },
   "outputs": [],
   "source": [
    "sph_avgs = []\n",
    "for spw, _uvp in uvp_downsampled.items():\n",
    "    # make a copy of the time-averaged UVPspec object, where we can by-hand remove the baseline dependence of the time/lst arrays\n",
    "    _uvp = copy.deepcopy(_uvp)\n",
    "    for time_array in [\n",
    "        _uvp.time_avg_array, _uvp.time_1_array, _uvp.time_2_array, \n",
    "        _uvp.lst_avg_array, _uvp.lst_1_array, _uvp.lst_2_array\n",
    "    ]:\n",
    "        time_array[:] = np.median(time_array)\n",
    "    # no-op? take it out and see if it errors\n",
    "    _uvp.average_spectra(time_avg=True, error_weights='P_N', error_field=['P_SN'], inplace=True)\n",
    "    _uvp.set_stats_slice('P_N', 1e9 / constants.c, WEDGE_BUFFER_NS, above=False, val=np.inf)\n",
    "    \n",
    "    # Perform spherical averaging\n",
    "    dk = spherical_kbins[spw][1] - spherical_kbins[spw][0]\n",
    "    sph_avgs.append(hp.grouping.spherical_average(_uvp, spherical_kbins[spw], dk, error_weights='P_N'))\n",
    "    \n",
    "delta_sqs = [sph_avg.convert_to_deltasq(inplace=False) for sph_avg in sph_avgs]"
   ]
  },
  {
   "cell_type": "code",
   "execution_count": null,
   "id": "6f5289bf-4aa4-4e2d-b703-200183c8ff24",
   "metadata": {
    "tags": []
   },
   "outputs": [],
   "source": [
    "def plot_deltasq_limits(show_scale: bool = True):\n",
    "    fig, axes = plt.subplots(\n",
    "        2, int(np.ceil(len(uvp_spws) / 2)), \n",
    "        figsize=(12, 8), sharey='row', sharex=True, gridspec_kw={'wspace': 0, 'hspace': 0}\n",
    "    )\n",
    "    \n",
    "    # Adjust layout to make room for the legend\n",
    "    plt.subplots_adjust(top=0.95)\n",
    "    \n",
    "    # Loop over each subplot\n",
    "    for spw, ax in enumerate(axes.ravel()):\n",
    "    \n",
    "        if spw >= len(uvp_spws) / 2:\n",
    "            ax.set_xlabel('$k$ ($h$Mpc$^{-1}$)')\n",
    "        if spw % int(np.ceil(len(uvp_spws) / 2)) == 0:\n",
    "            ax.set_ylabel('$\\\\Delta^2$ (mK$^2$)')\n",
    "        \n",
    "        if spw == len(sph_avgs):\n",
    "            break\n",
    "    \n",
    "        # get Delta^2 and error bars\n",
    "        z = zs[spw]\n",
    "        k = delta_sqs[spw].get_kparas(0)\n",
    "        key = delta_sqs[spw].get_all_keys()[0]\n",
    "        Dsq = np.squeeze(delta_sqs[spw].get_data(key)).real\n",
    "        Dsq[Dsq < 0] = 0\n",
    "        pn_error = np.squeeze(delta_sqs[spw].get_stats('P_N', key))\n",
    "        psn_error = np.squeeze(delta_sqs[spw].get_stats('P_SN', key))\n",
    "        pn_error = np.where(pn_error > 1e20, np.inf, pn_error)\n",
    "        psn_error = np.where(psn_error > 1e20, np.inf, psn_error)\n",
    "        \n",
    "        # Plot with error bars and lines\n",
    "        ax.errorbar(k, Dsq, yerr=(2 * psn_error), marker='o', ms=6, ls='', c='deeppink', label='1$\\\\sigma$ Noise Level')\n",
    "        ax.plot(k, pn_error, c='k', ls='--', lw=3, label='PRELIMINARY Power Spectrum with 2$\\\\sigma$ Error Bars')\n",
    "        ax.set_yscale('log')\n",
    "        if spw >= len(uvp_spws) / 2:\n",
    "            ax.set_ylim([1, 2e6])\n",
    "        else:\n",
    "            ax.set_ylim([1, 1e9])\n",
    "        ax.grid()\n",
    "        ax.text(ax.get_xlim()[-1] - .1, ax.get_ylim()[0]*3, f'Band {spw+1}\\nz = {z:.1f}', ha='right', va='bottom',\n",
    "                bbox=dict(facecolor='w', edgecolor='black', alpha=.75, boxstyle='round', ls='-'))\n",
    "    \n",
    "        # Add Phase I's two best limits at the most-comparable redshift\n",
    "        if zs[np.argmin(np.abs(zs - 7.9))] == z:\n",
    "            ax.errorbar([.34], [44], yerr=[2 * 206], marker='*', ms=10, lw=2, ls='', c='g', label='HERA Phase I Best Limits at Similar z')\n",
    "            # Create a custom legend with labels\n",
    "            handles, labels = axes.ravel()[spw].get_legend_handles_labels()\n",
    "            fig.legend(handles, [labels[1], labels[0], labels[2]] , loc='upper center', ncol=3, fontsize=10)\n",
    "        if zs[np.argmin(np.abs(zs - 10.4))] == z:\n",
    "            ax.errorbar([.36], [0], yerr=[2 * 1748], marker='*', ms=10, lw=2, ls='', c='g')\n",
    "    \n",
    "        if not show_scale:\n",
    "            ax.yaxis.set_ticklabels([])"
   ]
  },
  {
   "cell_type": "markdown",
   "id": "039ff996-0299-4ac1-a8be-d99d237f3a45",
   "metadata": {},
   "source": [
    "### Figure 7: Spherically-Averaged $\\Delta^2$"
   ]
  },
  {
   "cell_type": "code",
   "execution_count": null,
   "id": "aa91d168-5e10-4551-ae01-d7c055d5fd91",
   "metadata": {},
   "outputs": [],
   "source": [
    "plot_deltasq_limits(show_scale=False)"
   ]
  },
  {
   "cell_type": "code",
   "execution_count": null,
   "id": "7c1a6522-87d5-4974-af39-aedf218a7e4b",
   "metadata": {},
   "outputs": [],
   "source": [
    "def print_upper_limits_table():\n",
    "    for spw in range(len(uvp_spws)):\n",
    "        # get Delta^2 and error bars\n",
    "        z = zs[spw]\n",
    "        k = delta_sqs[spw].get_kparas(0)\n",
    "        key = delta_sqs[spw].get_all_keys()[0]\n",
    "        deltasq = np.squeeze(delta_sqs[spw].get_data(key)).real\n",
    "        deltasq_err = np.squeeze(delta_sqs[spw].get_stats('P_SN', key)).real # TODO: this isn't quite what we did in H1C\n",
    "        deltasq_ul = np.array([dsq if dsq > 0 else 0 for dsq in deltasq]) + 2 * deltasq_err\n",
    "        to_use = (deltasq_err > 0) & (deltasq_err < 1e20)\n",
    "        if len(deltasq_ul[to_use]) == 0:\n",
    "            continue\n",
    "    \n",
    "        table = {'k': k[to_use],\n",
    "                 r'$\\Delta^{2}(k)$ (mK$^2$)': deltasq[to_use],\n",
    "                 r'$1\\sigma$ (mK$^2$)': deltasq_err[to_use],\n",
    "                 r'$\\Delta^{2}_{UL}$ (mK$^2$)': deltasq_ul[to_use]}\n",
    "        df = pd.DataFrame(table)\n",
    "    \n",
    "        def css_border(x):\n",
    "            return [\"border-left: 1px solid black\" if (i%3==1) else \"border: 0px\" for i, col in enumerate(x)]\n",
    "        def scientific_html_formatter(x):\n",
    "            formatted = \"{:.2e}\".format(x)  # Convert to scientific format like 8.58e+05\n",
    "            base, exponent = formatted.split(\"e\")  # Split into base and exponent\n",
    "            exponent = int(exponent)  # Convert exponent to an integer\n",
    "            return f\"{base} × 10<sup>{exponent}</sup>\"  # Format with HTML superscript\n",
    "    \n",
    "        display(HTML(f'<h3>Band {spw+1} (z = {zs[spw]:.1f}):</h3>'))\n",
    "        \n",
    "        to_display = df.style.format({'k': \"{:,.2f}\"} | {col: scientific_html_formatter for col in df.columns[1:]}) \\\n",
    "                              .apply(css_border, axis=1) \\\n",
    "                              .set_properties(width='100px') \\\n",
    "                              .hide(axis='index')\n",
    "        \n",
    "        display(to_display)"
   ]
  },
  {
   "cell_type": "markdown",
   "id": "360f9f08-ff2c-4fb8-b1d4-c29df0c79a0a",
   "metadata": {},
   "source": [
    "### Table 1: Power Spectra, Error Bars, and Upper Limits"
   ]
  },
  {
   "cell_type": "code",
   "execution_count": null,
   "id": "41c7c581-3f7c-4254-a56f-8626d6505b39",
   "metadata": {},
   "outputs": [],
   "source": [
    "print_upper_limits_table()"
   ]
  },
  {
   "cell_type": "markdown",
   "id": "b884e497-5eca-4c8c-8e2a-0b9f19ce5aa4",
   "metadata": {},
   "source": [
    "## Export Limits "
   ]
  },
  {
   "cell_type": "code",
   "execution_count": null,
   "id": "d45769eb-14f7-42b6-9f13-21c45a30c242",
   "metadata": {},
   "outputs": [],
   "source": [
    "# results are saved to h5 files per-band and per-field\n",
    "for spw, delta_sq in enumerate(delta_sqs):\n",
    "    outfilename = RESULTS_FOLDER / f'{CASENAME}.deltasq.1d.spw{spw+1:02}.h5'\n",
    "    delta_sq.write_hdf5(outfilename, overwrite=True)  "
   ]
  },
  {
   "cell_type": "code",
   "execution_count": null,
   "id": "6a1cff58-21cf-4594-b6a8-23afbdec47da",
   "metadata": {},
   "outputs": [],
   "source": [
    "for spw, delta_sq in cylindrical_uvps.items():\n",
    "    outfilename = RESULTS_FOLDER / f'{CASENAME}.deltasq.2d.spw{spw+1:02}.h5'\n",
    "    delta_sq.write_hdf5(outfilename, overwrite=True)    "
   ]
  },
  {
   "cell_type": "code",
   "execution_count": null,
   "id": "a5c29ca5-2a6b-4f07-89e9-c33d64bf3925",
   "metadata": {},
   "outputs": [],
   "source": [
    "# Export 1D Power in npz format\n",
    "for spw, delta_sq in enumerate(delta_sqs):\n",
    "    np.savez(\n",
    "        f\"{RESULTS_FOLDER}/{CASENAME}.deltasq.1d.spw{spw+1:02}.npz\", \n",
    "        deltasq_mk2 = delta_sq.data_array[0][0,:, 0].real,\n",
    "        k_h_on_mpc = delta_sq.get_kparas(0),\n",
    "        onesigma_error = delta_sq.stats_array['P_N'][0][0,:,0],\n",
    "        window_function = delta_sq.window_function_array[0][0, :, :, 0],\n",
    "        z=np.mean(hp.conversions.Cosmo_Conversions().f2z(delta_sq.freq_array)),\n",
    "        channel_freqs_hz = delta_sq.freq_array\n",
    "    )   "
   ]
  },
  {
   "cell_type": "code",
   "execution_count": null,
   "id": "7d98e541-eff0-4de4-90f3-1e8aa27642eb",
   "metadata": {},
   "outputs": [],
   "source": [
    "# Export 2D power in npz format\n",
    "for spw, _uvp in cylindrical_uvps.items():\n",
    "    save_cylindrical_ps(_uvp, spw)"
   ]
  },
  {
   "cell_type": "markdown",
   "id": "010a9fc7-a899-4486-9936-eed8eebd9c7b",
   "metadata": {},
   "source": [
    "## Metadata"
   ]
  },
  {
   "cell_type": "code",
   "execution_count": null,
   "id": "2017137a-4f4e-469e-b4b7-69f911aa9e60",
   "metadata": {},
   "outputs": [],
   "source": [
    "for repo in ['numpy', 'scipy', 'astropy', 'hera_cal', 'hera_qm', 'pandas',\n",
    "             'hera_filters', 'hera_pspec', 'hera_notebook_templates', 'pyuvdata']:\n",
    "    exec(f'from {repo} import __version__')\n",
    "    print(f'{repo}: {__version__}')"
   ]
  },
  {
   "cell_type": "code",
   "execution_count": null,
   "id": "4db6e118-9045-4619-9c72-bc4ed13c4939",
   "metadata": {},
   "outputs": [],
   "source": [
    "print(f'Finished execution in {(time.time() - tstart) / 60:.2f} minutes.')"
   ]
  },
  {
   "cell_type": "code",
   "execution_count": null,
   "id": "61dc9510-645e-4a33-a3d4-32b9a16f5efc",
   "metadata": {},
   "outputs": [],
   "source": []
  }
 ],
 "metadata": {
  "kernelspec": {
   "display_name": "Python 3 (ipykernel)",
   "language": "python",
   "name": "python3"
  },
  "language_info": {
   "codemirror_mode": {
    "name": "ipython",
    "version": 3
   },
   "file_extension": ".py",
   "mimetype": "text/x-python",
   "name": "python",
   "nbconvert_exporter": "python",
   "pygments_lexer": "ipython3",
   "version": "3.12.0"
  }
 },
 "nbformat": 4,
 "nbformat_minor": 5
}
