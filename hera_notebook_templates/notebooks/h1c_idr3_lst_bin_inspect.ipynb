{
 "cells": [
  {
   "cell_type": "markdown",
   "metadata": {},
   "source": [
    "# H1C IDR3 LST-Binning Inspection Notebook\n",
    "### Josh Dillon\n",
    "\n",
    "This notebook provides a sense-check for H1C IDR3 LST-binning results for one of the four epochs."
   ]
  },
  {
   "cell_type": "code",
   "execution_count": null,
   "metadata": {
    "ExecuteTime": {
     "end_time": "2021-02-16T19:32:33.929554Z",
     "start_time": "2021-02-16T19:32:33.925230Z"
    }
   },
   "outputs": [],
   "source": [
    "epoch = 0"
   ]
  },
  {
   "cell_type": "code",
   "execution_count": null,
   "metadata": {
    "ExecuteTime": {
     "end_time": "2021-02-16T19:32:37.266279Z",
     "start_time": "2021-02-16T19:32:33.932962Z"
    }
   },
   "outputs": [],
   "source": [
    "import numpy as np\n",
    "import matplotlib.pyplot as plt\n",
    "from matplotlib.colors import LogNorm\n",
    "from hera_cal.io import HERAData\n",
    "import glob\n",
    "from hera_cal import utils, noise, redcal, lstbin\n",
    "from hera_cal.abscal import match_times\n",
    "from copy import deepcopy\n",
    "import os\n",
    "from IPython.display import display, HTML\n",
    "import warnings\n",
    "%matplotlib inline\n",
    "%config InlineBackend.figure_format = 'retina'\n",
    "display(HTML(\"<style>.container { width:100% !important; }</style>\"))"
   ]
  },
  {
   "cell_type": "code",
   "execution_count": null,
   "metadata": {
    "ExecuteTime": {
     "end_time": "2021-02-16T19:32:37.278234Z",
     "start_time": "2021-02-16T19:32:37.269013Z"
    }
   },
   "outputs": [],
   "source": [
    "# figure out which days are in the epoch\n",
    "JDs = [int(path.split('/')[-1]) for path in sorted(glob.glob('/lustre/aoc/projects/hera/H1C_IDR3/IDR3_2/245*'))]\n",
    "if epoch == 0:\n",
    "    JDs = [JD for JD in JDs if JD < 2458080]\n",
    "elif epoch == 1:\n",
    "    JDs = [JD for JD in JDs if JD >= 2458080 and JD < 2458120]   \n",
    "elif epoch == 2:\n",
    "    JDs = [JD for JD in JDs if JD >= 2458120 and JD < 2458170]\n",
    "elif epoch == 3:\n",
    "    JDs = [JD for JD in JDs if JD >= 2458170]\n",
    "print(JDs)"
   ]
  },
  {
   "cell_type": "code",
   "execution_count": null,
   "metadata": {
    "ExecuteTime": {
     "end_time": "2021-02-16T19:32:37.291259Z",
     "start_time": "2021-02-16T19:32:37.280457Z"
    }
   },
   "outputs": [],
   "source": [
    "# figure out the correct order of files, based on a split at 4.71 radians\n",
    "def file_lst_for_sort(fn):\n",
    "    lst = float(fn.split('.LST.')[-1].split('.sum.')[0]) - 4.71\n",
    "    if lst < 0:\n",
    "        lst += 2 * np.pi\n",
    "    return lst\n",
    "lst_bin_files = sorted(glob.glob(f'/lustre/aoc/projects/hera/H1C_IDR3/IDR3_2/LSTBIN/epoch_{epoch}/zen.grp1.of1.LST.*.sum.uvh5'), key=file_lst_for_sort)"
   ]
  },
  {
   "cell_type": "code",
   "execution_count": null,
   "metadata": {
    "ExecuteTime": {
     "end_time": "2021-02-16T19:33:20.255535Z",
     "start_time": "2021-02-16T19:32:37.293023Z"
    }
   },
   "outputs": [],
   "source": [
    "# load data for the center file in the list\n",
    "center_lst_bin_file = lst_bin_files[len(lst_bin_files) // 2]\n",
    "hd = HERAData(center_lst_bin_file)\n",
    "data, flags, nsamples = hd.read()"
   ]
  },
  {
   "cell_type": "code",
   "execution_count": null,
   "metadata": {
    "ExecuteTime": {
     "end_time": "2021-02-16T19:33:20.456978Z",
     "start_time": "2021-02-16T19:33:20.257359Z"
    }
   },
   "outputs": [],
   "source": [
    "# figure out which antenna numbers have more than 0 samples\n",
    "ants_with_samples = set([])\n",
    "for bl in nsamples:\n",
    "    sample_sum = np.sum(nsamples[bl])\n",
    "    if sample_sum > 0:\n",
    "        for ant in utils.split_bl(bl):\n",
    "            ants_with_samples.add(ant[0])"
   ]
  },
  {
   "cell_type": "code",
   "execution_count": null,
   "metadata": {
    "ExecuteTime": {
     "end_time": "2021-02-16T19:33:20.467358Z",
     "start_time": "2021-02-16T19:33:20.459680Z"
    }
   },
   "outputs": [],
   "source": [
    "def Array_Plot():\n",
    "    plt.figure(figsize=(8, 8), dpi=75)\n",
    "    plt.scatter(np.array([hd.antpos[ant][0] for ant in hd.data_ants]), \n",
    "                np.array([hd.antpos[ant][1] for ant in hd.data_ants]), c='w', s=0)\n",
    "    for ant in hd.data_ants:\n",
    "        pos = hd.antpos[ant]        \n",
    "        bad = ant not in ants_with_samples\n",
    "        plt.gca().add_artist(plt.Circle(tuple(pos[0:2]), radius=7, \n",
    "                                        fill=(~bad), color=['grey','r'][bad]))\n",
    "        plt.text(pos[0],pos[1], str(ant), va='center', ha='center', color='w')\n",
    "    plt.xlabel(\"Antenna East-West Position (meters)\")\n",
    "    plt.ylabel(\"Antenna North-South Position (meters)\")\n",
    "    plt.title(f'Antenna Positions for Epoch {epoch} at LST = {np.mean(data.lsts * 12 / np.pi):.2f} hours (Flags in Red)');\n",
    "    plt.axis('equal')\n",
    "    plt.tight_layout()"
   ]
  },
  {
   "cell_type": "markdown",
   "metadata": {},
   "source": [
    "# Figure 1: Array Configuration and Flagged Antennas\n",
    "\n",
    "This plot shows the array configuration in the central file of the LST-binner, including flagged antennas (those involved in no baselines with any samples)."
   ]
  },
  {
   "cell_type": "code",
   "execution_count": null,
   "metadata": {
    "ExecuteTime": {
     "end_time": "2021-02-16T19:33:21.107578Z",
     "start_time": "2021-02-16T19:33:20.470735Z"
    }
   },
   "outputs": [],
   "source": [
    "Array_Plot()"
   ]
  },
  {
   "cell_type": "code",
   "execution_count": null,
   "metadata": {
    "ExecuteTime": {
     "end_time": "2021-02-16T19:33:22.490680Z",
     "start_time": "2021-02-16T19:33:21.110554Z"
    }
   },
   "outputs": [],
   "source": [
    "# get largest redundant groups over 40 m (so we get to see some fringes)\n",
    "reds = redcal.get_reds({ant: hd.antpos[ant] for ant in hd.data_ants}, pols=['ee', 'nn'])\n",
    "ex_bls=set([bl for bl in nsamples if np.sum(nsamples[bl]) == 0])\n",
    "reds = redcal.filter_reds(reds, ex_bls=ex_bls, antpos=hd.antpos, min_bl_cut=40)\n",
    "reds = sorted(reds, key=len, reverse=True)\n",
    "\n",
    "# pick out middle baselines (one per pol, generally)\n",
    "bls_to_compare = [sorted(reds[n])[len(reds[n]) // 2] for n in range(2)]"
   ]
  },
  {
   "cell_type": "code",
   "execution_count": null,
   "metadata": {
    "ExecuteTime": {
     "end_time": "2021-02-16T19:35:16.137243Z",
     "start_time": "2021-02-16T19:33:22.492466Z"
    }
   },
   "outputs": [],
   "source": [
    "# load bls_to_compare, starting from middle JD and continuing until we find one where the baselines are not entirely flagged\n",
    "for JD in np.roll(JDs, len(JDs) // 2):\n",
    "    jd_files = sorted(glob.glob(f'/lustre/aoc/projects/hera/H1C_IDR3/IDR3_2/{JD}/*.smooth_calibrated.uvh5'))    \n",
    "    files_to_load = match_times(center_lst_bin_file, jd_files)\n",
    "    hd2 = HERAData(files_to_load)\n",
    "    d2, f2, n2 = hd2.read(bls=bls_to_compare, axis='blt')\n",
    "    if not np.any([np.all(f2[bl]) for bl in bls_to_compare]):\n",
    "        break # this JD has the baselines not completely flagged"
   ]
  },
  {
   "cell_type": "code",
   "execution_count": null,
   "metadata": {
    "ExecuteTime": {
     "end_time": "2021-02-16T19:35:16.158743Z",
     "start_time": "2021-02-16T19:35:16.139328Z"
    }
   },
   "outputs": [],
   "source": [
    "def Compare_To_Night():\n",
    "    for bl in bls_to_compare:\n",
    "        display(HTML(f'<h2>Baseline {bl}:</h2>'))\n",
    "        plt.figure(figsize=(18,8))\n",
    "        \n",
    "        # use this to match the yrange to the LST-binned data\n",
    "        ylim=[data.lsts[-1]*12/np.pi, data.lsts[0]*12/np.pi]\n",
    "        \n",
    "        # plot LST-binned Phase\n",
    "        plt.subplot(223)\n",
    "        plt.imshow(np.where(flags[bl], np.nan, np.angle(data[bl])), aspect='auto', cmap='twilight', \n",
    "                   extent=[data.freqs[0]/1e6, data.freqs[-1]/1e6, data.lsts[-1]*12/np.pi, data.lsts[0]*12/np.pi])\n",
    "        plt.xlabel('Frequency (MHz)')\n",
    "        plt.ylabel('LST (Hours)')\n",
    "        plt.ylim(ylim)\n",
    "        plt.title(f'{bl}: Epoch {epoch} LST-Binned Phase')\n",
    "        plt.colorbar(label='Phase (radians)')\n",
    "        \n",
    "        # plot LST-binned amplitude\n",
    "        plt.subplot(224)\n",
    "        plt.imshow(np.where(flags[bl], np.nan, np.abs(data[bl])), aspect='auto', cmap='inferno', vmin=0,\n",
    "                   extent=[data.freqs[0]/1e6, data.freqs[-1]/1e6, data.lsts[-1]*12/np.pi, data.lsts[0]*12/np.pi])\n",
    "        plt.xlabel('Frequency (MHz)')\n",
    "        plt.ylabel('LST (Hours)')\n",
    "        plt.ylim(ylim)\n",
    "        plt.title(f'{bl}: Epoch {epoch} LST-Binned Amplitude')\n",
    "        plt.colorbar(label='Amplitude (Jy)')\n",
    "        vmin, vmax = plt.gci().get_clim()\n",
    "        \n",
    "        # plot phase on single night\n",
    "        plt.subplot(221)\n",
    "        plt.imshow(np.where(f2[bl], np.nan, np.angle(d2[bl])), aspect='auto', cmap='twilight', \n",
    "                   extent=[d2.freqs[0]/1e6, d2.freqs[-1]/1e6, d2.lsts[-1]*12/np.pi, d2.lsts[0]*12/np.pi])\n",
    "        plt.xlabel('Frequency (MHz)')\n",
    "        plt.ylabel('LST (Hours)')\n",
    "        plt.ylim(ylim)\n",
    "        plt.title(f'{bl}: Phase on {JD}')\n",
    "        plt.colorbar(label='Phase (radians)')\n",
    "\n",
    "        # plot amplitude on single night\n",
    "        plt.subplot(222)\n",
    "        plt.imshow(np.where(f2[bl], np.nan, np.abs(d2[bl])), aspect='auto', cmap='inferno', vmin=vmin, vmax=vmax,\n",
    "                   extent=[d2.freqs[0]/1e6, d2.freqs[-1]/1e6, d2.lsts[-1]*12/np.pi, d2.lsts[0]*12/np.pi])\n",
    "        plt.xlabel('Frequency (MHz)')\n",
    "        plt.ylabel('LST (Hours)')\n",
    "        plt.ylim(ylim)\n",
    "        plt.title(f'{bl}: Amplitude on {JD}')\n",
    "        plt.colorbar(label='Amplitude (Jy)')\n",
    "\n",
    "\n",
    "        plt.tight_layout()\n",
    "        plt.show()\n",
    "        display(HTML('<hr style=\"height:3px\">'))"
   ]
  },
  {
   "cell_type": "markdown",
   "metadata": {},
   "source": [
    "# Figure 2: Compare Single Night's Data to LST-Binned Data\n",
    "\n",
    "Compares amplitude and phase between a single night (picked so that the baselines aren't totally flagged) and the LST-binned results."
   ]
  },
  {
   "cell_type": "code",
   "execution_count": null,
   "metadata": {
    "ExecuteTime": {
     "end_time": "2021-02-16T19:35:19.529384Z",
     "start_time": "2021-02-16T19:35:16.161332Z"
    }
   },
   "outputs": [],
   "source": [
    "Compare_To_Night()"
   ]
  },
  {
   "cell_type": "code",
   "execution_count": null,
   "metadata": {
    "ExecuteTime": {
     "end_time": "2021-02-16T19:35:19.536179Z",
     "start_time": "2021-02-16T19:35:19.531994Z"
    }
   },
   "outputs": [],
   "source": [
    "# get original integration time\n",
    "tint = np.median(np.diff(d2.times)) * 24 * 3600"
   ]
  },
  {
   "cell_type": "code",
   "execution_count": null,
   "metadata": {
    "ExecuteTime": {
     "end_time": "2021-02-16T19:35:50.837355Z",
     "start_time": "2021-02-16T19:35:19.538375Z"
    }
   },
   "outputs": [],
   "source": [
    "# load night-to-night standard deviations\n",
    "std_bin_file = center_lst_bin_file.replace('.LST.', '.STD.')\n",
    "hdstd = HERAData(std_bin_file)\n",
    "data_std, flags_std, nsamples_std = hdstd.read()"
   ]
  },
  {
   "cell_type": "code",
   "execution_count": null,
   "metadata": {
    "ExecuteTime": {
     "end_time": "2021-02-16T19:36:09.770628Z",
     "start_time": "2021-02-16T19:35:50.839133Z"
    }
   },
   "outputs": [],
   "source": [
    "# lists to store estimates of the nosie variance in the LST-binned data products\n",
    "all_obs_var = []\n",
    "all_predicted_var = []\n",
    "all_interleaved_var = []\n",
    "all_predicted_binned_var = []\n",
    "\n",
    "# Loop over baselines\n",
    "for bl in data.bls():\n",
    "    ant1, ant2 = utils.split_bl(bl)\n",
    "    auto1 = utils.join_bl(ant1, ant1)\n",
    "    auto2 = utils.join_bl(ant2, ant2)    \n",
    "    if ant1[1] != ant2[1]:\n",
    "        continue # cross polarized\n",
    "    if auto1 == auto2:\n",
    "        continue # ignore autocorrelations in assessing noise\n",
    "    \n",
    "    # Flag integrations with fewer than 10 samples\n",
    "    flags_here = deepcopy(flags[bl])\n",
    "    flags_here |= flags[auto1] | flags[auto2]\n",
    "    flags_here |= (nsamples[bl] < 10) | (nsamples[auto1] < 10) | (nsamples[auto2] < 10)\n",
    "\n",
    "    # Predicted night-to-night visibility variance\n",
    "    predicted_var = noise.predict_noise_variance_from_autos(bl, data, dt=tint)\n",
    "    predicted_var[flags_here] = np.nan\n",
    "    all_predicted_var.append(predicted_var)\n",
    "    \n",
    "    # Observed night-to-night visibiltiy variance\n",
    "    obs_var = deepcopy(data_std[bl])**2\n",
    "    obs_var[flags_here] = np.nan\n",
    "    obs_nsamples = deepcopy(nsamples_std[bl])\n",
    "    obs_nsamples[flags_here] = np.nan\n",
    "    obs_var *= (obs_nsamples / (obs_nsamples - 1))\n",
    "    all_obs_var.append(obs_var)\n",
    "\n",
    "    # Predicted visibiltiy variance after LST-binning\n",
    "    predicted_binned_var = noise.predict_noise_variance_from_autos(bl, data, dt=tint, nsamples=nsamples)\n",
    "    predicted_binned_var[flags_here] = np.nan\n",
    "    all_predicted_binned_var.append(predicted_binned_var)    \n",
    "    \n",
    "    # Observed visibiltiy variance after LST-binning\n",
    "    data_here = deepcopy(data[bl])\n",
    "    data_here[flags_here] = np.nan\n",
    "    interleaved_variance = noise.interleaved_noise_variance_estimate(data_here, kernel=[[-.5,1,-.5]])\n",
    "    all_interleaved_var.append(interleaved_variance)"
   ]
  },
  {
   "cell_type": "code",
   "execution_count": null,
   "metadata": {
    "ExecuteTime": {
     "end_time": "2021-02-16T19:36:18.036099Z",
     "start_time": "2021-02-16T19:36:09.774449Z"
    }
   },
   "outputs": [],
   "source": [
    "# average all visibiltiy variances over times and unflagged antennas\n",
    "mean_obs_var = np.nanmean(np.abs(all_obs_var), axis=(0,1))\n",
    "mean_predicted_var = np.nanmean(all_predicted_var, axis=(0,1))\n",
    "mean_interleaved_var = np.nanmean(np.abs(all_interleaved_var), axis=(0,1))\n",
    "mean_predicted_binned_var = np.nanmean(all_predicted_binned_var, axis=(0,1))"
   ]
  },
  {
   "cell_type": "code",
   "execution_count": null,
   "metadata": {
    "ExecuteTime": {
     "end_time": "2021-02-16T19:36:18.068992Z",
     "start_time": "2021-02-16T19:36:18.041429Z"
    }
   },
   "outputs": [],
   "source": [
    "def Noise_Comparison():\n",
    "    fig, ax = plt.subplots(2,2, figsize=(16,8), sharex='col', gridspec_kw={'height_ratios': [2, 1]})\n",
    "    plt.subplots_adjust(hspace=.0)\n",
    "    ax=ax.flatten()\n",
    "\n",
    "    ax[0].plot(hd.freqs/1e6, mean_obs_var, lw=2, label='Night-to-Night Variance of\\nData LST-Binned Together')\n",
    "    ax[0].plot(hd.freqs/1e6, mean_predicted_var, lw=1, label='Predicted Variance from LST-Binned\\nAutocorrelations')\n",
    "    ax[0].set_ylabel('Nightly Visibility Variance (Jy$^2$) ')\n",
    "    ax[0].set_title(f'Visibility Variance Across Nights at {np.round(hd.lsts[0]*12/np.pi,3)}—{np.round(hd.lsts[-1]*12/np.pi,3)} Hours LST'\n",
    "                    '\\n(Mean Over Unflagged Times and Baselines)')\n",
    "    ax[0].legend()\n",
    "\n",
    "    ax[1].plot(hd.freqs/1e6, mean_interleaved_var, lw=2, label='Variance from Frequency-Interleaving\\nof LST-Binned Data')\n",
    "    ax[1].plot(hd.freqs/1e6, mean_predicted_binned_var, lw=1, label='Predicted Variance from LST-Binned\\nAutocorrelations and N$_{samples}$')\n",
    "    ax[1].set_ylabel('LST-Binned Visibility Variance (Jy$^2$)')\n",
    "    ax[1].set_title(f'Variance of LST-Binned Visibilities at {np.round(hd.lsts[0]*12/np.pi,3)}—{np.round(hd.lsts[-1]*12/np.pi,3)} Hours LST'\n",
    "                    '\\n(Mean Over Unflagged Times and Baselines)')\n",
    "    ax[1].legend()\n",
    "\n",
    "    ax[2].plot(hd.freqs/1e6, mean_obs_var/mean_predicted_var, 'k-', lw=1)\n",
    "    favg_rat = np.nanmean(mean_obs_var/mean_predicted_var)\n",
    "    ax[2].plot(hd.freqs/1e6, np.ones_like(hd.freqs) * favg_rat, '--', c='grey', label=f'Frequency-Averaged Ratio: {favg_rat:.3f}')\n",
    "    ax[2].set_xlabel('Frequency (MHz)')\n",
    "    ax[2].set_xlim([100,200])\n",
    "    ax[2].set_ylim([.9, 1.5])\n",
    "    ax[2].set_ylabel('Observed / Predicted')\n",
    "    ax[2].legend(loc='upper right')\n",
    "\n",
    "    ax[3].plot(hd.freqs/1e6, mean_interleaved_var/mean_predicted_binned_var, 'k-', lw=1)\n",
    "    favg_rat =  np.nanmean(mean_interleaved_var/mean_predicted_binned_var)\n",
    "    ax[3].plot(hd.freqs/1e6, np.ones_like(hd.freqs) * favg_rat, '--', c='grey', label=f'Frequency-Averaged Ratio: {favg_rat:.3f}')\n",
    "    ax[3].set_xlabel('Frequency (MHz)')\n",
    "    ax[3].set_ylim([.9, 1.5])\n",
    "    ax[3].set_xlim([100,200])\n",
    "    ax[3].set_ylabel('Observed / Predicted')\n",
    "    ax[3].legend(loc='upper right')\n",
    "\n",
    "    plt.tight_layout()"
   ]
  },
  {
   "cell_type": "markdown",
   "metadata": {},
   "source": [
    "# Figure 3: Comparison of Noise Metrics and Predicted Noise\n",
    "\n",
    "Comparison of noise predicted from autocorrelations (and $N_{samples}$) to the noise measured either from the standard deviation across nights or from frequency-interleaving.\n",
    "\n",
    "Based on [Validation Test 4.0.0b](https://github.com/HERA-Team/hera-validation/blob/master/test-series/4/test-4.0.0b.ipynb) and [Aguirre et al. (2021) Figure 12](https://www.overleaf.com/project/5e7cdde364f7d40001749218) (the H1C IDR2 Validation paper)."
   ]
  },
  {
   "cell_type": "code",
   "execution_count": null,
   "metadata": {
    "ExecuteTime": {
     "end_time": "2021-02-16T19:36:19.665547Z",
     "start_time": "2021-02-16T19:36:18.071612Z"
    }
   },
   "outputs": [],
   "source": [
    "Noise_Comparison()"
   ]
  },
  {
   "cell_type": "code",
   "execution_count": null,
   "metadata": {
    "ExecuteTime": {
     "end_time": "2021-02-16T19:36:19.675093Z",
     "start_time": "2021-02-16T19:36:19.668460Z"
    }
   },
   "outputs": [],
   "source": [
    "# pick out the baselines in the same groups but only pick the ones with the most total samples from the central file\n",
    "bls_to_load = [sorted(reds[n], key=lambda bl: np.sum(nsamples[bl]))[-1] for n in range(2)]"
   ]
  },
  {
   "cell_type": "code",
   "execution_count": null,
   "metadata": {
    "ExecuteTime": {
     "end_time": "2021-02-16T19:37:21.832615Z",
     "start_time": "2021-02-16T19:36:19.677042Z"
    },
    "scrolled": true
   },
   "outputs": [],
   "source": [
    "# Load those baselines for all LSTs\n",
    "with warnings.catch_warnings():\n",
    "    warnings.simplefilter(\"ignore\")\n",
    "    hd_full = HERAData(lst_bin_files)\n",
    "    data_full, flags_full, nsamples_full = hd_full.read(bls=bls_to_load, axis='blt')"
   ]
  },
  {
   "cell_type": "code",
   "execution_count": null,
   "metadata": {
    "ExecuteTime": {
     "end_time": "2021-02-16T19:37:21.846877Z",
     "start_time": "2021-02-16T19:37:21.834306Z"
    },
    "code_folding": [],
    "scrolled": false
   },
   "outputs": [],
   "source": [
    "def Plot_Full_Night():\n",
    "    for bl in bls_to_load:\n",
    "        display(HTML(f'<h2>Baseline {bl}:</h2>'))\n",
    "        plt.figure(figsize=(18,14))\n",
    "        \n",
    "        # handle possible wraps in LST\n",
    "        extent=[data_full.freqs[0]/1e6, data_full.freqs[-1]/1e6, len(data_full.lsts), 0]\n",
    "        yticks = np.linspace(0, len(data_full.lsts) - 1e-10, 10)\n",
    "        yticklabels = np.round(12 / np.pi * data_full.lsts[np.floor(np.linspace(0, len(data_full.lsts) - 1e-10, 10)).astype(int)], 2)\n",
    "        \n",
    "        # Plot Phase\n",
    "        plt.subplot(131)\n",
    "        plt.imshow(np.where(flags_full[bl], np.nan, np.angle(data_full[bl])), \n",
    "                   aspect='auto', cmap='twilight', interpolation='nearest', extent=extent)\n",
    "        plt.yticks(yticks, yticklabels)\n",
    "        plt.xlabel('Frequency (MHz)')\n",
    "        plt.ylabel('LST (Hours)')\n",
    "        plt.title(f'{bl}: Epoch {epoch} LST-Binned Phase')\n",
    "        plt.colorbar(label='Phase (radians)', aspect=50)\n",
    "\n",
    "        # Plot Amplitude\n",
    "        plt.subplot(132)\n",
    "        plt.imshow(np.where(flags_full[bl], np.nan, np.abs(data_full[bl])), \n",
    "                     aspect='auto', cmap='inferno', interpolation='nearest', norm=LogNorm(), extent=extent)\n",
    "        plt.yticks(yticks, yticklabels)    \n",
    "        plt.xlabel('Frequency (MHz)')\n",
    "        plt.ylabel('LST (Hours)')\n",
    "        plt.title(f'{bl}: Epoch {epoch} LST-Binned Amplitude')\n",
    "        plt.colorbar(label='Amplitude (Jy)', aspect=50)\n",
    "\n",
    "        # Plot N Samples\n",
    "        plt.subplot(133)\n",
    "        plt.imshow(nsamples_full[bl], aspect='auto', cmap='viridis', interpolation='nearest', extent=extent)\n",
    "        plt.yticks(yticks, yticklabels)\n",
    "        plt.xlabel('Frequency (MHz)')\n",
    "        plt.ylabel('LST (Hours)')\n",
    "        plt.title(f'{bl}: Epoch {epoch} Samples LST-Binned')\n",
    "        plt.colorbar(label='Number of Samples', aspect=50)\n",
    "\n",
    "        plt.tight_layout()\n",
    "        plt.show()\n",
    "        display(HTML('<hr style=\"height:3px\">'))"
   ]
  },
  {
   "cell_type": "markdown",
   "metadata": {},
   "source": [
    "# Figure 4: Full Night Waterfalls\n",
    "\n",
    "Full-epoch phases, amplitudes, and $N_{samples}$ for baselines from the same redundant group as above, but picked to have the maximum total samples in that group."
   ]
  },
  {
   "cell_type": "code",
   "execution_count": null,
   "metadata": {
    "ExecuteTime": {
     "end_time": "2021-02-16T19:37:28.583408Z",
     "start_time": "2021-02-16T19:37:21.849607Z"
    },
    "scrolled": false
   },
   "outputs": [],
   "source": [
    "Plot_Full_Night()"
   ]
  },
  {
   "cell_type": "markdown",
   "metadata": {},
   "source": [
    "# Metadata"
   ]
  },
  {
   "cell_type": "code",
   "execution_count": null,
   "metadata": {
    "ExecuteTime": {
     "end_time": "2021-02-16T19:37:29.396496Z",
     "start_time": "2021-02-16T19:37:28.585720Z"
    }
   },
   "outputs": [],
   "source": [
    "from hera_cal import __version__\n",
    "print(__version__)"
   ]
  }
 ],
 "metadata": {
  "kernelspec": {
   "display_name": "Python 3 (ipykernel)",
   "language": "python",
   "name": "python3"
  },
  "language_info": {
   "codemirror_mode": {
    "name": "ipython",
    "version": 3
   },
   "file_extension": ".py",
   "mimetype": "text/x-python",
   "name": "python",
   "nbconvert_exporter": "python",
   "pygments_lexer": "ipython3",
   "version": "3.10.4"
  },
  "toc": {
   "base_numbering": 1,
   "nav_menu": {},
   "number_sections": false,
   "sideBar": true,
   "skip_h1_title": false,
   "title_cell": "Table of Contents",
   "title_sidebar": "Contents",
   "toc_cell": false,
   "toc_position": {
    "height": "calc(100% - 180px)",
    "left": "10px",
    "top": "150px",
    "width": "337.594px"
   },
   "toc_section_display": true,
   "toc_window_display": false
  }
 },
 "nbformat": 4,
 "nbformat_minor": 4
}
