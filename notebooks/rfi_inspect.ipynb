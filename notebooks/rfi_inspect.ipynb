{
 "cells": [
  {
   "cell_type": "markdown",
   "metadata": {},
   "source": [
    "# RFI Inspection Daily RTP Notebook"
   ]
  },
  {
   "cell_type": "code",
   "execution_count": null,
   "metadata": {
    "ExecuteTime": {
     "end_time": "2020-03-06T00:41:48.883370Z",
     "start_time": "2020-03-06T00:41:45.944574Z"
    }
   },
   "outputs": [],
   "source": [
    "import numpy as np\n",
    "import matplotlib.pyplot as plt\n",
    "import matplotlib\n",
    "import glob\n",
    "import os\n",
    "from astropy import units\n",
    "from copy import deepcopy\n",
    "from pyuvdata import UVFlag\n",
    "from SSINS import INS\n",
    "from SSINS import version as SSINS_ver\n",
    "import matplotlib.colors as colors\n",
    "from matplotlib import cm\n",
    "from IPython.display import display, HTML\n",
    "\n",
    "%matplotlib inline\n",
    "%config InlineBackend.figure_format = 'retina'\n",
    "display(HTML(\"<style>.container { width:100% !important; }</style>\"))"
   ]
  },
  {
   "cell_type": "code",
   "execution_count": null,
   "metadata": {},
   "outputs": [],
   "source": [
    "# Use environment variables to figure out path to data\n",
    "JD = os.environ['JULIANDATE']\n",
    "data_path = os.environ['DATA_PATH']\n",
    "print(f'JD = {JD}')\n",
    "print(f'data_path = \"{data_path}\"')\n",
    "JD = int(JD)"
   ]
  },
  {
   "cell_type": "code",
   "execution_count": null,
   "metadata": {},
   "outputs": [],
   "source": [
    "from astropy.time import Time\n",
    "utc = Time(JD, format='jd').datetime\n",
    "print(f'Date: {utc.month}-{utc.day}-{utc.year}')"
   ]
  },
  {
   "cell_type": "code",
   "execution_count": null,
   "metadata": {},
   "outputs": [],
   "source": [
    "uvf = UVFlag(f'{data_path}/zen.{JD}.total_stage_1_threshold_flags.h5')"
   ]
  },
  {
   "cell_type": "code",
   "execution_count": null,
   "metadata": {},
   "outputs": [],
   "source": [
    "plt.figure(figsize=(16,12))\n",
    "plt.imshow(uvf.flag_array[:,:,0], aspect='auto', interpolation='none',\n",
    "           extent=[uvf.freq_array[0] / 1e6, uvf.freq_array[-1] / 1e6, \n",
    "                   uvf.time_array[-1] - JD, uvf.time_array[0] - JD])\n",
    "plt.xlabel('Frequency (MHz)')\n",
    "plt.ylabel(f'JD - {JD}')\n",
    "ax2 = plt.gca().twinx()\n",
    "ax2.set_ylim([uvf.lst_array[0] * 12 / np.pi, uvf.lst_array[-1] * 12 / np.pi])\n",
    "ax2.invert_yaxis()\n",
    "ax2.set_ylabel('LST (hours)')\n",
    "ax3 = plt.gca().twiny()\n",
    "ax3.set_xlim([0, uvf.Nfreqs - 1])\n",
    "ax3.set_xlabel('Channel');"
   ]
  },
  {
   "cell_type": "markdown",
   "metadata": {},
   "source": [
    "# Figure 1(a): Full day of XRFI flags\n",
    "Yellow is flagged. Blue is unflagged."
   ]
  },
  {
   "cell_type": "code",
   "execution_count": null,
   "metadata": {},
   "outputs": [],
   "source": [
    "ssins_dirs_sorted = sorted(glob.glob(f\"{data_path}/zen.{JD}*.SSINS\"))\n",
    "init_ssins_path = glob.glob(f\"{ssins_dirs_sorted[0]}/*flags.h5\")\n",
    "ssins_uvf = UVFlag(init_ssins_path)\n",
    "for path in ssins_dirs_sorted[1:]:\n",
    "    new_path = glob.glob(f\"{path}/*flags.h5\")[0]\n",
    "    ssins_uvf += UVFlag(new_path)"
   ]
  },
  {
   "cell_type": "code",
   "execution_count": null,
   "metadata": {},
   "outputs": [],
   "source": [
    "plt.figure(figsize=(16,12))\n",
    "plt.imshow(ssins_uvf.flag_array[:,:,0], aspect='auto', interpolation='none',\n",
    "           extent=[ssins_uvf.freq_array[0] / 1e6, ssins_uvf.freq_array[-1] / 1e6, \n",
    "                   ssins_uvf.time_array[-1] - JD, ssins_uvf.time_array[0] - JD])\n",
    "plt.xlabel('Frequency (MHz)')\n",
    "plt.ylabel(f'JD - {JD}')\n",
    "ax2 = plt.gca().twinx()\n",
    "ax2.set_ylim([ssins_uvf.lst_array[0] * 12 / np.pi, ssins_uvf.lst_array[-1] * 12 / np.pi])\n",
    "ax2.invert_yaxis()\n",
    "ax2.set_ylabel('LST (hours)')\n",
    "ax3 = plt.gca().twiny()\n",
    "ax3.set_xlim([0, ssins_uvf.Nfreqs - 1])\n",
    "ax3.set_xlabel('Channel');"
   ]
  },
  {
   "cell_type": "markdown",
   "metadata": {},
   "source": [
    "# Figure 1(b): Full day of SSINS flags\n",
    "FM is manually flagged at the beginning."
   ]
  },
  {
   "cell_type": "code",
   "execution_count": null,
   "metadata": {},
   "outputs": [],
   "source": [
    "plt.figure(figsize=(16,12))\n",
    "flag_table = np.zeros_like(uvf.flag_array[:, :, 0]).astype(float)\n",
    "flag_table[np.logical_and(ssins_uvf.flag_array[:, :, 0], uvf.flag_array[:, :, 0])] = 0.75\n",
    "flag_table[np.logical_and(ssins_uvf.flag_array[:, :, 0], np.logical_not(uvf.flag_array[:, :, 0]))] = 0.5\n",
    "flag_table[np.logical_and(np.logical_not(ssins_uvf.flag_array[:, :, 0]), uvf.flag_array[:, :, 0])] = 0.25\n",
    "\n",
    "# Prepare a colormap.\n",
    "cmap = plt.cm.colors.ListedColormap(\n",
    "    [\"slategray\", \"darkturquoise\", \"plum\", \"lemonchiffon\"]\n",
    ")\n",
    "print(cmap.__dict__)\n",
    "\n",
    "\n",
    "cax = plt.imshow(flag_table, aspect='auto', interpolation='none', \n",
    "                 extent=[uvf.freq_array[0] / 1e6, uvf.freq_array[-1] / 1e6, \n",
    "                 uvf.time_array[-1] - JD, uvf.time_array[0] - JD],\n",
    "                 cmap=cmap,\n",
    "                 vmin=0, vmax=1)\n",
    "plt.xlabel('Frequency (MHz)')\n",
    "plt.ylabel(f'JD - {JD}')\n",
    "ax2 = plt.gca().twinx()\n",
    "ax2.set_ylim([ssins_uvf.lst_array[0] * 12 / np.pi, ssins_uvf.lst_array[-1] * 12 / np.pi])\n",
    "ax2.invert_yaxis()\n",
    "ax2.set_ylabel('LST (hours)')\n",
    "ax3 = plt.gca().twiny()\n",
    "ax3.set_xlim([0, ssins_uvf.Nfreqs - 1])\n",
    "ax3.set_xlabel('Channel');\n",
    "\n",
    "cbar_ticklabels = [\"Flagged in Neither\", \"Flagged in XRFI\", \"Flagged in SSINS\", \"Flagged in Both\"]\n",
    "\n",
    "# Configure the colorbar so that labels are at the center of each section.\n",
    "cbar = plt.colorbar(cax)\n",
    "cbar_ticks = np.arange(0.125, 1.125, 0.25)\n",
    "cbar.set_ticks(cbar_ticks)\n",
    "cbar.set_ticklabels(cbar_ticklabels);"
   ]
  },
  {
   "cell_type": "markdown",
   "metadata": {},
   "source": [
    "# Figure 1(c): Flag Agreement/Disagreement"
   ]
  },
  {
   "cell_type": "code",
   "execution_count": null,
   "metadata": {},
   "outputs": [],
   "source": [
    "xrfi_dirs = sorted(glob.glob(f'{data_path}/zen.{JD}.?????.stage_1_xrfi'))\n",
    "print(f'Found {len(xrfi_dirs)} directories containing XRFI intermediate data products.')\n",
    "files1 = [glob.glob(f'{d}/*combined_metrics1.h5')[0] for d in xrfi_dirs]\n",
    "print(f'Found {len(files1)} combined round 1 XRFI metrics files.')\n",
    "files2 = [glob.glob(f'{d}/*combined_metrics2.h5')[0] for d in xrfi_dirs]\n",
    "print(f'Found {len(files2)} combined round 2 XRFI metrics files.')\n",
    "uvf1 = UVFlag(files1)\n",
    "uvf2 = UVFlag(files2)\n",
    "uvf2.metric_array = np.where(np.isinf(uvf2.metric_array), uvf1.metric_array,\n",
    "                             uvf2.metric_array)"
   ]
  },
  {
   "cell_type": "code",
   "execution_count": null,
   "metadata": {},
   "outputs": [],
   "source": [
    "plt.figure(figsize=(16,12))\n",
    "max_abs = 100\n",
    "if np.max(uvf2.metric_array) > max_abs:\n",
    "    extend = 'max'\n",
    "    if np.min(uvf2.metric_array) < -max_abs:\n",
    "        extend = 'both'\n",
    "elif np.min(uvf2.metric_array) < -max_abs:\n",
    "    extend = 'min'    \n",
    "else:\n",
    "    extend = 'neither'\n",
    "\n",
    "plt.imshow(uvf2.metric_array[:,:,0], aspect='auto', cmap='RdBu_r', interpolation='none', \n",
    "           norm=colors.SymLogNorm(linthresh=1,vmin=-max_abs, vmax=max_abs), \n",
    "           extent=[uvf.freq_array[0] / 1e6, uvf.freq_array[-1] / 1e6, \n",
    "                   uvf.time_array[-1] - JD, uvf.time_array[0] - JD])\n",
    "plt.colorbar(pad=.07, extend=extend,\n",
    "             label='RFI Detection Significance ($\\sigma$s)')\n",
    "plt.title('Combined XRFI Metrics')\n",
    "plt.xlabel('Frequency (MHz)')\n",
    "plt.ylabel(f'JD - {JD}')\n",
    "ax2 = plt.gca().twinx()\n",
    "ax2.set_ylim([uvf.lst_array[0] * 12 / np.pi, uvf.lst_array[-1] * 12 / np.pi])\n",
    "ax2.invert_yaxis()\n",
    "ax2.set_ylabel('LST (hours)')\n",
    "ax3 = plt.gca().twiny()\n",
    "ax3.set_xlim([0, uvf.Nfreqs - 1])\n",
    "ax3.set_xlabel('Channel');"
   ]
  },
  {
   "cell_type": "markdown",
   "metadata": {},
   "source": [
    "## Figure 2(a): Combined XRFI Detection Significance\n",
    "This figure shows round 2 XRFI metrics (mean filter outliers) combined in quadrature. When flagged in round 1 of XRFI, round 1's combined median filter metrics are used instead. "
   ]
  },
  {
   "cell_type": "code",
   "execution_count": null,
   "metadata": {},
   "outputs": [],
   "source": [
    "def make_sig_arr(ins, sig_arr, event_arr):\n",
    "    for event in ins.match_events:\n",
    "        nomask = np.logical_not(ins.metric_ms.mask[event[:2]])\n",
    "        if event.sig is not None:\n",
    "            event_arr[event[:2]] = event.sig\n",
    "        else:\n",
    "            event_arr[event[:2]][nomask] = ins.metric_ms[event[:2]][nomask]\n",
    "        sig_arr[event[:2]][nomask] = ins.metric_ms[event[:2]][nomask]\n",
    "        ins.metric_array[event[:2]] = np.ma.masked\n",
    "        ins.metric_ms[:, event[1]] = ins.mean_subtract(freq_slice=event.freq_slice)\n",
    "    nomask = np.logical_not(ins.metric_ms.mask)\n",
    "    sig_arr[nomask] = ins.metric_ms[nomask]\n",
    "    event_arr[nomask] = ins.metric_ms[nomask]\n",
    "            \n",
    "        \n",
    "    return(sig_arr, event_arr)"
   ]
  },
  {
   "cell_type": "code",
   "execution_count": null,
   "metadata": {},
   "outputs": [],
   "source": [
    "init_ssins_path_data = glob.glob(f\"{ssins_dirs_sorted[0]}/*data.h5\")[0]\n",
    "init_ssins_path_match_events = glob.glob(f\"{ssins_dirs_sorted[0]}/*match_events.yml\")[0]\n",
    "init_ssins = INS(init_ssins_path_data, match_events_file=init_ssins_path_match_events)\n",
    "init_sig_arr = np.ma.copy(init_ssins.metric_ms)\n",
    "init_event_arr = np.ma.copy(init_sig_arr)\n",
    "sig_arr, event_arr = make_sig_arr(init_ssins, init_sig_arr, init_event_arr)\n",
    "\n",
    "for ssins_dir in ssins_dirs_sorted[1:]:\n",
    "    ssins_path_data = glob.glob(f\"{ssins_dir}/*data.h5\")[0]\n",
    "    ssins_path_match_events = glob.glob(f\"{ssins_dir}/*match_events.yml\")[0]\n",
    "    ssins = INS(ssins_path_data, match_events_file=ssins_path_match_events)\n",
    "    init_ssins += ssins\n",
    "    \n",
    "    new_sig_arr = np.ma.copy(ssins.metric_ms)\n",
    "    new_event_arr = np.ma.copy(new_sig_arr)\n",
    "    \n",
    "    new_sig_arr, new_event_arr = make_sig_arr(ssins, new_sig_arr, new_event_arr)\n",
    "    \n",
    "    sig_arr = np.concatenate([sig_arr, new_sig_arr], axis=0)\n",
    "    event_arr = np.concatenate([event_arr, new_event_arr], axis=0)"
   ]
  },
  {
   "cell_type": "code",
   "execution_count": null,
   "metadata": {},
   "outputs": [],
   "source": [
    "plt.figure(figsize=(16,12))\n",
    "    \n",
    "cmap = cm.plasma\n",
    "cmap.set_bad('white')\n",
    "\n",
    "plt.imshow(init_ssins.metric_array[:,:,0], aspect='auto', cmap=cmap, interpolation='none', \n",
    "           vmax=4e4, \n",
    "           extent=[ssins_uvf.freq_array[0] / 1e6, ssins_uvf.freq_array[-1] / 1e6, \n",
    "                   ssins_uvf.time_array[-1] - JD, ssins_uvf.time_array[0] - JD])\n",
    "plt.colorbar(pad=.07, extend='neither',\n",
    "             label='SSINS (Corr. Units)')\n",
    "plt.title('SSINS')\n",
    "plt.xlabel('Frequency (MHz)')\n",
    "plt.ylabel(f'JD - {JD}')\n",
    "ax2 = plt.gca().twinx()\n",
    "ax2.set_ylim([ssins_uvf.lst_array[0] * 12 / np.pi, ssins_uvf.lst_array[-1] * 12 / np.pi])\n",
    "ax2.invert_yaxis()\n",
    "ax2.set_ylabel('LST (hours)')\n",
    "ax3 = plt.gca().twiny()\n",
    "ax3.set_xlim([0, ssins_uvf.Nfreqs - 1])\n",
    "ax3.set_xlabel('Channel');\n",
    "\n"
   ]
  },
  {
   "cell_type": "markdown",
   "metadata": {},
   "source": [
    "# Figure 2(b): SSINS XX Waterfall"
   ]
  },
  {
   "cell_type": "code",
   "execution_count": null,
   "metadata": {},
   "outputs": [],
   "source": [
    "fig, ax = plt.subplots(figsize=(16,12), nrows=2)\n",
    "max_abs = 100\n",
    "if np.max(sig_arr) > max_abs:\n",
    "    extend = 'max'\n",
    "    if np.min(sig_arr) < -max_abs:\n",
    "        extend = 'both'\n",
    "elif np.min(sig_arr) < -max_abs:\n",
    "    extend = 'min'    \n",
    "else:\n",
    "    extend = 'neither'\n",
    "    \n",
    "cmap = cm.RdBu_r\n",
    "cmap.set_bad('black')\n",
    "\n",
    "cax = [None, None]\n",
    "\n",
    "cax[0] = ax[0].imshow(sig_arr[:,:,0], aspect='auto', cmap=cmap, interpolation='none',\n",
    "                      norm=colors.SymLogNorm(linthresh=1,vmin=-max_abs, vmax=max_abs), \n",
    "                      extent=[ssins_uvf.freq_array[0] / 1e6, ssins_uvf.freq_array[-1] / 1e6, \n",
    "                              ssins_uvf.time_array[-1] - JD, ssins_uvf.time_array[0] - JD])\n",
    "\n",
    "cax[1] = ax[1].imshow(event_arr[:,:,0], aspect='auto', cmap=cmap, interpolation='none',\n",
    "                      norm=colors.SymLogNorm(linthresh=1,vmin=-max_abs, vmax=max_abs), \n",
    "                      extent=[ssins_uvf.freq_array[0] / 1e6, ssins_uvf.freq_array[-1] / 1e6, \n",
    "                              ssins_uvf.time_array[-1] - JD, ssins_uvf.time_array[0] - JD])\n",
    "fig.colorbar(cax[0], pad=.07, extend=extend, ax=ax[0],\n",
    "             label='SSINS Detection Significance (Sample) [$\\sigma$s]')\n",
    "fig.colorbar(cax[1], pad=.07, extend=extend, ax=ax[1],\n",
    "             label='SSINS Detection Significance (Event) [$\\sigma$s]')\n",
    "fig.suptitle('SSINS Detection Significance')\n",
    "ax[0].set_xlabel('Frequency (MHz)')\n",
    "ax[0].set_ylabel(f'JD - {JD}')\n",
    "\n",
    "ax[1].set_xlabel('Frequency (MHz)')\n",
    "ax[1].set_ylabel(f'JD - {JD}')\n",
    "\n",
    "ax2 = ax[0].twinx()\n",
    "ax2.set_ylim([ssins_uvf.lst_array[0] * 12 / np.pi, ssins_uvf.lst_array[-1] * 12 / np.pi])\n",
    "ax2.invert_yaxis()\n",
    "ax2.set_ylabel('LST (hours)')\n",
    "ax3 = ax[0].twiny()\n",
    "ax3.set_xlim([0, ssins_uvf.Nfreqs - 1])\n",
    "ax3.set_xlabel('Channel');\n",
    "\n",
    "ax4 = ax[1].twinx()\n",
    "ax4.set_ylim([ssins_uvf.lst_array[0] * 12 / np.pi, ssins_uvf.lst_array[-1] * 12 / np.pi])\n",
    "ax4.invert_yaxis()\n",
    "ax4.set_ylabel('LST (hours)')\n",
    "ax5 = ax[1].twiny()\n",
    "ax5.set_xlim([0, ssins_uvf.Nfreqs - 1])\n",
    "ax5.set_xlabel('Channel');\n"
   ]
  },
  {
   "cell_type": "markdown",
   "metadata": {},
   "source": [
    "# Figure 2(c) SSINS XX detection significance\n",
    "Shamelessly copied/pasted code from 2(a). Could write a function in the future. Slightly wrong time axis due to missing integration around chunk boundary in SSINS. "
   ]
  },
  {
   "cell_type": "code",
   "execution_count": null,
   "metadata": {},
   "outputs": [],
   "source": [
    "# Load in the flags from each round of XRFI flagging\n",
    "round_1_flag_files = [\n",
    "    glob.glob(os.path.join(xrfi_dir, \"*.flags1.h5\"))[0]\n",
    "    for xrfi_dir in xrfi_dirs\n",
    "]\n",
    "round_2_flag_files = [f.replace(\"flags1\", \"flags2\") for f in round_1_flag_files]\n",
    "thresh_flag_file = f'{data_path}/zen.{JD}.total_stage_1_threshold_flags.h5'\n",
    "round_1_uvf = UVFlag(round_1_flag_files)\n",
    "round_2_uvf = UVFlag(round_2_flag_files)\n",
    "round_3_uvf = UVFlag(thresh_flag_file)"
   ]
  },
  {
   "cell_type": "code",
   "execution_count": null,
   "metadata": {},
   "outputs": [],
   "source": [
    "# Load in the data.\n",
    "round_1_flags = round_1_uvf.flag_array[...,0]\n",
    "round_2_flags = round_2_uvf.flag_array[...,0]\n",
    "round_3_flags = round_3_uvf.flag_array[...,0]\n",
    "\n",
    "# For plotting convenience.\n",
    "flags = dict(zip(range(1,4), (round_1_flags, round_2_flags, round_3_flags)))\n",
    "unique_flags = {\n",
    "    1: round_1_flags,\n",
    "    2: round_2_flags & ~round_1_flags,\n",
    "    3: round_3_flags & ~round_1_flags & ~round_2_flags,\n",
    "}\n",
    "\n",
    "# Construct an array that can be color-coded by when flags were introduced.\n",
    "combined_flags = np.zeros(round_1_flags.shape, dtype=np.float)\n",
    "for round_, flags_ in unique_flags.items():\n",
    "    combined_flags[flags_] = round_ / len(unique_flags)\n",
    "    \n",
    "# Prepare different plot labels.\n",
    "flag_labels = (\n",
    "    \"Flagged in Median Filter Round\",\n",
    "    \"Flagged in Mean Filter Round\",\n",
    "    \"Flagged in Thresholding\",\n",
    ")\n",
    "cbar_ticklabels = (\"Unflagged\",) + tuple(\n",
    "    \"in\\n\".join(flag_label.split(\"in \"))\n",
    "    for flag_label in flag_labels\n",
    ")\n",
    "\n",
    "# Prepare a colormap.\n",
    "cmap = plt.cm.colors.ListedColormap(\n",
    "    [\"slategray\", \"darkturquoise\", \"plum\", \"lemonchiffon\"]\n",
    ")\n",
    "\n",
    "# Useful plot metadata.\n",
    "lsts = np.unique(round_3_uvf.lst_array)\n",
    "times = np.unique(round_3_uvf.time_array)\n",
    "freqs = np.unique(round_3_uvf.freq_array)\n",
    "chans = np.arange(freqs.size)\n",
    "lsts_hr = lsts * units.day.to(\"hr\") * units.rad.to(\"cycle\")\n",
    "freqs_MHz = freqs / 1e6\n",
    "plot_times = times - float(JD)\n",
    "extent = (freqs_MHz[0], freqs_MHz[-1], plot_times[-1], plot_times[0])"
   ]
  },
  {
   "cell_type": "code",
   "execution_count": null,
   "metadata": {},
   "outputs": [],
   "source": [
    "# Make a waterfall showing different flagging products.\n",
    "fig = plt.figure(figsize=(16,12))\n",
    "ax = fig.add_subplot(111)\n",
    "ax.set_xlabel(\"Frequency (MHz)\", fontsize=12)\n",
    "ax.set_ylabel(f\"JD - {JD}\", fontsize=12)\n",
    "ax.set_xlim(*extent[:2])\n",
    "ax.set_ylim(*extent[2:])\n",
    "cax = ax.imshow(\n",
    "    combined_flags,\n",
    "    aspect=\"auto\",\n",
    "    extent=extent,\n",
    "    interpolation='none',\n",
    "    cmap=cmap,\n",
    ")\n",
    "\n",
    "# Add labels on the top and right axes.\n",
    "twinx = ax.twinx()\n",
    "twiny = ax.twiny()\n",
    "twinx.set_ylabel(\"LST (hours)\", fontsize=12)\n",
    "twinx.set_ylim(lsts_hr.max(), lsts_hr.min())\n",
    "twiny.set_xlabel(\"Channel\", fontsize=12)\n",
    "twiny.set_xlim(chans.min(), chans.max())\n",
    "\n",
    "# Configure the colorbar so that labels are at the center of each section.\n",
    "cbar = fig.colorbar(cax)\n",
    "cbar_ticks = np.linspace(combined_flags.min(), combined_flags.max(), len(flags) + 2)\n",
    "cbar_ticks = 0.5 * (cbar_ticks[1:] + cbar_ticks[:-1])\n",
    "cbar.set_ticks(cbar_ticks)\n",
    "cbar.set_ticklabels(cbar_ticklabels);"
   ]
  },
  {
   "cell_type": "code",
   "execution_count": null,
   "metadata": {},
   "outputs": [],
   "source": [
    "plt.figure(figsize=(16,12))\n",
    "max_abs = 100\n",
    "if np.max(uvf2.metric_array) > max_abs:\n",
    "    extend = 'max'\n",
    "    if np.min(uvf2.metric_array) < -max_abs:\n",
    "        extend = 'both'\n",
    "elif np.min(uvf2.metric_array) < -max_abs:\n",
    "    extend = 'min'    \n",
    "else:\n",
    "    extend = 'neither'\n",
    "\n",
    "plt.imshow(uvf2.metric_array[:,:,0], aspect='auto', cmap='RdBu_r',\n",
    "           norm=colors.SymLogNorm(linthresh=1,vmin=-max_abs, vmax=max_abs), \n",
    "           extent=[uvf.freq_array[0] / 1e6, uvf.freq_array[-1] / 1e6, \n",
    "                   uvf.time_array[-1] - JD, uvf.time_array[0] - JD])\n",
    "plt.colorbar(pad=.07, extend=extend,\n",
    "             label='RFI Detection Significance ($\\sigma$s)')\n",
    "plt.title('Combined XRFI Metrics')\n",
    "plt.xlabel('Frequency (MHz)')\n",
    "plt.ylabel(f'JD - {JD}')\n",
    "ax2 = plt.gca().twinx()\n",
    "ax2.set_ylim([uvf.lst_array[0] * 12 / np.pi, uvf.lst_array[-1] * 12 / np.pi])\n",
    "ax2.invert_yaxis()\n",
    "ax2.set_ylabel('LST (hours)')\n",
    "ax3 = plt.gca().twiny()\n",
    "ax3.set_xlim([0, uvf.Nfreqs - 1])\n",
    "ax3.set_xlabel('Channel');"
   ]
  },
  {
   "cell_type": "markdown",
   "metadata": {},
   "source": [
    "## Figure 3: Flag Evolution\n",
    "This figure shows how the flags are built at each step in the initial XRFI flagging pipeline. Note that the completely flagged sections at the beginning and end of the night are expected. Main thing to look out for is if there are channels which are highly flagged after the second round of flagging but have not been completely flagged after day thresholding."
   ]
  },
  {
   "cell_type": "code",
   "execution_count": null,
   "metadata": {},
   "outputs": [],
   "source": [
    "# Collapse the flags along each axis and plot the result.\n",
    "fig = plt.figure(figsize=(15,10))\n",
    "axes = fig.subplots(2, gridspec_kw={\"hspace\": 0.35})\n",
    "twin_axes = [ax.twiny() for ax in axes]\n",
    "\n",
    "# Set the plot labels.\n",
    "axes[0].set_xlabel(f\"JD - {JD}\", fontsize=12)\n",
    "axes[0].set_ylabel(\"Fraction of Channels Flagged\", fontsize=12)\n",
    "axes[1].set_xlabel(\"Frequency (MHz)\", fontsize=12)\n",
    "axes[1].set_ylabel(\n",
    "    \"Fraction of Integrations Flagged\\nin Total Day Thresholded Flags\", fontsize=12\n",
    ")\n",
    "twin_axes[0].set_xlabel(\"LST (hour)\", fontsize=12)\n",
    "twin_axes[0].set_xlim(lsts_hr[0], lsts_hr[-1])\n",
    "twin_axes[1].set_xlabel(\"Channel\", fontsize=12)\n",
    "twin_axes[1].set_xlim(chans.min(), chans.max())\n",
    "\n",
    "# Plot the channel occupancy as a function of time.\n",
    "for label, flag_array in zip(flag_labels, flags.values()):\n",
    "    axes[0].plot(plot_times, flag_array.astype(np.float).mean(axis=1), label=label)\n",
    "axes[0].plot(plot_times, ssins_uvf.flag_array.astype(np.float).mean(axis=(1, -1)), \n",
    "             label=\"Flagged by SSINS\")\n",
    "\n",
    "# Plot the flagging fraction as a function of frequency.\n",
    "axes[1].plot(\n",
    "    freqs_MHz, round_3_flags.astype(np.float).mean(axis=0), color=\"k\", ms=1, lw=0, marker=\"o\",\n",
    "    label=\"XRFI frequency occupancy\",\n",
    ")\n",
    "# Do the same with the SSINS flags\n",
    "axes[1].plot(freqs_MHz, ssins_uvf.flag_array.astype(np.float).mean(axis=(0, -1)), ms=1, lw=0,\n",
    "             marker=\"o\", label=\"SSINS frequency occupancy\")\n",
    "    \n",
    "axes[0].legend();\n",
    "axes[1].legend()"
   ]
  },
  {
   "cell_type": "markdown",
   "metadata": {},
   "source": [
    "## Figure 4: Flagging Occupancies\n",
    "The top plot shows the fraction of channels flagged at each integration for each set of flags. The bottom plot shows the fraction of integrations flagged as a function of frequency for the total thresholded flags."
   ]
  },
  {
   "cell_type": "markdown",
   "metadata": {},
   "source": [
    "# Metadata"
   ]
  },
  {
   "cell_type": "code",
   "execution_count": null,
   "metadata": {},
   "outputs": [],
   "source": [
    "from hera_qm import __version__\n",
    "print(__version__)"
   ]
  },
  {
   "cell_type": "code",
   "execution_count": null,
   "metadata": {},
   "outputs": [],
   "source": [
    "print(f\"SSINS version info: {SSINS_ver.construct_version_info()}\")"
   ]
  }
 ],
 "metadata": {
  "kernelspec": {
   "display_name": "Python 3",
   "language": "python",
   "name": "python3"
  },
  "language_info": {
   "codemirror_mode": {
    "name": "ipython",
    "version": 3
   },
   "file_extension": ".py",
   "mimetype": "text/x-python",
   "name": "python",
   "nbconvert_exporter": "python",
   "pygments_lexer": "ipython3",
   "version": "3.8.6"
  },
  "toc": {
   "base_numbering": 1,
   "nav_menu": {},
   "number_sections": false,
   "sideBar": true,
   "skip_h1_title": false,
   "title_cell": "Table of Contents",
   "title_sidebar": "Contents",
   "toc_cell": false,
   "toc_position": {},
   "toc_section_display": true,
   "toc_window_display": false
  }
 },
 "nbformat": 4,
 "nbformat_minor": 2
}
