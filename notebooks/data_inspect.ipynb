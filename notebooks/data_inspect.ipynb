{
 "cells": [
  {
   "cell_type": "code",
   "execution_count": 2,
   "metadata": {
    "scrolled": false
   },
   "outputs": [
    {
     "data": {
      "text/html": [
       "<style>.container { width:100% !important; }</style>"
      ],
      "text/plain": [
       "<IPython.core.display.HTML object>"
      ]
     },
     "metadata": {},
     "output_type": "display_data"
    }
   ],
   "source": [
    "import os\n",
    "os.environ['HDF5_USE_FILE_LOCKING'] = 'FALSE'\n",
    "import h5py\n",
    "import hdf5plugin\n",
    "import matplotlib\n",
    "import matplotlib.pyplot as plt\n",
    "from matplotlib.ticker import FormatStrFormatter\n",
    "import matplotlib.patches as mpatches\n",
    "import matplotlib.gridspec as gridspec\n",
    "import numpy as np\n",
    "from pyuvdata import UVCal, UVData\n",
    "import sys\n",
    "import glob\n",
    "import uvtools as uvt\n",
    "from astropy.time import Time\n",
    "from astropy.coordinates import EarthLocation, AltAz, Angle\n",
    "from astropy.coordinates import SkyCoord as sc\n",
    "import pandas\n",
    "import warnings \n",
    "import copy\n",
    "from hera_notebook_templates import utils\n",
    "import hera_qm\n",
    "from hera_mc import cm_hookup\n",
    "import importlib\n",
    "from scipy import stats\n",
    "from IPython.display import display, HTML\n",
    "#warnings.filterwarnings('ignore')\n",
    "#My changes:\n",
    "from matplotlib import cm\n",
    "from time import gmtime, strftime\n",
    "from hera_mc import cm_active\n",
    "\n",
    "%matplotlib inline\n",
    "%config InlineBackend.figure_format = 'retina'\n",
    "display(HTML(\"<style>.container { width:100% !important; }</style>\"))"
   ]
  },
  {
   "cell_type": "code",
   "execution_count": 8,
   "metadata": {
    "scrolled": false
   },
   "outputs": [
    {
     "name": "stdout",
     "output_type": "stream",
     "text": [
      "DATA_PATH = \"/lustre/aoc/projects/hera/dstorer/H5C_data/forEllie/2459660\"\n",
      "APRIORI_STATUSES = dish_maintenance,dish_ok,RF_maintenance,RF_ok,digital_ok,digital_maintenance,calibration_maintenance,calibration_triage,calibration_ok\n",
      "JULIANDATE = 2459660\n",
      "Date = 3-21-2022\n"
     ]
    }
   ],
   "source": [
    "#get data location\n",
    "data_path = '/lustre/aoc/projects/hera/dstorer/H5C_data/forEllie/2459660'\n",
    "print(f'DATA_PATH = \"{data_path}\"')\n",
    "statuses = 'dish_maintenance,dish_ok,RF_maintenance,RF_ok,digital_ok,digital_maintenance,calibration_maintenance,calibration_triage,calibration_ok'\n",
    "print(f'APRIORI_STATUSES = {statuses}')\n",
    "JD = 2459660\n",
    "print(f'JULIANDATE = {JD}')\n",
    "utc = Time(JD, format='jd').datetime\n",
    "print(f'Date = {utc.month}-{utc.day}-{utc.year}')"
   ]
  },
  {
   "cell_type": "code",
   "execution_count": null,
   "metadata": {
    "scrolled": true
   },
   "outputs": [
    {
     "name": "stdout",
     "output_type": "stream",
     "text": [
      "21:55:14\n",
      "755 sum files found between JDs 2459660.50018 and 2459660.66885\n",
      "755 diff files found between JDs 2459660.50018 and 2459660.66885\n",
      "755 sum auto files found between JDs 2459660.50018 and 2459660.66885\n",
      "755 diff auto files found between JDs 2459660.50018 and 2459660.66885\n"
     ]
    }
   ],
   "source": [
    "# Load in data\n",
    "print(strftime(\"%H:%M:%S\", gmtime()))\n",
    "HHfiles, difffiles, HHautos, diffautos, uvdx, uvdy = utils.load_data(data_path,JD)\n",
    "    \n",
    "uvd = UVData()\n",
    "unread = True\n",
    "readInd=0\n",
    "while unread and readInd<len(HHautos):\n",
    "    try:\n",
    "        uvd.read(HHautos[readInd])\n",
    "        unread = False\n",
    "    except:\n",
    "        readInd += 1\n",
    "        continue\n",
    "use_ants = utils.get_use_ants(uvd,statuses,JD)\n",
    "print(f'This day contains {len(use_ants)} antennas of the given status category.')\n",
    "uvd.read(HHautos[::10], skip_bad_files=True, antenna_nums = use_ants)\n",
    "lsts = uvd.lst_array\n",
    "uvdx.select(antenna_nums=use_ants)\n",
    "uvdy.select(antenna_nums=use_ants)\n",
    "print(strftime(\"%H:%M:%S\", gmtime()))"
   ]
  },
  {
   "cell_type": "markdown",
   "metadata": {},
   "source": [
    "## Sky Coverage Map "
   ]
  },
  {
   "cell_type": "markdown",
   "metadata": {},
   "source": [
    "Map of the sky (made using the Haslam 408MHz map). The RA/DEC range covered by this night of observation is shaded based on a 12 degree FWHM of the beam. Horizontal dashed lines represent the stripe that HERA can observe, while the shaded region is what was observed on this night. Vertical lines represent the beginning and ending LSTs of this observation. Selected sources are labelled, sources included are those in the GLEAM 4Jy catalog with a flux >10.9 Jy. Note that the map is clipped at the northern horizon."
   ]
  },
  {
   "cell_type": "code",
   "execution_count": null,
   "metadata": {},
   "outputs": [],
   "source": [
    "sources = utils.gather_source_list()\n",
    "utils.plot_sky_map(uvd,dec_pad=55,ra_pad=55,clip=False,sources=sources)"
   ]
  },
  {
   "cell_type": "markdown",
   "metadata": {},
   "source": [
    "## LST Coverage"
   ]
  },
  {
   "cell_type": "markdown",
   "metadata": {},
   "source": [
    "Shows the LSTs (in hours) and JDs for which data is collected. Green represents data, red means no data."
   ]
  },
  {
   "cell_type": "code",
   "execution_count": null,
   "metadata": {
    "scrolled": false
   },
   "outputs": [],
   "source": [
    "utils.plot_lst_coverage(uvd)"
   ]
  },
  {
   "cell_type": "markdown",
   "metadata": {},
   "source": [
    "## Autocorrelations for a single file"
   ]
  },
  {
   "cell_type": "markdown",
   "metadata": {},
   "source": [
    "This plot shows autocorrelations for one timestamp of each antenna that is active and each polarization. For each node, antennas are ordered by SNAP number, and within that by SNAP input number. The antenna number label color corresponds to the a priori status of that antenna."
   ]
  },
  {
   "cell_type": "code",
   "execution_count": null,
   "metadata": {
    "scrolled": false
   },
   "outputs": [],
   "source": [
    "### plot autos\n",
    "utils.plot_autos(uvdx, uvdy)"
   ]
  },
  {
   "cell_type": "markdown",
   "metadata": {},
   "source": [
    "## Waterfalls of Autocorrelation Amplitudes for each Antenna and Each polarization"
   ]
  },
  {
   "cell_type": "markdown",
   "metadata": {},
   "source": [
    "These plots show autocorrelation waterfalls of each antenna that is active and whose status qualifies for this notebook. For each node, antennas are ordered by SNAP number, and within that by SNAP input number. The antenna number label color corresponds to the a priori status of that antenna."
   ]
  },
  {
   "cell_type": "code",
   "execution_count": null,
   "metadata": {
    "scrolled": false
   },
   "outputs": [],
   "source": [
    "utils.plot_wfs(uvd, pol = 0)"
   ]
  },
  {
   "cell_type": "code",
   "execution_count": null,
   "metadata": {
    "scrolled": false
   },
   "outputs": [],
   "source": [
    "utils.plot_wfs(uvd, pol = 1)"
   ]
  },
  {
   "cell_type": "markdown",
   "metadata": {},
   "source": [
    "## Correlation Metrics"
   ]
  },
  {
   "cell_type": "markdown",
   "metadata": {},
   "source": [
    "The first plot shows the correlation metric (described below) for a set of baseline types, as calculated at several times throughout the night. It is expected that longer baselines (darker color) will exhibit lower values than the short baselines. \n",
    "\n",
    "The matrices show the phase correlation between antennas. Using the even and odd visibilities, each pixel is calculated as (even/abs(even)) * (conj(odd)/abs(odd)), and then averaged across time and frequency. If the phases are noise-like, this value will average down to zero. If the antennas are well correlated, the phases should not be noise-like, and this value should average to 1. The lines denoting node boundaries are intended to help confirm that inter-node correlations are functioning - if they aren't, this plot will appear block-diagonal.\n",
    "\n",
    "This metric has shown to be LST locked - when comparing to other nights, be sure to compare for the same LST. It is expected that some LSTs will look much better or worse than others.\n",
    "\n",
    "Note: Within each node, the order of antennas is determined by snap, and within that by snap input number. "
   ]
  },
  {
   "cell_type": "code",
   "execution_count": null,
   "metadata": {
    "scrolled": false
   },
   "outputs": [],
   "source": [
    "badAnts = []\n",
    "badAnts = utils.plotNodeAveragedSummary(uvd,HHfiles,JD,use_ants,mat_pols=['xx','yy','xy','yx'])"
   ]
  },
  {
   "cell_type": "markdown",
   "metadata": {},
   "source": [
    "Visibility amplitude spectra for a set of redundant baselines, labeled by inter vs. intranode baselines. The red and blue should exhibit the same bandpass shape - if the red are consistently different from the blue, this indicates an issue with internode correlations.\n",
    "\n",
    "Note: antennas that were identified as bad by the correlation matrix have been removed from this plot."
   ]
  },
  {
   "cell_type": "code",
   "execution_count": null,
   "metadata": {
    "scrolled": false
   },
   "outputs": [],
   "source": [
    "utils.plotVisibilitySpectra(HHfiles[len(HHfiles)//2+1], JD, use_ants, badAnts=[])"
   ]
  },
  {
   "cell_type": "markdown",
   "metadata": {},
   "source": [
    "## Even and Odd File Checks"
   ]
  },
  {
   "cell_type": "markdown",
   "metadata": {},
   "source": [
    "A waterfall showing the ratio between the even and odd visibilities. The purpose of this is to highlight xengine failures, which will cause this value to fall to zero or go to infinity. If things are working properly, this value should be stable at 1. The boundaries between different x-engines are shown by the vertical white lines."
   ]
  },
  {
   "cell_type": "code",
   "execution_count": null,
   "metadata": {
    "scrolled": false
   },
   "outputs": [],
   "source": [
    "if len(HHautos) == len(diffautos):\n",
    "    uvd_diff = UVData()\n",
    "    uvd_diff.read(diffautos[::10], skip_bad_files=True, antenna_nums=use_ants)\n",
    "    rat = utils.plotEvenOddWaterfalls(uvd,uvd_diff)\n",
    "else:\n",
    "    uvd_diff = UVData()\n",
    "    use_diffs = [f for f in diffautos if '%s/zen.%s.%s.sum.autos.uvh5' % (data_path,f.split('.')[1],f.split('.')[2]) in HHautos[::10]]\n",
    "    uvd_diff.read(use_diffs, skip_bad_files=True, antenna_nums = use_ants)\n",
    "    uvd_sum = uvd.select(times=np.unique(uvd_diff.time_array),inplace=False)\n",
    "    rat = utils.plotEvenOddWaterfalls(uvd_sum,uvd_diff)"
   ]
  },
  {
   "cell_type": "markdown",
   "metadata": {},
   "source": [
    "## Crossed Antenna Check"
   ]
  },
  {
   "cell_type": "markdown",
   "metadata": {},
   "source": [
    "These are differences between different panels of the correlation matrices shown above (see panel titles for specifics). Antennas showing as consistently blue are ones which are correlating stronger in the cross pols than in the auto pols, indicating that the antenna polarizations are likely crossed."
   ]
  },
  {
   "cell_type": "code",
   "execution_count": null,
   "metadata": {
    "scrolled": false
   },
   "outputs": [],
   "source": [
    "crossedAnts = utils.plotNodeAveragedSummary(uvd,HHfiles,JD,use_ants,mat_pols=['xx','yy','xy','yx'],plotRatios=True,\n",
    "                                       plotSummary=False)"
   ]
  },
  {
   "cell_type": "markdown",
   "metadata": {},
   "source": [
    "## Antenna Positions"
   ]
  },
  {
   "cell_type": "markdown",
   "metadata": {},
   "source": [
    "Antennas outlined in black here have been identified by the correlation matrix as bad antennas. Antennas with a colorful outline correspond to their status as identified by ant_metrics (see above plot). Faded antennas are those not meeting the apriori status requirement for this notebook run. Gold stars are node box locations."
   ]
  },
  {
   "cell_type": "code",
   "execution_count": null,
   "metadata": {
    "scrolled": false
   },
   "outputs": [],
   "source": [
    "uvd1 = UVData()\n",
    "uvd1.read(HHfiles[readInd], skip_bad_files=True)\n",
    "utils.plot_antenna_positions(uvd1, badAnts=badAnts,use_ants=use_ants)"
   ]
  },
  {
   "cell_type": "markdown",
   "metadata": {},
   "source": [
    "## Observer Inspection Plots"
   ]
  },
  {
   "cell_type": "markdown",
   "metadata": {},
   "source": [
    "Antennas of status digital_OK or better that are flagged as bad by any of the above metrics are plotted here so observers can inspect their failures in more detail. Additionally, a 'good' template has been used to identify outliers. The upper line plots are averages over the whole observation, and the lower line plots are slices of a single time in the middle of the observation. These plots are recommended diagnostics for demoting antennas to lower statuses or reporting issues. If the plots below look OK, check other plots in notebook to hunt why the antenna was flagged. NOTE: The colorbar/power scales in these plots are NOT locked between antennas OR polarizations so that the detail will be visible on all plots. Be sure to check for reasonable power levels, as this may be the reason the antenna was flagged for inspection."
   ]
  },
  {
   "cell_type": "code",
   "execution_count": null,
   "metadata": {
    "scrolled": false
   },
   "outputs": [],
   "source": [
    "d, tempAnts = utils.flag_by_template(uvd,HHautos,JD,use_ants=use_ants,pols=['XX','YY'],plotMap=False)"
   ]
  },
  {
   "cell_type": "code",
   "execution_count": null,
   "metadata": {
    "scrolled": true
   },
   "outputs": [],
   "source": [
    "inspectAnts = utils.plot_inspect_ants(uvd,JD,badAnts=badAnts,use_ants=use_ants,\n",
    "                                     tempAnts=tempAnts,crossedAnts=crossedAnts)"
   ]
  },
  {
   "cell_type": "markdown",
   "metadata": {},
   "source": [
    "## Mean-Subtracted Waterfalls"
   ]
  },
  {
   "cell_type": "markdown",
   "metadata": {},
   "source": [
    "Here the mean value in each frequency bin has been subtracted out. This effectively subtracts out the bandpass shape, making time variations more visible."
   ]
  },
  {
   "cell_type": "code",
   "execution_count": null,
   "metadata": {
    "scrolled": false
   },
   "outputs": [],
   "source": [
    "utils.plot_wfs(uvd,0,mean_sub=True,jd=JD)\n",
    "utils.plot_wfs(uvd,1,mean_sub=True,jd=JD)"
   ]
  },
  {
   "cell_type": "markdown",
   "metadata": {},
   "source": [
    "## Temp Disc Plots"
   ]
  },
  {
   "cell_type": "raw",
   "metadata": {},
   "source": [
    "decription"
   ]
  },
  {
   "cell_type": "markdown",
   "metadata": {},
   "source": [
    "generate node dict"
   ]
  },
  {
   "cell_type": "code",
   "execution_count": null,
   "metadata": {},
   "outputs": [],
   "source": [
    "def generate_nodeDict(uv,pol='E'):\n",
    "    \"\"\"\n",
    "    Generates dictionaries containing node and antenna information.\n",
    "    \n",
    "    Parameters:\n",
    "    ----------\n",
    "    uv: UVData Object\n",
    "        Sample observation to extract node and antenna information from.\n",
    "    \n",
    "    Returns:\n",
    "    -------\n",
    "    nodes: Dict\n",
    "        Dictionary containing entry for all nodes, each of which has keys: 'ants', 'snapLocs', 'snapInput'.\n",
    "    antDict: Dict\n",
    "        Dictionary containing entry for all antennas, each of which has keys: 'node', 'snapLocs', 'snapInput'.\n",
    "    inclNodes: List\n",
    "        Nodes that have hooked up antennas.\n",
    "    \"\"\"\n",
    "    \n",
    "    antnums = uv.get_ants()\n",
    "    h = cm_hookup.Hookup()\n",
    "    x = h.get_hookup('HH')\n",
    "    nodes = {}\n",
    "    antDict = {}\n",
    "    inclNodes = []\n",
    "    for ant in antnums:\n",
    "        key = 'HH%i:A' % (ant)\n",
    "        n = x[key].get_part_from_type('node')[f'{pol}<ground']\n",
    "        if n is None:\n",
    "            continue\n",
    "        else:\n",
    "            n = n[1:]\n",
    "        snapLoc = (x[key].hookup[f'{pol}<ground'][-1].downstream_input_port[-1], ant)\n",
    "        snapInput = (x[key].hookup[f'{pol}<ground'][-2].downstream_input_port[1:], ant)\n",
    "        antDict[ant] = {}\n",
    "        antDict[ant]['node'] = str(n)\n",
    "        antDict[ant]['snapLocs'] = snapLoc\n",
    "        antDict[ant]['snapInput'] = snapInput\n",
    "        inclNodes.append(n)\n",
    "        if n in nodes:\n",
    "            nodes[n]['ants'].append(ant)\n",
    "            nodes[n]['snapLocs'].append(snapLoc)\n",
    "            nodes[n]['snapInput'].append(snapInput)\n",
    "        else:\n",
    "            nodes[n] = {}\n",
    "            nodes[n]['ants'] = [ant]\n",
    "            nodes[n]['snapLocs'] = [snapLoc]\n",
    "            nodes[n]['snapInput'] = [snapInput]\n",
    "    inclNodes = np.unique(inclNodes)\n",
    "    return nodes, antDict, inclNodes"
   ]
  },
  {
   "cell_type": "code",
   "execution_count": 6,
   "metadata": {},
   "outputs": [],
   "source": [
    "def get_ant_status(active_apriori, ant):\n",
    "    if f'HH{ant}:A' in active_apriori.apriori.keys():\n",
    "        key = f'HH{ant}:A'\n",
    "    elif f'HA{ant}:A' in active_apriori.apriori.keys():\n",
    "        key = f'HA{ant}:A'\n",
    "    elif f'HB{ant}:A' in active_apriori.apriori.keys():\n",
    "        key = f'HB{ant}:A'\n",
    "    else:\n",
    "        print(f'############## Error: antenna {ant} not included in apriori status table ##############')\n",
    "    status = active_apriori.apriori[key].status\n",
    "    return status"
   ]
  },
  {
   "cell_type": "markdown",
   "metadata": {},
   "source": [
    "My code"
   ]
  },
  {
   "cell_type": "code",
   "execution_count": null,
   "metadata": {},
   "outputs": [],
   "source": [
    "def plot_multi_freq_RD(uvd,uvdx,uvdy,freqind = [0,200,600,800,1000,1200,1400,1530],pols=['xx','yy']):\n",
    "    \"\"\" Explanation of plots \"\"\"\n",
    "    plt.subplots_adjust(hspace=.0)\n",
    "    cmap = cm.get_cmap(\"plasma\")\n",
    "    color_ind = np.linspace(0,1,len(freqind))\n",
    "    loc = EarthLocation.from_geocentric(*uvd.telescope_location, unit='m')\n",
    "    freq_array = uvd.freq_array[0]*1e-6\n",
    "    freqs_use = np.around(freq_array[freqind],0)\n",
    "    print(freqs_use)\n",
    "    lsts = uvd.lst_array*3.819719\n",
    "    inds = np.unique(lsts,return_index=True)[1]\n",
    "    lsts = np.asarray([lsts[ind] for ind in sorted(inds)])\n",
    "\n",
    "    nodes, antDict, inclNodes = generate_nodeDict(uvdx)\n",
    "    ants = uvdx.get_ants()\n",
    "    sorted_ants = utils.sort_antennas(uvdx)\n",
    "    maxants = 0\n",
    "    for node in nodes:\n",
    "        n = len(nodes[node]['ants'])\n",
    "        if n>maxants:\n",
    "            maxants = n\n",
    "    \n",
    "    Nants = len(ants)\n",
    "    Nside = maxants\n",
    "    Yside = len(inclNodes)\n",
    "    \n",
    "\n",
    "    for i,n in enumerate(inclNodes):\n",
    "        ants = nodes[n]['ants']\n",
    "        j = 0\n",
    "        for _,a in enumerate(sorted_ants):\n",
    "            if a not in ants:\n",
    "                continue\n",
    "            snaploc = antDict[a]['snapLocs']\n",
    "            snapinput = antDict[a]['snapInput']\n",
    "            fig = plt.figure(constrained_layout=True, figsize=(10, 4))\n",
    "            subfigs = fig.subfigures(1, 2, wspace=0.07, width_ratios=[3, 1])\n",
    "            axsLeft = subfigs[0].subplots(1, 2, sharey=True)\n",
    "            dat = np.abs(uvd.get_data(a,a))\n",
    "            #axsLeft.set_title('TempDisc', fontsize = 18)\n",
    "            for ax in axsLeft:\n",
    "                for j,p in enumerate(pols):\n",
    "                    with warnings.catch_warnings():\n",
    "                        warnings.simplefilter(\"ignore\")\n",
    "                    for f,freq in enumerate(freqind):\n",
    "                        ax.plot(dat[:,freq,j],label=np.around(freq_array[freq],1),color=cmap(color_ind[f]),linewidth=0.95)\n",
    "                        if i==0 and j==0:\n",
    "                            ax.legend()\n",
    "                        ax.set_title(f'Pol {p}', fontsize = 16)\n",
    "                        ax.set_xlabel('LST (hours)')\n",
    "                        ax.set_ylabel('Power (A)')\n",
    "                        xticks = [int(i) for i in np.linspace(0,len(lsts)-1, 5)]\n",
    "                        ax.set_xticks(xticks)\n",
    "                        ax.set_xticklabels(np.around(lsts[xticks], 2))\n",
    "                        sm = cm.ScalarMappable(cmap=cmap)\n",
    "                        #if freq==freqind[0]:\n",
    "                            #cbar = plt.colorbar(sm)\n",
    "                            #cbar.set_ticks(color_ind)\n",
    "                            #cbar.set_ticklabels(freqs_use)\n",
    "                    #ax.set_ylim('auto')\n",
    "            axsRight = subfigs[1].subplots(1, 1, sharex=True)\n",
    "            for f, freq in enumerate(freqind):\n",
    "                sm = cm.ScalarMappable(cmap=cmap)\n",
    "                if freq==freqind[0]:\n",
    "                    axsRight.vlines(freqs_use, 0, 2.5e6,\n",
    "                        color = cmap(color_ind),\n",
    "                        linewidth = 2,\n",
    "                        linestyle = '--')\n",
    "#               ax.plot(freq_array[0, :],dat[0, :])\n",
    "            status = get_ant_status(h, a)\n",
    "            axsRight = axes[i,j]\n",
    "            axsRight.set_xlim(xlim)\n",
    "            axsRight.set_ylim(ylim)\n",
    "            px, = axsRight.plot(freqs, 10*np.log10(np.abs(uvdx.get_data((a, a))[t_index])), color='r', alpha=0.75, linewidth=1)\n",
    "            py, = axsRight.plot(freqs, 10*np.log10(np.abs(uvdy.get_data((a, a))[t_index])), color='b', alpha=0.75, linewidth=1)\n",
    "            axsRight.grid(False, which='both')\n",
    "            abb = status_abbreviations[status]\n",
    "            axsRight.set_title(f'{a} ({abb})', fontsize=10, backgroundcolor=status_colors[status])\n",
    "            if k == 0:\n",
    "                axsRight.legend([px, py], ['NN', 'EE'])\n",
    "            if i == len(inclNodes)-1:\n",
    "                [t.set_fontsize(10) for t in axsRight.get_xticklabels()]\n",
    "                axsRight.set_xlabel('freq (MHz)', fontsize=10)\n",
    "            else:\n",
    "                axsRight.set_xticklabels([])\n",
    "            if j!=0:\n",
    "                axsRight.set_yticklabels([])\n",
    "            else:\n",
    "                [t.set_fontsize(10) for t in axsRight.get_yticklabels()]\n",
    "                axsRight.set_ylabel(r'$10\\cdot\\log$(amp)', fontsize=10)\n",
    "            j += 1\n",
    "            k += 1\n",
    "            for k in range(j,maxants):\n",
    "                axes[i,k].axis('off')\n",
    "            axes[i,maxants-1].annotate(f'Node {n}', (1.1,.3),xycoords='axes fraction',rotation=270) \n",
    "            \n",
    "            plt.suptitle(f'Antenna{a}, snap {snaploc}, input {snapinput}',fontsize=27)\n",
    "            plt.show()\n",
    "            plt.close() "
   ]
  },
  {
   "cell_type": "code",
   "execution_count": null,
   "metadata": {},
   "outputs": [],
   "source": [
    "plot_multi_freq_RD(uvd,uvdx,uvdy,freqind = [0,200,600,800,1000,1200,1400,1530],pols=['xx','yy'])"
   ]
  },
  {
   "cell_type": "code",
   "execution_count": null,
   "metadata": {},
   "outputs": [],
   "source": []
  }
 ],
 "metadata": {
  "kernelspec": {
   "display_name": "Python 3 (ipykernel)",
   "language": "python",
   "name": "python3"
  },
  "language_info": {
   "codemirror_mode": {
    "name": "ipython",
    "version": 3
   },
   "file_extension": ".py",
   "mimetype": "text/x-python",
   "name": "python",
   "nbconvert_exporter": "python",
   "pygments_lexer": "ipython3",
   "version": "3.9.7"
  },
  "toc": {
   "base_numbering": 1,
   "nav_menu": {},
   "number_sections": true,
   "sideBar": true,
   "skip_h1_title": false,
   "title_cell": "Table of Contents",
   "title_sidebar": "Contents",
   "toc_cell": false,
   "toc_position": {},
   "toc_section_display": true,
   "toc_window_display": false
  }
 },
 "nbformat": 4,
 "nbformat_minor": 2
}
