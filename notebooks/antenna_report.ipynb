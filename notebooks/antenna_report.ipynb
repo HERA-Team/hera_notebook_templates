{
 "cells": [
  {
   "cell_type": "markdown",
   "id": "745a86c8",
   "metadata": {
    "ExecuteTime": {
     "end_time": "2022-01-15T02:15:03.396901Z",
     "start_time": "2022-01-15T02:15:03.392982Z"
    }
   },
   "source": [
    "# Antenna Season Report Notebook\n",
    "\n",
    "**Josh Dillon**, Last Revised January 2022\n",
    "\n",
    "This notebook examines an individual antenna's performance over a whole season. This notebook parses information from each nightly `rtp_summary`notebook (as saved to .csvs) and builds a table describing antenna performance. It also reproduces per-antenna plots from each `auto_metrics` notebook pertinent to the specific antenna. "
   ]
  },
  {
   "cell_type": "code",
   "execution_count": null,
   "id": "67d0e2d4",
   "metadata": {
    "ExecuteTime": {
     "end_time": "2022-01-15T19:46:27.988118Z",
     "start_time": "2022-01-15T19:46:27.976239Z"
    }
   },
   "outputs": [],
   "source": [
    "import os\n",
    "from IPython.display import display, HTML\n",
    "display(HTML(\"<style>.container { width:100% !important; }</style>\"))"
   ]
  },
  {
   "cell_type": "code",
   "execution_count": null,
   "id": "1b5496bf",
   "metadata": {
    "ExecuteTime": {
     "end_time": "2022-01-15T19:46:27.992871Z",
     "start_time": "2022-01-15T19:46:27.989967Z"
    }
   },
   "outputs": [],
   "source": [
    "# If you want to run this notebook locally, copy the output of the next cell into the next line of this cell.\n",
    "# antenna = \"004\"\n",
    "# csv_folder = '/lustre/aoc/projects/hera/H5C/H5C_Notebooks/_rtp_summary_'\n",
    "# auto_metrics_folder = '/lustre/aoc/projects/hera/H5C/H5C_Notebooks/auto_metrics_inspect'\n",
    "# os.environ[\"ANTENNA\"] = antenna\n",
    "# os.environ[\"CSV_FOLDER\"] = csv_folder\n",
    "# os.environ[\"AUTO_METRICS_FOLDER\"] = auto_metrics_folder"
   ]
  },
  {
   "cell_type": "code",
   "execution_count": null,
   "id": "518d8741",
   "metadata": {
    "ExecuteTime": {
     "end_time": "2022-01-15T19:46:27.997758Z",
     "start_time": "2022-01-15T19:46:27.994271Z"
    }
   },
   "outputs": [],
   "source": [
    "# Use environment variables to figure out path to the csvs and auto_metrics\n",
    "antenna = str(int(os.environ[\"ANTENNA\"]))\n",
    "csv_folder = os.environ[\"CSV_FOLDER\"]\n",
    "auto_metrics_folder = os.environ[\"AUTO_METRICS_FOLDER\"]\n",
    "print(f'antenna = \"{antenna}\"')\n",
    "print(f'csv_folder = \"{csv_folder}\"')\n",
    "print(f'auto_metrics_folder = \"{auto_metrics_folder}\"')"
   ]
  },
  {
   "cell_type": "code",
   "execution_count": null,
   "id": "811fd221",
   "metadata": {
    "ExecuteTime": {
     "end_time": "2022-01-15T19:46:28.003857Z",
     "start_time": "2022-01-15T19:46:28.000342Z"
    }
   },
   "outputs": [],
   "source": [
    "display(HTML(f'<h1 style=font-size:50px><u>Antenna {antenna} Report</u><p></p></h1>'))"
   ]
  },
  {
   "cell_type": "code",
   "execution_count": null,
   "id": "c21adedf",
   "metadata": {
    "ExecuteTime": {
     "end_time": "2022-01-15T19:46:31.705974Z",
     "start_time": "2022-01-15T19:46:28.005203Z"
    }
   },
   "outputs": [],
   "source": [
    "import numpy as np\n",
    "import pandas as pd\n",
    "pd.set_option('display.max_rows', 1000)\n",
    "import glob\n",
    "import re\n",
    "from hera_notebook_templates.utils import status_colors, Antenna"
   ]
  },
  {
   "cell_type": "code",
   "execution_count": null,
   "id": "711c3003",
   "metadata": {
    "ExecuteTime": {
     "end_time": "2022-01-15T19:46:31.713251Z",
     "start_time": "2022-01-15T19:46:31.707387Z"
    }
   },
   "outputs": [],
   "source": [
    "# load csvs and auto_metrics htmls in reverse chronological order\n",
    "csvs = sorted(glob.glob(os.path.join(csv_folder, 'rtp_summary_table*.csv')))[::-1]\n",
    "print(f'Found {len(csvs)} csvs in {csv_folder}')\n",
    "auto_metric_htmls = sorted(glob.glob(auto_metrics_folder + '/auto_metrics_inspect_*.html'))[::-1]\n",
    "print(f'Found {len(auto_metric_htmls)} auto_metrics notebooks in {auto_metrics_folder}')"
   ]
  },
  {
   "cell_type": "code",
   "execution_count": null,
   "id": "a206f542",
   "metadata": {
    "ExecuteTime": {
     "end_time": "2022-01-15T19:46:31.718158Z",
     "start_time": "2022-01-15T19:46:31.714743Z"
    }
   },
   "outputs": [],
   "source": [
    "# Per-season options\n",
    "mean_round_modz_cut = 4\n",
    "dead_cut = 0.4\n",
    "crossed_cut = 0.0\n",
    "\n",
    "def jd_to_summary_url(jd):\n",
    "    return f'https://htmlpreview.github.io/?https://github.com/HERA-Team/H6C_Notebooks/blob/main/_rtp_summary_/rtp_summary_{jd}.html'\n",
    "\n",
    "def jd_to_auto_metrics_url(jd):\n",
    "    return f'https://htmlpreview.github.io/?https://github.com/HERA-Team/H6C_Notebooks/blob/main/auto_metrics_inspect/auto_metrics_inspect_{jd}.html'"
   ]
  },
  {
   "cell_type": "markdown",
   "id": "ab9849de",
   "metadata": {},
   "source": [
    "## Load relevant info from summary CSVs"
   ]
  },
  {
   "cell_type": "code",
   "execution_count": null,
   "id": "2104f394",
   "metadata": {
    "ExecuteTime": {
     "end_time": "2022-01-15T19:46:32.449361Z",
     "start_time": "2022-01-15T19:46:31.720258Z"
    }
   },
   "outputs": [],
   "source": [
    "this_antenna = None\n",
    "jds = []\n",
    "\n",
    "# parse information about antennas and nodes\n",
    "for csv in csvs:\n",
    "    df = pd.read_csv(csv)\n",
    "    for n in range(len(df)):\n",
    "        # Add this day to the antenna\n",
    "        row = df.loc[n]\n",
    "        if isinstance(row['Ant'], str) and '<a href' in row['Ant']:\n",
    "            antnum = int(row['Ant'].split('</a>')[0].split('>')[-1]) # it's a link, extract antnum\n",
    "        else:\n",
    "            antnum = int(row['Ant'])\n",
    "        if antnum != int(antenna):\n",
    "            continue\n",
    "        \n",
    "        if np.issubdtype(type(row['Node']), np.integer):\n",
    "            row['Node'] = str(row['Node'])\n",
    "        if type(row['Node']) == str and row['Node'].isnumeric():\n",
    "            row['Node'] = 'N' + ('0' if len(row['Node']) == 1 else '') + row['Node']\n",
    "            \n",
    "        if this_antenna is None:\n",
    "            this_antenna = Antenna(row['Ant'], row['Node'])\n",
    "        jd = [int(s) for s in re.split('_|\\.', csv) if s.isdigit()][-1]\n",
    "        jds.append(jd)\n",
    "        this_antenna.add_day(jd, row)\n",
    "        break"
   ]
  },
  {
   "cell_type": "code",
   "execution_count": null,
   "id": "478082e1",
   "metadata": {
    "ExecuteTime": {
     "end_time": "2022-01-15T19:46:32.507203Z",
     "start_time": "2022-01-15T19:46:32.451083Z"
    }
   },
   "outputs": [],
   "source": [
    "# build dataframe\n",
    "to_show = {'JDs': [f'<a href=\"{jd_to_summary_url(jd)}\" target=\"_blank\">{jd}</a>' for jd in jds]}\n",
    "to_show['A Priori Status'] = [this_antenna.statuses[jd] for jd in jds]\n",
    "\n",
    "df = pd.DataFrame(to_show)\n",
    "\n",
    "# create bar chart columns for flagging percentages:\n",
    "bar_cols = {}\n",
    "bar_cols['Auto Metrics Flags'] = [this_antenna.auto_flags[jd] for jd in jds]\n",
    "bar_cols[f'Dead Fraction in Ant Metrics (Jee)'] = [this_antenna.dead_flags_Jee[jd] for jd in jds]\n",
    "bar_cols[f'Dead Fraction in Ant Metrics (Jnn)'] = [this_antenna.dead_flags_Jnn[jd] for jd in jds]\n",
    "bar_cols['Crossed Fraction in Ant Metrics'] = [this_antenna.crossed_flags[jd] for jd in jds]\n",
    "bar_cols['Flag Fraction Before Redcal'] = [this_antenna.flags_before_redcal[jd] for jd in jds]\n",
    "bar_cols['Flagged By Redcal chi^2 Fraction'] = [this_antenna.redcal_flags[jd] for jd in jds]\n",
    "for col in bar_cols:\n",
    "    df[col] = bar_cols[col]\n",
    "\n",
    "z_score_cols = {}\n",
    "z_score_cols['ee Shape Modified Z-Score'] = [this_antenna.ee_shape_zs[jd] for jd in jds]\n",
    "z_score_cols['nn Shape Modified Z-Score'] = [this_antenna.nn_shape_zs[jd] for jd in jds]\n",
    "z_score_cols['ee Power Modified Z-Score'] = [this_antenna.ee_power_zs[jd] for jd in jds]\n",
    "z_score_cols['nn Power Modified Z-Score'] = [this_antenna.nn_power_zs[jd] for jd in jds]\n",
    "z_score_cols['ee Temporal Variability Modified Z-Score'] = [this_antenna.ee_temp_var_zs[jd] for jd in jds]\n",
    "z_score_cols['nn Temporal Variability Modified Z-Score'] = [this_antenna.nn_temp_var_zs[jd] for jd in jds]\n",
    "z_score_cols['ee Temporal Discontinuties Modified Z-Score'] = [this_antenna.ee_temp_discon_zs[jd] for jd in jds]\n",
    "z_score_cols['nn Temporal Discontinuties Modified Z-Score'] = [this_antenna.nn_temp_discon_zs[jd] for jd in jds]\n",
    "for col in z_score_cols:\n",
    "    df[col] = z_score_cols[col]\n",
    "\n",
    "ant_metrics_cols = {}\n",
    "ant_metrics_cols['Average Dead Ant Metric (Jee)'] = [this_antenna.Jee_dead_metrics[jd] for jd in jds]\n",
    "ant_metrics_cols['Average Dead Ant Metric (Jnn)'] = [this_antenna.Jnn_dead_metrics[jd] for jd in jds]\n",
    "ant_metrics_cols['Average Crossed Ant Metric'] = [this_antenna.crossed_metrics[jd] for jd in jds]\n",
    "for col in ant_metrics_cols:\n",
    "    df[col] = ant_metrics_cols[col]\n",
    "\n",
    "redcal_cols = {}\n",
    "redcal_cols['Median chi^2 Per Antenna (Jee)'] = [this_antenna.Jee_chisqs[jd] for jd in jds]\n",
    "redcal_cols['Median chi^2 Per Antenna (Jnn)'] = [this_antenna.Jnn_chisqs[jd] for jd in jds]   \n",
    "for col in redcal_cols:\n",
    "    df[col] = redcal_cols[col]\n",
    "\n",
    "# style dataframe\n",
    "table = df.style.hide_index()\\\n",
    "          .applymap(lambda val: f'background-color: {status_colors[val]}' if val in status_colors else '', subset=['A Priori Status']) \\\n",
    "          .background_gradient(cmap='viridis', vmax=mean_round_modz_cut * 3, vmin=0, axis=None, subset=list(z_score_cols.keys())) \\\n",
    "          .background_gradient(cmap='bwr_r', vmin=dead_cut-.25, vmax=dead_cut+.25, axis=0, subset=list([col for col in ant_metrics_cols if 'dead' in col.lower()])) \\\n",
    "          .background_gradient(cmap='bwr_r', vmin=crossed_cut-.25, vmax=crossed_cut+.25, axis=0, subset=list([col for col in ant_metrics_cols if 'crossed' in col.lower()])) \\\n",
    "          .background_gradient(cmap='plasma', vmax=4, vmin=1, axis=None, subset=list(redcal_cols.keys())) \\\n",
    "          .applymap(lambda val: 'font-weight: bold' if val < dead_cut else '', subset=list([col for col in ant_metrics_cols if 'dead' in col.lower()])) \\\n",
    "          .applymap(lambda val: 'font-weight: bold' if val < crossed_cut else '', subset=list([col for col in ant_metrics_cols if 'crossed' in col.lower()])) \\\n",
    "          .applymap(lambda val: 'font-weight: bold' if val > mean_round_modz_cut else '', subset=list(z_score_cols.keys())) \\\n",
    "          .applymap(lambda val: 'color: red' if val > mean_round_modz_cut else '', subset=list(z_score_cols.keys())) \\\n",
    "          .bar(subset=list(bar_cols.keys()), vmin=0, vmax=1) \\\n",
    "          .format({col: '{:,.4f}'.format for col in z_score_cols}) \\\n",
    "          .format({col: '{:,.4f}'.format for col in ant_metrics_cols}) \\\n",
    "          .format('{:,.2%}', na_rep='-', subset=list(bar_cols.keys())) \\\n",
    "          .set_table_styles([dict(selector=\"th\",props=[('max-width', f'70pt')])]) "
   ]
  },
  {
   "cell_type": "markdown",
   "id": "0cd6f5c4",
   "metadata": {},
   "source": [
    "# Table 1: Per-Night RTP Summary Info For This Atenna\n",
    "\n",
    "This table reproduces each night's row for this antenna from the RTP Summary notebooks. For more info on the columns, see those notebooks, linked in the JD column."
   ]
  },
  {
   "cell_type": "code",
   "execution_count": null,
   "id": "c4f3dec5",
   "metadata": {
    "ExecuteTime": {
     "end_time": "2022-01-15T19:46:32.596259Z",
     "start_time": "2022-01-15T19:46:32.510201Z"
    },
    "scrolled": true
   },
   "outputs": [],
   "source": [
    "display(HTML(f'<h2>Antenna {antenna}, Node {this_antenna.node}:</h2>'))\n",
    "HTML(table.render(render_links=True, escape=False))"
   ]
  },
  {
   "cell_type": "markdown",
   "id": "47f62616",
   "metadata": {},
   "source": [
    "## Load antenna metric spectra and waterfalls from `auto_metrics` notebooks."
   ]
  },
  {
   "cell_type": "code",
   "execution_count": null,
   "id": "8798bc27",
   "metadata": {
    "ExecuteTime": {
     "end_time": "2022-01-15T19:46:37.133580Z",
     "start_time": "2022-01-15T19:46:32.598101Z"
    }
   },
   "outputs": [],
   "source": [
    "htmls_to_display = []\n",
    "for am_html in auto_metric_htmls:\n",
    "    html_to_display = ''\n",
    "    # read html into a list of lines\n",
    "    with open(am_html) as f:\n",
    "        lines = f.readlines()\n",
    "    \n",
    "    # find section with this antenna's metric plots and add to html_to_display\n",
    "    jd = [int(s) for s in re.split('_|\\.', am_html) if s.isdigit()][-1]\n",
    "    try:\n",
    "        section_start_line = lines.index(f'<h2>Antenna {antenna}: {jd}</h2>\\n')\n",
    "    except ValueError:\n",
    "        continue\n",
    "    html_to_display += lines[section_start_line].replace(str(jd), f'<a href=\"{jd_to_auto_metrics_url(jd)}\" target=\"_blank\">{jd}</a>')\n",
    "    for line in lines[section_start_line + 1:]:\n",
    "        html_to_display += line\n",
    "        if '<hr' in line:\n",
    "            htmls_to_display.append(html_to_display)\n",
    "            break"
   ]
  },
  {
   "cell_type": "markdown",
   "id": "cd4148f1",
   "metadata": {},
   "source": [
    "# Figure 1: Antenna autocorrelation metric spectra and waterfalls. \n",
    "\n",
    "These figures are reproduced from `auto_metrics` notebooks. For more info on the specific plots and metrics, see those notebooks (linked at the JD). The most recent 100 days (at most) are shown."
   ]
  },
  {
   "cell_type": "code",
   "execution_count": null,
   "id": "09286823",
   "metadata": {
    "ExecuteTime": {
     "end_time": "2022-01-15T19:46:37.326117Z",
     "start_time": "2022-01-15T19:46:37.135075Z"
    },
    "scrolled": false
   },
   "outputs": [],
   "source": [
    "for i, html_to_display in enumerate(htmls_to_display):\n",
    "    if i == 100:\n",
    "        break\n",
    "    display(HTML(html_to_display))"
   ]
  },
  {
   "cell_type": "code",
   "execution_count": null,
   "id": "a90cefaf",
   "metadata": {},
   "outputs": [],
   "source": []
  }
 ],
 "metadata": {
  "kernelspec": {
   "display_name": "RTP",
   "language": "python",
   "name": "rtp"
  },
  "language_info": {
   "codemirror_mode": {
    "name": "ipython",
    "version": 3
   },
   "file_extension": ".py",
   "mimetype": "text/x-python",
   "name": "python",
   "nbconvert_exporter": "python",
   "pygments_lexer": "ipython3",
   "version": "3.9.7"
  },
  "toc": {
   "base_numbering": 1,
   "nav_menu": {},
   "number_sections": false,
   "sideBar": true,
   "skip_h1_title": false,
   "title_cell": "Table of Contents",
   "title_sidebar": "Contents",
   "toc_cell": false,
   "toc_position": {
    "height": "calc(100% - 180px)",
    "left": "10px",
    "top": "150px",
    "width": "415.556px"
   },
   "toc_section_display": true,
   "toc_window_display": false
  }
 },
 "nbformat": 4,
 "nbformat_minor": 5
}
