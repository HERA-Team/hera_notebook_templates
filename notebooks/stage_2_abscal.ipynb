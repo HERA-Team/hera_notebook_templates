{
 "cells": [
  {
   "cell_type": "markdown",
   "metadata": {
    "ExecuteTime": {
     "end_time": "2020-09-18T18:32:56.276776Z",
     "start_time": "2020-09-18T18:32:56.271303Z"
    }
   },
   "source": [
    "# Stage 2 Absolute Calibration Nightly Notebook\n",
    "\n",
    "**Josh Dillon**, Last Revised 9/23/20"
   ]
  },
  {
   "cell_type": "code",
   "execution_count": null,
   "metadata": {
    "ExecuteTime": {
     "end_time": "2020-10-25T00:45:53.877380Z",
     "start_time": "2020-10-25T00:45:45.216850Z"
    }
   },
   "outputs": [],
   "source": [
    "import numpy as np\n",
    "import matplotlib.pyplot as plt\n",
    "import matplotlib\n",
    "from hera_cal import io, redcal, apply_cal, abscal, utils\n",
    "from hera_cal.smooth_cal import build_time_blacklist\n",
    "from hera_qm.metrics_io import load_metric_file\n",
    "import pyuvdata\n",
    "import glob\n",
    "import os\n",
    "from copy import deepcopy\n",
    "import inspect\n",
    "import h5py\n",
    "import matplotlib.cm as cm\n",
    "from IPython.display import display, HTML\n",
    "\n",
    "%matplotlib inline\n",
    "%config InlineBackend.figure_format = 'retina'\n",
    "display(HTML(\"<style>.container { width:100% !important; }</style>\"))"
   ]
  },
  {
   "cell_type": "code",
   "execution_count": null,
   "metadata": {
    "ExecuteTime": {
     "end_time": "2020-10-25T00:46:01.609807Z",
     "start_time": "2020-10-25T00:46:01.602361Z"
    }
   },
   "outputs": [],
   "source": [
    "# If you want to run this notebook locally, copy the output of the next cell into the first few lines of this cell.\n",
    "\n",
    "# JD = '2459122'\n",
    "# data_path = '/lustre/aoc/projects/hera/H4C/2459122'\n",
    "# lst_blacklist_string = '0-1.3 2.5-4.3 5.0-5.7 6.5-9.1 10.6-11.5 11.9-14.3 16.3-1.3'\n",
    "# abscal_model_glob = '/lustre/aoc/projects/hera/zmartino/hera_calib_model/H3C/abscal_files_unique_baselines/zen.2458894.?????.uvh5'\n",
    "# os.environ[\"JULIANDATE\"] = JD\n",
    "# os.environ[\"DATA_PATH\"] = data_path\n",
    "# os.environ[\"LST_BLACKLIST_STRING\"] = lst_blacklist_string\n",
    "# os.environ[\"ABSCAL_MODEL_GLOB\"] = abscal_model_glob"
   ]
  },
  {
   "cell_type": "code",
   "execution_count": null,
   "metadata": {
    "ExecuteTime": {
     "end_time": "2020-10-25T00:46:02.893315Z",
     "start_time": "2020-10-25T00:46:02.845662Z"
    }
   },
   "outputs": [],
   "source": [
    "# Use environment variables to figure out path to data\n",
    "JD = os.environ['JULIANDATE']\n",
    "data_path = os.environ['DATA_PATH']\n",
    "lst_blacklist_string = os.environ['LST_BLACKLIST_STRING']\n",
    "abscal_model_glob = os.environ['ABSCAL_MODEL_GLOB']\n",
    "print(f'JD = \"{JD}\"')\n",
    "print(f'data_path = \"{data_path}\"')\n",
    "print(f'lst_blacklist_string = \"{lst_blacklist_string}\"')\n",
    "print(f'abscal_model_glob = \"{abscal_model_glob}\"')"
   ]
  },
  {
   "cell_type": "code",
   "execution_count": null,
   "metadata": {},
   "outputs": [],
   "source": [
    "from astropy.time import Time\n",
    "utc = Time(JD, format='jd').datetime\n",
    "print(f'Date: {utc.month}-{utc.day}-{utc.year}')"
   ]
  },
  {
   "cell_type": "code",
   "execution_count": null,
   "metadata": {
    "ExecuteTime": {
     "end_time": "2020-10-25T00:46:04.742088Z",
     "start_time": "2020-10-25T00:46:04.570938Z"
    }
   },
   "outputs": [],
   "source": [
    "print('Looking for data in', data_path, 'on JD', JD)\n",
    "data_list = sorted(glob.glob(os.path.join(data_path, f'zen.{JD}.?????.sum.uvh5')))\n",
    "if len(data_list) == 0:\n",
    "    data_list = sorted(glob.glob(os.path.join(data_path, f'zen.{JD}.?????.uvh5')))\n",
    "print('...found {} data files.'.format(len(data_list)))\n",
    "\n",
    "abscal_list = sorted(glob.glob(os.path.join(data_path, f'zen.{JD}.*.abs.calfits')))\n",
    "print('...found {} abscal files.'.format(len(abscal_list)))\n",
    "\n",
    "omnical_list = sorted(glob.glob(os.path.join(data_path, f'zen.{JD}.*.sum.omni.calfits')))\n",
    "print('...found {} omnical files.'.format(len(omnical_list)))"
   ]
  },
  {
   "cell_type": "markdown",
   "metadata": {},
   "source": [
    "# Load And Inspect a Single File"
   ]
  },
  {
   "cell_type": "code",
   "execution_count": null,
   "metadata": {
    "ExecuteTime": {
     "end_time": "2020-10-25T00:55:31.788842Z",
     "start_time": "2020-10-25T00:46:07.568203Z"
    }
   },
   "outputs": [],
   "source": [
    "# get all JDs and LSTs\n",
    "_, _, file_lst_arrays, file_time_arrays = io.get_file_times(data_list)\n",
    "# parse lst_blacklist_string\n",
    "lst_blacklists = []\n",
    "if len(lst_blacklist_string) > 0:\n",
    "    lst_blacklists = [tuple([float(arg) for arg in arg_pair.split('-', maxsplit=1)]) \n",
    "                      for arg_pair in lst_blacklist_string.split(' ')]\n",
    "\n",
    "# get times that are blacklisted and reshape them like file_time_arrays\n",
    "time_blacklisted_flat = build_time_blacklist(np.hstack(file_time_arrays), lst_blacklists=lst_blacklists)\n",
    "time_blacklisted = [fta.astype(bool) for fta in file_time_arrays]\n",
    "n = 0\n",
    "for i in range(len(file_time_arrays)):\n",
    "    time_blacklisted[i] = np.zeros_like(time_blacklisted[i], dtype=bool)\n",
    "    for j in range(len(file_time_arrays[i])):\n",
    "        time_blacklisted[i][j] = time_blacklisted_flat[n]\n",
    "        n += 1\n",
    "\n",
    "# pick the central time from among the not-LST blacklisted files, if possible\n",
    "good_indices = [i for i, tb in enumerate(time_blacklisted) if not np.any(tb)]\n",
    "if len(good_indices) > 0:\n",
    "    file_index = good_indices[len(good_indices)//2]\n",
    "else:\n",
    "    file_index = len(data_list)//2\n",
    "file_JD = '.'.join([s for s in os.path.basename(data_list[file_index]).split('.') if s.isdigit()])"
   ]
  },
  {
   "cell_type": "code",
   "execution_count": null,
   "metadata": {
    "ExecuteTime": {
     "end_time": "2020-10-25T00:55:36.594551Z",
     "start_time": "2020-10-25T00:55:31.790851Z"
    }
   },
   "outputs": [],
   "source": [
    "# Load abscal gains and determine ex_ants\n",
    "hc = io.HERACal(abscal_list[file_index])\n",
    "gains, gain_flags, _, _ = hc.read()\n",
    "ex_ants = [ant for ant in gain_flags if np.all(gain_flags[ant])]\n",
    "\n",
    "# Get min_bl_cut, we only want to compare baselines actually used in absolute calibration\n",
    "try:\n",
    "    min_bl_cut = float(hc.history.replace('\\n','').split('--min_bl_cut')[-1].split('--')[0].strip())\n",
    "except:\n",
    "    print('Could not find min_bl_cut, setting to 1 m.')\n",
    "    min_bl_cut = 1.0\n",
    "\n",
    "# Load the most common redundant baseline longer than min_bl_cut\n",
    "hd = io.HERAData(data_list[file_index])\n",
    "bls_to_plot = []\n",
    "for pol in ['ee', 'nn']:\n",
    "    reds = redcal.get_reds({ant: hd.antpos[ant] for ant in hd.data_ants}, pols=[pol])\n",
    "#     reds = redcal.filter_reds(reds, ex_ants=ex_ants)\n",
    "    reds = sorted(reds, key=len, reverse=True)\n",
    "    bl_lens = np.array([np.linalg.norm(hd.antpos[red[0][1]] - hd.antpos[red[0][0]]) for red in reds])\n",
    "    try:\n",
    "        bl_group_to_plot = (np.array(reds)[bl_lens >= min_bl_cut])[0]\n",
    "    except:\n",
    "        bl_group_to_plot = reds[0]\n",
    "    bls_to_plot.extend(bl_group_to_plot)\n",
    "    \n",
    "# reds = sorted(reds, key=len, reverse=True)\n",
    "data, flags, nsamples = hd.read(bls=bls_to_plot)\n",
    "apply_cal.calibrate_in_place(data, gains, data_flags=flags, cal_flags=gain_flags)"
   ]
  },
  {
   "cell_type": "code",
   "execution_count": null,
   "metadata": {
    "ExecuteTime": {
     "end_time": "2020-10-25T00:55:37.467339Z",
     "start_time": "2020-10-25T00:55:36.596499Z"
    }
   },
   "outputs": [],
   "source": [
    "plt.figure(figsize=(8,8))\n",
    "plt.scatter(np.array([hd.antpos[ant][0] for ant in hd.data_ants]), \n",
    "            np.array([hd.antpos[ant][1] for ant in hd.data_ants]), c='w', s=0)\n",
    "for ant in hd.data_ants:\n",
    "    pos = hd.antpos[ant]\n",
    "    bad = ant in [ant[0] for ant in ex_ants]\n",
    "    plt.gca().add_artist(plt.Circle(tuple(pos[0:2]), radius=7, \n",
    "                                    fill=(~bad), color=['grey','r'][bad]))\n",
    "    plt.text(pos[0],pos[1],str(ant), va='center', ha='center', color='w')\n",
    "plt.xlabel(\"Antenna East-West Position (meters)\")\n",
    "plt.ylabel(\"Antenna North-South Position (meters)\")\n",
    "plt.title('Antenna Positions on {} (Red = Flagged)'.format(file_JD));\n",
    "plt.axis('equal')\n",
    "plt.tight_layout()\n",
    "plt.show()"
   ]
  },
  {
   "cell_type": "markdown",
   "metadata": {},
   "source": [
    "### Figure 1: Array and Flagged Antennas\n",
    "\n",
    "#### OBSERVER CHECKLIST:\n",
    "* Check that the array configuration looks reasonable.\n",
    "* Check that all flags expected to be flagged are actually flagged but also that not everything is getting flagged."
   ]
  },
  {
   "cell_type": "code",
   "execution_count": null,
   "metadata": {
    "ExecuteTime": {
     "end_time": "2020-10-25T00:56:22.102366Z",
     "start_time": "2020-10-25T00:55:37.470473Z"
    }
   },
   "outputs": [],
   "source": [
    "#check whether the model is redudnant by looking at the history \n",
    "model_is_redundant = ('--model_is_redundant' in \"\".join(hc.history.split()))\n",
    "\n",
    "# Find files that overlap with this file\n",
    "abscal_matched_files = list(abscal.match_times(data_list[file_index], \n",
    "                                               sorted(glob.glob(abscal_model_glob)), \n",
    "                                               filetype='uvh5', atol=1e-5))\n",
    "hdm = io.HERAData(abscal_matched_files)\n",
    "\n",
    "# Get model times to load\n",
    "all_data_times, all_data_lsts = abscal.get_all_times_and_lsts(hd, unwrap=True)\n",
    "all_model_times, all_model_lsts = abscal.get_all_times_and_lsts(hdm, unwrap=True)\n",
    "d2m_time_map = abscal.get_d2m_time_map(all_data_times, all_data_lsts, all_model_times, all_model_lsts)\n",
    "model_times_to_load = [d2m_time_map[time] for time in hd.times]\n",
    "\n",
    "# Get model baselines to load\n",
    "model_bls = hdm.bls\n",
    "model_antpos = hdm.antpos\n",
    "if isinstance(model_bls, dict):\n",
    "    model_bls = list(model_bls.values())[0]\n",
    "    model_antpos = {ant: pos for antpos in hdm.antpos.values() for ant, pos in antpos.items()}\n",
    "_, model_bl_to_load, data_to_model_bl_map =  abscal.match_baselines(bls_to_plot, model_bls, \n",
    "                                                                    hd.antpos, model_antpos=model_antpos, \n",
    "                                                                    model_is_redundant=model_is_redundant)\n",
    "model, model_flags, _ = io.partial_time_io(hdm, times=model_times_to_load, bls=model_bl_to_load)\n",
    "\n",
    "# Rephase model at index of best match to mean LST in the data\n",
    "model_blvecs = {bl: model.antpos[bl[0]] - model.antpos[bl[1]] for bl in model.keys()}\n",
    "utils.lst_rephase(model, model_blvecs, model.freqs, data.lsts - model.lsts,\n",
    "                  lat=hdm.telescope_location_lat_lon_alt_degrees[0], inplace=True)\n",
    "if not model_is_redundant:\n",
    "    model, _, _ = utils.red_average(model, flags=model_flags)"
   ]
  },
  {
   "cell_type": "code",
   "execution_count": null,
   "metadata": {
    "ExecuteTime": {
     "end_time": "2020-10-25T00:56:24.721698Z",
     "start_time": "2020-10-25T00:56:22.104257Z"
    },
    "scrolled": false
   },
   "outputs": [],
   "source": [
    "import warnings\n",
    "with warnings.catch_warnings():\n",
    "    warnings.filterwarnings('ignore', r'All-NaN (slice|axis) encountered')\n",
    "    for pol in ['ee', 'nn']:\n",
    "        for func, plot, ylabel in zip([np.abs, np.angle], [plt.semilogy, plt.plot], ['Amplitude (Jy)', 'Phase (Radians)']):\n",
    "            plt.figure(figsize=(16,4))        \n",
    "            for bl in [k for k in bls_to_plot if k[2] == pol]:\n",
    "                ant0, ant1 = utils.split_bl(bl)\n",
    "                blvec = hd.antpos[ant0[0]] - hd.antpos[ant1[0]]\n",
    "                if (ant0 not in ex_ants) and (ant1 not in ex_ants):\n",
    "                    to_plot = deepcopy(data[bl])\n",
    "                    to_plot[flags[bl]] = np.nan + 1.0j * np.nan\n",
    "                    to_plot = np.nanmedian(np.real(to_plot), axis=0) + 1.0j * np.nanmedian(np.imag(to_plot), axis=0)\n",
    "                    plot(hd.freqs/1e6, func(to_plot))\n",
    "            for bl in [k for k in model if k[2] == pol]:\n",
    "                to_plot = np.nanmedian(np.real(model[bl]), axis=0) + 1.0j * np.nanmedian(np.imag(model[bl]), axis=0)\n",
    "                plot(hd.freqs/1e6, func(to_plot), 'k-', label='Abscal Model')\n",
    "            plt.xlabel('Frequency (MHz)')\n",
    "            plt.ylabel(ylabel)\n",
    "            plt.legend(loc='lower right')\n",
    "            plt.title('{}-Polarized, {:f} m East, {:f} m North Visibility on {}'.format(pol, blvec[0], blvec[1], file_JD))"
   ]
  },
  {
   "cell_type": "markdown",
   "metadata": {},
   "source": [
    "### Figure 2: Example redundant baseline group, absolute calibrated, compared to the Abscal Model\n",
    "\n",
    "\n",
    "#### OBSERVER CHECKLIST:\n",
    "* Check that the data all look pretty redundant.\n",
    "* Check that the model isn't wildly out of line with the data. "
   ]
  },
  {
   "cell_type": "markdown",
   "metadata": {},
   "source": [
    "# Load a whole day"
   ]
  },
  {
   "cell_type": "code",
   "execution_count": null,
   "metadata": {
    "ExecuteTime": {
     "end_time": "2020-10-25T01:04:46.566361Z",
     "start_time": "2020-10-25T00:56:24.723312Z"
    }
   },
   "outputs": [],
   "source": [
    "# Load chisq and flagging info from abscal gains\n",
    "ant_flags_dict = {}\n",
    "chisq_ee_dict = {}\n",
    "chisq_nn_dict = {}\n",
    "cspa_med_dict = {}\n",
    "ants = set([])\n",
    "\n",
    "for cal in abscal_list:\n",
    "    hc = io.HERACal(cal)\n",
    "    _, flags, cspa, chisq = hc.read()\n",
    "    \n",
    "    ants |= set(flags.keys())\n",
    "    ant_flags_dict[cal] = {ant: np.all(flags[ant]) for ant in flags}\n",
    "    chisq_ee_dict[cal] = chisq['Jee']\n",
    "    chisq_nn_dict[cal] = chisq['Jnn']\n",
    "    cspa_med_dict[cal] = {ant: np.nanmedian(cspa[ant], axis=1) for ant in cspa}\n",
    "\n",
    "all_flagged_dict = {ant: np.all([af[ant] for af in ant_flags_dict.values()]) for ant in ants}\n",
    "cspa = {ant: np.hstack([np.squeeze(cspa_med_dict[cal][ant]) / \\\n",
    "                        ~ant_flags_dict[cal][ant] for cal in abscal_list]) for ant in ants}\n",
    "ee_chisq = np.vstack(np.array(list(chisq_ee_dict.values())))\n",
    "nn_chisq = np.vstack(np.array(list(chisq_nn_dict.values())))"
   ]
  },
  {
   "cell_type": "code",
   "execution_count": null,
   "metadata": {
    "ExecuteTime": {
     "end_time": "2020-10-25T01:11:06.281780Z",
     "start_time": "2020-10-25T01:04:46.568843Z"
    }
   },
   "outputs": [],
   "source": [
    "# save middle-numbered ants with a minimal number of flags\n",
    "ants_to_save = {}\n",
    "for pol in ['Jee', 'Jnn']:\n",
    "    min_flags = np.min([np.sum(~np.isfinite(cspa[ant])) \n",
    "                        for ant in cspa if ant[1] == pol])\n",
    "    ant_candidates = sorted([ant for ant in cspa if ant[1] == pol and \n",
    "                             np.sum(~np.isfinite(cspa[ant])) == min_flags])\n",
    "    Nac = len(ant_candidates)\n",
    "    ants_to_save[pol] = ant_candidates[(Nac // 2 - 1):(Nac // 2 + 1)]\n",
    "\n",
    "# Reload abscal gains\n",
    "times_dict = {}\n",
    "gain_dict = {}\n",
    "flag_dict = {}\n",
    "for cal in abscal_list:\n",
    "    hc = io.HERACal(cal)\n",
    "    gains, flags, _, _ = hc.read()\n",
    "    times_dict[cal] = hc.times\n",
    "    gain_dict[cal] = {ant: gains[ant] for pol in ants_to_save for ant in ants_to_save[pol]}\n",
    "    flag_dict[cal] = {ant: flags[ant] for pol in ants_to_save for ant in ants_to_save[pol]}    \n",
    "\n",
    "times = np.hstack(list(times_dict.values()))\n",
    "lsts = 12 / np.pi * pyuvdata.utils.get_lst_for_time(times, *hd.telescope_location_lat_lon_alt_degrees)\n",
    "gains = {ant: np.vstack([gain_dict[cal][ant] for cal in gain_dict]) \n",
    "         for pol in ants_to_save for ant in ants_to_save[pol]}    \n",
    "flags = {ant: np.vstack([flag_dict[cal][ant] for cal in flag_dict]) \n",
    "         for pol in ants_to_save for ant in ants_to_save[pol]}    \n",
    "flag_mask = np.all([f for f in flags.values()], axis=0)"
   ]
  },
  {
   "cell_type": "markdown",
   "metadata": {},
   "source": [
    "# Inspect a whole day"
   ]
  },
  {
   "cell_type": "code",
   "execution_count": null,
   "metadata": {
    "ExecuteTime": {
     "end_time": "2020-10-25T01:11:06.371570Z",
     "start_time": "2020-10-25T01:11:06.284188Z"
    }
   },
   "outputs": [],
   "source": [
    "# for overplotting blacklisted LSTs\n",
    "my_cmap = cm.binary\n",
    "my_cmap.set_under('k', alpha=0)\n",
    "blacklist = np.ones_like(ee_chisq) * np.hstack(time_blacklisted)[:, np.newaxis]"
   ]
  },
  {
   "cell_type": "code",
   "execution_count": null,
   "metadata": {
    "ExecuteTime": {
     "end_time": "2020-10-25T03:15:52.436722Z",
     "start_time": "2020-10-25T03:15:49.129421Z"
    }
   },
   "outputs": [],
   "source": [
    "# Grid and plot overall chi^2 for each polarization\n",
    "ee_chisq = np.vstack(np.array(list(chisq_ee_dict.values())))\n",
    "nn_chisq = np.vstack(np.array(list(chisq_nn_dict.values())))\n",
    "fig, axes = plt.subplots(1, 2, figsize=(20,12))\n",
    "\n",
    "for ax, cs, t in zip(axes, [ee_chisq, nn_chisq], ['ee-polarized', 'nn-polarized']):\n",
    "    extent=[hd.freqs[0]/1e6, hd.freqs[-1]/1e6, times[-1], times[0]]\n",
    "    im = ax.imshow(cs / ~flag_mask, aspect='auto', vmin=0, cmap='inferno', vmax=10, interpolation='nearest', extent=extent)\n",
    "    ax.imshow(blacklist, aspect='auto', cmap=my_cmap, interpolation=None, clim=[0.9, 1], alpha=.25, extent=extent)\n",
    "    ax.set_title('Overall Abscal $\\chi^2$ / $N_{bls}$: ' + t)\n",
    "    ax.set_xlabel('Frequency (MHz)')\n",
    "    ax.set_ylabel('LST (Hours)')\n",
    "    ax.set_yticklabels(np.around(lsts[[min(max(np.searchsorted(times, t), 0), len(times) - 1) for t in ax.get_yticks()]], 2))              \n",
    "    plt.colorbar(im, ax=ax, label='$\\chi^2$ / $N_{bls}$ (unitless)')"
   ]
  },
  {
   "cell_type": "markdown",
   "metadata": {
    "ExecuteTime": {
     "end_time": "2020-09-22T20:20:25.147745Z",
     "start_time": "2020-09-22T20:20:24.819620Z"
    }
   },
   "source": [
    "### Figure 3 Overall Abscal $\\chi^2 / N_{bls}$\n",
    "\n",
    "This computes the difference between the calibrated data and the abscal model, normalized by the thermal noise. Grayed out regions are \"blacklisted,\" meaning they are not flagged but they are given zero weight when performing calibration smoothing.\n",
    "\n",
    "#### OBSERVER CHECKLIST:\n",
    "* Look for regions of high $\\chi^2$ that are not blacklisted."
   ]
  },
  {
   "cell_type": "code",
   "execution_count": null,
   "metadata": {
    "ExecuteTime": {
     "end_time": "2020-10-25T03:16:03.288424Z",
     "start_time": "2020-10-25T03:15:58.558965Z"
    },
    "code_folding": []
   },
   "outputs": [],
   "source": [
    "# Pick vmax to not saturate 90% of the data\n",
    "vmax = np.max([np.percentile(np.abs(gains[ants_to_save[pol][1]][~flag_mask]), 90) for pol in ['Jee', 'Jnn']])\n",
    "\n",
    "# Plot abscal gain amplitude waterfalls for a single antenna\n",
    "fig, axes = plt.subplots(3, 2, figsize=(16,16), gridspec_kw={'height_ratios': [1, .25, .25]})\n",
    "for ax, pol in zip(axes[0], ['Jee', 'Jnn']):\n",
    "    ant = ants_to_save[pol][1]\n",
    "    gains_here = deepcopy(gains[ant])\n",
    "    gains_here[flags[ant]] = np.nan\n",
    "    extent=[hd.freqs[0]/1e6, hd.freqs[-1]/1e6, times[-1], times[0]]\n",
    "    im = ax.imshow(np.abs(gains_here), aspect='auto', cmap='inferno', \n",
    "                   interpolation='nearest', vmin=0, vmax=vmax, extent=extent)\n",
    "    ax.imshow(blacklist, aspect='auto', cmap=my_cmap, interpolation=None, clim=[0.9, 1], alpha=.25, extent=extent)\n",
    "    ax.set_title(f'Abscal Gain Amplitude of Antenna {ant[0]}: {pol[1:]}-polarized' )\n",
    "    ax.set_xlabel('Frequency (MHz)')\n",
    "    ax.set_ylabel('LST (Hours)')        \n",
    "    ax.set_yticklabels(np.around(lsts[[min(max(np.searchsorted(times, t), 0), len(times) - 1) for t in ax.get_yticks()]], 2))                      \n",
    "    plt.colorbar(im, ax=ax,  orientation='horizontal', pad=.07)\n",
    "\n",
    "# Now plot median gain spectra and time series\n",
    "for ax, pol in zip(axes[1], ['Jee', 'Jnn']):\n",
    "    ant = ants_to_save[pol][1]\n",
    "    gains_here = deepcopy(gains[ant])\n",
    "    gains_here[flags[ant]] = np.nan    \n",
    "    if not np.all(np.hstack(time_blacklisted)):\n",
    "        ax.plot(hd.freqs / 1e6, np.nanmedian(np.abs(gains_here[~np.hstack(time_blacklisted), :]), axis=0))\n",
    "    ax.set_ylim([0, vmax])\n",
    "    ax.set_xlabel('Frequency (MHz)')\n",
    "    ax.set_ylabel('|g| (unitless)')\n",
    "    ax.set_title(f'Median Non-Blacklisted Abscal Gain Amplitude Spectrum of Antenna {ant[0]}: {pol[1:]}-polarized')\n",
    "\n",
    "# Now plot median gain time series\n",
    "for ax, pol in zip(axes[2], ['Jee', 'Jnn']):\n",
    "    ant = ants_to_save[pol][1]\n",
    "    gains_here = deepcopy(gains[ant])\n",
    "    gains_here[flags[ant]] = np.nan    \n",
    "    if not np.all(np.hstack(time_blacklisted)):\n",
    "        ax.plot(lsts[~np.hstack(time_blacklisted)], \n",
    "                np.nanmedian(np.abs(gains_here[~np.hstack(time_blacklisted), :]), axis=1), \n",
    "                'b.', label='Not Blacklisted LSTs')\n",
    "    if np.any(np.hstack(time_blacklisted)):\n",
    "        ax.plot(lsts[np.hstack(time_blacklisted)], \n",
    "                np.nanmedian(np.abs(gains_here[np.hstack(time_blacklisted), :]), axis=1), \n",
    "                'r.', label='Blacklisted LSTs')\n",
    "    ax.set_ylim([0, vmax])\n",
    "    ax.set_xlabel('LST (hours)')\n",
    "    ax.set_ylabel('|g| (unitless)')\n",
    "    ax.set_title(f'Median Abscal Gain Amplitude Time-Series of Antenna {ant[0]}: {pol[1:]}-polarized')\n",
    "    ax.legend()\n",
    "\n",
    "plt.tight_layout()"
   ]
  },
  {
   "cell_type": "markdown",
   "metadata": {},
   "source": [
    "### Figure 4: Example Abscal Gain Amplitudes\n",
    "Abscal gain amplitudes for an example antenna. In the waterfall, grayed out regions are \"blacklisted,\" meaning they are not flagged but they are given zero weight when performing calibration smoothing. We also plot median non-blacklisted amplitude as a function of frequency (middle row) and the median amplitude as a function of time (bottom row)\n",
    "\n",
    "#### OBSERVER CHECKLIST:\n",
    "* Look to see that non-blacklisted times are relatively stable in amplitude\n",
    "* Check to see if the bandpass looks reasonable"
   ]
  },
  {
   "cell_type": "code",
   "execution_count": null,
   "metadata": {
    "ExecuteTime": {
     "end_time": "2020-10-25T03:16:09.304090Z",
     "start_time": "2020-10-25T03:16:03.292211Z"
    }
   },
   "outputs": [],
   "source": [
    "# Plot abscal gain phase waterfalls for a single antenna/refant\n",
    "fig, axes = plt.subplots(3, 2, figsize=(16,16), gridspec_kw={'height_ratios': [1, .25, .25]})\n",
    "for ax, pol in zip(axes[0], ['Jee', 'Jnn']):\n",
    "    ant0, ant1 = ants_to_save[pol]\n",
    "    gains_ratio_here = gains[ant0] / gains[ant1]\n",
    "    gains_ratio_here[flags[ant0] | flags[ant1]] = np.nan\n",
    "    extent=[hd.freqs[0]/1e6, hd.freqs[-1]/1e6, times[-1], times[0]]\n",
    "    im = ax.imshow(np.angle(gains_ratio_here), aspect='auto', cmap='inferno', \n",
    "                   interpolation='nearest', vmin=-np.pi, vmax=np.pi, extent=extent)\n",
    "    ax.imshow(blacklist, aspect='auto', cmap=my_cmap, interpolation=None, clim=[0.9, 1], alpha=.25, extent=extent)\n",
    "    ax.set_title(f'Abscal Gain Phase of Ant {ant0[0]} / Ant {ant1[0]}: {pol[1:]}-polarized' )\n",
    "    ax.set_xlabel('Frequency (MHz)')\n",
    "    ax.set_ylabel('LST (Hours)')\n",
    "    ax.set_yticklabels(np.around(lsts[[min(max(np.searchsorted(times, t), 0), len(times) - 1) for t in ax.get_yticks()]], 2))                          \n",
    "    plt.colorbar(im, ax=ax,  orientation='horizontal', pad=.07)\n",
    "\n",
    "# Now plot median gain spectra and time series\n",
    "for ax, pol in zip(axes[1], ['Jee', 'Jnn']):\n",
    "    ant0, ant1 = ants_to_save[pol]\n",
    "    gains_ratio_here = gains[ant0] / gains[ant1]\n",
    "    gains_ratio_here[flags[ant0] | flags[ant1]] = np.nan    \n",
    "    if not np.all(np.hstack(time_blacklisted)):\n",
    "        re_med = np.nanmedian(gains_ratio_here[~np.hstack(time_blacklisted), :].real, axis=0)\n",
    "        im_med = np.nanmedian(gains_ratio_here[~np.hstack(time_blacklisted), :].imag, axis=0)\n",
    "        ax.plot(hd.freqs / 1e6, np.angle(re_med + 1.0j * im_med))\n",
    "    ax.set_ylim([-np.pi, np.pi])\n",
    "    ax.set_xlabel('Frequency (MHz)')\n",
    "    ax.set_ylabel(f'Phase of g$_{{ant0[0]}}$ / g$_{{ant1[0]}}$')\n",
    "    ax.set_title(f'Median Non-Blacklisted Abscal Gain Phase Spectrum of Ant {ant0[0]} / Ant {ant1[0]}: {pol[1:]}-polarized')\n",
    "\n",
    "# Now plot a single gain angle time series \n",
    "for ax, pol in zip(axes[2], ['Jee', 'Jnn']):\n",
    "    ant0, ant1 = ants_to_save[pol]\n",
    "    gains_ratio_here = gains[ant0] / gains[ant1]\n",
    "    gains_ratio_here[flags[ant0] | flags[ant1]] = np.nan        \n",
    "    # pick channel with minimum phase variance in the middle 100 channels \n",
    "    possible_chans = np.arange(len(hd.freqs))[len(hd.freqs)//2 - 50:len(hd.freqs)//2 + 50]\n",
    "    best_chan = np.argmin(np.var(np.angle(gains_ratio_here), axis=0)[len(hd.freqs)//2 - 50:len(hd.freqs)//2 + 50])\n",
    "    chan = possible_chans[best_chan]\n",
    "    \n",
    "    if not np.all(np.hstack(time_blacklisted)):\n",
    "        ax.plot(lsts[~np.hstack(time_blacklisted)], \n",
    "                np.angle(gains_ratio_here[~np.hstack(time_blacklisted), chan]),\n",
    "                'b.', label='Not Blacklisted LSTs')\n",
    "    if np.any(np.hstack(time_blacklisted)):\n",
    "        ax.plot(lsts[np.hstack(time_blacklisted)], \n",
    "                np.angle(gains_ratio_here[np.hstack(time_blacklisted), chan]),\n",
    "                'r.', label='Blacklisted LSTs')\n",
    "    ax.set_ylim([-np.pi, np.pi])\n",
    "    ax.set_xlabel('LST (hours)')\n",
    "    ax.set_ylabel(f'Phase of g$_{ant0[0]}$ / g$_{ant1[0]}$')\n",
    "    ax.set_title(f'Abscal Gain Phase of Ant {ant0[0]} / Ant {ant1[0]} at Channel {chan}: {pol[1:]}-polarized')\n",
    "    ax.legend()\n",
    "\n",
    "plt.tight_layout()"
   ]
  },
  {
   "cell_type": "markdown",
   "metadata": {},
   "source": [
    "### Figure 5: Example Abscal Gain Phases\n",
    "Relative gain phases of two example antennas. In the waterfall, grayed out regions are \"blacklisted,\" meaning they are not flagged but they are given zero weight when performing calibration smoothing. We also plot median non-blacklisted phases as a function of frequency (middle row) and the phase of the specific channel within 50 channels of the middle with minimal phase variance (bottom row).\n",
    "\n",
    "#### OBSERVER CHECKLIST:\n",
    "* Look for regions of \"hashy\" phase structure that are not blacklisted or attributable to RFI."
   ]
  },
  {
   "cell_type": "markdown",
   "metadata": {},
   "source": [
    "# Metadata"
   ]
  },
  {
   "cell_type": "code",
   "execution_count": null,
   "metadata": {
    "ExecuteTime": {
     "end_time": "2020-10-25T01:11:20.992415Z",
     "start_time": "2020-10-25T01:11:20.297454Z"
    }
   },
   "outputs": [],
   "source": [
    "from hera_cal import __version__\n",
    "print(__version__)"
   ]
  }
 ],
 "metadata": {
  "kernelspec": {
   "display_name": "Python 3 (ipykernel)",
   "language": "python",
   "name": "python3"
  },
  "language_info": {
   "codemirror_mode": {
    "name": "ipython",
    "version": 3
   },
   "file_extension": ".py",
   "mimetype": "text/x-python",
   "name": "python",
   "nbconvert_exporter": "python",
   "pygments_lexer": "ipython3",
   "version": "3.10.2"
  },
  "toc": {
   "base_numbering": 1,
   "nav_menu": {},
   "number_sections": false,
   "sideBar": true,
   "skip_h1_title": false,
   "title_cell": "Table of Contents",
   "title_sidebar": "Contents",
   "toc_cell": false,
   "toc_position": {},
   "toc_section_display": true,
   "toc_window_display": false
  }
 },
 "nbformat": 4,
 "nbformat_minor": 4
}
