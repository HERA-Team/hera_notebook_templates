{
 "cells": [
  {
   "cell_type": "code",
   "execution_count": null,
   "id": "broadband-quarter",
   "metadata": {
    "ExecuteTime": {
     "end_time": "2021-05-08T16:28:20.220893Z",
     "start_time": "2021-05-08T16:28:06.675164Z"
    }
   },
   "outputs": [],
   "source": [
    "import numpy as np\n",
    "import matplotlib.pyplot as plt\n",
    "from hera_cal import frf\n",
    "import glob\n",
    "import os\n",
    "from copy import deepcopy\n",
    "from hera_cal import redcal\n",
    "from IPython.display import display, HTML\n",
    "from hera_cal.io import HERAData\n",
    "from matplotlib.colors import LogNorm\n",
    "from hera_cal import utils\n",
    "%config Completer.use_jedi = False\n",
    "from scipy.interpolate import interp1d\n",
    "\n",
    "%matplotlib inline\n",
    "%config InlineBackend.figure_format = 'retina'\n",
    "display(HTML(\"<style>.container { width:100% !important; }</style>\"))"
   ]
  },
  {
   "cell_type": "code",
   "execution_count": null,
   "id": "elect-ordinary",
   "metadata": {
    "ExecuteTime": {
     "end_time": "2021-05-08T16:28:20.223235Z",
     "start_time": "2021-05-08T16:28:07.252Z"
    }
   },
   "outputs": [],
   "source": [
    "# Use environment variables to figure out path to data\n",
    "JD = os.environ['JULIANDATE']\n",
    "data_path = os.environ['DATA_PATH']\n",
    "label = os.environ['LABEL']\n",
    "nreds = int(os.environ['NREDS'])\n",
    "max_bls_per_redgrp = int(os.environ['MAX_BLS_PER_REDGRP'])\n",
    "nskip = int(os.environ['NSKIP'])\n",
    "spws = os.environ['SPWS'].split(',')\n",
    "ext = os.environ['EXT']\n",
    "print(spws)\n",
    "print([(spw.split('~')[0], spw.split('~')[1]) for spw in spws])\n",
    "spws = [(int(spw.split('~')[0]), int(spw.split('~')[1])) for spw in spws]\n",
    "\n",
    "print(f'JD = \"{JD}\"')\n",
    "print(f'data_path = \"{data_path}\"')\n",
    "print(f'label = \"{label}\"')\n",
    "print(f'nreds = \"{nreds}\"')\n",
    "print(f'max_bls_per_redgrp = \"{max_bls_per_redgrp}\"')\n",
    "print(f'nskip = \"{nskip}\"')\n",
    "print(f'spws = \"{spws}\"')\n"
   ]
  },
  {
   "cell_type": "code",
   "execution_count": null,
   "id": "alone-defensive",
   "metadata": {
    "ExecuteTime": {
     "end_time": "2021-05-08T16:28:20.224186Z",
     "start_time": "2021-05-08T16:28:08.140Z"
    }
   },
   "outputs": [],
   "source": [
    "from astropy.time import Time\n",
    "utc = Time(JD, format='jd').datetime\n",
    "print(f'Date: {utc.month}-{utc.day}-{utc.year}')"
   ]
  },
  {
   "cell_type": "code",
   "execution_count": null,
   "id": "rapid-afghanistan",
   "metadata": {
    "ExecuteTime": {
     "end_time": "2021-04-28T21:15:35.223413Z",
     "start_time": "2021-04-28T21:15:33.025051Z"
    }
   },
   "outputs": [],
   "source": [
    "print('Looking for sum xtalk-filtered data in', data_path, 'on JD', JD)\n",
    "xtalk_filtered_sums = sorted(glob.glob(os.path.join(data_path, f'zen.{JD}.?????.sum.{label}.{ext}.xtalk_filtered.tavg.uvh5')))\n",
    "print('Found {} files.'.format(len(xtalk_filtered_sums)))\n",
    "print('Looking for diff xtalk-filtered data in', data_path, 'on JD', JD)\n",
    "xtalk_filtered_diffs = sorted(glob.glob(os.path.join(data_path, f'zen.{JD}.?????.diff.{label}.{ext}.xtalk_filtered.tavg.uvh5')))\n",
    "print('Found {} files.'.format(len(xtalk_filtered_diffs)))\n",
    "print('Looking for sum time-inpainted data in', data_path, 'on JD', JD)\n",
    "time_inpainted_sums = sorted(glob.glob(os.path.join(data_path, f'zen.{JD}.?????.sum.{label}.{ext}.time_inpainted.tavg.uvh5')))\n",
    "print('Found {} files.'.format(len(time_inpainted_sums)))\n",
    "print('Looking for diff time-inpainted data in', data_path, 'on JD', JD)\n",
    "time_inpainted_diffs = sorted(glob.glob(os.path.join(data_path, f'zen.{JD}.?????.diff.{label}.{ext}.time_inpainted.tavg.uvh5')))\n",
    "print('Found {} files.'.format(len(time_inpainted_diffs)))"
   ]
  },
  {
   "cell_type": "markdown",
   "id": "limiting-joyce",
   "metadata": {},
   "source": [
    "Examine Waterfalls and FR-plots for several redundant groups."
   ]
  },
  {
   "cell_type": "code",
   "execution_count": null,
   "id": "flying-background",
   "metadata": {
    "ExecuteTime": {
     "end_time": "2021-04-28T22:06:22.738066Z",
     "start_time": "2021-04-28T22:06:21.272637Z"
    }
   },
   "outputs": [],
   "source": [
    "hd = HERAData(xtalk_filtered_sums[0])\n",
    "antpairs_data = hd.get_antpairs()\n",
    "reds = redcal.get_pos_reds(hd.antpos)\n",
    "#reds = redcal.filter_reds(reds, antpos=hd.antpos)\n",
    "reds = [[bl for bl in grp if bl in antpairs_data or bl[::-1] in antpairs_data] for grp in reds]\n",
    "reds = [grp for grp in reds if len(grp)>0]\n",
    "reds = sorted(reds, key=len, reverse=True)"
   ]
  },
  {
   "cell_type": "code",
   "execution_count": null,
   "id": "white-vector",
   "metadata": {},
   "outputs": [],
   "source": [
    "frf_xtalk = frf.FRFilter(xtalk_filtered_sums)\n",
    "frf_xtalk.read(axis='blt')\n",
    "# generate redundantly averaged data\n",
    "hd_xtalkr = utils.red_average(frf_xtalk.hd, inplace=False, reds=reds, red_bl_keys=[grp[0] for grp in reds])\n",
    "frf_xtalkr = frf.FRFilter(hd_xtalkr)\n",
    "for spw_num, spw in enumerate(spws):\n",
    "    frf_xtalkr.fft_data(window='bh', ax='both', assign=f'dfft2_spw_{spw_num}', \n",
    "                          verbose=False, overwrite=True, edgecut_low=(0, spw[0]), edgecut_hi=(0, frf_xtalkr.Nfreqs-spw[1]))\n",
    "    frf_xtalkr.fft_data(window='bh', ax='freq', assign=f'dfft_spw_{spw_num}',\n",
    "                          verbose=False, overwrite=True, edgecut_low=spw[0], edgecut_hi=frf_xtalkr.Nfreqs-spw[1])\n"
   ]
  },
  {
   "cell_type": "code",
   "execution_count": null,
   "id": "geological-fourth",
   "metadata": {
    "ExecuteTime": {
     "end_time": "2021-04-28T22:01:31.942799Z",
     "start_time": "2021-04-28T21:56:28.467754Z"
    },
    "code_folding": []
   },
   "outputs": [],
   "source": [
    "if len(time_inpainted_sums) > 0:\n",
    "    frf_inpaint = frf.FRFilter(time_inpainted_sums)\n",
    "    frf_inpaint.read(axis='blt')\n",
    "    # generate redundantly averaged data\n",
    "    hd_inpaintr = utils.red_average(frf_inpaint.hd, inplace=False, reds=reds, red_bl_keys=[grp[0] for grp in reds])\n",
    "    frf_inpaintr = frf.FRFilter(hd_inpaintr)\n",
    "    for spw_num, spw in enumerate(spws):\n",
    "        frf_inpaintr.fft_data(window='bh', ax='both', assign=f'dfft2_spw_{spw_num}', \n",
    "                              verbose=False, overwrite=True, edgecut_low=(0, spw[0]), edgecut_hi=(0, frf_inpaintr.Nfreqs-spw[1]))\n",
    "        frf_inpaintr.fft_data(window='bh', ax='freq', assign=f'dfft_spw_{spw_num}',\n",
    "                              verbose=False, overwrite=True, edgecut_low=spw[0], edgecut_hi=frf_inpaintr.Nfreqs-spw[1])\n"
   ]
  },
  {
   "cell_type": "code",
   "execution_count": null,
   "id": "going-negotiation",
   "metadata": {
    "ExecuteTime": {
     "end_time": "2021-04-29T17:03:14.917215Z",
     "start_time": "2021-04-29T17:03:14.872701Z"
    },
    "code_folding": []
   },
   "outputs": [],
   "source": [
    "def delay_plots(frft, frft_red, spw_num):\n",
    "    spw = spws[spw_num]\n",
    "    frft.fft_data(window='bh', ax='both', assign=f'dfft2_{spw_num}', keys=[reds[0][0] + ('nn',)], overwrite=True,\n",
    "                 edgecut_low=(0, spw[0]), edgecut_hi=(0, frf_xtalkr.Nfreqs-spw[1]))\n",
    "    df = np.mean(np.diff(frft.freqs))\n",
    "    dt = np.mean(np.diff(frft.times * 3600 * 24))\n",
    "    cmax_frate = 10 ** np.round(np.log10(np.abs(getattr(frft_red, f'dfft2_spw_{spw_num}')[reds[0][0] + ('nn',)] * dt * df).max()))\n",
    "    cmin_frate = cmax_frate / 1e5\n",
    "    cmax_delay = 10 ** np.round(np.log10(np.abs(getattr(frft_red, f'dfft_spw_{spw_num}')[reds[0][0] + ('nn',)] * df).max()))\n",
    "    cmin_delay = cmax_delay / 1e5\n",
    "    for gn, grp in enumerate(reds[::nskip][:nreds]):\n",
    "        ext_frate = [frft.delays.min(), frft.delays.max(), frft.frates.max(), frft.frates.min()]\n",
    "        ext_tdelay = [frft.delays.min(), frft.delays.max(), \n",
    "                frft.times.max(), frft.times.min()]\n",
    "        lst_func = interp1d(frft.times, frft.lsts * 12 / np.pi)\n",
    "        fig, axarr = plt.subplots(2, 2 * min(len(grp) + 1, max_bls_per_redgrp + 1))\n",
    "        nbls = (len(axarr[0]) - 1) // 2\n",
    "        fig.set_size_inches(32, 8)\n",
    "        cbax1 = fig.add_axes([0.105, 0.35, 0.005, 0.3])\n",
    "        cbax2 = fig.add_axes([0.915, 0.35, 0.005, 0.3])\n",
    "        if grp[0] in frft.bllens:\n",
    "            hrzn_dly = frft.bllens[grp[0]] * 1e9\n",
    "            blvec = frft.blvecs[grp[0]]\n",
    "        else:\n",
    "            hrzn_dly = frft.bllens[grp[0][::-1]] * 1e9\n",
    "            blvec = -frft.blvecs[grp[0][::-1]]\n",
    "\n",
    "        # get vmin and vmax from grp[0][0] min / max rounded up / down\n",
    "        # generate fringe-rate plots.\n",
    "        for pn, pol in enumerate(['ee', 'nn']):\n",
    "            for blnum in range(nbls + 1):\n",
    "                plt.sca(axarr[pn][blnum])\n",
    "                if blnum < nbls:\n",
    "                    bl = grp[blnum]\n",
    "                    blk = bl + (pol,)\n",
    "                    frft.fft_data(window='bh', ax='both', assign=f'dfft2_spw_{spw_num}', keys=[blk], overwrite=True,\n",
    "                                  edgecut_low=[0, spw[0]], edgecut_hi=[0, frf_xtalkr.Nfreqs-spw[1]])\n",
    "                    cm = plt.imshow(np.abs(getattr(frft, f'dfft2_spw_{spw_num}')[blk] * df * dt), norm=LogNorm(cmin_frate, cmax_frate), extent=ext_frate, aspect='auto', interpolation='nearest', cmap='inferno')\n",
    "                    plt.title(f'{blk} \\n{frft.freqs[spw[0]] / 1e6:.1f} - {frft.freqs[spw[1] - 1] / 1e6:.1f} ')\n",
    "                else:\n",
    "                    blk = grp[0] + (pol,)\n",
    "                    d = getattr(frft_red, f'dfft2_spw_{spw_num}')[blk] * df * dt\n",
    "                    conj = blk not in list(frft_red.data.keys())\n",
    "                    if conj:\n",
    "                        d = np.conj(d[::-1, ::-1])\n",
    "                    cm = plt.imshow(np.abs(d), norm=LogNorm(cmin_frate, cmax_frate), extent=ext_frate, aspect='auto', interpolation='nearest', cmap='inferno')\n",
    "                    plt.title(f'{blvec[0]:.1f} m, {blvec[1]:.1f} m, {pol}\\n{frft.freqs[spw[0]] / 1e6:.1f} - {frft.freqs[spw[1]-1] / 1e6:.1f} ')\n",
    "                plt.xlim(-1000, 1000)\n",
    "                plt.ylim(-1.5, 1.5)\n",
    "                plt.axvline(hrzn_dly, ls='--', color='w', lw=1)\n",
    "                plt.axvline(-hrzn_dly, ls='--', color='w', lw=1)\n",
    "                if pn == 0:\n",
    "                    cbar = fig.colorbar(cm, orientation='vertical', cax=cbax1)\n",
    "                    cbax1.yaxis.set_ticks_position('left')\n",
    "                    plt.gca().set_xticklabels(['' for tick in plt.gca().get_xticklabels()])\n",
    "                    cbar.ax.set_ylabel('Abs($\\\\widetilde{V}_{\\\\tau, f_r}$) [Jy]', rotation=90)\n",
    "                else:\n",
    "                    plt.gca().set_xlabel('$\\\\tau$ [ns]')\n",
    "                if blnum > 0:\n",
    "                    plt.gca().set_yticklabels(['' for tick in plt.gca().get_yticklabels()])\n",
    "                else:\n",
    "                    plt.gca().set_ylabel('$f_r$ [mHz]')\n",
    "\n",
    "        # generate delay-waterfall plots.\n",
    "        for pn, pol in enumerate(['ee', 'nn']):\n",
    "            for blnum in range(nbls + 1):\n",
    "                plt.sca(axarr[pn][blnum + nbls + 1])\n",
    "                if blnum < nbls:\n",
    "                    bl = grp[blnum]\n",
    "                    blk = bl + (pol,)\n",
    "                    frft.fft_data(window='bh', ax='freq', assign=f'dfft_spw_{spw_num}', keys=[blk], overwrite=True,\n",
    "                                  edgecut_low=spw[0], edgecut_hi=frf_xtalkr.Nfreqs-spw[1])\n",
    "                    cm = plt.imshow(np.abs(getattr(frft, f'dfft_spw_{spw_num}')[blk] * df), norm=LogNorm(cmin_delay, cmax_delay), extent=ext_tdelay, aspect='auto', interpolation='nearest', cmap='inferno')\n",
    "                    plt.title(f'{blk}')\n",
    "                else:\n",
    "                    blk = grp[0] + (pol,)\n",
    "                    d = getattr(frft_red, f'dfft_spw_{spw_num}')[blk] * df\n",
    "                    conj = blk not in list(frft_red.data.keys())\n",
    "                    if conj:\n",
    "                        d = np.conj(d[:, ::-1])\n",
    "                    cm = plt.imshow(np.abs(d), norm=LogNorm(cmin_delay, cmax_delay), extent=ext_tdelay, aspect='auto', interpolation='nearest', cmap='inferno')\n",
    "                    plt.title(f'{blvec[0]:.1f} m, {blvec[1]:.1f} m, {pol}')\n",
    "                plt.xlim(-1000, 1000)\n",
    "                plt.axvline(hrzn_dly, ls='--', color='w', lw=1)\n",
    "                plt.axvline(-hrzn_dly, ls='--', color='w', lw=1)\n",
    "                plt.gca().set_yticks([t for t in plt.gca().get_yticks() if t >= ext_tdelay[-1] and t <= ext_tdelay[-2]])\n",
    "                if pn == 0:\n",
    "                    plt.gca().set_xticklabels(['' for tick in plt.gca().get_xticklabels()])\n",
    "                else:\n",
    "                    plt.gca().set_xlabel('$\\\\tau$ [ns]')\n",
    "                if blnum < nbls:\n",
    "                    plt.gca().set_yticklabels(['' for tick in plt.gca().get_yticklabels()])\n",
    "                else:\n",
    "                    plt.gca().set_ylabel('LST [Hrs]')\n",
    "                    plt.gca().set_yticklabels([f'{lst_func(t):.1f}' for t in plt.gca().get_yticks()])\n",
    "                    cbar = fig.colorbar(cm, orientation='vertical', cax=cbax2)\n",
    "                    cbar.ax.set_ylabel('Abs($\\\\widetilde{V}$) [Jy Hz]', rotation=90)\n",
    "\n",
    "                plt.gca().yaxis.tick_right()\n",
    "                plt.gca().yaxis.set_label_position(\"right\")\n",
    "\n",
    "\n",
    "\n",
    "        plt.show()\n"
   ]
  },
  {
   "cell_type": "code",
   "execution_count": null,
   "id": "selected-precipitation",
   "metadata": {
    "ExecuteTime": {
     "end_time": "2021-04-29T17:03:15.223889Z",
     "start_time": "2021-04-29T17:03:15.183017Z"
    },
    "code_folding": []
   },
   "outputs": [],
   "source": [
    "def freq_plots(frft, frft_red, spw_num):\n",
    "    cmax_freq = 10 ** np.round(np.log10(np.abs(frft_red.data[reds[0][0] + ('nn',)]).max()))\n",
    "    cmin_freq = cmax_freq / 1e5\n",
    "    spw_inds = np.arange(spws[spw_num][0], spws[spw_num][1]).astype(int)\n",
    "    for gn, grp in enumerate(reds[::nskip][:nreds]):\n",
    "        ext_freq = [frft.freqs[spw_inds].min() / 1e6, frft.freqs[spw_inds].max() / 1e6, \n",
    "                    frft.times.max(), frft.times.min()]\n",
    "        lst_func = interp1d(frft.times, frft.lsts * 12 / np.pi)\n",
    "        fig, axarr = plt.subplots(2, 2 * min(len(grp) + 1, max_bls_per_redgrp + 1))\n",
    "        cbax1 = fig.add_axes([0.105, 0.35, 0.005, 0.3])\n",
    "        cbax2 = fig.add_axes([0.915, 0.35, 0.005, 0.3])\n",
    "        nbls = (len(axarr[0]) - 1) // 2\n",
    "        fig.set_size_inches(32, 8)\n",
    "        if grp[0] in frft.bllens:\n",
    "            hrzn_dly = frft.bllens[grp[0]] * 1e9\n",
    "            blvec = frft.blvecs[grp[0]]\n",
    "        else:\n",
    "            hrzn_dly = frft.bllens[grp[0][::-1]] * 1e9\n",
    "            blvec = -frft.blvecs[grp[0][::-1]]\n",
    "\n",
    "        # generate fringe-rate plots.\n",
    "        for pn, pol in enumerate(['ee', 'nn']):\n",
    "            for blnum in range(nbls + 1):\n",
    "                plt.sca(axarr[pn][blnum])\n",
    "                if blnum < nbls:\n",
    "                    bl = grp[blnum]\n",
    "                    blk = bl + (pol,)\n",
    "                    cm = plt.imshow(np.abs(frft.data[blk][:, spw_inds]) / ~frft.flags[blk][:, spw_inds], norm=LogNorm(cmin_freq, cmax_freq), extent=ext_freq, aspect='auto', interpolation='nearest', cmap='inferno')\n",
    "                    plt.title(f'{blk}')\n",
    "                else:\n",
    "                    blk = grp[0] + (pol,)\n",
    "                    d = frft_red.data[blk][:, spw_inds]\n",
    "                    conj = blk not in list(frft_red.data.keys())\n",
    "                    if conj:\n",
    "                        d = np.conj(d)\n",
    "                    cm = plt.imshow(np.abs(d), norm=LogNorm(cmin_freq, cmax_freq), extent=ext_freq, aspect='auto', interpolation='nearest', cmap='inferno')\n",
    "                    plt.title(f'{blvec[0]:.1f} m, {blvec[1]:.1f} m, {pol}')\n",
    "                plt.gca().set_yticks([t for t in plt.gca().get_yticks() if t >= ext_freq[-1] and t <= ext_freq[-2]])\n",
    "                if pn == 0:\n",
    "                    plt.gca().set_xticklabels(['' for tick in plt.gca().get_xticklabels()])\n",
    "                    cbar = fig.colorbar(cm, orientation='vertical', cax=cbax1)\n",
    "                    cbax1.yaxis.set_ticks_position('left')\n",
    "                    cbar.ax.set_ylabel('Abs(V) [Jy]', rotation=90)\n",
    "                else:\n",
    "                    plt.gca().set_xlabel('$\\\\nu$ [MHz]')\n",
    "                if blnum > 0:\n",
    "                    plt.gca().set_yticklabels(['' for tick in plt.gca().get_yticklabels()])\n",
    "                else:\n",
    "                    plt.gca().set_ylabel('LST [Hrs]')\n",
    "                    plt.gca().set_yticklabels([f'{lst_func(t):.1f}' for t in plt.gca().get_yticks()])\n",
    "\n",
    "        # generate delay-waterfall plots.\n",
    "        for pn, pol in enumerate(['ee', 'nn']):\n",
    "            for blnum in range(nbls + 1):\n",
    "                plt.sca(axarr[pn][blnum + nbls + 1])\n",
    "                if blnum < nbls:\n",
    "                    bl = grp[blnum]\n",
    "                    blk = bl + (pol,)\n",
    "                    cm = plt.imshow(np.angle(frft.data[blk][:, spw_inds]) /  ~frft.flags[blk][:, spw_inds], vmin=-np.pi, vmax=np.pi, extent=ext_freq, aspect='auto', interpolation='nearest', cmap='twilight')\n",
    "                    plt.title(f'{blk}')\n",
    "                else:\n",
    "                    blk = grp[0] + (pol,)\n",
    "                    d = frft_red.data[blk][:, spw_inds]\n",
    "                    conj = blk not in list(frft_red.data.keys())\n",
    "                    if conj:\n",
    "                        d = np.conj(d)\n",
    "                    cm = plt.imshow(np.angle(d) /  ~frft.flags[blk][:, spw_inds], vmin=-np.pi, vmax=np.pi, extent=ext_freq, aspect='auto', interpolation='nearest', cmap='twilight')\n",
    "                    plt.title(f'{blvec[0]:.1f} m, {blvec[1]:.1f} m, {pol}')\n",
    "                plt.gca().set_yticks([t for t in plt.gca().get_yticks() if t >= ext_freq[-1] and t <= ext_freq[-2]])\n",
    "                if pn == 0:\n",
    "                    plt.gca().set_xticklabels(['' for tick in plt.gca().get_xticklabels()])\n",
    "                else:\n",
    "                    plt.gca().set_xlabel('$\\\\nu$ [MHz]')\n",
    "                if blnum < nbls:\n",
    "                    plt.gca().set_yticklabels(['' for tick in plt.gca().get_yticklabels()])\n",
    "                else:\n",
    "                    plt.gca().set_ylabel('LST [Hrs]')\n",
    "                    plt.gca().set_yticklabels([f'{lst_func(t):.1f}' for t in plt.gca().get_yticks()])\n",
    "                    cbar = fig.colorbar(cm, orientation='vertical', cax=cbax2)\n",
    "                    cbar.ax.set_ylabel('Arg(V) [rad]', rotation=270)\n",
    "\n",
    "                plt.gca().yaxis.tick_right()\n",
    "                plt.gca().yaxis.set_label_position(\"right\")\n",
    "\n",
    "\n",
    "\n",
    "        plt.show()\n",
    "\n",
    "        "
   ]
  },
  {
   "cell_type": "code",
   "execution_count": null,
   "id": "anonymous-publication",
   "metadata": {
    "ExecuteTime": {
     "end_time": "2021-04-29T17:03:35.525699Z",
     "start_time": "2021-04-29T17:03:16.936707Z"
    },
    "code_folding": [],
    "scrolled": false
   },
   "outputs": [],
   "source": [
    "if len(time_inpainted_sums) > 0:\n",
    "    for spw_num in range(len(spws)):\n",
    "        freq_plots(frf_inpaint, frf_inpaintr, spw_num)"
   ]
  },
  {
   "cell_type": "code",
   "execution_count": null,
   "id": "developed-compound",
   "metadata": {
    "ExecuteTime": {
     "end_time": "2021-04-29T17:04:05.212489Z",
     "start_time": "2021-04-29T17:03:42.787930Z"
    },
    "code_folding": [],
    "scrolled": false
   },
   "outputs": [],
   "source": [
    "if len(time_inpainted_sums) > 0:\n",
    "    for spw_num in range(len(spws)):\n",
    "        delay_plots(frf_inpaint, frf_inpaintr, spw_num)\n"
   ]
  },
  {
   "cell_type": "code",
   "execution_count": null,
   "id": "motivated-commercial",
   "metadata": {
    "ExecuteTime": {
     "end_time": "2021-04-29T17:04:42.547764Z",
     "start_time": "2021-04-29T17:04:25.590407Z"
    },
    "scrolled": false
   },
   "outputs": [],
   "source": [
    "for spw_num in range(len(spws)):\n",
    "    freq_plots(frf_xtalk, frf_xtalkr, spw_num)"
   ]
  },
  {
   "cell_type": "code",
   "execution_count": null,
   "id": "flush-rebound",
   "metadata": {
    "ExecuteTime": {
     "end_time": "2021-04-29T17:05:04.201849Z",
     "start_time": "2021-04-29T17:04:42.549469Z"
    },
    "scrolled": false
   },
   "outputs": [],
   "source": [
    "for spw_num in range(len(spws)):\n",
    "    delay_plots(frf_xtalk, frf_xtalkr, spw_num)"
   ]
  }
 ],
 "metadata": {
  "kernelspec": {
   "display_name": "Python 3",
   "language": "python",
   "name": "python3"
  },
  "language_info": {
   "codemirror_mode": {
    "name": "ipython",
    "version": 3
   },
   "file_extension": ".py",
   "mimetype": "text/x-python",
   "name": "python",
   "nbconvert_exporter": "python",
   "pygments_lexer": "ipython3",
   "version": "3.7.9"
  }
 },
 "nbformat": 4,
 "nbformat_minor": 5
}
