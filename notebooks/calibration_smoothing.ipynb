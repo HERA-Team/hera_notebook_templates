{
 "cells": [
  {
   "cell_type": "markdown",
   "id": "0d631b07-acc4-43af-83e5-292b278b0bdb",
   "metadata": {
    "execution": {
     "iopub.execute_input": "2025-02-26T21:24:48.197964Z",
     "iopub.status.busy": "2025-02-26T21:24:48.197665Z",
     "iopub.status.idle": "2025-02-26T21:24:48.202809Z",
     "shell.execute_reply": "2025-02-26T21:24:48.202049Z",
     "shell.execute_reply.started": "2025-02-26T21:24:48.197944Z"
    }
   },
   "source": [
    "# Calibration Smoothing\n",
    "\n",
    "**by Josh Dillon**, last updated August 26, 2025\n",
    "\n",
    "This notebook runs calibration smoothing to the gains coming out of [file_calibration](https://github.com/HERA-Team/hera_notebook_templates/blob/master/notebooks/file_calibration.ipynb) notebook.  It removes any flags founds on by that notebook and replaces them with flags generated from [full_day_rfi](https://github.com/HERA-Team/hera_notebook_templates/blob/master/notebooks/full_day_rfi.ipynb) and [full_day_antenna_flagging](https://github.com/HERA-Team/hera_notebook_templates/blob/master/notebooks/full_day_antenna_flagging.ipynb). It flags antennas with high relative difference between the original gains and smoothed gains. It also plots the results for a couple of antennas.\n",
    "\n",
    "Here's a set of links to skip to particular figures and tables:\n",
    "\n",
    "# [• Figure 1: Identifying and Blacklisting `abscal` Failures](#Figure-1:-Identifying-and-Blacklisting-abscal-Failures)\n",
    "# [• Figure 2: Antenna Phases with Identified Phase Flips](#Figure-2:-Antenna-Phases-with-Identified-Phase-Flips)\n",
    "# [• Figure 3: Full-Day Gain Amplitudes Before and After `smooth_cal`](#Figure-3:-Full-Day-Gain-Amplitudes-Before-and-After-smooth_cal)\n",
    "# [• Figure 4: Full-Day Gain Phases Before and After `smooth_cal`](#Figure-4:-Full-Day-Gain-Phases-Before-and-After-smooth_cal)\n",
    "# [• Figure 5: Full-Day $\\chi^2$ / DoF Waterfall from Redundant-Baseline Calibration](#Figure-5:-Full-Day-$\\chi^2$-/-DoF-Waterfall-from-Redundant-Baseline-Calibration)\n",
    "# [• Figure 6: Average $\\chi^2$ per Antenna](#Figure-6:-Average-$\\chi^2$-per-Antenna)\n",
    "# [• Figure 7: Relative Difference Before and After Smoothing](#Figure-7:-Relative-Difference-Before-and-After-Smoothing)"
   ]
  },
  {
   "cell_type": "code",
   "execution_count": null,
   "id": "c0729ca0",
   "metadata": {},
   "outputs": [],
   "source": [
    "import time\n",
    "tstart = time.time()"
   ]
  },
  {
   "cell_type": "code",
   "execution_count": null,
   "id": "890a0651",
   "metadata": {},
   "outputs": [],
   "source": [
    "import os\n",
    "os.environ['HDF5_USE_FILE_LOCKING'] = 'FALSE'\n",
    "import h5py\n",
    "import hdf5plugin  # REQUIRED to have the compression plugins available\n",
    "import numpy as np\n",
    "import glob\n",
    "import copy\n",
    "import warnings\n",
    "import matplotlib\n",
    "import matplotlib.pyplot as plt\n",
    "from hera_cal import io, utils, smooth_cal\n",
    "from hera_qm.time_series_metrics import true_stretches\n",
    "%matplotlib inline\n",
    "from IPython.display import display, HTML"
   ]
  },
  {
   "cell_type": "markdown",
   "id": "76e80aed",
   "metadata": {},
   "source": [
    "## Parse inputs"
   ]
  },
  {
   "cell_type": "code",
   "execution_count": null,
   "id": "98f7b7de",
   "metadata": {},
   "outputs": [],
   "source": [
    "# get files\n",
    "SUM_FILE = os.environ.get(\"SUM_FILE\", None)\n",
    "# SUM_FILE = '/lustre/aoc/projects/hera/h6c-analysis/IDR2/2459867/zen.2459867.43004.sum.uvh5'\n",
    "SUM_SUFFIX = os.environ.get(\"SUM_SUFFIX\", 'sum.uvh5')\n",
    "CAL_SUFFIX = os.environ.get(\"CAL_SUFFIX\", 'sum.omni.calfits')\n",
    "SMOOTH_CAL_SUFFIX = os.environ.get(\"SMOOTH_CAL_SUFFIX\", 'sum.smooth.calfits')\n",
    "ANT_FLAG_SUFFIX = os.environ.get(\"ANT_FLAG_SUFFIX\", 'sum.antenna_flags.h5')\n",
    "RFI_FLAG_SUFFIX = os.environ.get(\"RFI_FLAG_SUFFIX\", 'sum.flag_waterfall.h5')\n",
    "FREQ_SMOOTHING_SCALE = float(os.environ.get(\"FREQ_SMOOTHING_SCALE\", 30.0)) # MHz\n",
    "TIME_SMOOTHING_SCALE = float(os.environ.get(\"TIME_SMOOTHING_SCALE\", 1e4)) # seconds\n",
    "EIGENVAL_CUTOFF = float(os.environ.get(\"EIGENVAL_CUTOFF\", 1e-12))\n",
    "PER_POL_REFANT = os.environ.get(\"PER_POL_REFANT\", \"False\").upper() == \"TRUE\"\n",
    "BLACKLIST_TIMESCALE_FACTOR = float(os.environ.get(\"BLACKLIST_TIMESCALE_FACTOR\", 4.0))\n",
    "BLACKLIST_RELATIVE_ERROR_THRESH = float(os.environ.get(\"BLACKLIST_RELATIVE_ERROR_THRESH\", 1))\n",
    "BLACKLIST_RELATIVE_WEIGHT = float(os.environ.get(\"BLACKLIST_RELATIVE_WEIGHT\", 0.1))\n",
    "FM_LOW_FREQ = float(os.environ.get(\"FM_LOW_FREQ\", 87.5)) # in MHz\n",
    "FM_HIGH_FREQ = float(os.environ.get(\"FM_HIGH_FREQ\", 108.0)) # in MHz\n",
    "\n",
    "for setting in ['SUM_FILE', 'SUM_SUFFIX', 'CAL_SUFFIX', 'SMOOTH_CAL_SUFFIX', 'ANT_FLAG_SUFFIX',\n",
    "                'RFI_FLAG_SUFFIX', 'FREQ_SMOOTHING_SCALE', 'TIME_SMOOTHING_SCALE', 'EIGENVAL_CUTOFF', \n",
    "                'PER_POL_REFANT', 'BLACKLIST_TIMESCALE_FACTOR', 'BLACKLIST_RELATIVE_ERROR_THRESH', \n",
    "                'BLACKLIST_RELATIVE_WEIGHT', 'FM_LOW_FREQ', 'FM_HIGH_FREQ',]:\n",
    "    if issubclass(type(eval(setting)), str):\n",
    "        print(f'{setting} = \"{eval(setting)}\"')\n",
    "    else:\n",
    "        print(f'{setting} = {eval(setting)}')"
   ]
  },
  {
   "cell_type": "markdown",
   "id": "c6ecd16f",
   "metadata": {},
   "source": [
    "## Load files and select reference antenna(s)"
   ]
  },
  {
   "cell_type": "code",
   "execution_count": null,
   "id": "358a3237",
   "metadata": {},
   "outputs": [],
   "source": [
    "sum_glob = '.'.join(SUM_FILE.split('.')[:-3]) + '.*.' + SUM_SUFFIX\n",
    "cal_files_glob = sum_glob.replace(SUM_SUFFIX, CAL_SUFFIX)\n",
    "cal_files = sorted(glob.glob(cal_files_glob))\n",
    "print(f'Found {len(cal_files)} *.{CAL_SUFFIX} files starting with {cal_files[0]}.')"
   ]
  },
  {
   "cell_type": "code",
   "execution_count": null,
   "id": "f06dbb3a",
   "metadata": {},
   "outputs": [],
   "source": [
    "rfi_flag_files_glob = sum_glob.replace(SUM_SUFFIX, RFI_FLAG_SUFFIX)\n",
    "rfi_flag_files = sorted(glob.glob(rfi_flag_files_glob))\n",
    "print(f'Found {len(rfi_flag_files)} *.{RFI_FLAG_SUFFIX} files starting with {rfi_flag_files[0]}.')"
   ]
  },
  {
   "cell_type": "code",
   "execution_count": null,
   "id": "f13a1dd0",
   "metadata": {},
   "outputs": [],
   "source": [
    "ant_flag_files_glob = sum_glob.replace(SUM_SUFFIX, ANT_FLAG_SUFFIX)\n",
    "ant_flag_files = sorted(glob.glob(ant_flag_files_glob))\n",
    "print(f'Found {len(ant_flag_files)} *.{ANT_FLAG_SUFFIX} files starting with {ant_flag_files[0]}.')"
   ]
  },
  {
   "cell_type": "code",
   "execution_count": null,
   "id": "0976d9b5-b08c-4899-a866-8badc6d9173d",
   "metadata": {},
   "outputs": [],
   "source": [
    "cs = smooth_cal.CalibrationSmoother(cal_files, flag_file_list=(ant_flag_files + rfi_flag_files),\n",
    "                                    ignore_calflags=True, pick_refant=False, load_chisq=True, load_cspa=True)"
   ]
  },
  {
   "cell_type": "code",
   "execution_count": null,
   "id": "4c2af8ac-efb8-4489-80f6-d0f30d8b62a8",
   "metadata": {},
   "outputs": [],
   "source": [
    "cs.refant = smooth_cal.pick_reference_antenna(cs.gain_grids, cs.flag_grids, cs.freqs, per_pol=True)\n",
    "for pol in cs.refant:\n",
    "    print(f'Reference antenna {cs.refant[pol][0]} selected for smoothing {pol} gains.')\n",
    "\n",
    "if not PER_POL_REFANT:\n",
    "    # in this case, rephase both pols separately before smoothing, but also smooth the relative polarization calibration phasor\n",
    "    overall_refant = smooth_cal.pick_reference_antenna({ant: cs.gain_grids[ant] for ant in cs.refant.values()}, \n",
    "                                                       {ant: cs.flag_grids[ant] for ant in cs.refant.values()}, \n",
    "                                                       cs.freqs, per_pol=False)\n",
    "    print(f'Overall reference antenna {overall_refant} selected.')\n",
    "    other_refant = [ant for ant in cs.refant.values() if ant != overall_refant][0]\n",
    "\n",
    "    relative_pol_phasor = cs.gain_grids[overall_refant] * cs.gain_grids[other_refant].conj() # TODO: is this conjugation right?\n",
    "    relative_pol_phasor /= np.abs(relative_pol_phasor)"
   ]
  },
  {
   "cell_type": "code",
   "execution_count": null,
   "id": "9f459577-0ba2-4c55-a767-df9d10c7226d",
   "metadata": {},
   "outputs": [],
   "source": [
    "# duplicate a small number of abscal gains for plotting\n",
    "antnums = set([ant[0] for ant in cs.ants])\n",
    "flags_per_antnum = [np.sum(cs.flag_grids[ant, 'Jnn']) + np.sum(cs.flag_grids[ant, 'Jee']) for ant in antnums]\n",
    "refant_nums = [ant[0] for ant in cs.refant.values()]\n",
    "candidate_ants = [ant for ant, nflags in zip(antnums, flags_per_antnum) if (ant not in refant_nums) and (nflags <= np.percentile(flags_per_antnum, 25))\n",
    "                  and not np.all(cs.flag_grids[ant, 'Jee']) and not np.all(cs.flag_grids[ant, 'Jnn'])]\n",
    "ants_to_plot = [func(candidate_ants) for func in (np.min, np.max)]\n",
    "abscal_gains = {}\n",
    "for pol in ['Jee', 'Jnn']:\n",
    "    for antnum in ants_to_plot:\n",
    "        refant_here = (cs.refant[pol] if PER_POL_REFANT else overall_refant)\n",
    "        abscal_gains[antnum, pol] = cs.gain_grids[(antnum, pol)] * np.abs(cs.gain_grids[refant_here]) / cs.gain_grids[refant_here]"
   ]
  },
  {
   "cell_type": "code",
   "execution_count": null,
   "id": "ff18e5a9-23e5-41f5-ab0b-35f09ab67404",
   "metadata": {},
   "outputs": [],
   "source": [
    "cs.rephase_to_refant(propagate_refant_flags=True)"
   ]
  },
  {
   "cell_type": "code",
   "execution_count": null,
   "id": "a1cda0b8-913d-4760-b2b2-7c6b2dc898e4",
   "metadata": {},
   "outputs": [],
   "source": [
    "lst_grid = utils.JD2LST(cs.time_grid) * 12 / np.pi\n",
    "lst_grid[lst_grid > lst_grid[-1]] -= 24"
   ]
  },
  {
   "cell_type": "markdown",
   "id": "94d46b3c-330f-492d-ab6e-bc0334c94fe1",
   "metadata": {},
   "source": [
    "## Find consistent outliers in relative error after a coarse smoothing\n",
    "These are typically a sign of failures of abscal."
   ]
  },
  {
   "cell_type": "code",
   "execution_count": null,
   "id": "4e71abc7-8144-4cef-8227-351fd6a41ab6",
   "metadata": {},
   "outputs": [],
   "source": [
    "relative_error_samples = {pol: np.zeros_like(cs.gain_grids[cs.refant[pol]], dtype=float) for pol in ['Jee', 'Jnn']}\n",
    "sum_relative_error = {pol: np.zeros_like(cs.gain_grids[cs.refant[pol]], dtype=float) for pol in ['Jee', 'Jnn']}\n",
    "\n",
    "# perform a 2D DPSS filter with a BLACKLIST_TIMESCALE_FACTOR longer timescale, averaging the results per-pol\n",
    "for ant in cs.gain_grids:\n",
    "    if np.all(cs.flag_grids[ant]):\n",
    "        continue\n",
    "    filtered, _ = smooth_cal.time_freq_2D_filter(gains=cs.gain_grids[ant], \n",
    "                                                 wgts=(~cs.flag_grids[ant]).astype(float),\n",
    "                                                 freqs=cs.freqs,\n",
    "                                                 times=cs.time_grid,\n",
    "                                                 freq_scale=FREQ_SMOOTHING_SCALE,\n",
    "                                                 time_scale=TIME_SMOOTHING_SCALE * BLACKLIST_TIMESCALE_FACTOR,\n",
    "                                                 eigenval_cutoff=EIGENVAL_CUTOFF,\n",
    "                                                 method='DPSS', \n",
    "                                                 fit_method='lu_solve', \n",
    "                                                 fix_phase_flips=True, \n",
    "                                                 flag_phase_flip_ints=True,\n",
    "                                                 skip_flagged_edges=True, \n",
    "                                                 freq_cuts=[(FM_LOW_FREQ + FM_HIGH_FREQ) * .5e6],\n",
    "                                                ) \n",
    "    relative_error = np.where(cs.flag_grids[ant], 0, np.abs(cs.gain_grids[ant] - filtered) / np.abs(filtered))\n",
    "    relative_error_samples[ant[1]] += (~cs.flag_grids[ant]).astype(float)\n",
    "    sum_relative_error[ant[1]] += relative_error\n",
    "\n",
    "# figure out per-antpol cuts for where to set weights to 0 for the main smooth_cal (but not necessarily flags)\n",
    "cs.blacklist_wgt = BLACKLIST_RELATIVE_WEIGHT\n",
    "for pol in ['Jee', 'Jnn']:\n",
    "    avg_rel_error = sum_relative_error[pol] / relative_error_samples[pol]\n",
    "    to_blacklist = np.where(relative_error_samples[pol] > 0, avg_rel_error > BLACKLIST_RELATIVE_ERROR_THRESH, False)\n",
    "    for ant in cs.ants:\n",
    "        if ant[1] == pol:\n",
    "            cs.waterfall_blacklist[ant] = to_blacklist"
   ]
  },
  {
   "cell_type": "code",
   "execution_count": null,
   "id": "388a9b38-6e83-455d-b3e0-218c44c30264",
   "metadata": {},
   "outputs": [],
   "source": [
    "def plot_relative_error():\n",
    "    with warnings.catch_warnings():\n",
    "        warnings.simplefilter(\"ignore\")\n",
    "\n",
    "        fig, axes = plt.subplots(1, 3, figsize=(14, 7))\n",
    "        extent = [cs.freqs[0] / 1e6, cs.freqs[-1] / 1e6, lst_grid[-1], lst_grid[0]]\n",
    "        cmap = plt.get_cmap('Greys', 256)\n",
    "        cmap.set_over('red')\n",
    "        for ax, pol in zip(axes[0:2], ['Jee', 'Jnn']):\n",
    "            to_plot = sum_relative_error[pol] / relative_error_samples[pol]\n",
    "            im = ax.imshow(np.where(np.isfinite(to_plot), to_plot, np.nan), aspect='auto', interpolation='none', \n",
    "                           vmin=0, vmax=BLACKLIST_RELATIVE_ERROR_THRESH, extent=extent, cmap=cmap)\n",
    "            ax.set_title(pol)\n",
    "            ax.set_yticklabels(ax.get_yticks() % 24)\n",
    "            ax.set_ylabel('LST (hours)')\n",
    "            ax.set_xlabel('Frequency (MHz)')\n",
    "        plt.colorbar(im, ax=axes[0:2], location='top', extend='max', label='Average Relative Error on Initial Smoothing')\n",
    "        \n",
    "        for pol in ['Jee', 'Jnn']:\n",
    "            axes[2].hist((sum_relative_error[pol] / relative_error_samples[pol]).ravel(), bins=np.arange(0,2,.01), alpha=.5, label=pol)\n",
    "        axes[2].set_yscale('log')\n",
    "        axes[2].set_ylabel('Number of Waterfall Pixels')\n",
    "        axes[2].set_xlabel('Relative Error')\n",
    "        axes[2].axvline(BLACKLIST_RELATIVE_ERROR_THRESH, ls='--', c='r', label='Blacklist Threshold')\n",
    "        axes[2].legend()"
   ]
  },
  {
   "cell_type": "markdown",
   "id": "f5af60a8-6750-4cce-885d-a03d91c42642",
   "metadata": {},
   "source": [
    "# Figure 1: Identifying and Blacklisting `abscal` Failures\n",
    "\n",
    "This plot highlights regions of the waterfall that are per-polarization blacklisted (i.e. given 0 weight in the main `smooth_cal` fit, but not necessarily flagged). This is usually a sign of problems with abscal and often occurs because "
   ]
  },
  {
   "cell_type": "code",
   "execution_count": null,
   "id": "55341e27-125a-4aca-8010-7b5cccf401ef",
   "metadata": {},
   "outputs": [],
   "source": [
    "plot_relative_error()"
   ]
  },
  {
   "cell_type": "markdown",
   "id": "4bb867dd-d06e-422e-9ca9-d016d6fdb714",
   "metadata": {},
   "source": [
    "## Perform smoothing"
   ]
  },
  {
   "cell_type": "code",
   "execution_count": null,
   "id": "97462cbf-60cf-474a-94e6-cc2a62ff5547",
   "metadata": {},
   "outputs": [],
   "source": [
    "if not PER_POL_REFANT:\n",
    "    # treat the relative_pol_phasor as if it were antenna -1\n",
    "    cs.gain_grids[(-1, other_refant[1])] = relative_pol_phasor\n",
    "    cs.flag_grids[(-1, other_refant[1])] = cs.flag_grids[overall_refant] | cs.flag_grids[other_refant]\n",
    "    cs.waterfall_blacklist[(-1, other_refant[1])] = cs.waterfall_blacklist[cs.ants[0][0], 'Jee'] | cs.waterfall_blacklist[cs.ants[0][0], 'Jnn'] "
   ]
  },
  {
   "cell_type": "code",
   "execution_count": null,
   "id": "c97fab7b-2980-443c-bde8-0f9919c477b1",
   "metadata": {},
   "outputs": [],
   "source": [
    "cs.time_freq_2D_filter(freq_scale=FREQ_SMOOTHING_SCALE,\n",
    "                       time_scale=TIME_SMOOTHING_SCALE,\n",
    "                       eigenval_cutoff=EIGENVAL_CUTOFF,\n",
    "                       method='DPSS', \n",
    "                       fit_method='lu_solve',\n",
    "                       fix_phase_flips=True,\n",
    "                       flag_phase_flip_ints=True,\n",
    "                       skip_flagged_edges=True,\n",
    "                       freq_cuts=[(FM_LOW_FREQ + FM_HIGH_FREQ) * .5e6],\n",
    "                      )"
   ]
  },
  {
   "cell_type": "code",
   "execution_count": null,
   "id": "10ff0705-f3fd-4570-b47a-e96e360d183c",
   "metadata": {},
   "outputs": [],
   "source": [
    "if not PER_POL_REFANT:\n",
    "    # put back in the smoothed phasor, ensuring the amplitude is 1 and that data are flagged anywhere either polarization's refant is flagged\n",
    "    smoothed_relative_pol_phasor = cs.gain_grids[(-1, other_refant[-1])] / np.abs(cs.gain_grids[(-1, other_refant[-1])])\n",
    "    for ant in cs.gain_grids:\n",
    "        if ant[0] >= 0 and ant[1] == other_refant[1]:\n",
    "            cs.gain_grids[ant] /= smoothed_relative_pol_phasor\n",
    "        cs.flag_grids[ant] |= (cs.flag_grids[(-1, other_refant[1])])\n",
    "    cs.refant = overall_refant"
   ]
  },
  {
   "cell_type": "markdown",
   "id": "c40160e2",
   "metadata": {},
   "source": [
    "## Plot results"
   ]
  },
  {
   "cell_type": "code",
   "execution_count": null,
   "id": "4fe13af1",
   "metadata": {},
   "outputs": [],
   "source": [
    "def amplitude_plot(ant_to_plot):\n",
    "    with warnings.catch_warnings():\n",
    "        warnings.simplefilter(\"ignore\")\n",
    "        # Pick vmax to not saturate 90% of the abscal gains\n",
    "        vmax = np.max([np.percentile(np.abs(cs.gain_grids[ant_to_plot, pol][~cs.flag_grids[ant_to_plot, pol]]), 99) for pol in ['Jee', 'Jnn']])\n",
    "\n",
    "        display(HTML(f'<h2>Antenna {ant_to_plot} Amplitude Waterfalls</h2>'))    \n",
    "\n",
    "        # Plot abscal gain amplitude waterfalls for a single antenna\n",
    "        fig, axes = plt.subplots(4, 2, figsize=(14,14), gridspec_kw={'height_ratios': [1, 1, .4, .4]})\n",
    "        for ax, pol in zip(axes[0], ['Jee', 'Jnn']):\n",
    "            ant = (ant_to_plot, pol)\n",
    "            extent=[cs.freqs[0]/1e6, cs.freqs[-1]/1e6, lst_grid[-1], lst_grid[0]]\n",
    "            im = ax.imshow(np.where(cs.flag_grids[ant], np.nan, np.abs(cs.gain_grids[ant])), aspect='auto', cmap='inferno', \n",
    "                           interpolation='nearest', vmin=0, vmax=vmax, extent=extent)\n",
    "            ax.set_title(f'Smoothcal Gain Amplitude of Antenna {ant[0]}: {pol[-1]}-polarized' )\n",
    "            ax.set_xlabel('Frequency (MHz)')\n",
    "            ax.set_ylabel('LST (Hours)')\n",
    "            ax.set_xlim([cs.freqs[0]/1e6, cs.freqs[-1]/1e6])\n",
    "            ax.set_yticklabels(ax.get_yticks() % 24)\n",
    "            plt.colorbar(im, ax=ax,  orientation='horizontal', pad=.15)\n",
    "\n",
    "        # Now flagged plot abscal waterfall    \n",
    "        for ax, pol in zip(axes[1], ['Jee', 'Jnn']):\n",
    "            ant = (ant_to_plot, pol)\n",
    "            extent=[cs.freqs[0]/1e6, cs.freqs[-1]/1e6, lst_grid[-1], lst_grid[0]]\n",
    "            im = ax.imshow(np.where(cs.flag_grids[ant], np.nan, np.abs(abscal_gains[ant])), aspect='auto', cmap='inferno', \n",
    "                           interpolation='nearest', vmin=0, vmax=vmax, extent=extent)\n",
    "            ax.set_title(f'Abscal Gain Amplitude of Antenna {ant[0]}: {pol[-1]}-polarized' )\n",
    "            ax.set_xlabel('Frequency (MHz)')\n",
    "            ax.set_ylabel('LST (Hours)')\n",
    "            ax.set_xlim([cs.freqs[0]/1e6, cs.freqs[-1]/1e6])\n",
    "            ax.set_yticklabels(ax.get_yticks() % 24)\n",
    "            plt.colorbar(im, ax=ax,  orientation='horizontal', pad=.15)\n",
    "            \n",
    "        # Now plot mean gain spectra \n",
    "        for ax, pol in zip(axes[2], ['Jee', 'Jnn']):\n",
    "            ant = (ant_to_plot, pol)   \n",
    "            nflags_spectrum = np.sum(cs.flag_grids[ant], axis=0)\n",
    "            to_plot = nflags_spectrum <= np.percentile(nflags_spectrum, 75)\n",
    "            ax.plot(cs.freqs[to_plot] / 1e6, np.nanmean(np.where(cs.flag_grids[ant], np.nan, np.abs(abscal_gains[ant])), axis=0)[to_plot], 'r.', label='Abscal')        \n",
    "            ax.plot(cs.freqs[to_plot] / 1e6, np.nanmean(np.where(cs.flag_grids[ant], np.nan, np.abs(cs.gain_grids[ant])), axis=0)[to_plot], 'k.', ms=2, label='Smoothed')        \n",
    "            ax.set_ylim([0, vmax])\n",
    "            ax.set_xlim([cs.freqs[0]/1e6, cs.freqs[-1]/1e6])    \n",
    "            ax.set_xlabel('Frequency (MHz)')\n",
    "            ax.set_ylabel('|g| (unitless)')\n",
    "            ax.set_title(f'Mean Infrequently-Flagged Gain Amplitude of Antenna {ant[0]}: {pol[-1]}-polarized')\n",
    "            ax.legend(loc='upper left')\n",
    "\n",
    "        # Now plot mean gain time series\n",
    "        for ax, pol in zip(axes[3], ['Jee', 'Jnn']):\n",
    "            ant = (ant_to_plot, pol)\n",
    "            nflags_series = np.sum(cs.flag_grids[ant], axis=1)\n",
    "            to_plot = nflags_series <= np.percentile(nflags_series, 75)\n",
    "            ax.plot(lst_grid[to_plot], np.nanmean(np.where(cs.flag_grids[ant], np.nan, np.abs(abscal_gains[ant])), axis=1)[to_plot], 'r.', label='Abscal')        \n",
    "            ax.plot(lst_grid[to_plot], np.nanmean(np.where(cs.flag_grids[ant], np.nan, np.abs(cs.gain_grids[ant])), axis=1)[to_plot], 'k.', ms=2, label='Smoothed')        \n",
    "            ax.set_ylim([0, vmax])\n",
    "            ax.set_xlabel('LST (hours)')\n",
    "            ax.set_ylabel('|g| (unitless)')\n",
    "            ax.set_title(f'Mean Infrequently-Flagged Gain Amplitude of Antenna {ant[0]}: {pol[-1]}-polarized')\n",
    "            ax.set_xticklabels(ax.get_xticks() % 24)\n",
    "            ax.legend(loc='upper left')\n",
    "\n",
    "        plt.tight_layout()\n",
    "        plt.show()    "
   ]
  },
  {
   "cell_type": "code",
   "execution_count": null,
   "id": "48cc3c8b",
   "metadata": {},
   "outputs": [],
   "source": [
    "def phase_plot(ant_to_plot):\n",
    "    with warnings.catch_warnings():\n",
    "        warnings.simplefilter(\"ignore\")    \n",
    "        display(HTML(f'<h2>Antenna {ant_to_plot} Phase Waterfalls</h2>'))\n",
    "        fig, axes = plt.subplots(4, 2, figsize=(14,14), gridspec_kw={'height_ratios': [1, 1, .4, .4]})\n",
    "        \n",
    "        # Plot phase waterfalls for a single antenna    \n",
    "        for ax, pol in zip(axes[0], ['Jee', 'Jnn']):\n",
    "            ant = (ant_to_plot, pol)\n",
    "            extent=[cs.freqs[0]/1e6, cs.freqs[-1]/1e6, lst_grid[-1], lst_grid[0]]\n",
    "            im = ax.imshow(np.where(cs.flag_grids[ant], np.nan, np.angle(cs.gain_grids[ant])), aspect='auto', cmap='inferno', \n",
    "                           interpolation='nearest', vmin=-np.pi, vmax=np.pi, extent=extent)\n",
    "\n",
    "            refant = (cs.refant[pol] if isinstance(cs.refant, dict) else cs.refant)\n",
    "            ax.set_title(f'Smoothcal Gain Phase of Ant {ant[0]}{pol[-1]} / Ant {refant[0]}{refant[1][-1]}')\n",
    "            ax.set_xlabel('Frequency (MHz)')\n",
    "            ax.set_ylabel('LST (Hours)')\n",
    "            ax.set_xlim([cs.freqs[0]/1e6, cs.freqs[-1]/1e6])\n",
    "            ax.set_yticklabels(ax.get_yticks() % 24)\n",
    "            plt.colorbar(im, ax=ax,  orientation='horizontal', pad=.15)\n",
    "\n",
    "        # Now plot abscal phase waterfall    \n",
    "        for ax, pol in zip(axes[1], ['Jee', 'Jnn']):\n",
    "            ant = (ant_to_plot, pol)\n",
    "            extent=[cs.freqs[0]/1e6, cs.freqs[-1]/1e6, lst_grid[-1], lst_grid[0]]\n",
    "            im = ax.imshow(np.where(cs.flag_grids[ant], np.nan, np.angle(abscal_gains[ant])), aspect='auto', cmap='inferno', \n",
    "                           interpolation='nearest', vmin=-np.pi, vmax=np.pi, extent=extent)\n",
    "            refant = (cs.refant[pol] if isinstance(cs.refant, dict) else cs.refant)\n",
    "            ax.set_title(f'Abscal Gain Phase of Ant {ant[0]}{pol[-1]} / Ant {refant[0]}{refant[1][-1]}')\n",
    "            ax.set_xlabel('Frequency (MHz)')\n",
    "            ax.set_ylabel('LST (Hours)')\n",
    "            ax.set_xlim([cs.freqs[0]/1e6, cs.freqs[-1]/1e6])\n",
    "            ax.set_yticklabels(ax.get_yticks() % 24)\n",
    "            plt.colorbar(im, ax=ax,  orientation='horizontal', pad=.15)\n",
    "            \n",
    "        # Now plot median gain spectra \n",
    "        for ax, pol in zip(axes[2], ['Jee', 'Jnn']):\n",
    "            ant = (ant_to_plot, pol)   \n",
    "            nflags_spectrum = np.sum(cs.flag_grids[ant], axis=0)\n",
    "            to_plot = nflags_spectrum <= np.percentile(nflags_spectrum, 75)\n",
    "            ax.plot(cs.freqs[to_plot] / 1e6, np.nanmedian(np.where(cs.flag_grids[ant], np.nan, np.angle(abscal_gains[ant])), axis=0)[to_plot], 'r.', label='Abscal')        \n",
    "            ax.plot(cs.freqs[to_plot] / 1e6, np.nanmedian(np.where(cs.flag_grids[ant], np.nan, np.angle(cs.gain_grids[ant])), axis=0)[to_plot], 'k.', ms=2, label='Smoothed')        \n",
    "            ax.set_ylim([-np.pi, np.pi])\n",
    "            ax.set_xlim([cs.freqs[0]/1e6, cs.freqs[-1]/1e6])    \n",
    "            ax.set_xlabel('Frequency (MHz)')\n",
    "            refant = (cs.refant[pol] if isinstance(cs.refant, dict) else cs.refant)\n",
    "            ax.set_ylabel(f'Phase of g$_{{{ant[0]}{pol[-1]}}}$ / g$_{{{refant[0]}{refant[1][-1]}}}$')\n",
    "            ax.set_title(f'Median Infrequently-Flagged Gain Phase of Ant {ant[0]}{pol[-1]} / Ant {refant[0]}{refant[1][-1]}')\n",
    "            ax.legend(loc='upper left')\n",
    "\n",
    "        # # Now plot median gain time series\n",
    "        for ax, pol in zip(axes[3], ['Jee', 'Jnn']):\n",
    "            ant = (ant_to_plot, pol)\n",
    "            nflags_series = np.sum(cs.flag_grids[ant], axis=1)\n",
    "            to_plot = nflags_series <= np.percentile(nflags_series, 75)\n",
    "            ax.plot(lst_grid[to_plot], np.nanmean(np.where(cs.flag_grids[ant], np.nan, np.angle(abscal_gains[ant])), axis=1)[to_plot], 'r.', label='Abscal')        \n",
    "            ax.plot(lst_grid[to_plot], np.nanmean(np.where(cs.flag_grids[ant], np.nan, np.angle(cs.gain_grids[ant])), axis=1)[to_plot], 'k.', ms=2, label='Smoothed')        \n",
    "            ax.set_ylim([-np.pi, np.pi])    \n",
    "            ax.set_xlabel('LST (hours)')\n",
    "            refant = (cs.refant[pol] if isinstance(cs.refant, dict) else cs.refant)\n",
    "            ax.set_ylabel(f'Phase of g$_{{{ant[0]}{pol[-1]}}}$ / g$_{{{refant[0]}{refant[1][-1]}}}$')\n",
    "            ax.set_title(f'Mean Infrequently-Flagged Gain Phase of Ant {ant[0]}{pol[-1]} / Ant {refant[0]}{refant[1][-1]}')\n",
    "            ax.set_xticklabels(ax.get_xticks() % 24)    \n",
    "            ax.legend(loc='upper left')\n",
    "\n",
    "        plt.tight_layout()\n",
    "        plt.show()"
   ]
  },
  {
   "cell_type": "markdown",
   "id": "2bcbcfd4",
   "metadata": {},
   "source": [
    "# *Figure 2: Full-Day Gain Amplitudes Before and After `smooth_cal`*\n",
    "\n",
    "Here we plot `abscal` and `smooth_cal` gain amplitudes for both of the sample antennas. We also show means across time/frequency, excluding frequencies/times that are frequently flagged. "
   ]
  },
  {
   "cell_type": "code",
   "execution_count": null,
   "id": "43438042",
   "metadata": {},
   "outputs": [],
   "source": [
    "for ant_to_plot in ants_to_plot:\n",
    "    amplitude_plot(ant_to_plot)"
   ]
  },
  {
   "cell_type": "markdown",
   "id": "073b05a8",
   "metadata": {},
   "source": [
    "# *Figure 3: Full-Day Gain Phases Before and After `smooth_cal`*\n",
    "\n",
    "Here we plot `abscal` and `smooth_cal` phases relative to each polarization's reference antenna for both of the sample antennas. We also show medians across time/frequency, excluding frequencies/times that are frequently flagged. "
   ]
  },
  {
   "cell_type": "code",
   "execution_count": null,
   "id": "5c6fa5d0",
   "metadata": {},
   "outputs": [],
   "source": [
    "for ant_to_plot in ants_to_plot:\n",
    "    phase_plot(ant_to_plot)"
   ]
  },
  {
   "cell_type": "markdown",
   "id": "dd7e674e",
   "metadata": {},
   "source": [
    "## Examine $\\chi^2$"
   ]
  },
  {
   "cell_type": "code",
   "execution_count": null,
   "id": "75858059",
   "metadata": {},
   "outputs": [],
   "source": [
    "def chisq_plot():\n",
    "    fig, axes = plt.subplots(1, 2, figsize=(14, 10), sharex=True, sharey=True)\n",
    "    extent = [cs.freqs[0]/1e6, cs.freqs[-1]/1e6, lst_grid[-1], lst_grid[0]]\n",
    "    for ax, pol in zip(axes, ['Jee', 'Jnn']):\n",
    "        refant = (cs.refant[pol] if isinstance(cs.refant, dict) else cs.refant)\n",
    "        im = ax.imshow(np.where(cs.flag_grids[refant], np.nan, cs.chisq_grids[pol]), vmin=1, vmax=5, \n",
    "                       aspect='auto', cmap='turbo', interpolation='none', extent=extent)\n",
    "        ax.set_yticklabels(ax.get_yticks() % 24)\n",
    "        ax.set_title(f'{pol[1:]}-Polarized $\\\\chi^2$ / DoF')\n",
    "        ax.set_xlabel('Frequency (MHz)')\n",
    "\n",
    "    axes[0].set_ylabel('LST (hours)')\n",
    "    plt.tight_layout()\n",
    "    fig.colorbar(im, ax=axes, pad=.07, label='$\\\\chi^2$ / DoF', orientation='horizontal', extend='both', aspect=50)"
   ]
  },
  {
   "cell_type": "markdown",
   "id": "a0493464",
   "metadata": {},
   "source": [
    "# *Figure 4: Full-Day $\\chi^2$ / DoF Waterfall from Redundant-Baseline Calibration*\n",
    "\n",
    "Here we plot $\\chi^2$ per degree of freedom from redundant-baseline calibration for both polarizations separately. While this plot is a little out of place, as it was not produced by this notebook, it is a convenient place where all the necessary components are readily available. If the array were perfectly redundant and any non-redundancies in the calibrated visibilities were explicable by thermal noise alone, this waterfall should be all 1.  "
   ]
  },
  {
   "cell_type": "code",
   "execution_count": null,
   "id": "1d6225fc",
   "metadata": {},
   "outputs": [],
   "source": [
    "chisq_plot()"
   ]
  },
  {
   "cell_type": "code",
   "execution_count": null,
   "id": "30671d2a",
   "metadata": {},
   "outputs": [],
   "source": [
    "avg_cspa_vs_time = {ant: np.nanmean(np.where(cs.flag_grids[ant], np.nan, cs.cspa_grids[ant]), axis=1) for ant in cs.ants}\n",
    "avg_cspa_vs_freq = {ant: np.nanmean(np.where(cs.flag_grids[ant], np.nan, cs.cspa_grids[ant]), axis=0) for ant in cs.ants}"
   ]
  },
  {
   "cell_type": "code",
   "execution_count": null,
   "id": "f42458f2",
   "metadata": {},
   "outputs": [],
   "source": [
    "def cspa_vs_time_plot():\n",
    "    fig, axes = plt.subplots(2, 1, figsize=(14, 8), sharex=True, sharey=True, gridspec_kw={'hspace': 0})\n",
    "    for ax, pol in zip(axes, ['Jee', 'Jnn']):\n",
    "        detail_cutoff = np.percentile([np.nanmean(m) for ant, m in avg_cspa_vs_time.items() \n",
    "                                       if ant[1] == pol and np.isfinite(np.nanmean(m))], 95)\n",
    "        for ant in avg_cspa_vs_time:\n",
    "            if ant[1] == pol and not np.all(cs.flag_grids[ant]):\n",
    "                if np.nanmean(avg_cspa_vs_time[ant]) > detail_cutoff:\n",
    "                    ax.plot(lst_grid, avg_cspa_vs_time[ant], label=ant, zorder=100)\n",
    "                else:\n",
    "                    ax.plot(lst_grid, avg_cspa_vs_time[ant], c='grey', alpha=.2, lw=.5)\n",
    "        ax.legend(title=f'{pol[1:]}-Polarized', ncol=2)\n",
    "        ax.set_ylabel('Mean Unflagged $\\\\chi^2$ per Antenna')\n",
    "        ax.set_xlabel('LST (hours)')\n",
    "        ax.set_xticklabels(ax.get_xticks() % 24)\n",
    "\n",
    "    plt.ylim([1, 5.4])\n",
    "    plt.tight_layout()"
   ]
  },
  {
   "cell_type": "code",
   "execution_count": null,
   "id": "9b35699c",
   "metadata": {},
   "outputs": [],
   "source": [
    "def cspa_vs_freq_plot():\n",
    "    fig, axes = plt.subplots(2, 1, figsize=(14, 6), sharex=True, sharey=True, gridspec_kw={'hspace': 0})\n",
    "    for ax, pol in zip(axes, ['Jee', 'Jnn']):\n",
    "        detail_cutoff = np.percentile([np.nanmean(m) for ant, m in avg_cspa_vs_freq.items() \n",
    "                                       if ant[1] == pol and np.isfinite(np.nanmean(m))], 95)\n",
    "        for ant in avg_cspa_vs_freq:\n",
    "            if ant[1] == pol and not np.all(cs.flag_grids[ant]):\n",
    "                if np.nanmean(avg_cspa_vs_freq[ant]) > detail_cutoff:\n",
    "                    ax.plot(cs.freqs / 1e6, avg_cspa_vs_freq[ant], label=ant, zorder=100)\n",
    "                else:\n",
    "                    ax.plot(cs.freqs / 1e6, avg_cspa_vs_freq[ant], c='grey', alpha=.2, lw=.5)\n",
    "        ax.legend(title=f'{pol[1:]}-Polarized', ncol=2)\n",
    "        ax.set_ylabel('Mean Unflagged $\\\\chi^2$ per Antenna')\n",
    "        ax.set_xlabel('Frequency (MHz)')\n",
    "\n",
    "    plt.ylim([1, 5.4])\n",
    "    plt.tight_layout()"
   ]
  },
  {
   "cell_type": "markdown",
   "id": "b09918a0",
   "metadata": {},
   "source": [
    "# *Figure 5: Average $\\chi^2$ per Antenna vs. Time and Frequency*\n",
    "\n",
    "Here we plot $\\chi^2$ per antenna from redundant-baseline calibration, separating polarizations and averaging the unflagged pixels in the waterfalls over frequency or time. The worst 5% of antennas are shown in color and highlighted in the legends, the rest are shown in grey. "
   ]
  },
  {
   "cell_type": "code",
   "execution_count": null,
   "id": "14d0ec6d",
   "metadata": {},
   "outputs": [],
   "source": [
    "cspa_vs_time_plot()\n",
    "cspa_vs_freq_plot()"
   ]
  },
  {
   "cell_type": "markdown",
   "id": "9313eb0d",
   "metadata": {},
   "source": [
    "## Save Results"
   ]
  },
  {
   "cell_type": "code",
   "execution_count": null,
   "id": "733af091",
   "metadata": {},
   "outputs": [],
   "source": [
    "add_to_history = 'Produced by calibration_smoothing notebook with the following environment:\\n' + '=' * 65 + '\\n' + os.popen('conda env export').read() + '=' * 65"
   ]
  },
  {
   "cell_type": "code",
   "execution_count": null,
   "id": "d9fa5791",
   "metadata": {},
   "outputs": [],
   "source": [
    "cs.write_smoothed_cal(output_replace=(CAL_SUFFIX, SMOOTH_CAL_SUFFIX), add_to_history=add_to_history, clobber=True)"
   ]
  },
  {
   "cell_type": "markdown",
   "id": "005b391f",
   "metadata": {},
   "source": [
    "## Metadata"
   ]
  },
  {
   "cell_type": "code",
   "execution_count": null,
   "id": "943fc516",
   "metadata": {},
   "outputs": [],
   "source": [
    "for repo in ['hera_cal', 'hera_qm', 'hera_filters', 'hera_notebook_templates', 'pyuvdata']:\n",
    "    exec(f'from {repo} import __version__')\n",
    "    print(f'{repo}: {__version__}')"
   ]
  },
  {
   "cell_type": "code",
   "execution_count": null,
   "id": "53c2a606",
   "metadata": {},
   "outputs": [],
   "source": [
    "print(f'Finished execution in {(time.time() - tstart) / 60:.2f} minutes.')"
   ]
  }
 ],
 "metadata": {
  "kernelspec": {
   "display_name": "Python 3 (ipykernel)",
   "language": "python",
   "name": "python3"
  },
  "language_info": {
   "codemirror_mode": {
    "name": "ipython",
    "version": 3
   },
   "file_extension": ".py",
   "mimetype": "text/x-python",
   "name": "python",
   "nbconvert_exporter": "python",
   "pygments_lexer": "ipython3",
   "version": "3.12.0"
  }
 },
 "nbformat": 4,
 "nbformat_minor": 5
}
