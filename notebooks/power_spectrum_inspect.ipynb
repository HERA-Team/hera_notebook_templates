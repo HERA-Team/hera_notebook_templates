{
 "cells": [
  {
   "cell_type": "code",
   "execution_count": null,
   "id": "wicked-bowling",
   "metadata": {
    "ExecuteTime": {
     "end_time": "2021-05-05T16:25:47.032199Z",
     "start_time": "2021-05-05T16:25:46.917082Z"
    }
   },
   "outputs": [],
   "source": [
    "import numpy as np\n",
    "import matplotlib.pyplot as plt\n",
    "from hera_cal import frf\n",
    "import glob\n",
    "import os\n",
    "from copy import deepcopy\n",
    "from hera_cal import redcal\n",
    "from IPython.display import display, HTML\n",
    "from hera_cal.io import HERAData\n",
    "from matplotlib.colors import LogNorm\n",
    "from hera_pspec import utils\n",
    "%config Completer.use_jedi = False\n",
    "from scipy.interpolate import interp1d\n",
    "from hera_pspec.container import PSpecContainer\n",
    "import hera_pspec.plot as pspecplot\n",
    "import copy\n",
    "from matplotlib import cm as cmaps\n",
    "from hera_pspec import grouping\n",
    "import gc\n",
    "import tqdm\n",
    "%matplotlib inline\n",
    "%config InlineBackend.figure_format = 'retina'\n",
    "display(HTML(\"<style>.container { width:100% !important; }</style>\"))"
   ]
  },
  {
   "cell_type": "code",
   "execution_count": null,
   "id": "extreme-ticket",
   "metadata": {
    "ExecuteTime": {
     "end_time": "2021-05-02T21:32:49.683857Z",
     "start_time": "2021-05-02T21:32:49.565656Z"
    }
   },
   "outputs": [],
   "source": [
    "# Use environment variables to figure out path to data\n",
    "JD = os.environ['JULIANDATE']\n",
    "data_path = os.environ['DATA_PATH']\n",
    "label = os.environ['LABEL']\n",
    "spws = os.environ['SPWS'].split(',')\n",
    "lst_fields = os.environ['LST_FIELDS'].split(',')\n",
    "for m in range(len(lst_fields)):\n",
    "    field = lst_fields[m].split('~')\n",
    "    lst_fields[m] = (float(field[0]), float(field[1]))\n",
    "grp_skip = int(os.environ['GRP_SKIP'])\n",
    "blp_skip = int(os.environ['BLP_SKIP'])\n",
    "field_labels = os.environ['FIELD_LABELS'].split(',')\n",
    "max_plots_per_row = int(os.environ['MAX_PLOTS_PER_ROW'])\n",
    "ext = os.environ['EXT']\n",
    "spws = [int(spw) for spw in spws]\n",
    "print(f'JD = \"{JD}\"')\n",
    "print(f'data_path = \"{data_path}\"')\n",
    "print(f'label = \"{label}\"')\n",
    "print(f'spws = \"{spws}\"')\n",
    "print(f'lst_fields = \"{lst_fields}\"')\n",
    "print(f'grp_skip = \"{grp_skip}\"')\n",
    "print(f'blp_skip = \"{blp_skip}\"')\n",
    "print(f'field_labels = \"{field_labels}\"')\n",
    "print(f'max_plots_per_row = \"{max_plots_per_row}\"')"
   ]
  },
  {
   "cell_type": "code",
   "execution_count": null,
   "id": "parental-conversation",
   "metadata": {
    "ExecuteTime": {
     "end_time": "2021-05-01T20:04:32.346280Z",
     "start_time": "2021-05-01T20:04:32.313539Z"
    }
   },
   "outputs": [],
   "source": [
    "from astropy.time import Time\n",
    "utc = Time(JD, format='jd').datetime\n",
    "print(f'Date: {utc.month}-{utc.day}-{utc.year}')"
   ]
  },
  {
   "cell_type": "code",
   "execution_count": null,
   "id": "little-arizona",
   "metadata": {
    "ExecuteTime": {
     "end_time": "2021-05-01T20:04:32.493796Z",
     "start_time": "2021-05-01T20:04:32.351853Z"
    }
   },
   "outputs": [],
   "source": [
    "print('Looking for sum power-spectrum containers in', data_path, 'on JD', JD)\n",
    "psc_files_sum = [sorted(glob.glob(os.path.join(data_path, f'zen.{JD}.?????.sum.{label}.{ext}.xtalk_filtered_pstokes.tavg.pspec.h5'))), None][0]\n",
    "print('Found {} files.'.format(len(psc_files_sum)))\n",
    "print('Looking for diff power-spectrum containers in', data_path, 'on JD', JD)\n",
    "psc_files_diff= [sorted(glob.glob(os.path.join(data_path, f'zen.{JD}.?????.diff.{label}.{ext}.xtalk_filtered_pstokes.tavg.pspec.h5'))), None][0]\n",
    "print('Found {} files.'.format(len(psc_files_diff)))\n",
    "diffs = len(psc_files_diff) > 0"
   ]
  },
  {
   "cell_type": "code",
   "execution_count": null,
   "id": "demonstrated-liberia",
   "metadata": {
    "ExecuteTime": {
     "end_time": "2021-05-01T20:04:32.610975Z",
     "start_time": "2021-05-01T20:04:32.498437Z"
    }
   },
   "outputs": [],
   "source": [
    "print('Looking for sum power-spectrum containers in', data_path, 'on JD', JD)\n",
    "psca_files_sum = [sorted(glob.glob(os.path.join(data_path, f'zen.{JD}.?????.sum.{label}.autos.foreground_filled_pstokes.tavg.pspec.h5'))), None][0]\n",
    "print('Found {} files.'.format(len(psca_files_sum)))\n",
    "print('Looking for diff power-spectrum containers in', data_path, 'on JD', JD)\n",
    "psca_files_diff= [sorted(glob.glob(os.path.join(data_path, f'zen.{JD}.?????.diff.{label}.autos.foreground_filled_pstokes.tavg.pspec.h5'))), None][0]\n",
    "print('Found {} files.'.format(len(psca_files_diff)))\n",
    "diffs = len(psca_files_diff) > 0 & diffs\n",
    "\n"
   ]
  },
  {
   "cell_type": "code",
   "execution_count": null,
   "id": "17e4a65f",
   "metadata": {},
   "outputs": [],
   "source": [
    "#psc_files_sum[0] = psc_files_sum[0]\n",
    "#psc_files_diff[0] = psc_files_diff[0]"
   ]
  },
  {
   "cell_type": "code",
   "execution_count": null,
   "id": "874bf008",
   "metadata": {},
   "outputs": [],
   "source": [
    "print(psc_files_sum)\n",
    "print(psc_files_diff)"
   ]
  },
  {
   "cell_type": "code",
   "execution_count": null,
   "id": "589f00af",
   "metadata": {},
   "outputs": [],
   "source": [
    "def discard_flagged_blpairs(uvpt_list):\n",
    "    # only keep baselines if they have some unflagged data in one of the files\n",
    "    bls_to_keep = []\n",
    "    for blp in uvpt_list[0].get_blpairs():\n",
    "        integrations = []\n",
    "        for uvpt in uvpt_list:\n",
    "            blpslice = uvpt.blpair_to_indices(blp)\n",
    "            integrations.append(uvpt.integration_array[0][blpslice, 0])\n",
    "        if not np.allclose(integrations, 0.0):\n",
    "            bls_to_keep.append(blp)\n",
    "        else:\n",
    "            print(f'{blp} has no integrations! Discarding...')\n",
    "    for i in tqdm.tqdm_notebook(range(len(uvpt_list))):\n",
    "        uvpt_list[i].select(blpairs=bls_to_keep, inplace=True)\n",
    "    return uvpt_list\n",
    "\n",
    "def discard_flagged_times(uvpt_list):\n",
    "    files_to_keep = []\n",
    "    files_to_delete = []\n",
    "    findex = 0\n",
    "    for uvpt in tqdm.tqdm_notebook(uvpt_list):\n",
    "        if not np.any(np.isclose(uvpt.integration_array[0][:, 0], 0.0)):\n",
    "            finite_stat = True\n",
    "            if hasattr(uvpt, 'stats_array'):\n",
    "                for stat in uvpt.stats_array:\n",
    "                    for spw in uvpt.spw_array:\n",
    "                        finite_stat = finite_stat and np.all(np.isfinite(uvpt.stats_array[stat][spw]))\n",
    "            else:\n",
    "                for spw in uvpt.data_array:\n",
    "                    finite_stat = finite_stat and np.all(np.isfinite(uvpt.data_array[spw]))\n",
    "            if finite_stat:\n",
    "                files_to_keep.append(findex)\n",
    "            else:\n",
    "                files_to_delete.append(findex)\n",
    "        else:\n",
    "            files_to_delete.append(findex)\n",
    "        findex += 1\n",
    "    for i in tqdm.tqdm_notebook(sorted(files_to_delete, reverse=True)):\n",
    "        del uvpt_list[i]\n",
    "    return uvpt_list\n",
    "        \n",
    "    \n",
    "def merge_ps_list(ps_list, recursive=False):\n",
    "    if recursive:\n",
    "    # do a logarithmic merge into single power spectrum.\n",
    "    # this saves quiete a bit of time by reducing the number of merge calls.\n",
    "        if len(ps_list) == 1:\n",
    "            return ps_list[0]\n",
    "        else:\n",
    "            return merge_ps_list(ps_list[:len(ps_list)//2], recursive=True)\\\n",
    "            + merge_ps_list(ps_list[len(ps_list)//2:], recursive=True)\n",
    "    else:\n",
    "        ps_result = ps_list[0]\n",
    "        for i in range(1, len(ps_list)):\n",
    "            ps_result += ps_list[i]\n",
    "        return ps_result\n"
   ]
  },
  {
   "cell_type": "code",
   "execution_count": null,
   "id": "confused-supply",
   "metadata": {
    "ExecuteTime": {
     "end_time": "2021-05-01T20:05:04.986387Z",
     "start_time": "2021-05-01T20:04:32.622965Z"
    }
   },
   "outputs": [],
   "source": [
    "def get_bls_to_keep(uvpt_list):\n",
    "    # only keep baselines if they have some unflagged data in one of the files\n",
    "    bls_to_keep = []\n",
    "    for blp in uvpt_list[0].get_blpairs():\n",
    "        integrations = []\n",
    "        for uvpt in uvpt_list:\n",
    "            blpslice = uvpt.blpair_to_indices(blp)\n",
    "            integrations.append(uvpt.integration_array[0][blpslice, 0])\n",
    "        if not np.allclose(integrations, 0.0):\n",
    "            bls_to_keep.append(blp)\n",
    "        else:\n",
    "            print(f'{blp} has no integrations! Discarding...')\n",
    "    return bls_to_keep\n",
    "            \n",
    "def get_files_to_keep(uvpt_list):\n",
    "    files_to_keep = []\n",
    "    files_to_delete = []\n",
    "    findex = 0\n",
    "    for uvpt in tqdm.tqdm_notebook(uvpt_list):\n",
    "        if not np.any(np.isclose(uvpt.integration_array[0][:, 0], 0.0)):\n",
    "            finite_stat = True\n",
    "            if hasattr(uvpt, 'stats_array'):\n",
    "                for stat in uvpt.stats_array:\n",
    "                    for spw in uvpt.spw_array:\n",
    "                        finite_stat = finite_stat and np.all(np.isfinite(uvpt.stats_array[stat][spw]))\n",
    "            else:\n",
    "                for spw in uvpt.data_array:\n",
    "                    finite_stat = finite_stat and np.all(np.isfinite(uvpt.data_array[spw]))\n",
    "            if finite_stat:\n",
    "                files_to_keep.append(findex)\n",
    "    return files_to_keep\n"
   ]
  },
  {
   "cell_type": "code",
   "execution_count": null,
   "id": "100fbbf7",
   "metadata": {},
   "outputs": [],
   "source": [
    "import pdb\n",
    "from joblib import Parallel, delayed\n",
    "import multiprocessing\n",
    "ncpu = multiprocessing.cpu_count()\n",
    "\n",
    "def perform_average(uvpt, error_weights, blptype='cross'):\n",
    "    print(blptype)\n",
    "    blp_groups, _, _, _ = utils.get_blvec_reds(uvpt, bl_error_tol=1.0)\n",
    "    # exclude auto baselines. We can do a comparison between including autos and not including autos.\n",
    "    # later.\n",
    "    if blptype == 'cross':\n",
    "        blp_groups = [[blp for blp in blpgrp if blp[0] != blp[1]] for blpgrp in blp_groups]\n",
    "    elif blptype == 'auto':\n",
    "        blp_groups = [[blp for blp in blpgrp if blp[0] == blp[1]] for blpgrp in blp_groups]\n",
    "        \n",
    "    blp_groups = [blp_grp for blp_grp in blp_groups if len(blp_grp) > 0]\n",
    "    # discard baselines not chunked in averaging groups.\n",
    "    blps_to_keep = []\n",
    "    for grp in blp_groups:\n",
    "        blps_to_keep.extend(grp)\n",
    "    uvpt.select(blpairs=blps_to_keep, inplace=True)\n",
    "    return uvpt.average_spectra(blpair_groups=blp_groups, inplace=False, error_weights=error_weights,\n",
    "                                          error_field=[stat for stat in uvpt.stats_array])\n",
    "        \n",
    "def load_select_and_average(fname, blps_to_keep, error_weights):\n",
    "    psc = PSpecContainer(fname, keep_open=False)\n",
    "    uvpt = psc.get_pspec(group='dset0', psname='dset0_x_dset0')\n",
    "    uvpt.select(blpairs=blps_to_keep, inplace=True)\n",
    "    #for spw in uvpt.spw_array:\n",
    "    #        assert np.all(np.isfinite(uvpt.data_array[spw]))\n",
    "    #        if hasattr(uvpt, 'stats_array'):\n",
    "    #            for stat in uvpt.stats_array:\n",
    "    #                assert np.all(np.isfinite(uvpt.stats_array[stat][spw]))\n",
    "    uvpt = perform_average(uvpt, error_weights=error_weights)\n",
    "    return uvpt\n",
    "\n",
    "\n",
    "def extract_spectra(filelist=None, avg_baselines=True, error_weights=\"P_N\", ncpus_per_job=2, include_auto=False, \n",
    "                    sample_time=None, blptype='cross', recursive_merge=False):\n",
    "    if filelist is None:\n",
    "        return None\n",
    "    else:\n",
    "        uvp_list = []\n",
    "        uvp_list_auto = []\n",
    "        unum = 0\n",
    "        print('extracting spectra...')\n",
    "        for pscf in tqdm.tqdm_notebook(filelist):\n",
    "            psc = PSpecContainer(pscf, keep_open=False)\n",
    "            uvpt = psc.get_pspec(group='dset0', psname='dset0_x_dset0')\n",
    "            if hasattr(uvpt, 'stats_array') and uvpt.stats_array is not None and len(uvpt.stats_array) > 0:\n",
    "            # set all nans to infs just in case.\n",
    "                for stat in uvpt.stats_array:\n",
    "                    for spw in uvpt.stats_array[stat]:\n",
    "                        uvpt.stats_array[stat][spw][np.isnan(uvpt.stats_array[stat][spw])] = np.inf\n",
    "            if avg_baselines:\n",
    "                uvpt = perform_average(uvpt, error_weights, blptype=blptype)\n",
    "            uvp_list.append(uvpt)\n",
    "\n",
    "        print('merging spectra...')\n",
    "        uvp = merge_ps_list(uvp_list, recursive=recursive_merge)\n",
    "        del uvp_list\n",
    "        gc.collect()\n",
    "        print('returning result...')\n",
    "        print(uvp)\n",
    "        return uvp\n",
    "\n"
   ]
  },
  {
   "cell_type": "code",
   "execution_count": null,
   "id": "4279eb9e",
   "metadata": {},
   "outputs": [],
   "source": [
    "#uvpa_avg = Parallel(n_jobs=2)(delayed(extract_spectra)(psca_files_sum[i], avg_baselines=False, error_weights=None, ncpus_per_job=2,\n",
    "#                                                   ) for i in range(2))[0]\n",
    "\n",
    "uvpa_avg = extract_spectra(psca_files_sum, avg_baselines=False, error_weights=None, ncpus_per_job=2)\n",
    "gc.collect()\n",
    "\n",
    "\n",
    "if diffs:\n",
    "#    uvpda_avg = Parallel(n_jobs=2)(delayed(extract_spectra)(psca_files_diff[i], avg_baselines=False, error_weights=None, ncpus_per_job=2,\n",
    "#                                                       ) for i in range(2))[0]\n",
    "    uvpda_avg = extract_spectra(psca_files_diff, avg_baselines=False, error_weights=None, ncpus_per_job=2)\n",
    "    gc.collect()"
   ]
  },
  {
   "cell_type": "code",
   "execution_count": null,
   "id": "narrow-hungary",
   "metadata": {
    "ExecuteTime": {
     "end_time": "2021-05-02T20:50:18.054944Z",
     "start_time": "2021-05-02T20:38:35.333393Z"
    },
    "code_folding": []
   },
   "outputs": [],
   "source": [
    "fnames = {}\n",
    "\n",
    "#uvp_avg = Parallel(n_jobs=2)(delayed(extract_spectra)(psc_files_sum[i], \n",
    "#                                                      avg_baselines=True, error_weights='P_N',\n",
    "#                                                      ncpus_per_job=2, blptype='cross') for i in range(2))[0]\n",
    "uvp_avg = extract_spectra(psc_files_sum, avg_baselines=True, error_weights='P_N',\n",
    "                          ncpus_per_job=2, blptype='cross')# for i in range(2))[0]\n",
    "\n",
    "\n",
    "uvpd_avg = extract_spectra(psc_files_diff, avg_baselines=True, error_weights='P_N', \n",
    "                           ncpus_per_job=2, blptype='cross')\n",
    "\n",
    "\n",
    "\n",
    "if diffs:\n",
    "    uvpd_avg = Parallel(n_jobs=2)(delayed(extract_spectra)(psc_files_diff[i], \n",
    "                                                      avg_baselines=True, error_weights='P_N',\n",
    "                                                      ncpus_per_job=2, blptype='cross') for i in range(2))[0]\n"
   ]
  },
  {
   "cell_type": "code",
   "execution_count": null,
   "id": "technological-account",
   "metadata": {
    "ExecuteTime": {
     "end_time": "2021-05-02T06:41:36.967982Z",
     "start_time": "2021-05-02T06:41:36.945970Z"
    },
    "code_folding": []
   },
   "outputs": [],
   "source": [
    "# plot waterfalls of autos\n",
    "def plot_auto_power_spectra_waterfalls(uvpt, spw=0, nblp_per_row=8, dynamic_range=1e9):\n",
    "    lst_func = interp1d(uvpt.time_avg_array, uvpt.lst_avg_array * 12 / np.pi)\n",
    "    vmax = 10 ** np.round(np.log10(np.max(np.abs(uvpt.data_array[spw]))))\n",
    "    vmin = vmax / dynamic_range\n",
    "    freq_range = uvpt.get_spw_ranges(spw)[0][:2]\n",
    "    extent_tdelay = [uvpt.get_dlys(spw).min() * 1e9, uvpt.get_dlys(spw).max() * 1e9, uvpt.time_avg_array.max(), uvpt.time_avg_array.min()]\n",
    "    for blpc in range(0, uvpt.Nblpairs, nblp_per_row):\n",
    "        fig, axarr = plt.subplots(1, nblp_per_row)\n",
    "        fig.set_size_inches(36, 6)\n",
    "        cbax = fig.add_axes([0.915, 0.1, 0.005, 0.8])\n",
    "        for i in range(nblp_per_row):\n",
    "            blpind = blpc + i\n",
    "            if blpind < uvpt.Nblpairs:\n",
    "                blp = uvpt.get_blpairs()[blpind]\n",
    "                k = (spw, blp, ('pI', 'pI'))\n",
    "                data = uvpt.get_data(k)\n",
    "                plt.sca(axarr[i])\n",
    "                cm = plt.imshow(data.real, norm=LogNorm(vmin, vmax), cmap='inferno', interpolation='nearest', aspect='auto', extent=extent_tdelay)\n",
    "                plt.gca().set_yticks([t for t in plt.gca().get_yticks() if float(t) >= extent_tdelay[-1] and float(t) <= extent_tdelay[-2]])\n",
    "                plt.xlim(-2000, 2000)\n",
    "                plt.gca().tick_params(labelsize=12)\n",
    "                if i == 0:\n",
    "                    plt.ylabel('LST [hours]', fontsize=14)\n",
    "                    plt.gca().set_yticklabels([f'{lst_func(t):.1f}' for t in plt.gca().get_yticks()])\n",
    "                    cbar = fig.colorbar(cm, orientation='vertical', cax=cbax)\n",
    "                    cbax.yaxis.set_ticks_position('right')\n",
    "                    cbar.ax.set_ylabel(f'P($\\\\tau$) [${uvpt.units}$]', rotation=90, fontsize=14)\n",
    "                    cbax.tick_params(labelsize=16)\n",
    "                else:\n",
    "                    plt.gca().set_yticklabels(['' for t in plt.gca().get_yticks()])\n",
    "                plt.xlabel('$\\\\tau$ [ns]', fontsize=14)\n",
    "                plt.title(f'{blp} \\n {freq_range[0]/1e6:.1f}-{freq_range[1]/1e6:.1f} MHz \\n (pI, pI)', fontsize=16)"
   ]
  },
  {
   "cell_type": "code",
   "execution_count": null,
   "id": "bigger-hacker",
   "metadata": {
    "ExecuteTime": {
     "end_time": "2021-05-02T05:59:32.322057Z",
     "start_time": "2021-05-02T05:59:16.143023Z"
    },
    "code_folding": [],
    "scrolled": false
   },
   "outputs": [],
   "source": [
    "for spw in spws:\n",
    "    plot_auto_power_spectra_waterfalls(uvpa_avg, spw=spw, dynamic_range=1e10, nblp_per_row=max_plots_per_row)"
   ]
  },
  {
   "cell_type": "code",
   "execution_count": null,
   "id": "unauthorized-principal",
   "metadata": {
    "ExecuteTime": {
     "end_time": "2021-05-03T04:34:00.760246Z",
     "start_time": "2021-05-03T04:34:00.735667Z"
    },
    "code_folding": []
   },
   "outputs": [],
   "source": [
    "def plot_auto_power_spectra_tavg(uvpt, uvptd=None, spw=0, normalize=True, dynamic_range=1e11, label_outliers=True, outlier_delay=700., outlier_sigma=5.):\n",
    "    vmax = 10 ** np.round(np.log10(np.max(np.abs(uvpt.data_array[spw]))))\n",
    "    vmin = vmax / dynamic_range\n",
    "    uvpt = copy.deepcopy(uvpt)\n",
    "    uvpt.average_spectra(time_avg=True)\n",
    "    freq_range = uvpt.get_spw_ranges(spw)[0][:2]\n",
    "    if uvptd is not None:\n",
    "        uvptd.average_spectra(time_avg=True)\n",
    "    fig, axarr = plt.subplots(1,uvpt.Npols)\n",
    "    fig.set_size_inches(12 * uvpt.Npols, 12)\n",
    "    for p, pp in enumerate(uvpt.get_polpairs()):\n",
    "        if uvpt.Npols > 1:\n",
    "            plt.sca(axarr[p])\n",
    "        distribution = []\n",
    "        blpkeys = []\n",
    "        colors=[]\n",
    "        for blp in uvpt.get_blpairs():\n",
    "            k = (spw, blp, pp)\n",
    "            data = uvpt.get_data(k).real[0]\n",
    "            if normalize:\n",
    "                norm_factor = data[np.argmin(np.abs(uvpt.get_dlys(spw)))]\n",
    "            else:\n",
    "                norm_factor = 1.0\n",
    "            data /= norm_factor\n",
    "            l0 = plt.plot(uvpt.get_dlys(spw) * 1e9, data)[0]\n",
    "            colors.append(l0.get_color())\n",
    "            blpkeys.append(k)\n",
    "            distribution.append(np.abs(data[np.argmin(np.abs(uvpt.get_dlys(spw) * 1e9 - outlier_delay))]))\n",
    "            if uvptd is not None:\n",
    "                plt.plot(uvptd.get_dlys(spw) * 1e9, uvptd.get_data(k).real[0] / norm_factor, ls='--', color=l0.get_color())\n",
    "        # label outliers from distribution.\n",
    "        distribution = np.asarray(distribution)\n",
    "        if label_outliers:\n",
    "            mad = np.sqrt(np.median(np.abs(distribution - np.median(distribution)) ** 2.))\n",
    "            zscore = (distribution - np.median(distribution)) / mad\n",
    "            to_label = np.where(zscore >= outlier_sigma)[0]\n",
    "            for i, label_ind in enumerate(to_label):\n",
    "                plt.text(outlier_delay + 100 * i, distribution[label_ind], blpkeys[label_ind][1][0], color=colors[label_ind], fontsize=12)\n",
    "        plt.ylim(vmin / norm_factor, vmax / norm_factor)\n",
    "        plt.xlim(-100, 2000)\n",
    "        plt.yscale('log')\n",
    "        plt.grid()\n",
    "        plt.gca().tick_params(labelsize=16)\n",
    "        plt.xlabel('$\\\\tau$ [ns]', fontsize=18)\n",
    "        if not normalize:\n",
    "            plt.ylabel(f'$P(\\\\tau) [{uvpt.units}]$', fontsize=18)\n",
    "        else:\n",
    "            plt.ylabel(f'$P(\\\\tau) / P(0)$ [unitless]', fontsize=18)\n",
    "\n",
    "        plt.title(f'{freq_range[0]/1e6:.1f}-{freq_range[1]/1e6:.1f} MHz {pp}', fontsize=16)"
   ]
  },
  {
   "cell_type": "markdown",
   "id": "eligible-assurance",
   "metadata": {},
   "source": [
    "Compare auto power spectra with noise. Note that the autos are not cross-multiplied in baseline and time so they have a noise bias."
   ]
  },
  {
   "cell_type": "code",
   "execution_count": null,
   "id": "unable-berlin",
   "metadata": {
    "ExecuteTime": {
     "end_time": "2021-05-03T04:35:40.107267Z",
     "start_time": "2021-05-03T04:35:36.508138Z"
    },
    "code_folding": [],
    "scrolled": true
   },
   "outputs": [],
   "source": [
    "for spw in spws:\n",
    "    plot_auto_power_spectra_tavg(uvpt=uvpa_avg, uvptd=uvpda_avg, spw=spw, outlier_delay=700, outlier_sigma=6)"
   ]
  },
  {
   "cell_type": "code",
   "execution_count": null,
   "id": "solid-discipline",
   "metadata": {
    "ExecuteTime": {
     "end_time": "2021-05-03T04:34:53.500255Z",
     "start_time": "2021-05-03T04:34:53.486826Z"
    },
    "code_folding": []
   },
   "outputs": [],
   "source": [
    "# plot waterfalls of cross-power spectra, expanding redundant groups in each row.\n",
    "def plot_cross_power_spectra_waterfalls(uvpt, spw=0, nblp_per_row=8, dynamic_range=1e9, blp_skip=1, polpair=('pI', 'pI')):\n",
    "    lst_func = interp1d(uvpt.time_avg_array, uvpt.lst_avg_array * 12 / np.pi)\n",
    "    vmax = 10 ** np.round(np.log10(np.max(np.abs(uvpt.data_array[spw]))))\n",
    "    vmin = vmax / dynamic_range\n",
    "    freq_range = uvpt.get_spw_ranges(spw)[0][:2]\n",
    "    extent_tdelay = [uvpt.get_dlys(spw).min() * 1e9, uvpt.get_dlys(spw).max() * 1e9, uvpt.time_avg_array.max(), uvpt.time_avg_array.min()]\n",
    "    cmap = cmaps.inferno\n",
    "    cmap.set_bad(color = 'k')\n",
    "    for blpc in range(0, uvpt.Nblpairs // blp_skip, nblp_per_row):\n",
    "        fig, axarr = plt.subplots(1, nblp_per_row)\n",
    "        fig.set_size_inches(36, 6)\n",
    "        cbax = fig.add_axes([0.915, 0.1, 0.005, 0.8])\n",
    "        for i in range(nblp_per_row):\n",
    "            blpind = blpc + i\n",
    "            if blpind < uvpt.Nblpairs // blp_skip:\n",
    "                blp = uvpt.get_blpairs()[blpind * blp_skip]\n",
    "                bl_vec = uvpt.get_blpair_blvecs()[blpind * blp_skip]\n",
    "                bl_dly = np.linalg.norm(bl_vec) / .3\n",
    "                k = (spw, blp, polpair)\n",
    "                data = uvpt.get_data(k)\n",
    "                plt.sca(axarr[i])\n",
    "                cm = plt.imshow(data.real, norm=LogNorm(vmin, vmax), interpolation='nearest', aspect='auto', extent=extent_tdelay, cmap=cmap)\n",
    "                plt.axvline(bl_dly, ls='--', color='w')\n",
    "                plt.axvline(-bl_dly, ls='--', color='w')\n",
    "                plt.gca().set_yticks([t for t in plt.gca().get_yticks() if float(t) >= extent_tdelay[-1] and float(t) <= extent_tdelay[-2]])\n",
    "                plt.xlim(-2000, 2000)\n",
    "                plt.gca().tick_params(labelsize=12)\n",
    "                for flabel, field in zip(field_labels, lst_fields):\n",
    "                    time_bounds = [uvpt.time_avg_array[np.argmin(np.abs(lst0 - uvpt.lst_avg_array * 12 / np.pi))] for lst0 in field]\n",
    "                    plt.axhline(time_bounds[0], ls=':', color='w')\n",
    "                    plt.axhline(time_bounds[1], ls=':', color='w'\"\")\n",
    "                    plt.text(0, np.mean(time_bounds), f'Field {flabel}', color='w', ha='center')\n",
    "                if i == 0:\n",
    "                    plt.ylabel('LST [hours]', fontsize=14)\n",
    "                    plt.gca().set_yticklabels([f'{lst_func(t):.1f}' for t in plt.gca().get_yticks()])\n",
    "                    cbar = fig.colorbar(cm, orientation='vertical', cax=cbax)\n",
    "                    cbax.yaxis.set_ticks_position('right')\n",
    "                    cbar.ax.set_ylabel(f'P($\\\\tau$) [${uvpt.units}$]', rotation=90, fontsize=14)\n",
    "                    cbax.tick_params(labelsize=16)\n",
    "                else:\n",
    "                    plt.gca().set_yticklabels(['' for t in plt.gca().get_yticks()])\n",
    "                plt.xlabel('$\\\\tau$ [ns]', fontsize=14)\n",
    "                plt.title(f'{bl_vec[0]:.1f} m, {bl_vec[1]:.1f} m \\n {freq_range[0]/1e6:.1f}-{freq_range[1]/1e6:.1f} MHz \\n (pI, pI)', fontsize=16)"
   ]
  },
  {
   "cell_type": "code",
   "execution_count": null,
   "id": "flexible-outreach",
   "metadata": {
    "ExecuteTime": {
     "end_time": "2021-05-02T22:30:13.013341Z",
     "start_time": "2021-05-02T22:29:14.434339Z"
    },
    "code_folding": [],
    "scrolled": false
   },
   "outputs": [],
   "source": [
    "for spw in spws:\n",
    "    plot_cross_power_spectra_waterfalls(uvp_avg, spw=spw, dynamic_range=1e10, nblp_per_row=max_plots_per_row, blp_skip=blp_skip)"
   ]
  },
  {
   "cell_type": "code",
   "execution_count": null,
   "id": "instrumental-audio",
   "metadata": {
    "ExecuteTime": {
     "end_time": "2021-05-03T00:59:36.545878Z",
     "start_time": "2021-05-03T00:59:36.512089Z"
    },
    "code_folding": []
   },
   "outputs": [],
   "source": [
    "# plot waterfalls of cross-power spectra, expanding redundant groups in each row.\n",
    "def plot_redundant_cross_power_spectra_waterfalls(uvpt, spw=0, max_nblp_per_row=16, dynamic_range=1e9, red_skip=10, polpair=('pI', 'pI'), exclude_autos=True):\n",
    "    lst_func = interp1d(uvpt.time_avg_array, uvpt.lst_avg_array * 12 / np.pi)\n",
    "    vmax = 10 ** np.round(np.log10(np.max(np.abs(uvpt.data_array[spw]))))\n",
    "    vmin = vmax / dynamic_range\n",
    "    freq_range = uvpt.get_spw_ranges(spw)[0][:2]\n",
    "    extent_tdelay = [uvpt.get_dlys(spw).min() * 1e9, uvpt.get_dlys(spw).max() * 1e9, uvpt.time_avg_array.max(), uvpt.time_avg_array.min()]\n",
    "    blp_groups, _, _, _ = utils.get_blvec_reds(uvpt, bl_error_tol=1.0)\n",
    "    if exclude_autos:\n",
    "        blp_groups = [[blp for blp in blpgrp if blp[0] != blp[1]] for blpgrp in blp_groups]\n",
    "        blp_groups = [blpgrp for blpgrp in blp_groups if len(blpgrp) > 1]\n",
    "    cmap = cmaps.inferno\n",
    "    cmap.set_bad(color='k')\n",
    "    for blpc in range(0, len(blp_groups), red_skip):\n",
    "        blps = blp_groups[blpc]\n",
    "        uvpt_chunk = uvpt.select(blpairs=blp_groups[blpc], inplace=False)\n",
    "        nrows = min(max_nblp_per_row + 1, len(blps) + 1)\n",
    "        fig, axarr = plt.subplots(1, nrows)\n",
    "        fig.set_size_inches(36, 6)\n",
    "        cbax = fig.add_axes([0.915, 0.1, 0.005, 0.8])\n",
    "        for i in range(nrows):\n",
    "            plt.sca(axarr[i])\n",
    "            if i < nrows - 1:\n",
    "                blp = blps[i]\n",
    "                bl_vec = uvpt_chunk.get_blpair_blvecs()[i]\n",
    "                bl_dly = np.linalg.norm(bl_vec) / .3\n",
    "                k = (spw, blp, polpair)\n",
    "                data = uvpt_chunk.get_data(k)\n",
    "                title = f'{blp} \\n {bl_vec[0]:.1f} m, {bl_vec[1]:.1f} m \\n {freq_range[0]/1e6:.1f}-{freq_range[1]/1e6:.1f} MHz \\n (pI, pI)'\n",
    "            else:\n",
    "                uvpt_chunk.average_spectra(blpair_groups=[blps], error_field='P_N')\n",
    "                blp = uvpt_chunk.get_blpairs()[0]\n",
    "                bl_vec = uvpt_chunk.get_blpair_blvecs()[0]\n",
    "                bl_dly = np.linalg.norm(bl_vec) / .3\n",
    "                k = (spw, blp, polpair)\n",
    "                data = uvpt_chunk.get_data(k)\n",
    "                title = f'Averaging {len(blps)} blpairs \\n {bl_vec[0]:.1f} m, {bl_vec[1]:.1f} m \\n {freq_range[0]/1e6:.1f}-{freq_range[1]/1e6:.1f} MHz \\n (pI, pI)'\n",
    "            cm = plt.imshow(data.real, norm=LogNorm(vmin, vmax), cmap=cmap, interpolation='nearest', aspect='auto', extent=extent_tdelay)\n",
    "            plt.axvline(bl_dly, ls='--', color='w')\n",
    "            plt.axvline(-bl_dly, ls='--', color='w')\n",
    "            plt.gca().set_yticks([t for t in plt.gca().get_yticks() if float(t) >= extent_tdelay[-1] and float(t) <= extent_tdelay[-2]])\n",
    "            plt.xlim(-2000, 2000)\n",
    "            plt.gca().tick_params(labelsize=12)\n",
    "            for flabel, field in zip(field_labels, lst_fields):\n",
    "                time_bounds = [uvpt.time_avg_array[np.argmin(np.abs(lst0 - uvpt.lst_avg_array * 12 / np.pi))] for lst0 in field]\n",
    "                plt.axhline(time_bounds[0], ls=':', color='w')\n",
    "                plt.axhline(time_bounds[1], ls=':', color='w'\"\")\n",
    "                plt.text(0, np.mean(time_bounds), f'Field {flabel}', color='w', ha='center')\n",
    "            if i == 0:\n",
    "                plt.ylabel('LST [hours]', fontsize=14)\n",
    "                plt.gca().set_yticklabels([f'{lst_func(t):.1f}' for t in plt.gca().get_yticks()])\n",
    "                cbar = fig.colorbar(cm, orientation='vertical', cax=cbax)\n",
    "                cbax.yaxis.set_ticks_position('right')\n",
    "                cbar.ax.set_ylabel(f'P($\\\\tau$) [${uvpt.units}$]', rotation=90, fontsize=14)\n",
    "                cbax.tick_params(labelsize=16)\n",
    "            else:\n",
    "                plt.gca().set_yticklabels(['' for t in plt.gca().get_yticks()])\n",
    "            plt.xlabel('$\\\\tau$ [ns]', fontsize=14)\n",
    "            plt.title(title, fontsize=16)"
   ]
  },
  {
   "cell_type": "markdown",
   "id": "going-coverage",
   "metadata": {},
   "source": [
    "Time for some wedge plots. Plot each field, average of all fields and all LSTs."
   ]
  },
  {
   "cell_type": "code",
   "execution_count": null,
   "id": "academic-friday",
   "metadata": {
    "ExecuteTime": {
     "end_time": "2021-05-03T03:57:27.509001Z",
     "start_time": "2021-05-03T03:57:06.599Z"
    },
    "code_folding": []
   },
   "outputs": [],
   "source": [
    "def select_field(uvpt, fields, time_average=True):\n",
    "    time_selection = (uvpt.lst_avg_array * 12 / np.pi >= fields[0][0]) & (uvpt.lst_avg_array * 12 / np.pi <= fields[0][1])\n",
    "    if len(fields) > 0:\n",
    "        for field in fields[1:]:\n",
    "            time_selection = time_selection | ((uvpt.lst_avg_array * 12 / np.pi >= field[0]) & (uvpt.lst_avg_array * 12 / np.pi <= field[1]))\n",
    "\n",
    "    output = uvpt.select(times=uvpt.time_avg_array[time_selection], inplace=False)\n",
    "    if time_average:\n",
    "        output = output.average_spectra(time_avg=time_average, inplace=False, error_weights='P_N', error_field=list(uvpt.stats_array.keys()))\n",
    "    return output"
   ]
  },
  {
   "cell_type": "code",
   "execution_count": null,
   "id": "foster-workplace",
   "metadata": {
    "ExecuteTime": {
     "end_time": "2021-05-03T03:50:47.247631Z",
     "start_time": "2021-05-03T03:50:47.224064Z"
    },
    "code_folding": []
   },
   "outputs": [],
   "source": [
    "def plot_wedges(uvpt, polpair=('pI', 'pI'), spw=0, dynamic_range=1e10, max_bl_angle=75.):\n",
    "    vmax = np.round(np.log10(np.max(np.abs(uvpt.data_array[spw])))) - 1\n",
    "    vmin = vmax - np.log10(dynamic_range)\n",
    "    fig, axarr = plt.subplots(1, len(lst_fields) + 2)\n",
    "    fig.set_size_inches(36, 9)\n",
    "    cmap = cmaps.inferno\n",
    "    cmap.set_bad(color='k')\n",
    "    freq_range = uvpt.get_spw_ranges(spw)[0][:2]\n",
    "    blp_groups, _, red_bl_ang, _ = utils.get_blvec_reds(uvpt, bl_error_tol=1.0)\n",
    "    blps_to_keep = []\n",
    "    for blg, ang in zip(blp_groups, red_bl_ang):\n",
    "        if ang <= max_bl_angle:\n",
    "            blps_to_keep.extend(blg)\n",
    "    for fieldnum, (fieldlabel, field) in enumerate(zip(field_labels, lst_fields)):\n",
    "        title = f' Field {fieldlabel} \\n {freq_range[0]/1e6:.1f}-{freq_range[1]/1e6:.1f} MHz \\n {polpair}'\n",
    "        uvpt_select = select_field(uvpt, [field])\n",
    "        # only select baselines with angle less then max_bl_angle.\n",
    "        uvpt_select.select(blpairs=blps_to_keep, inplace=True)\n",
    "        plt.sca(axarr[fieldnum])\n",
    "        pspecplot.delay_wedge(uvp=uvpt_select, ax=plt.gca(), pol=('pI', 'pI'), spw=spw, component='real', vmin=vmin, vmax=vmax, error_weights='P_N', \n",
    "                              fold=True, rotate=True, cmap=cmap, log10=True, colorbar=True, title=title, horizon_lines=True)\n",
    "        plt.ylim(0, 2000)\n",
    "    # now select the union of all fields\n",
    "    plt.sca(axarr[len(lst_fields)])\n",
    "    uvpt_select = select_field(uvpt, lst_fields)\n",
    "    title = f' All Fields \\n {freq_range[0]/1e6:.1f}-{freq_range[1]/1e6:.1f} MHz \\n {polpair}'\n",
    "    # only select baselines with angle less then max_bl_angle.\n",
    "    uvpt_select.select(blpairs=blps_to_keep, inplace=True)\n",
    "    pspecplot.delay_wedge(uvp=uvpt_select, ax=plt.gca(), pol=('pI', 'pI'), spw=spw, component='real', vmin=vmin, vmax=vmax, error_weights='P_N', \n",
    "                          fold=True, rotate=True, cmap=cmap, log10=True, colorbar=True, title=title, horizon_lines=True)\n",
    "    plt.ylim(0, 2000)\n",
    "    \n",
    "    \n",
    "    \n",
    "    plt.sca(axarr[len(lst_fields) + 1])\n",
    "    # Now do all LSTs\n",
    "    title = f' All LSTs \\n {freq_range[0]/1e6:.1f}-{freq_range[1]/1e6:.1f} MHz \\n {polpair}'\n",
    "    uvpt_select = uvpt.average_spectra(time_avg=True, inplace=False, error_weights='P_N')\n",
    "    uvpt_select.select(blpairs=blps_to_keep, inplace=True)\n",
    "    pspecplot.delay_wedge(uvp=uvpt_select, ax=plt.gca(), pol=('pI', 'pI'), spw=spw, component='real', vmin=vmin, vmax=vmax, error_weights='P_N', \n",
    "                      fold=True, rotate=True, cmap=cmap, log10=True, colorbar=True, title=title, horizon_lines=True)\n",
    "    plt.ylim(0, 2000)"
   ]
  },
  {
   "cell_type": "code",
   "execution_count": null,
   "id": "stuck-draft",
   "metadata": {
    "ExecuteTime": {
     "end_time": "2021-05-03T03:51:12.740355Z",
     "start_time": "2021-05-03T03:50:47.724217Z"
    },
    "code_folding": []
   },
   "outputs": [],
   "source": [
    "for spw in spws:\n",
    "    plot_wedges(uvp_avg, spw=spw)"
   ]
  },
  {
   "cell_type": "code",
   "execution_count": null,
   "id": "particular-stage",
   "metadata": {
    "ExecuteTime": {
     "end_time": "2021-05-03T04:00:51.169333Z",
     "start_time": "2021-05-03T04:00:51.128894Z"
    },
    "code_folding": []
   },
   "outputs": [],
   "source": [
    "def plot_spherical_power_spectra(uvpt, uvptd=None, polpair=('pI', 'pI'), spw=0, dynamic_range=1e10, max_bl_angle=75., k_bin_multiplier=2, delta_sq=False):\n",
    "    vmax = 10 ** (np.round(np.log10(np.max(np.abs(uvpt.data_array[spw])))) - 1)\n",
    "    vmin = vmax / dynamic_range\n",
    "    fig, axarr = plt.subplots(1, len(lst_fields) + 2)\n",
    "    fig.set_size_inches(36, 9)\n",
    "    freq_range = uvpt.get_spw_ranges(spw)[0][:2]\n",
    "    blp_groups, _, red_bl_ang, _ = utils.get_blvec_reds(uvpt, bl_error_tol=1.0)\n",
    "    blps_to_keep = []\n",
    "    # SET K BINS\n",
    "    kparas = uvpt.get_kparas(spw)\n",
    "    nk = len(kparas)\n",
    "    kbins = uvpt.get_kparas(spw)[nk//2::k_bin_multiplier]\n",
    "    kbin_widths = np.asarray([np.mean(np.diff(kbins)) / 2 for k in range(len(kbins))])\n",
    "    for blg, ang in zip(blp_groups, red_bl_ang):\n",
    "        if ang <= max_bl_angle:\n",
    "            blps_to_keep.extend(blg)\n",
    "    # dsq multplier\n",
    "    if delta_sq:\n",
    "        dsq = kbins ** 3 / (2 * np.pi ** 2)\n",
    "        vmax *= dsq[dsq > 0.0].min()\n",
    "        vmin *= dsq[dsq > 0.0].min()\n",
    "    else:\n",
    "        dsq = 1.0\n",
    "    # noise multiplier\n",
    "    dsqn = dsq * 2\n",
    "    def single_plot(uvpt, uvptd, title):\n",
    "        # only select baselines with angle less then max_bl_angle.\n",
    "        uvpt.select(blpairs=blps_to_keep, inplace=True)\n",
    "        # set wedge to have infinite variance.\n",
    "        uvpt.set_stats_slice('P_N', m=1/0.299, b=350, above=False, val=1e40)\n",
    "        # spherical average\n",
    "        uvpt = grouping.spherical_average(uvpt, kbins=kbins, bin_widths=kbin_widths, \n",
    "                                          error_weights='P_N')\n",
    "        to_plot = [uvpt]\n",
    "        if uvptd is not None:\n",
    "            uvptd.select(blpairs=blps_to_keep, inplace=True)\n",
    "            uvptd.set_stats_slice('P_N', m=1/0.299, b=350, above=False, val=1e40)\n",
    "            uvptd = grouping.spherical_average(uvptd, kbins=kbins, bin_widths=kbin_widths, \n",
    "                                               error_weights='P_N')\n",
    "            to_plot += [uvptd]\n",
    "        for color, uvpplot in zip(['grey', 'k'], to_plot[::-1]):\n",
    "            k=(spw, uvpplot.get_blpairs()[0], polpair)\n",
    "            d = uvpplot.get_data(k)[0]\n",
    "            ltz = d <= 0.\n",
    "            gtz = d > 0.\n",
    "            plt.errorbar(kbins[gtz], np.abs(d*dsq)[gtz], (dsqn*uvpplot.get_stats('P_SN', k)[0])[gtz], \n",
    "                 ls='none', marker='o', color=color, label='sum', capsize=2)\n",
    "            plt.errorbar(kbins[ltz], np.abs(dsq*d)[ltz], (dsqn*uvpplot.get_stats('P_SN', k)[0])[ltz], \n",
    "                         ls='none', marker='o', markerfacecolor='none', color=color, capsize=2)\n",
    "            plt.plot(kbins, (dsqn*uvpplot.get_stats('P_SN', k)[0]), color='grey', ls='--', label='P_SN sum')\n",
    "        plt.yscale('log')\n",
    "        plt.grid()\n",
    "        plt.ylim(vmin , vmax)\n",
    "        plt.title(title, fontsize=18)\n",
    "        plt.xlabel('k [$h$Mpc$^{-1}$]', fontsize=16)\n",
    "        if delta_sq:\n",
    "            plt.ylabel('$\\\\Delta^2$ [mK$^2$]', fontsize=16)\n",
    "        else:\n",
    "            plt.ylabel(f'${uvpt.units}$')\n",
    "        plt.gca().tick_params(labelsize=14)\n",
    "        plt.xlim(0, 1.4)\n",
    "\n",
    "    for fieldnum, (fieldlabel, field) in enumerate(zip(field_labels, lst_fields)):\n",
    "        # select fields\n",
    "        plt.sca(axarr[fieldnum])\n",
    "        uvpt_select = select_field(uvpt, [field])\n",
    "        if uvptd is not None:\n",
    "            uvptd_select = select_field(uvptd, [field])\n",
    "        else:\n",
    "            uvptd_select = None\n",
    "        title = (f'SPW {spw}, {polpair}, z={.5*(1420e6/freq_range[1] - 1) + .5*(1420e6/freq_range[0]-1):.2f}'\n",
    "                 f'({1420e6/freq_range[1] - 1:.2f}-{1420e6/freq_range[0]-1:.2f})\\n $\\\\nu$ = {freq_range[0]/1e6:.1f}-{freq_range[1]/1e6:.1f} MHz \\n Field {fieldlabel}')\n",
    "        single_plot(uvpt_select, uvptd_select, title)\n",
    "\n",
    "    # now select the union of all fields\n",
    "    plt.sca(axarr[len(lst_fields)])\n",
    "    uvpt_select = select_field(uvpt, lst_fields)\n",
    "    if uvptd is not None:\n",
    "        uvptd_select = select_field(uvptd, lst_fields)\n",
    "    else:\n",
    "        uvptd_select = None\n",
    "\n",
    "    title = (f'SPW {spw}, {polpair}, z={.5*(1420e6/freq_range[1] - 1) + .5*(1420e6/freq_range[0]-1):.2f}'\n",
    "             f'({1420e6/freq_range[1] - 1:.2f}-{1420e6/freq_range[0]-1:.2f})\\n $\\\\nu$ = {freq_range[0]/1e6:.1f}-{freq_range[1]/1e6:.1f} MHz \\n  All Fields')\n",
    "    single_plot(uvpt_select, uvptd_select, title)\n",
    "    \n",
    "    # All LSTs.\n",
    "\n",
    "    plt.sca(axarr[len(lst_fields) + 1])\n",
    "    # Now do all LSTs\n",
    "    title = (f'SPW {spw}, {polpair}, z={.5*(1420e6/freq_range[1] - 1) + .5*(1420e6/freq_range[0]-1):.2f}'\n",
    "             f'({1420e6/freq_range[1] - 1:.2f}-{1420e6/freq_range[0]-1:.2f})\\n $\\\\nu$ = {freq_range[0]/1e6:.1f}-{freq_range[1]/1e6:.1f} MHz \\n  All LSTs')    \n",
    "    uvpt_select = select_field(uvpt, [(uvpt.lst_avg_array.min() * 12 / np.pi, uvpt.lst_avg_array.max() * 12 / np.pi)])\n",
    "    if uvptd is not None:\n",
    "        uvptd_select = select_field(uvptd, [(uvpt.lst_avg_array.min() * 12 / np.pi, uvpt.lst_avg_array.max() * 12 / np.pi)])\n",
    "    else:\n",
    "        uvptd_select = None\n",
    "    single_plot(uvpt_select, uvptd_select, title)"
   ]
  },
  {
   "cell_type": "code",
   "execution_count": null,
   "id": "executive-soldier",
   "metadata": {
    "ExecuteTime": {
     "end_time": "2021-05-03T04:01:51.122026Z",
     "start_time": "2021-05-03T04:00:51.587855Z"
    },
    "scrolled": false
   },
   "outputs": [],
   "source": [
    "for spw in spws:\n",
    "    plot_spherical_power_spectra(uvp_avg, uvpd_avg, spw=spw)"
   ]
  },
  {
   "cell_type": "code",
   "execution_count": null,
   "id": "compressed-fellow",
   "metadata": {
    "ExecuteTime": {
     "end_time": "2021-05-03T04:02:45.518441Z",
     "start_time": "2021-05-03T04:01:51.125220Z"
    },
    "scrolled": false
   },
   "outputs": [],
   "source": [
    "for spw in spws:\n",
    "    plot_spherical_power_spectra(uvp_avg, uvpd_avg, spw=spw, delta_sq=True)"
   ]
  },
  {
   "cell_type": "code",
   "execution_count": null,
   "id": "parental-retreat",
   "metadata": {},
   "outputs": [],
   "source": []
  }
 ],
 "metadata": {
  "kernelspec": {
   "display_name": "Python 3 (ipykernel)",
   "language": "python",
   "name": "python3"
  },
  "language_info": {
   "codemirror_mode": {
    "name": "ipython",
    "version": 3
   },
   "file_extension": ".py",
   "mimetype": "text/x-python",
   "name": "python",
   "nbconvert_exporter": "python",
   "pygments_lexer": "ipython3",
   "version": "3.8.11"
  }
 },
 "nbformat": 4,
 "nbformat_minor": 5
}
